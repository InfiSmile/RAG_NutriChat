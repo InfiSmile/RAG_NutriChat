{
 "cells": [
  {
   "cell_type": "code",
   "execution_count": 1,
   "metadata": {
    "colab": {
     "base_uri": "https://localhost:8080/"
    },
    "executionInfo": {
     "elapsed": 4781,
     "status": "ok",
     "timestamp": 1761383994293,
     "user": {
      "displayName": "Muskan Motwani",
      "userId": "03800385271669659981"
     },
     "user_tz": -330
    },
    "id": "VVcdjv3aTdv6",
    "outputId": "80423458-8a06-4e0e-e9da-47470446481f"
   },
   "outputs": [
    {
     "name": "stdout",
     "output_type": "stream",
     "text": [
      "[INFO] File doesnt exist, downloading\n",
      "INFO the file has been downloaded and saved as /content/human-nutirition-text-pdf\n"
     ]
    }
   ],
   "source": [
    "import os\n",
    "import requests\n",
    "\n",
    "#Get pdf document\n",
    "pdf_path= \"/content/human-nutirition-text-pdf\"\n",
    "\n",
    "#Download\n",
    "if not os.path.exists(pdf_path):\n",
    "  print(f\"[INFO] File doesnt exist, downloading\")\n",
    "\n",
    "  #enter the url of pdf\n",
    "  url= \"https://pressbooks.oer.hawaii.edu/humannutrition2/open/download?type=pdf\"\n",
    "\n",
    "  filename=pdf_path\n",
    "\n",
    "  #send a GET request to the URL\n",
    "  response= requests.get(url)\n",
    "\n",
    "  #Check if the request was successful\n",
    "\n",
    "  if response.status_code==200:\n",
    "    #Open the file and save it\n",
    "    with open(filename,\"wb\") as file:\n",
    "      file.write(response.content)\n",
    "    print(f\"INFO the file has been downloaded and saved as {filename}\")\n",
    "  else:\n",
    "    print(f'Failed to download the file Status code {response.status_code}')\n",
    "else:\n",
    "  print(f\"[INFO] File already exists, skipping download\")\n",
    "\n"
   ]
  },
  {
   "cell_type": "code",
   "execution_count": 2,
   "metadata": {
    "colab": {
     "base_uri": "https://localhost:8080/"
    },
    "executionInfo": {
     "elapsed": 8429,
     "status": "ok",
     "timestamp": 1761384002728,
     "user": {
      "displayName": "Muskan Motwani",
      "userId": "03800385271669659981"
     },
     "user_tz": -330
    },
    "id": "JbTYah66gwxs",
    "outputId": "2806e90a-f473-4e1d-9ef4-1880befd32ac"
   },
   "outputs": [
    {
     "name": "stdout",
     "output_type": "stream",
     "text": [
      "Collecting PyMuPDF\n",
      "  Downloading pymupdf-1.26.5-cp39-abi3-manylinux_2_28_x86_64.whl.metadata (3.4 kB)\n",
      "Downloading pymupdf-1.26.5-cp39-abi3-manylinux_2_28_x86_64.whl (24.1 MB)\n",
      "\u001b[2K   \u001b[90m━━━━━━━━━━━━━━━━━━━━━━━━━━━━━━━━━━━━━━━━\u001b[0m \u001b[32m24.1/24.1 MB\u001b[0m \u001b[31m108.2 MB/s\u001b[0m eta \u001b[36m0:00:00\u001b[0m\n",
      "\u001b[?25hInstalling collected packages: PyMuPDF\n",
      "Successfully installed PyMuPDF-1.26.5\n"
     ]
    }
   ],
   "source": [
    "!pip install PyMuPDF"
   ]
  },
  {
   "cell_type": "code",
   "execution_count": 3,
   "metadata": {
    "colab": {
     "base_uri": "https://localhost:8080/",
     "height": 275,
     "referenced_widgets": [
      "0d0b6074c3544d22b386eb7cbed702e9",
      "34c090e60fe142faa0d19af871df27c1",
      "9f625302dde34d33bd6b82c21f7693de",
      "f6d57d2e83d74fffa20cd84bd77ff73c",
      "d1458e5c3d26421a943bb969dd1e39eb",
      "25ca54335be84e1bb98c79cd147e83ca",
      "6036276324a547d183cf15d0b77733e9",
      "cac1e90e26504cb7961485e63bb80edf",
      "368a729484cb4ed98f6d5b29dc14a6b2",
      "27de80b75a3c4e0189ee5955a100461a",
      "5bab108a1d0142bab675e2e95a3a7548"
     ]
    },
    "executionInfo": {
     "elapsed": 1993,
     "status": "ok",
     "timestamp": 1761384004734,
     "user": {
      "displayName": "Muskan Motwani",
      "userId": "03800385271669659981"
     },
     "user_tz": -330
    },
    "id": "Z8pCHyDSgHVP",
    "outputId": "d8e7e2fd-c8b2-4fa1-8778-47b9564f2dae"
   },
   "outputs": [
    {
     "name": "stdout",
     "output_type": "stream",
     "text": [
      "Document('/content/human-nutirition-text-pdf')\n"
     ]
    },
    {
     "data": {
      "application/vnd.jupyter.widget-view+json": {
       "model_id": "0d0b6074c3544d22b386eb7cbed702e9",
       "version_major": 2,
       "version_minor": 0
      },
      "text/plain": [
       "0it [00:00, ?it/s]"
      ]
     },
     "metadata": {},
     "output_type": "display_data"
    },
    {
     "data": {
      "text/plain": [
       "[{'page_number': -41,\n",
       "  'page_char_count': 29,\n",
       "  'page_word_count': 4,\n",
       "  'page_sentence_count_raw': 1,\n",
       "  'page_token_count': 7.25,\n",
       "  'text': 'Human Nutrition: 2020 Edition'},\n",
       " {'page_number': -40,\n",
       "  'page_char_count': 0,\n",
       "  'page_word_count': 1,\n",
       "  'page_sentence_count_raw': 1,\n",
       "  'page_token_count': 0.0,\n",
       "  'text': ''}]"
      ]
     },
     "execution_count": 3,
     "metadata": {},
     "output_type": "execute_result"
    }
   ],
   "source": [
    "\n",
    "import fitz\n",
    "from tqdm.auto import tqdm\n",
    "\n",
    "def text_formatter(text: str) -> str:\n",
    "  \"\"\" Performs minor formatting on text \"\"\"\n",
    "\n",
    "  cleaned_text= text.replace(\"\\n\",\" \").strip()\n",
    "  #more cleaning can be done here...\n",
    "\n",
    "  return cleaned_text\n",
    "\n",
    "def open_and_read_pdf(pdf_path: str) -> list[dict]:\n",
    "\n",
    "  doc= fitz.open(pdf_path)\n",
    "  print(doc)\n",
    "  pages_and_text= []\n",
    "  for page_number,page in tqdm(enumerate(doc)):\n",
    "    text=page.get_text()\n",
    "    text= text_formatter(text=text)\n",
    "    pages_and_text.append({\"page_number\": page_number - 41,\n",
    "                           \"page_char_count\": len(text),\n",
    "                           \"page_word_count\": len(text.split(\" \")),\n",
    "                           \"page_sentence_count_raw\": len(text.split(\".\")),\n",
    "                           \"page_token_count\": len(text)/4, # 1 token- 4 characters\n",
    "                           \"text\": text})\n",
    "  return pages_and_text\n",
    "\n",
    "pages_and_text= open_and_read_pdf(pdf_path=pdf_path)\n",
    "pages_and_text[:2]"
   ]
  },
  {
   "cell_type": "code",
   "execution_count": 4,
   "metadata": {
    "executionInfo": {
     "elapsed": 9,
     "status": "ok",
     "timestamp": 1761384004750,
     "user": {
      "displayName": "Muskan Motwani",
      "userId": "03800385271669659981"
     },
     "user_tz": -330
    },
    "id": "6WzAGKp9hdgg"
   },
   "outputs": [],
   "source": [
    "# text= \"hey \\n how are you? It's been a long time since we've met \\n How'z everyone doing at home?\"\n",
    "# print(type(text_formatter(text)))"
   ]
  },
  {
   "cell_type": "code",
   "execution_count": 5,
   "metadata": {
    "colab": {
     "base_uri": "https://localhost:8080/"
    },
    "executionInfo": {
     "elapsed": 6,
     "status": "ok",
     "timestamp": 1761384004762,
     "user": {
      "displayName": "Muskan Motwani",
      "userId": "03800385271669659981"
     },
     "user_tz": -330
    },
    "id": "BNrRP40yhz_U",
    "outputId": "67535740-ebbe-4876-86e1-3f0baf02bb3e"
   },
   "outputs": [
    {
     "data": {
      "text/plain": [
       "[{'page_number': 1127,\n",
       "  'page_char_count': 1533,\n",
       "  'page_word_count': 218,\n",
       "  'page_sentence_count_raw': 38,\n",
       "  'page_token_count': 383.25,\n",
       "  'text': 'an incessant fear of weight gain but instead have an obsession with  “feeling pure, healthy and natural.”7 People affected by orthorexia  nervosa tend to follow diets tied to a philosophy or theory and  believe that their theory of eating is the best.8 9 Such diets often  have a redemptive quality that involves denying oneself of “bad” or  “wrong” foods.10 In extreme cases, affected individuals may also fear  contamination or harm from water and electricity leading them to  use filters to purify their environment from electrical emissions.  7.\\xa0Mathieu J. (2005). What is orthorexia? Journal of the  American Dietetic Association,\\xa0105(10), 1510-1512.  Bratman, S. Health Food Junkie. Yoga Journal. 1997,\\xa0 September/October, 42-50. Available at  https://www.orthorexia.com/original-orthorexia- essay/.  8.\\xa0Donini LM, Marsili D, Graziani MP, Imbriale M, Cannella  C. (2004). Orthorexia nervosa: a preliminary study with a  proposal for diagnosis and an attempt to measure the  dimension of the phenomenon. Eating and Weight  Disorders,\\xa09(2), 151‐157.  9.\\xa0Orthorexia. (2017, February 26). National Eating  Disorders Association.  https://www.nationaleatingdisorders.org/learn/by- eating-disorder/other/orthorexia  10.\\xa0Mathieu J. (2005). What is orthorexia? Journal of the  American Dietetic Association,\\xa0105(10), 1510-1512.  Bratman, S. Health Food Junkie. Yoga Journal. 1997,\\xa0 September/October, 42-50. Available at  https://www.orthorexia.com/original-orthorexia- essay/.  Undernutrition, Overnutrition, and Malnutrition  |  1127'},\n",
       " {'page_number': 322,\n",
       "  'page_char_count': 1382,\n",
       "  'page_word_count': 237,\n",
       "  'page_sentence_count_raw': 11,\n",
       "  'page_token_count': 345.5,\n",
       "  'text': 'Chylomicron s Contain  Triglycerides  Cholesterol  Molecules  and other  Lipids by  OpenStax  College\\xa0/ CC  BY 3.0  Just as lipids require special handling in the digestive tract to move  within a water-based environment, they require similar handling  to travel in the bloodstream. Inside the intestinal cells, the  monoglycerides and fatty acids reassemble themselves into  triglycerides. Triglycerides, cholesterol, and phospholipids form  lipoproteins when joined with a protein carrier. Lipoproteins have  an inner core that is primarily made up of triglycerides and  cholesterol esters (a cholesterol ester is a cholesterol linked to a  fatty acid). The outer envelope is made of phospholipids  interspersed with proteins and cholesterol. Together they form a  chylomicron, which is a large lipoprotein that now enters the  lymphatic system and will soon be released into the bloodstream  via the jugular vein in the neck. Chylomicrons transport food fats  perfectly through the body’s water-based environment to specific  destinations such as the liver and other body tissues.  Cholesterols  are  poorly  absorbed  when  compared  to  phospholipids and triglycerides. Cholesterol absorption is aided by  an increase in dietary fat components and is hindered by high fiber  content. This is the reason that a high intake of fiber is  322  |  Digestion and Absorption of Lipids'},\n",
       " {'page_number': 183,\n",
       "  'page_char_count': 165,\n",
       "  'page_word_count': 37,\n",
       "  'page_sentence_count_raw': 3,\n",
       "  'page_token_count': 41.25,\n",
       "  'text': 'Sodium  levels in  milligrams is  a required  listing on a  Nutrition  Facts label.  Sodium on the Nutrition Facts Panel  Figure 3.10 Nutrition Label  Sodium  |  183'}]"
      ]
     },
     "execution_count": 5,
     "metadata": {},
     "output_type": "execute_result"
    }
   ],
   "source": [
    "import random\n",
    "\n",
    "random.sample(pages_and_text,k=3)"
   ]
  },
  {
   "cell_type": "code",
   "execution_count": 6,
   "metadata": {
    "colab": {
     "base_uri": "https://localhost:8080/",
     "height": 206
    },
    "executionInfo": {
     "elapsed": 294,
     "status": "ok",
     "timestamp": 1761384005057,
     "user": {
      "displayName": "Muskan Motwani",
      "userId": "03800385271669659981"
     },
     "user_tz": -330
    },
    "id": "ozPrOm5ClL1N",
    "outputId": "6dc42ee4-455a-49cd-e841-14dfc914051a"
   },
   "outputs": [
    {
     "data": {
      "application/vnd.google.colaboratory.intrinsic+json": {
       "summary": "{\n  \"name\": \"df\",\n  \"rows\": 1208,\n  \"fields\": [\n    {\n      \"column\": \"page_number\",\n      \"properties\": {\n        \"dtype\": \"number\",\n        \"std\": 348,\n        \"min\": -41,\n        \"max\": 1166,\n        \"num_unique_values\": 1208,\n        \"samples\": [\n          60,\n          713,\n          267\n        ],\n        \"semantic_type\": \"\",\n        \"description\": \"\"\n      }\n    },\n    {\n      \"column\": \"page_char_count\",\n      \"properties\": {\n        \"dtype\": \"number\",\n        \"std\": 560,\n        \"min\": 0,\n        \"max\": 2308,\n        \"num_unique_values\": 883,\n        \"samples\": [\n          1742,\n          1077,\n          1003\n        ],\n        \"semantic_type\": \"\",\n        \"description\": \"\"\n      }\n    },\n    {\n      \"column\": \"page_word_count\",\n      \"properties\": {\n        \"dtype\": \"number\",\n        \"std\": 95,\n        \"min\": 1,\n        \"max\": 429,\n        \"num_unique_values\": 349,\n        \"samples\": [\n          352,\n          78,\n          88\n        ],\n        \"semantic_type\": \"\",\n        \"description\": \"\"\n      }\n    },\n    {\n      \"column\": \"page_sentence_count_raw\",\n      \"properties\": {\n        \"dtype\": \"number\",\n        \"std\": 9,\n        \"min\": 1,\n        \"max\": 82,\n        \"num_unique_values\": 54,\n        \"samples\": [\n          14,\n          42,\n          36\n        ],\n        \"semantic_type\": \"\",\n        \"description\": \"\"\n      }\n    },\n    {\n      \"column\": \"page_token_count\",\n      \"properties\": {\n        \"dtype\": \"number\",\n        \"std\": 140.09556874248855,\n        \"min\": 0.0,\n        \"max\": 577.0,\n        \"num_unique_values\": 883,\n        \"samples\": [\n          435.5,\n          269.25,\n          250.75\n        ],\n        \"semantic_type\": \"\",\n        \"description\": \"\"\n      }\n    },\n    {\n      \"column\": \"text\",\n      \"properties\": {\n        \"dtype\": \"string\",\n        \"num_unique_values\": 1180,\n        \"samples\": [\n          \"Electrolytes Important for  Fluid Balance  UNIVERSITY OF HAWAI\\u2018I AT M\\u0100NOA FOOD SCIENCE AND HUMAN  NUTRITION PROGRAM AND HUMAN NUTRITION PROGRAM  Cells are about 75 percent water and blood plasma is about 95  percent water. Why then, does the water not flow from blood  plasma to cells? The force of water also known as hydrostatic  pressure  maintains  the  volumes  of  water  between  fluid  compartments against the force of all dissolved substances. The  concentration is the amount of particles in a set volume of water.  (Recall that individual solutes can differ in concentration between  the intracellular and extracellular fluids, but the total concentration  of all dissolved substances is equal.)  The force driving the water movement through the selectively  permeable membrane is the higher solute concentration on the  one side. Solutes at different concentrations on either side of a  selectively permeable membrane exert a force, called osmotic  pressure. The higher concentration of solutes on one side compared  to the other of the U-tube exerts osmotic pressure, pulling the  water to a higher volume on the side of the U-tube containing  more dissolved particles. When the osmotic pressure is equal to the  pressure of the water on the selectively permeable membrane, net  water movement stops (though it still diffuses back and forth at an  equal rate).  One equation exemplifying equal concentrations but different  volumes is the following  5 grams of glucose in 1 liter = 10 grams of glucose in 2 liters (5g/L =  5g/L)  The differences in concentrations of particular substances  provide concentration gradients that cells can use to perform work.  A concentration gradient is a form of potential energy, like water  172  |  Electrolytes Important for Fluid Balance\",\n          \"Units of Measure  UNIVERSITY OF HAWAI\\u2018I AT M\\u0100NOA FOOD SCIENCE AND HUMAN  NUTRITION PROGRAM AND HUMAN NUTRITION PROGRAM  In  nutrition,  there  are  two  systems  of  commonly  used  measurements: Metric and US Customary. We need both because  the US won\\u2019t adopt the metric system completely.  The Metric and US Customary System  These are commonly used prefixes for the Metric System:  Micro- (\\u03bc) 1/1,000,000th (one millionth)  Milli- (m)  1/1000th (one thousandth)  Centi- (c)  1/100th (one hundredth)  Deci- (d)  1/10th (one tenth)  Kilo- (k)  1000x (one thousand times)  Mass  Metric System  US Customary System Conversions  Microgram (\\u03bcg) Ounce (oz)  1 oz = 28.35 g  Milligram (mg)  Pound (lb)  1 lb = 16 oz  Gram (g)  1 lb = 454 g  Kilogram (kg)  1 kg = 2.2 lbs  18  |  Units of Measure\",\n          \"activity level. For example, dental problems can lead to difficulties  with chewing and swallowing, which in turn can make it hard to  maintain a healthy diet. The use of dentures or the preparation of  pureed or chopped foods can help solve this problem. There also  is a decreased thirst response in the elderly, and the kidneys have  a decreased ability to concentrate urine, both of which can lead to  dehydration.  Sensory Issues  At about age sixty, taste buds begin to decrease in size and number.  As a result, the taste threshold is higher in older adults, meaning  that more of the same flavor must be present to detect the taste.  Many elderly people lose the ability to distinguish between salty,  sour, sweet, and bitter flavors. This can make food seem less  appealing and decrease the appetite. An intake of foods high in  sugar and sodium can increase due to an inability to discern those  tastes. The sense of smell also decreases, which impacts attitudes  toward food. Sensory issues may also affect the digestion because  the taste and smell of food stimulates the secretion of  digestive\\u00a0enzymes in the mouth, stomach, and pancreas.  Dysphagia  Some older adults have difficulty getting adequate nutrition  because of the disorder dysphagia, which impairs the ability to  swallow. Any damage to the parts of the brain that control  swallowing can result in dysphagia, therefore stroke is a common  cause. Dysphagia is also associated with advanced dementia  because of overall brain function impairment. To assist older adults  suffering from dysphagia, it can be helpful to alter food consistency.  Older Adulthood: The Golden Years  |  923\"\n        ],\n        \"semantic_type\": \"\",\n        \"description\": \"\"\n      }\n    }\n  ]\n}",
       "type": "dataframe",
       "variable_name": "df"
      },
      "text/html": [
       "\n",
       "  <div id=\"df-08063c0e-836a-4fb2-9eff-0b656778c3e5\" class=\"colab-df-container\">\n",
       "    <div>\n",
       "<style scoped>\n",
       "    .dataframe tbody tr th:only-of-type {\n",
       "        vertical-align: middle;\n",
       "    }\n",
       "\n",
       "    .dataframe tbody tr th {\n",
       "        vertical-align: top;\n",
       "    }\n",
       "\n",
       "    .dataframe thead th {\n",
       "        text-align: right;\n",
       "    }\n",
       "</style>\n",
       "<table border=\"1\" class=\"dataframe\">\n",
       "  <thead>\n",
       "    <tr style=\"text-align: right;\">\n",
       "      <th></th>\n",
       "      <th>page_number</th>\n",
       "      <th>page_char_count</th>\n",
       "      <th>page_word_count</th>\n",
       "      <th>page_sentence_count_raw</th>\n",
       "      <th>page_token_count</th>\n",
       "      <th>text</th>\n",
       "    </tr>\n",
       "  </thead>\n",
       "  <tbody>\n",
       "    <tr>\n",
       "      <th>0</th>\n",
       "      <td>-41</td>\n",
       "      <td>29</td>\n",
       "      <td>4</td>\n",
       "      <td>1</td>\n",
       "      <td>7.25</td>\n",
       "      <td>Human Nutrition: 2020 Edition</td>\n",
       "    </tr>\n",
       "    <tr>\n",
       "      <th>1</th>\n",
       "      <td>-40</td>\n",
       "      <td>0</td>\n",
       "      <td>1</td>\n",
       "      <td>1</td>\n",
       "      <td>0.00</td>\n",
       "      <td></td>\n",
       "    </tr>\n",
       "    <tr>\n",
       "      <th>2</th>\n",
       "      <td>-39</td>\n",
       "      <td>320</td>\n",
       "      <td>54</td>\n",
       "      <td>1</td>\n",
       "      <td>80.00</td>\n",
       "      <td>Human Nutrition: 2020  Edition  UNIVERSITY OF ...</td>\n",
       "    </tr>\n",
       "    <tr>\n",
       "      <th>3</th>\n",
       "      <td>-38</td>\n",
       "      <td>212</td>\n",
       "      <td>32</td>\n",
       "      <td>3</td>\n",
       "      <td>53.00</td>\n",
       "      <td>Human Nutrition: 2020 Edition by University of...</td>\n",
       "    </tr>\n",
       "    <tr>\n",
       "      <th>4</th>\n",
       "      <td>-37</td>\n",
       "      <td>797</td>\n",
       "      <td>145</td>\n",
       "      <td>3</td>\n",
       "      <td>199.25</td>\n",
       "      <td>Contents  Preface  University of Hawai‘i at Mā...</td>\n",
       "    </tr>\n",
       "  </tbody>\n",
       "</table>\n",
       "</div>\n",
       "    <div class=\"colab-df-buttons\">\n",
       "\n",
       "  <div class=\"colab-df-container\">\n",
       "    <button class=\"colab-df-convert\" onclick=\"convertToInteractive('df-08063c0e-836a-4fb2-9eff-0b656778c3e5')\"\n",
       "            title=\"Convert this dataframe to an interactive table.\"\n",
       "            style=\"display:none;\">\n",
       "\n",
       "  <svg xmlns=\"http://www.w3.org/2000/svg\" height=\"24px\" viewBox=\"0 -960 960 960\">\n",
       "    <path d=\"M120-120v-720h720v720H120Zm60-500h600v-160H180v160Zm220 220h160v-160H400v160Zm0 220h160v-160H400v160ZM180-400h160v-160H180v160Zm440 0h160v-160H620v160ZM180-180h160v-160H180v160Zm440 0h160v-160H620v160Z\"/>\n",
       "  </svg>\n",
       "    </button>\n",
       "\n",
       "  <style>\n",
       "    .colab-df-container {\n",
       "      display:flex;\n",
       "      gap: 12px;\n",
       "    }\n",
       "\n",
       "    .colab-df-convert {\n",
       "      background-color: #E8F0FE;\n",
       "      border: none;\n",
       "      border-radius: 50%;\n",
       "      cursor: pointer;\n",
       "      display: none;\n",
       "      fill: #1967D2;\n",
       "      height: 32px;\n",
       "      padding: 0 0 0 0;\n",
       "      width: 32px;\n",
       "    }\n",
       "\n",
       "    .colab-df-convert:hover {\n",
       "      background-color: #E2EBFA;\n",
       "      box-shadow: 0px 1px 2px rgba(60, 64, 67, 0.3), 0px 1px 3px 1px rgba(60, 64, 67, 0.15);\n",
       "      fill: #174EA6;\n",
       "    }\n",
       "\n",
       "    .colab-df-buttons div {\n",
       "      margin-bottom: 4px;\n",
       "    }\n",
       "\n",
       "    [theme=dark] .colab-df-convert {\n",
       "      background-color: #3B4455;\n",
       "      fill: #D2E3FC;\n",
       "    }\n",
       "\n",
       "    [theme=dark] .colab-df-convert:hover {\n",
       "      background-color: #434B5C;\n",
       "      box-shadow: 0px 1px 3px 1px rgba(0, 0, 0, 0.15);\n",
       "      filter: drop-shadow(0px 1px 2px rgba(0, 0, 0, 0.3));\n",
       "      fill: #FFFFFF;\n",
       "    }\n",
       "  </style>\n",
       "\n",
       "    <script>\n",
       "      const buttonEl =\n",
       "        document.querySelector('#df-08063c0e-836a-4fb2-9eff-0b656778c3e5 button.colab-df-convert');\n",
       "      buttonEl.style.display =\n",
       "        google.colab.kernel.accessAllowed ? 'block' : 'none';\n",
       "\n",
       "      async function convertToInteractive(key) {\n",
       "        const element = document.querySelector('#df-08063c0e-836a-4fb2-9eff-0b656778c3e5');\n",
       "        const dataTable =\n",
       "          await google.colab.kernel.invokeFunction('convertToInteractive',\n",
       "                                                    [key], {});\n",
       "        if (!dataTable) return;\n",
       "\n",
       "        const docLinkHtml = 'Like what you see? Visit the ' +\n",
       "          '<a target=\"_blank\" href=https://colab.research.google.com/notebooks/data_table.ipynb>data table notebook</a>'\n",
       "          + ' to learn more about interactive tables.';\n",
       "        element.innerHTML = '';\n",
       "        dataTable['output_type'] = 'display_data';\n",
       "        await google.colab.output.renderOutput(dataTable, element);\n",
       "        const docLink = document.createElement('div');\n",
       "        docLink.innerHTML = docLinkHtml;\n",
       "        element.appendChild(docLink);\n",
       "      }\n",
       "    </script>\n",
       "  </div>\n",
       "\n",
       "\n",
       "    <div id=\"df-f59af59a-6efe-4cb3-ae33-7b3f3f369783\">\n",
       "      <button class=\"colab-df-quickchart\" onclick=\"quickchart('df-f59af59a-6efe-4cb3-ae33-7b3f3f369783')\"\n",
       "                title=\"Suggest charts\"\n",
       "                style=\"display:none;\">\n",
       "\n",
       "<svg xmlns=\"http://www.w3.org/2000/svg\" height=\"24px\"viewBox=\"0 0 24 24\"\n",
       "     width=\"24px\">\n",
       "    <g>\n",
       "        <path d=\"M19 3H5c-1.1 0-2 .9-2 2v14c0 1.1.9 2 2 2h14c1.1 0 2-.9 2-2V5c0-1.1-.9-2-2-2zM9 17H7v-7h2v7zm4 0h-2V7h2v10zm4 0h-2v-4h2v4z\"/>\n",
       "    </g>\n",
       "</svg>\n",
       "      </button>\n",
       "\n",
       "<style>\n",
       "  .colab-df-quickchart {\n",
       "      --bg-color: #E8F0FE;\n",
       "      --fill-color: #1967D2;\n",
       "      --hover-bg-color: #E2EBFA;\n",
       "      --hover-fill-color: #174EA6;\n",
       "      --disabled-fill-color: #AAA;\n",
       "      --disabled-bg-color: #DDD;\n",
       "  }\n",
       "\n",
       "  [theme=dark] .colab-df-quickchart {\n",
       "      --bg-color: #3B4455;\n",
       "      --fill-color: #D2E3FC;\n",
       "      --hover-bg-color: #434B5C;\n",
       "      --hover-fill-color: #FFFFFF;\n",
       "      --disabled-bg-color: #3B4455;\n",
       "      --disabled-fill-color: #666;\n",
       "  }\n",
       "\n",
       "  .colab-df-quickchart {\n",
       "    background-color: var(--bg-color);\n",
       "    border: none;\n",
       "    border-radius: 50%;\n",
       "    cursor: pointer;\n",
       "    display: none;\n",
       "    fill: var(--fill-color);\n",
       "    height: 32px;\n",
       "    padding: 0;\n",
       "    width: 32px;\n",
       "  }\n",
       "\n",
       "  .colab-df-quickchart:hover {\n",
       "    background-color: var(--hover-bg-color);\n",
       "    box-shadow: 0 1px 2px rgba(60, 64, 67, 0.3), 0 1px 3px 1px rgba(60, 64, 67, 0.15);\n",
       "    fill: var(--button-hover-fill-color);\n",
       "  }\n",
       "\n",
       "  .colab-df-quickchart-complete:disabled,\n",
       "  .colab-df-quickchart-complete:disabled:hover {\n",
       "    background-color: var(--disabled-bg-color);\n",
       "    fill: var(--disabled-fill-color);\n",
       "    box-shadow: none;\n",
       "  }\n",
       "\n",
       "  .colab-df-spinner {\n",
       "    border: 2px solid var(--fill-color);\n",
       "    border-color: transparent;\n",
       "    border-bottom-color: var(--fill-color);\n",
       "    animation:\n",
       "      spin 1s steps(1) infinite;\n",
       "  }\n",
       "\n",
       "  @keyframes spin {\n",
       "    0% {\n",
       "      border-color: transparent;\n",
       "      border-bottom-color: var(--fill-color);\n",
       "      border-left-color: var(--fill-color);\n",
       "    }\n",
       "    20% {\n",
       "      border-color: transparent;\n",
       "      border-left-color: var(--fill-color);\n",
       "      border-top-color: var(--fill-color);\n",
       "    }\n",
       "    30% {\n",
       "      border-color: transparent;\n",
       "      border-left-color: var(--fill-color);\n",
       "      border-top-color: var(--fill-color);\n",
       "      border-right-color: var(--fill-color);\n",
       "    }\n",
       "    40% {\n",
       "      border-color: transparent;\n",
       "      border-right-color: var(--fill-color);\n",
       "      border-top-color: var(--fill-color);\n",
       "    }\n",
       "    60% {\n",
       "      border-color: transparent;\n",
       "      border-right-color: var(--fill-color);\n",
       "    }\n",
       "    80% {\n",
       "      border-color: transparent;\n",
       "      border-right-color: var(--fill-color);\n",
       "      border-bottom-color: var(--fill-color);\n",
       "    }\n",
       "    90% {\n",
       "      border-color: transparent;\n",
       "      border-bottom-color: var(--fill-color);\n",
       "    }\n",
       "  }\n",
       "</style>\n",
       "\n",
       "      <script>\n",
       "        async function quickchart(key) {\n",
       "          const quickchartButtonEl =\n",
       "            document.querySelector('#' + key + ' button');\n",
       "          quickchartButtonEl.disabled = true;  // To prevent multiple clicks.\n",
       "          quickchartButtonEl.classList.add('colab-df-spinner');\n",
       "          try {\n",
       "            const charts = await google.colab.kernel.invokeFunction(\n",
       "                'suggestCharts', [key], {});\n",
       "          } catch (error) {\n",
       "            console.error('Error during call to suggestCharts:', error);\n",
       "          }\n",
       "          quickchartButtonEl.classList.remove('colab-df-spinner');\n",
       "          quickchartButtonEl.classList.add('colab-df-quickchart-complete');\n",
       "        }\n",
       "        (() => {\n",
       "          let quickchartButtonEl =\n",
       "            document.querySelector('#df-f59af59a-6efe-4cb3-ae33-7b3f3f369783 button');\n",
       "          quickchartButtonEl.style.display =\n",
       "            google.colab.kernel.accessAllowed ? 'block' : 'none';\n",
       "        })();\n",
       "      </script>\n",
       "    </div>\n",
       "\n",
       "    </div>\n",
       "  </div>\n"
      ],
      "text/plain": [
       "   page_number  page_char_count  page_word_count  page_sentence_count_raw  \\\n",
       "0          -41               29                4                        1   \n",
       "1          -40                0                1                        1   \n",
       "2          -39              320               54                        1   \n",
       "3          -38              212               32                        3   \n",
       "4          -37              797              145                        3   \n",
       "\n",
       "   page_token_count                                               text  \n",
       "0              7.25                      Human Nutrition: 2020 Edition  \n",
       "1              0.00                                                     \n",
       "2             80.00  Human Nutrition: 2020  Edition  UNIVERSITY OF ...  \n",
       "3             53.00  Human Nutrition: 2020 Edition by University of...  \n",
       "4            199.25  Contents  Preface  University of Hawai‘i at Mā...  "
      ]
     },
     "execution_count": 6,
     "metadata": {},
     "output_type": "execute_result"
    }
   ],
   "source": [
    "import pandas as pd\n",
    "\n",
    "df= pd.DataFrame(pages_and_text)\n",
    "df.head()"
   ]
  },
  {
   "cell_type": "code",
   "execution_count": 7,
   "metadata": {
    "colab": {
     "base_uri": "https://localhost:8080/",
     "height": 300
    },
    "executionInfo": {
     "elapsed": 15,
     "status": "ok",
     "timestamp": 1761384005073,
     "user": {
      "displayName": "Muskan Motwani",
      "userId": "03800385271669659981"
     },
     "user_tz": -330
    },
    "id": "OO1iNihTthVF",
    "outputId": "5c6521d7-1f50-45fd-f7d6-d3a67ac740b8"
   },
   "outputs": [
    {
     "data": {
      "application/vnd.google.colaboratory.intrinsic+json": {
       "summary": "{\n  \"name\": \"df\",\n  \"rows\": 8,\n  \"fields\": [\n    {\n      \"column\": \"page_number\",\n      \"properties\": {\n        \"dtype\": \"number\",\n        \"std\": 439.07858752326854,\n        \"min\": -41.0,\n        \"max\": 1208.0,\n        \"num_unique_values\": 7,\n        \"samples\": [\n          1208.0,\n          562.5,\n          864.25\n        ],\n        \"semantic_type\": \"\",\n        \"description\": \"\"\n      }\n    },\n    {\n      \"column\": \"page_char_count\",\n      \"properties\": {\n        \"dtype\": \"number\",\n        \"std\": 692.7598126695862,\n        \"min\": 0.0,\n        \"max\": 2308.0,\n        \"num_unique_values\": 8,\n        \"samples\": [\n          1148.0,\n          1231.5,\n          1208.0\n        ],\n        \"semantic_type\": \"\",\n        \"description\": \"\"\n      }\n    },\n    {\n      \"column\": \"page_word_count\",\n      \"properties\": {\n        \"dtype\": \"number\",\n        \"std\": 380.86345761027945,\n        \"min\": 1.0,\n        \"max\": 1208.0,\n        \"num_unique_values\": 8,\n        \"samples\": [\n          198.3,\n          214.5,\n          1208.0\n        ],\n        \"semantic_type\": \"\",\n        \"description\": \"\"\n      }\n    },\n    {\n      \"column\": \"page_sentence_count_raw\",\n      \"properties\": {\n        \"dtype\": \"number\",\n        \"std\": 420.45329266671905,\n        \"min\": 1.0,\n        \"max\": 1208.0,\n        \"num_unique_values\": 8,\n        \"samples\": [\n          14.18,\n          13.0,\n          1208.0\n        ],\n        \"semantic_type\": \"\",\n        \"description\": \"\"\n      }\n    },\n    {\n      \"column\": \"page_token_count\",\n      \"properties\": {\n        \"dtype\": \"number\",\n        \"std\": 373.38318073681745,\n        \"min\": 0.0,\n        \"max\": 1208.0,\n        \"num_unique_values\": 8,\n        \"samples\": [\n          287.0,\n          307.88,\n          1208.0\n        ],\n        \"semantic_type\": \"\",\n        \"description\": \"\"\n      }\n    }\n  ]\n}",
       "type": "dataframe"
      },
      "text/html": [
       "\n",
       "  <div id=\"df-144a8de6-9279-4455-b969-3c5f0a1c3dfa\" class=\"colab-df-container\">\n",
       "    <div>\n",
       "<style scoped>\n",
       "    .dataframe tbody tr th:only-of-type {\n",
       "        vertical-align: middle;\n",
       "    }\n",
       "\n",
       "    .dataframe tbody tr th {\n",
       "        vertical-align: top;\n",
       "    }\n",
       "\n",
       "    .dataframe thead th {\n",
       "        text-align: right;\n",
       "    }\n",
       "</style>\n",
       "<table border=\"1\" class=\"dataframe\">\n",
       "  <thead>\n",
       "    <tr style=\"text-align: right;\">\n",
       "      <th></th>\n",
       "      <th>page_number</th>\n",
       "      <th>page_char_count</th>\n",
       "      <th>page_word_count</th>\n",
       "      <th>page_sentence_count_raw</th>\n",
       "      <th>page_token_count</th>\n",
       "    </tr>\n",
       "  </thead>\n",
       "  <tbody>\n",
       "    <tr>\n",
       "      <th>count</th>\n",
       "      <td>1208.00</td>\n",
       "      <td>1208.00</td>\n",
       "      <td>1208.00</td>\n",
       "      <td>1208.00</td>\n",
       "      <td>1208.00</td>\n",
       "    </tr>\n",
       "    <tr>\n",
       "      <th>mean</th>\n",
       "      <td>562.50</td>\n",
       "      <td>1148.00</td>\n",
       "      <td>198.30</td>\n",
       "      <td>14.18</td>\n",
       "      <td>287.00</td>\n",
       "    </tr>\n",
       "    <tr>\n",
       "      <th>std</th>\n",
       "      <td>348.86</td>\n",
       "      <td>560.38</td>\n",
       "      <td>95.76</td>\n",
       "      <td>9.54</td>\n",
       "      <td>140.10</td>\n",
       "    </tr>\n",
       "    <tr>\n",
       "      <th>min</th>\n",
       "      <td>-41.00</td>\n",
       "      <td>0.00</td>\n",
       "      <td>1.00</td>\n",
       "      <td>1.00</td>\n",
       "      <td>0.00</td>\n",
       "    </tr>\n",
       "    <tr>\n",
       "      <th>25%</th>\n",
       "      <td>260.75</td>\n",
       "      <td>762.00</td>\n",
       "      <td>134.00</td>\n",
       "      <td>8.00</td>\n",
       "      <td>190.50</td>\n",
       "    </tr>\n",
       "    <tr>\n",
       "      <th>50%</th>\n",
       "      <td>562.50</td>\n",
       "      <td>1231.50</td>\n",
       "      <td>214.50</td>\n",
       "      <td>13.00</td>\n",
       "      <td>307.88</td>\n",
       "    </tr>\n",
       "    <tr>\n",
       "      <th>75%</th>\n",
       "      <td>864.25</td>\n",
       "      <td>1603.50</td>\n",
       "      <td>271.00</td>\n",
       "      <td>19.00</td>\n",
       "      <td>400.88</td>\n",
       "    </tr>\n",
       "    <tr>\n",
       "      <th>max</th>\n",
       "      <td>1166.00</td>\n",
       "      <td>2308.00</td>\n",
       "      <td>429.00</td>\n",
       "      <td>82.00</td>\n",
       "      <td>577.00</td>\n",
       "    </tr>\n",
       "  </tbody>\n",
       "</table>\n",
       "</div>\n",
       "    <div class=\"colab-df-buttons\">\n",
       "\n",
       "  <div class=\"colab-df-container\">\n",
       "    <button class=\"colab-df-convert\" onclick=\"convertToInteractive('df-144a8de6-9279-4455-b969-3c5f0a1c3dfa')\"\n",
       "            title=\"Convert this dataframe to an interactive table.\"\n",
       "            style=\"display:none;\">\n",
       "\n",
       "  <svg xmlns=\"http://www.w3.org/2000/svg\" height=\"24px\" viewBox=\"0 -960 960 960\">\n",
       "    <path d=\"M120-120v-720h720v720H120Zm60-500h600v-160H180v160Zm220 220h160v-160H400v160Zm0 220h160v-160H400v160ZM180-400h160v-160H180v160Zm440 0h160v-160H620v160ZM180-180h160v-160H180v160Zm440 0h160v-160H620v160Z\"/>\n",
       "  </svg>\n",
       "    </button>\n",
       "\n",
       "  <style>\n",
       "    .colab-df-container {\n",
       "      display:flex;\n",
       "      gap: 12px;\n",
       "    }\n",
       "\n",
       "    .colab-df-convert {\n",
       "      background-color: #E8F0FE;\n",
       "      border: none;\n",
       "      border-radius: 50%;\n",
       "      cursor: pointer;\n",
       "      display: none;\n",
       "      fill: #1967D2;\n",
       "      height: 32px;\n",
       "      padding: 0 0 0 0;\n",
       "      width: 32px;\n",
       "    }\n",
       "\n",
       "    .colab-df-convert:hover {\n",
       "      background-color: #E2EBFA;\n",
       "      box-shadow: 0px 1px 2px rgba(60, 64, 67, 0.3), 0px 1px 3px 1px rgba(60, 64, 67, 0.15);\n",
       "      fill: #174EA6;\n",
       "    }\n",
       "\n",
       "    .colab-df-buttons div {\n",
       "      margin-bottom: 4px;\n",
       "    }\n",
       "\n",
       "    [theme=dark] .colab-df-convert {\n",
       "      background-color: #3B4455;\n",
       "      fill: #D2E3FC;\n",
       "    }\n",
       "\n",
       "    [theme=dark] .colab-df-convert:hover {\n",
       "      background-color: #434B5C;\n",
       "      box-shadow: 0px 1px 3px 1px rgba(0, 0, 0, 0.15);\n",
       "      filter: drop-shadow(0px 1px 2px rgba(0, 0, 0, 0.3));\n",
       "      fill: #FFFFFF;\n",
       "    }\n",
       "  </style>\n",
       "\n",
       "    <script>\n",
       "      const buttonEl =\n",
       "        document.querySelector('#df-144a8de6-9279-4455-b969-3c5f0a1c3dfa button.colab-df-convert');\n",
       "      buttonEl.style.display =\n",
       "        google.colab.kernel.accessAllowed ? 'block' : 'none';\n",
       "\n",
       "      async function convertToInteractive(key) {\n",
       "        const element = document.querySelector('#df-144a8de6-9279-4455-b969-3c5f0a1c3dfa');\n",
       "        const dataTable =\n",
       "          await google.colab.kernel.invokeFunction('convertToInteractive',\n",
       "                                                    [key], {});\n",
       "        if (!dataTable) return;\n",
       "\n",
       "        const docLinkHtml = 'Like what you see? Visit the ' +\n",
       "          '<a target=\"_blank\" href=https://colab.research.google.com/notebooks/data_table.ipynb>data table notebook</a>'\n",
       "          + ' to learn more about interactive tables.';\n",
       "        element.innerHTML = '';\n",
       "        dataTable['output_type'] = 'display_data';\n",
       "        await google.colab.output.renderOutput(dataTable, element);\n",
       "        const docLink = document.createElement('div');\n",
       "        docLink.innerHTML = docLinkHtml;\n",
       "        element.appendChild(docLink);\n",
       "      }\n",
       "    </script>\n",
       "  </div>\n",
       "\n",
       "\n",
       "    <div id=\"df-4a5662be-627d-4137-ac7d-422f108d70cf\">\n",
       "      <button class=\"colab-df-quickchart\" onclick=\"quickchart('df-4a5662be-627d-4137-ac7d-422f108d70cf')\"\n",
       "                title=\"Suggest charts\"\n",
       "                style=\"display:none;\">\n",
       "\n",
       "<svg xmlns=\"http://www.w3.org/2000/svg\" height=\"24px\"viewBox=\"0 0 24 24\"\n",
       "     width=\"24px\">\n",
       "    <g>\n",
       "        <path d=\"M19 3H5c-1.1 0-2 .9-2 2v14c0 1.1.9 2 2 2h14c1.1 0 2-.9 2-2V5c0-1.1-.9-2-2-2zM9 17H7v-7h2v7zm4 0h-2V7h2v10zm4 0h-2v-4h2v4z\"/>\n",
       "    </g>\n",
       "</svg>\n",
       "      </button>\n",
       "\n",
       "<style>\n",
       "  .colab-df-quickchart {\n",
       "      --bg-color: #E8F0FE;\n",
       "      --fill-color: #1967D2;\n",
       "      --hover-bg-color: #E2EBFA;\n",
       "      --hover-fill-color: #174EA6;\n",
       "      --disabled-fill-color: #AAA;\n",
       "      --disabled-bg-color: #DDD;\n",
       "  }\n",
       "\n",
       "  [theme=dark] .colab-df-quickchart {\n",
       "      --bg-color: #3B4455;\n",
       "      --fill-color: #D2E3FC;\n",
       "      --hover-bg-color: #434B5C;\n",
       "      --hover-fill-color: #FFFFFF;\n",
       "      --disabled-bg-color: #3B4455;\n",
       "      --disabled-fill-color: #666;\n",
       "  }\n",
       "\n",
       "  .colab-df-quickchart {\n",
       "    background-color: var(--bg-color);\n",
       "    border: none;\n",
       "    border-radius: 50%;\n",
       "    cursor: pointer;\n",
       "    display: none;\n",
       "    fill: var(--fill-color);\n",
       "    height: 32px;\n",
       "    padding: 0;\n",
       "    width: 32px;\n",
       "  }\n",
       "\n",
       "  .colab-df-quickchart:hover {\n",
       "    background-color: var(--hover-bg-color);\n",
       "    box-shadow: 0 1px 2px rgba(60, 64, 67, 0.3), 0 1px 3px 1px rgba(60, 64, 67, 0.15);\n",
       "    fill: var(--button-hover-fill-color);\n",
       "  }\n",
       "\n",
       "  .colab-df-quickchart-complete:disabled,\n",
       "  .colab-df-quickchart-complete:disabled:hover {\n",
       "    background-color: var(--disabled-bg-color);\n",
       "    fill: var(--disabled-fill-color);\n",
       "    box-shadow: none;\n",
       "  }\n",
       "\n",
       "  .colab-df-spinner {\n",
       "    border: 2px solid var(--fill-color);\n",
       "    border-color: transparent;\n",
       "    border-bottom-color: var(--fill-color);\n",
       "    animation:\n",
       "      spin 1s steps(1) infinite;\n",
       "  }\n",
       "\n",
       "  @keyframes spin {\n",
       "    0% {\n",
       "      border-color: transparent;\n",
       "      border-bottom-color: var(--fill-color);\n",
       "      border-left-color: var(--fill-color);\n",
       "    }\n",
       "    20% {\n",
       "      border-color: transparent;\n",
       "      border-left-color: var(--fill-color);\n",
       "      border-top-color: var(--fill-color);\n",
       "    }\n",
       "    30% {\n",
       "      border-color: transparent;\n",
       "      border-left-color: var(--fill-color);\n",
       "      border-top-color: var(--fill-color);\n",
       "      border-right-color: var(--fill-color);\n",
       "    }\n",
       "    40% {\n",
       "      border-color: transparent;\n",
       "      border-right-color: var(--fill-color);\n",
       "      border-top-color: var(--fill-color);\n",
       "    }\n",
       "    60% {\n",
       "      border-color: transparent;\n",
       "      border-right-color: var(--fill-color);\n",
       "    }\n",
       "    80% {\n",
       "      border-color: transparent;\n",
       "      border-right-color: var(--fill-color);\n",
       "      border-bottom-color: var(--fill-color);\n",
       "    }\n",
       "    90% {\n",
       "      border-color: transparent;\n",
       "      border-bottom-color: var(--fill-color);\n",
       "    }\n",
       "  }\n",
       "</style>\n",
       "\n",
       "      <script>\n",
       "        async function quickchart(key) {\n",
       "          const quickchartButtonEl =\n",
       "            document.querySelector('#' + key + ' button');\n",
       "          quickchartButtonEl.disabled = true;  // To prevent multiple clicks.\n",
       "          quickchartButtonEl.classList.add('colab-df-spinner');\n",
       "          try {\n",
       "            const charts = await google.colab.kernel.invokeFunction(\n",
       "                'suggestCharts', [key], {});\n",
       "          } catch (error) {\n",
       "            console.error('Error during call to suggestCharts:', error);\n",
       "          }\n",
       "          quickchartButtonEl.classList.remove('colab-df-spinner');\n",
       "          quickchartButtonEl.classList.add('colab-df-quickchart-complete');\n",
       "        }\n",
       "        (() => {\n",
       "          let quickchartButtonEl =\n",
       "            document.querySelector('#df-4a5662be-627d-4137-ac7d-422f108d70cf button');\n",
       "          quickchartButtonEl.style.display =\n",
       "            google.colab.kernel.accessAllowed ? 'block' : 'none';\n",
       "        })();\n",
       "      </script>\n",
       "    </div>\n",
       "\n",
       "    </div>\n",
       "  </div>\n"
      ],
      "text/plain": [
       "       page_number  page_char_count  page_word_count  page_sentence_count_raw  \\\n",
       "count      1208.00          1208.00          1208.00                  1208.00   \n",
       "mean        562.50          1148.00           198.30                    14.18   \n",
       "std         348.86           560.38            95.76                     9.54   \n",
       "min         -41.00             0.00             1.00                     1.00   \n",
       "25%         260.75           762.00           134.00                     8.00   \n",
       "50%         562.50          1231.50           214.50                    13.00   \n",
       "75%         864.25          1603.50           271.00                    19.00   \n",
       "max        1166.00          2308.00           429.00                    82.00   \n",
       "\n",
       "       page_token_count  \n",
       "count           1208.00  \n",
       "mean             287.00  \n",
       "std              140.10  \n",
       "min                0.00  \n",
       "25%              190.50  \n",
       "50%              307.88  \n",
       "75%              400.88  \n",
       "max              577.00  "
      ]
     },
     "execution_count": 7,
     "metadata": {},
     "output_type": "execute_result"
    }
   ],
   "source": [
    "df.describe().round(2)"
   ]
  },
  {
   "cell_type": "markdown",
   "metadata": {
    "id": "-UHI6s93t_S3"
   },
   "source": [
    "Why would we care about token counts?\n",
    "\n",
    "Token count is important because:\n",
    "1. Embedding models dont deal with infinite tokens\n",
    "2. LLMs dont deal with infinite tokens\n",
    "\n",
    "\n",
    "For example an embedding model may have been trained to embed sequences of 384 tokens into numerical space.(sentence transformer,all-mpnet-base-v2)\n",
    "\n",
    "As for LLMs, they can't accept infinite tokens in their context window."
   ]
  },
  {
   "cell_type": "markdown",
   "metadata": {
    "id": "cTSeesqXwgdf"
   },
   "source": [
    "### Further text processing (splitting pages into sentences)\n",
    "\n",
    "Two ways:\n",
    "1. We have done this by splitting on '.'\n",
    "2. We can do this with a NLP library such as spaCy https://spacy.io/ and nltk(https://www.nltk.org/).\n",
    "\n"
   ]
  },
  {
   "cell_type": "code",
   "execution_count": 8,
   "metadata": {
    "colab": {
     "base_uri": "https://localhost:8080/"
    },
    "executionInfo": {
     "elapsed": 6119,
     "status": "ok",
     "timestamp": 1761384011195,
     "user": {
      "displayName": "Muskan Motwani",
      "userId": "03800385271669659981"
     },
     "user_tz": -330
    },
    "id": "9IVtR2lytufA",
    "outputId": "146eaddd-3483-4e22-cfdc-df6f22765280"
   },
   "outputs": [
    {
     "name": "stdout",
     "output_type": "stream",
     "text": [
      "[This is a sentence., This another sentence., I like elephants]\n"
     ]
    }
   ],
   "source": [
    "from spacy.lang.en import English\n",
    "\n",
    "nlp= English()\n",
    "\n",
    "#Add a sentencizer pipeline, see https://spacy.io/api/sentencizer\n",
    "nlp.add_pipe(\"sentencizer\")\n",
    "\n",
    "#Create document instance as an example\n",
    "doc=nlp(\"This is a sentence. This another sentence. I like elephants\")\n",
    "assert len(list(doc.sents))==3\n",
    "\n",
    "print(list(doc.sents))\n"
   ]
  },
  {
   "cell_type": "code",
   "execution_count": 9,
   "metadata": {
    "colab": {
     "base_uri": "https://localhost:8080/"
    },
    "executionInfo": {
     "elapsed": 6,
     "status": "ok",
     "timestamp": 1761384011214,
     "user": {
      "displayName": "Muskan Motwani",
      "userId": "03800385271669659981"
     },
     "user_tz": -330
    },
    "id": "4y5eFYF0yCAY",
    "outputId": "2153de7e-324f-4aa3-e089-8a586adfa22c"
   },
   "outputs": [
    {
     "data": {
      "text/plain": [
       "{'page_number': -39,\n",
       " 'page_char_count': 320,\n",
       " 'page_word_count': 54,\n",
       " 'page_sentence_count_raw': 1,\n",
       " 'page_token_count': 80.0,\n",
       " 'text': 'Human Nutrition: 2020  Edition  UNIVERSITY OF HAWAI‘I AT MĀNOA  FOOD SCIENCE AND HUMAN  NUTRITION PROGRAM  ALAN TITCHENAL, SKYLAR HARA,  NOEMI ARCEO CAACBAY, WILLIAM  MEINKE-LAU, YA-YUN YANG, MARIE  KAINOA FIALKOWSKI REVILLA,  JENNIFER DRAPER, GEMADY  LANGFELDER, CHERYL GIBBY, CHYNA  NICOLE CHUN, AND ALLISON  CALABRESE'}"
      ]
     },
     "execution_count": 9,
     "metadata": {},
     "output_type": "execute_result"
    }
   ],
   "source": [
    "pages_and_text[2]"
   ]
  },
  {
   "cell_type": "code",
   "execution_count": 10,
   "metadata": {
    "colab": {
     "base_uri": "https://localhost:8080/",
     "height": 49,
     "referenced_widgets": [
      "4e8771e793474f7986ec2932447395a0",
      "2a56df6a8bfc479e91b39518ef83cbbb",
      "5137c6bb717b4e8aa2cf75d93a0bd372",
      "ba3cd8420a2d46538bba9bb379bb3619",
      "6dcece4103834668b00e9a05ed549e3f",
      "3da417d6359b40de8c24760a58297b40",
      "eb0e432c177a416fa5e3882802e4d9bd",
      "646b5a6f87114ec7bd74fd7db2cbb66f",
      "98a527ca02e34f3692f44c4814581cc0",
      "ddb439b6f8f343dc9bfb4d4fa1bcab72",
      "ed5278f0d9fa4bf8aeedcd52aeb172a5"
     ]
    },
    "executionInfo": {
     "elapsed": 2487,
     "status": "ok",
     "timestamp": 1761384013702,
     "user": {
      "displayName": "Muskan Motwani",
      "userId": "03800385271669659981"
     },
     "user_tz": -330
    },
    "id": "rC0oycVewAca",
    "outputId": "e831e211-c044-4ca0-cdc1-afa9900cbad7"
   },
   "outputs": [
    {
     "data": {
      "application/vnd.jupyter.widget-view+json": {
       "model_id": "4e8771e793474f7986ec2932447395a0",
       "version_major": 2,
       "version_minor": 0
      },
      "text/plain": [
       "  0%|          | 0/1208 [00:00<?, ?it/s]"
      ]
     },
     "metadata": {},
     "output_type": "display_data"
    }
   ],
   "source": [
    "for item in tqdm(pages_and_text):\n",
    "  item[\"sentences\"]=list(nlp(item[\"text\"]).sents)\n",
    "\n",
    "  #Make sure all sentences are string (default type is spacy datatype)\n",
    "  item[\"sentences\"]=[str(sentences) for sentences in item[\"sentences\"]]\n",
    "\n",
    "  #Count the sentences\n",
    "  item[\"page_sentence_count_spacy\"]=len(item[\"sentences\"])"
   ]
  },
  {
   "cell_type": "code",
   "execution_count": 11,
   "metadata": {
    "colab": {
     "base_uri": "https://localhost:8080/"
    },
    "executionInfo": {
     "elapsed": 6,
     "status": "ok",
     "timestamp": 1761384013714,
     "user": {
      "displayName": "Muskan Motwani",
      "userId": "03800385271669659981"
     },
     "user_tz": -330
    },
    "id": "S0AU3Nm3yryG",
    "outputId": "022939d8-e5b1-4d60-c2b5-62aee75af534"
   },
   "outputs": [
    {
     "data": {
      "text/plain": [
       "[{'page_number': 470,\n",
       "  'page_char_count': 832,\n",
       "  'page_word_count': 139,\n",
       "  'page_sentence_count_raw': 9,\n",
       "  'page_token_count': 208.0,\n",
       "  'text': 'Learning Activities  Technology Note: The second edition of the Human  Nutrition Open Educational Resource (OER) textbook  features interactive learning activities.\\xa0 These activities are  available in the web-based textbook and not available in the  downloadable versions (EPUB, Digital PDF, Print_PDF, or  Open Document).  Learning activities may be used across various mobile  devices, however, for the best user experience it is strongly  recommended that users complete these activities using a  desktop or laptop computer and in Google Chrome.  \\xa0 An interactive or media element has been  excluded from this version of the text. You can  view it online here:  http://pressbooks.oer.hawaii.edu/ humannutrition2/?p=301  \\xa0 An interactive or media element has been  excluded from this version of the text. You can  470  |  The Atom',\n",
       "  'sentences': ['Learning Activities  Technology Note: The second edition of the Human  Nutrition Open Educational Resource (OER) textbook  features interactive learning activities.',\n",
       "   '\\xa0 These activities are  available in the web-based textbook and not available in the  downloadable versions (EPUB, Digital PDF, Print_PDF, or  Open Document).',\n",
       "   ' Learning activities may be used across various mobile  devices, however, for the best user experience it is strongly  recommended that users complete these activities using a  desktop or laptop computer and in Google Chrome.',\n",
       "   ' \\xa0 An interactive or media element has been  excluded from this version of the text.',\n",
       "   'You can  view it online here:  http://pressbooks.oer.hawaii.edu/ humannutrition2/?p=301  \\xa0 An interactive or media element has been  excluded from this version of the text.',\n",
       "   'You can  470  |  The Atom'],\n",
       "  'page_sentence_count_spacy': 6}]"
      ]
     },
     "execution_count": 11,
     "metadata": {},
     "output_type": "execute_result"
    }
   ],
   "source": [
    "random.sample(pages_and_text,k=1)"
   ]
  },
  {
   "cell_type": "code",
   "execution_count": 12,
   "metadata": {
    "colab": {
     "base_uri": "https://localhost:8080/",
     "height": 300
    },
    "executionInfo": {
     "elapsed": 16,
     "status": "ok",
     "timestamp": 1761384013737,
     "user": {
      "displayName": "Muskan Motwani",
      "userId": "03800385271669659981"
     },
     "user_tz": -330
    },
    "id": "muJGSKjdyxlb",
    "outputId": "0729023f-266f-4db0-be88-228f33c8d64f"
   },
   "outputs": [
    {
     "data": {
      "application/vnd.google.colaboratory.intrinsic+json": {
       "summary": "{\n  \"name\": \"df\",\n  \"rows\": 8,\n  \"fields\": [\n    {\n      \"column\": \"page_number\",\n      \"properties\": {\n        \"dtype\": \"number\",\n        \"std\": 439.07858752326854,\n        \"min\": -41.0,\n        \"max\": 1208.0,\n        \"num_unique_values\": 7,\n        \"samples\": [\n          1208.0,\n          562.5,\n          864.25\n        ],\n        \"semantic_type\": \"\",\n        \"description\": \"\"\n      }\n    },\n    {\n      \"column\": \"page_char_count\",\n      \"properties\": {\n        \"dtype\": \"number\",\n        \"std\": 692.7598126695862,\n        \"min\": 0.0,\n        \"max\": 2308.0,\n        \"num_unique_values\": 8,\n        \"samples\": [\n          1148.0,\n          1231.5,\n          1208.0\n        ],\n        \"semantic_type\": \"\",\n        \"description\": \"\"\n      }\n    },\n    {\n      \"column\": \"page_word_count\",\n      \"properties\": {\n        \"dtype\": \"number\",\n        \"std\": 380.86345761027945,\n        \"min\": 1.0,\n        \"max\": 1208.0,\n        \"num_unique_values\": 8,\n        \"samples\": [\n          198.3,\n          214.5,\n          1208.0\n        ],\n        \"semantic_type\": \"\",\n        \"description\": \"\"\n      }\n    },\n    {\n      \"column\": \"page_sentence_count_raw\",\n      \"properties\": {\n        \"dtype\": \"number\",\n        \"std\": 420.45329266671905,\n        \"min\": 1.0,\n        \"max\": 1208.0,\n        \"num_unique_values\": 8,\n        \"samples\": [\n          14.18,\n          13.0,\n          1208.0\n        ],\n        \"semantic_type\": \"\",\n        \"description\": \"\"\n      }\n    },\n    {\n      \"column\": \"page_token_count\",\n      \"properties\": {\n        \"dtype\": \"number\",\n        \"std\": 373.38318073681745,\n        \"min\": 0.0,\n        \"max\": 1208.0,\n        \"num_unique_values\": 8,\n        \"samples\": [\n          287.0,\n          307.88,\n          1208.0\n        ],\n        \"semantic_type\": \"\",\n        \"description\": \"\"\n      }\n    },\n    {\n      \"column\": \"page_sentence_count_spacy\",\n      \"properties\": {\n        \"dtype\": \"number\",\n        \"std\": 423.405400861363,\n        \"min\": 0.0,\n        \"max\": 1208.0,\n        \"num_unique_values\": 8,\n        \"samples\": [\n          10.32,\n          10.0,\n          1208.0\n        ],\n        \"semantic_type\": \"\",\n        \"description\": \"\"\n      }\n    }\n  ]\n}",
       "type": "dataframe"
      },
      "text/html": [
       "\n",
       "  <div id=\"df-d4c05d02-826d-4547-86ae-076aef397d4f\" class=\"colab-df-container\">\n",
       "    <div>\n",
       "<style scoped>\n",
       "    .dataframe tbody tr th:only-of-type {\n",
       "        vertical-align: middle;\n",
       "    }\n",
       "\n",
       "    .dataframe tbody tr th {\n",
       "        vertical-align: top;\n",
       "    }\n",
       "\n",
       "    .dataframe thead th {\n",
       "        text-align: right;\n",
       "    }\n",
       "</style>\n",
       "<table border=\"1\" class=\"dataframe\">\n",
       "  <thead>\n",
       "    <tr style=\"text-align: right;\">\n",
       "      <th></th>\n",
       "      <th>page_number</th>\n",
       "      <th>page_char_count</th>\n",
       "      <th>page_word_count</th>\n",
       "      <th>page_sentence_count_raw</th>\n",
       "      <th>page_token_count</th>\n",
       "      <th>page_sentence_count_spacy</th>\n",
       "    </tr>\n",
       "  </thead>\n",
       "  <tbody>\n",
       "    <tr>\n",
       "      <th>count</th>\n",
       "      <td>1208.00</td>\n",
       "      <td>1208.00</td>\n",
       "      <td>1208.00</td>\n",
       "      <td>1208.00</td>\n",
       "      <td>1208.00</td>\n",
       "      <td>1208.00</td>\n",
       "    </tr>\n",
       "    <tr>\n",
       "      <th>mean</th>\n",
       "      <td>562.50</td>\n",
       "      <td>1148.00</td>\n",
       "      <td>198.30</td>\n",
       "      <td>14.18</td>\n",
       "      <td>287.00</td>\n",
       "      <td>10.32</td>\n",
       "    </tr>\n",
       "    <tr>\n",
       "      <th>std</th>\n",
       "      <td>348.86</td>\n",
       "      <td>560.38</td>\n",
       "      <td>95.76</td>\n",
       "      <td>9.54</td>\n",
       "      <td>140.10</td>\n",
       "      <td>6.30</td>\n",
       "    </tr>\n",
       "    <tr>\n",
       "      <th>min</th>\n",
       "      <td>-41.00</td>\n",
       "      <td>0.00</td>\n",
       "      <td>1.00</td>\n",
       "      <td>1.00</td>\n",
       "      <td>0.00</td>\n",
       "      <td>0.00</td>\n",
       "    </tr>\n",
       "    <tr>\n",
       "      <th>25%</th>\n",
       "      <td>260.75</td>\n",
       "      <td>762.00</td>\n",
       "      <td>134.00</td>\n",
       "      <td>8.00</td>\n",
       "      <td>190.50</td>\n",
       "      <td>5.00</td>\n",
       "    </tr>\n",
       "    <tr>\n",
       "      <th>50%</th>\n",
       "      <td>562.50</td>\n",
       "      <td>1231.50</td>\n",
       "      <td>214.50</td>\n",
       "      <td>13.00</td>\n",
       "      <td>307.88</td>\n",
       "      <td>10.00</td>\n",
       "    </tr>\n",
       "    <tr>\n",
       "      <th>75%</th>\n",
       "      <td>864.25</td>\n",
       "      <td>1603.50</td>\n",
       "      <td>271.00</td>\n",
       "      <td>19.00</td>\n",
       "      <td>400.88</td>\n",
       "      <td>15.00</td>\n",
       "    </tr>\n",
       "    <tr>\n",
       "      <th>max</th>\n",
       "      <td>1166.00</td>\n",
       "      <td>2308.00</td>\n",
       "      <td>429.00</td>\n",
       "      <td>82.00</td>\n",
       "      <td>577.00</td>\n",
       "      <td>28.00</td>\n",
       "    </tr>\n",
       "  </tbody>\n",
       "</table>\n",
       "</div>\n",
       "    <div class=\"colab-df-buttons\">\n",
       "\n",
       "  <div class=\"colab-df-container\">\n",
       "    <button class=\"colab-df-convert\" onclick=\"convertToInteractive('df-d4c05d02-826d-4547-86ae-076aef397d4f')\"\n",
       "            title=\"Convert this dataframe to an interactive table.\"\n",
       "            style=\"display:none;\">\n",
       "\n",
       "  <svg xmlns=\"http://www.w3.org/2000/svg\" height=\"24px\" viewBox=\"0 -960 960 960\">\n",
       "    <path d=\"M120-120v-720h720v720H120Zm60-500h600v-160H180v160Zm220 220h160v-160H400v160Zm0 220h160v-160H400v160ZM180-400h160v-160H180v160Zm440 0h160v-160H620v160ZM180-180h160v-160H180v160Zm440 0h160v-160H620v160Z\"/>\n",
       "  </svg>\n",
       "    </button>\n",
       "\n",
       "  <style>\n",
       "    .colab-df-container {\n",
       "      display:flex;\n",
       "      gap: 12px;\n",
       "    }\n",
       "\n",
       "    .colab-df-convert {\n",
       "      background-color: #E8F0FE;\n",
       "      border: none;\n",
       "      border-radius: 50%;\n",
       "      cursor: pointer;\n",
       "      display: none;\n",
       "      fill: #1967D2;\n",
       "      height: 32px;\n",
       "      padding: 0 0 0 0;\n",
       "      width: 32px;\n",
       "    }\n",
       "\n",
       "    .colab-df-convert:hover {\n",
       "      background-color: #E2EBFA;\n",
       "      box-shadow: 0px 1px 2px rgba(60, 64, 67, 0.3), 0px 1px 3px 1px rgba(60, 64, 67, 0.15);\n",
       "      fill: #174EA6;\n",
       "    }\n",
       "\n",
       "    .colab-df-buttons div {\n",
       "      margin-bottom: 4px;\n",
       "    }\n",
       "\n",
       "    [theme=dark] .colab-df-convert {\n",
       "      background-color: #3B4455;\n",
       "      fill: #D2E3FC;\n",
       "    }\n",
       "\n",
       "    [theme=dark] .colab-df-convert:hover {\n",
       "      background-color: #434B5C;\n",
       "      box-shadow: 0px 1px 3px 1px rgba(0, 0, 0, 0.15);\n",
       "      filter: drop-shadow(0px 1px 2px rgba(0, 0, 0, 0.3));\n",
       "      fill: #FFFFFF;\n",
       "    }\n",
       "  </style>\n",
       "\n",
       "    <script>\n",
       "      const buttonEl =\n",
       "        document.querySelector('#df-d4c05d02-826d-4547-86ae-076aef397d4f button.colab-df-convert');\n",
       "      buttonEl.style.display =\n",
       "        google.colab.kernel.accessAllowed ? 'block' : 'none';\n",
       "\n",
       "      async function convertToInteractive(key) {\n",
       "        const element = document.querySelector('#df-d4c05d02-826d-4547-86ae-076aef397d4f');\n",
       "        const dataTable =\n",
       "          await google.colab.kernel.invokeFunction('convertToInteractive',\n",
       "                                                    [key], {});\n",
       "        if (!dataTable) return;\n",
       "\n",
       "        const docLinkHtml = 'Like what you see? Visit the ' +\n",
       "          '<a target=\"_blank\" href=https://colab.research.google.com/notebooks/data_table.ipynb>data table notebook</a>'\n",
       "          + ' to learn more about interactive tables.';\n",
       "        element.innerHTML = '';\n",
       "        dataTable['output_type'] = 'display_data';\n",
       "        await google.colab.output.renderOutput(dataTable, element);\n",
       "        const docLink = document.createElement('div');\n",
       "        docLink.innerHTML = docLinkHtml;\n",
       "        element.appendChild(docLink);\n",
       "      }\n",
       "    </script>\n",
       "  </div>\n",
       "\n",
       "\n",
       "    <div id=\"df-9be233f3-d67c-4e68-bfba-7100c43cd602\">\n",
       "      <button class=\"colab-df-quickchart\" onclick=\"quickchart('df-9be233f3-d67c-4e68-bfba-7100c43cd602')\"\n",
       "                title=\"Suggest charts\"\n",
       "                style=\"display:none;\">\n",
       "\n",
       "<svg xmlns=\"http://www.w3.org/2000/svg\" height=\"24px\"viewBox=\"0 0 24 24\"\n",
       "     width=\"24px\">\n",
       "    <g>\n",
       "        <path d=\"M19 3H5c-1.1 0-2 .9-2 2v14c0 1.1.9 2 2 2h14c1.1 0 2-.9 2-2V5c0-1.1-.9-2-2-2zM9 17H7v-7h2v7zm4 0h-2V7h2v10zm4 0h-2v-4h2v4z\"/>\n",
       "    </g>\n",
       "</svg>\n",
       "      </button>\n",
       "\n",
       "<style>\n",
       "  .colab-df-quickchart {\n",
       "      --bg-color: #E8F0FE;\n",
       "      --fill-color: #1967D2;\n",
       "      --hover-bg-color: #E2EBFA;\n",
       "      --hover-fill-color: #174EA6;\n",
       "      --disabled-fill-color: #AAA;\n",
       "      --disabled-bg-color: #DDD;\n",
       "  }\n",
       "\n",
       "  [theme=dark] .colab-df-quickchart {\n",
       "      --bg-color: #3B4455;\n",
       "      --fill-color: #D2E3FC;\n",
       "      --hover-bg-color: #434B5C;\n",
       "      --hover-fill-color: #FFFFFF;\n",
       "      --disabled-bg-color: #3B4455;\n",
       "      --disabled-fill-color: #666;\n",
       "  }\n",
       "\n",
       "  .colab-df-quickchart {\n",
       "    background-color: var(--bg-color);\n",
       "    border: none;\n",
       "    border-radius: 50%;\n",
       "    cursor: pointer;\n",
       "    display: none;\n",
       "    fill: var(--fill-color);\n",
       "    height: 32px;\n",
       "    padding: 0;\n",
       "    width: 32px;\n",
       "  }\n",
       "\n",
       "  .colab-df-quickchart:hover {\n",
       "    background-color: var(--hover-bg-color);\n",
       "    box-shadow: 0 1px 2px rgba(60, 64, 67, 0.3), 0 1px 3px 1px rgba(60, 64, 67, 0.15);\n",
       "    fill: var(--button-hover-fill-color);\n",
       "  }\n",
       "\n",
       "  .colab-df-quickchart-complete:disabled,\n",
       "  .colab-df-quickchart-complete:disabled:hover {\n",
       "    background-color: var(--disabled-bg-color);\n",
       "    fill: var(--disabled-fill-color);\n",
       "    box-shadow: none;\n",
       "  }\n",
       "\n",
       "  .colab-df-spinner {\n",
       "    border: 2px solid var(--fill-color);\n",
       "    border-color: transparent;\n",
       "    border-bottom-color: var(--fill-color);\n",
       "    animation:\n",
       "      spin 1s steps(1) infinite;\n",
       "  }\n",
       "\n",
       "  @keyframes spin {\n",
       "    0% {\n",
       "      border-color: transparent;\n",
       "      border-bottom-color: var(--fill-color);\n",
       "      border-left-color: var(--fill-color);\n",
       "    }\n",
       "    20% {\n",
       "      border-color: transparent;\n",
       "      border-left-color: var(--fill-color);\n",
       "      border-top-color: var(--fill-color);\n",
       "    }\n",
       "    30% {\n",
       "      border-color: transparent;\n",
       "      border-left-color: var(--fill-color);\n",
       "      border-top-color: var(--fill-color);\n",
       "      border-right-color: var(--fill-color);\n",
       "    }\n",
       "    40% {\n",
       "      border-color: transparent;\n",
       "      border-right-color: var(--fill-color);\n",
       "      border-top-color: var(--fill-color);\n",
       "    }\n",
       "    60% {\n",
       "      border-color: transparent;\n",
       "      border-right-color: var(--fill-color);\n",
       "    }\n",
       "    80% {\n",
       "      border-color: transparent;\n",
       "      border-right-color: var(--fill-color);\n",
       "      border-bottom-color: var(--fill-color);\n",
       "    }\n",
       "    90% {\n",
       "      border-color: transparent;\n",
       "      border-bottom-color: var(--fill-color);\n",
       "    }\n",
       "  }\n",
       "</style>\n",
       "\n",
       "      <script>\n",
       "        async function quickchart(key) {\n",
       "          const quickchartButtonEl =\n",
       "            document.querySelector('#' + key + ' button');\n",
       "          quickchartButtonEl.disabled = true;  // To prevent multiple clicks.\n",
       "          quickchartButtonEl.classList.add('colab-df-spinner');\n",
       "          try {\n",
       "            const charts = await google.colab.kernel.invokeFunction(\n",
       "                'suggestCharts', [key], {});\n",
       "          } catch (error) {\n",
       "            console.error('Error during call to suggestCharts:', error);\n",
       "          }\n",
       "          quickchartButtonEl.classList.remove('colab-df-spinner');\n",
       "          quickchartButtonEl.classList.add('colab-df-quickchart-complete');\n",
       "        }\n",
       "        (() => {\n",
       "          let quickchartButtonEl =\n",
       "            document.querySelector('#df-9be233f3-d67c-4e68-bfba-7100c43cd602 button');\n",
       "          quickchartButtonEl.style.display =\n",
       "            google.colab.kernel.accessAllowed ? 'block' : 'none';\n",
       "        })();\n",
       "      </script>\n",
       "    </div>\n",
       "\n",
       "    </div>\n",
       "  </div>\n"
      ],
      "text/plain": [
       "       page_number  page_char_count  page_word_count  page_sentence_count_raw  \\\n",
       "count      1208.00          1208.00          1208.00                  1208.00   \n",
       "mean        562.50          1148.00           198.30                    14.18   \n",
       "std         348.86           560.38            95.76                     9.54   \n",
       "min         -41.00             0.00             1.00                     1.00   \n",
       "25%         260.75           762.00           134.00                     8.00   \n",
       "50%         562.50          1231.50           214.50                    13.00   \n",
       "75%         864.25          1603.50           271.00                    19.00   \n",
       "max        1166.00          2308.00           429.00                    82.00   \n",
       "\n",
       "       page_token_count  page_sentence_count_spacy  \n",
       "count           1208.00                    1208.00  \n",
       "mean             287.00                      10.32  \n",
       "std              140.10                       6.30  \n",
       "min                0.00                       0.00  \n",
       "25%              190.50                       5.00  \n",
       "50%              307.88                      10.00  \n",
       "75%              400.88                      15.00  \n",
       "max              577.00                      28.00  "
      ]
     },
     "execution_count": 12,
     "metadata": {},
     "output_type": "execute_result"
    }
   ],
   "source": [
    "df= pd.DataFrame(pages_and_text)\n",
    "df.describe().round(2)"
   ]
  },
  {
   "cell_type": "markdown",
   "metadata": {
    "id": "tJo2qm6pzZmE"
   },
   "source": [
    "### Chunking our sentences together\n",
    "\n",
    "The concept of splitting larger pieces of text into smaller ones is often referred to as text splitting or chunking.\n",
    "\n",
    "There is no 100% correct way to do this\n",
    "\n",
    "We'll keep it simple and splits into groups of 10 sentences.\n",
    "There are frameworks such as LangChain which can help with this https://python.langchain.com/docs/concepts/text_splitters/\n",
    "\n",
    "WHY WE DO THIS:\n",
    "1. So our texts are easier to filter(smaller groups are easier to inspect)\n",
    "2. So our text chunks can fit into our embedding model context window(e.g. 384 tokens as a limit)\n",
    "3. So our contexts passed to an LLM can be more specific and focused."
   ]
  },
  {
   "cell_type": "code",
   "execution_count": 13,
   "metadata": {
    "colab": {
     "base_uri": "https://localhost:8080/"
    },
    "executionInfo": {
     "elapsed": 32,
     "status": "ok",
     "timestamp": 1761384013771,
     "user": {
      "displayName": "Muskan Motwani",
      "userId": "03800385271669659981"
     },
     "user_tz": -330
    },
    "id": "BerVb8gHy-9T",
    "outputId": "f2070049-9c03-4505-b44f-5757e1ac1e4a"
   },
   "outputs": [
    {
     "data": {
      "text/plain": [
       "[[0, 1, 2, 3, 4, 5, 6, 7, 8, 9],\n",
       " [10, 11, 12, 13, 14, 15, 16, 17, 18, 19],\n",
       " [20, 21, 22, 23, 24]]"
      ]
     },
     "execution_count": 13,
     "metadata": {},
     "output_type": "execute_result"
    }
   ],
   "source": [
    "#Define split size to turn grpups of sentences into chunks\n",
    "\n",
    "num_sentence_chunk_size=10\n",
    "\n",
    "\n",
    "#Create a function to split lists of texts recursively into chunk size\n",
    "# e.g.- [20] -> [10,10] or [25] -> [10,10,5]\n",
    "\n",
    "def split_list(input_list: list[str],\n",
    "               split_size: int=num_sentence_chunk_size)-> list[list[str]]:\n",
    "               return [input_list[i:i+split_size] for i in range(0,len(input_list),split_size)]\n",
    "\n",
    "text_list=list(range(25))\n",
    "split_list(text_list)"
   ]
  },
  {
   "cell_type": "code",
   "execution_count": 14,
   "metadata": {
    "colab": {
     "base_uri": "https://localhost:8080/",
     "height": 49,
     "referenced_widgets": [
      "a985160ff66045be90d7197b54c45703",
      "0ae72f2655b14184a352b873a3be0703",
      "f63dd33716b94c7ca862ea874aa03877",
      "a3149088421e477382712b0619b6ad47",
      "44e242195b10445f92d3d42b5aab6e0b",
      "8a9b86824bf44a65888653617f00372e",
      "43a42b8b3d0d417da6c15b11b6f6c021",
      "b1eb8e769e40489cbce312d55a1cfbf9",
      "245bae25d55a4a8997f827d00589a001",
      "1fcfa28d1b544a19a9f3c90bec8fe1e5",
      "2334cf19d45c429e9f3649a8bcfc1578"
     ]
    },
    "executionInfo": {
     "elapsed": 6,
     "status": "ok",
     "timestamp": 1761384013783,
     "user": {
      "displayName": "Muskan Motwani",
      "userId": "03800385271669659981"
     },
     "user_tz": -330
    },
    "id": "KEY8kPJgzObX",
    "outputId": "8658b673-6dba-4693-bda8-1cd11a400225"
   },
   "outputs": [
    {
     "data": {
      "application/vnd.jupyter.widget-view+json": {
       "model_id": "a985160ff66045be90d7197b54c45703",
       "version_major": 2,
       "version_minor": 0
      },
      "text/plain": [
       "  0%|          | 0/1208 [00:00<?, ?it/s]"
      ]
     },
     "metadata": {},
     "output_type": "display_data"
    }
   ],
   "source": [
    "#Look through pages and text and split sentences into chunks\n",
    "for item in tqdm(pages_and_text):\n",
    "  item[\"sentence_chunks\"]=split_list(input_list=item[\"sentences\"],\n",
    "                                     split_size=num_sentence_chunk_size)\n",
    "  item[\"num_chunks\"]=len(item[\"sentence_chunks\"])"
   ]
  },
  {
   "cell_type": "code",
   "execution_count": 15,
   "metadata": {
    "colab": {
     "base_uri": "https://localhost:8080/"
    },
    "executionInfo": {
     "elapsed": 6,
     "status": "ok",
     "timestamp": 1761384013790,
     "user": {
      "displayName": "Muskan Motwani",
      "userId": "03800385271669659981"
     },
     "user_tz": -330
    },
    "id": "BtWC3o6F2VRz",
    "outputId": "835478c1-85c8-4fc3-b16b-ee5dd39bafef"
   },
   "outputs": [
    {
     "data": {
      "text/plain": [
       "[{'page_number': 303,\n",
       "  'page_char_count': 804,\n",
       "  'page_word_count': 148,\n",
       "  'page_sentence_count_raw': 7,\n",
       "  'page_token_count': 201.0,\n",
       "  'text': 'Tools for Change  There are many  sources of omega-3 foods.  It is important to strike a proper balance between  omega-3 and omega-6 fats in your diet. Research suggests  that a diet that is too high in omega-6 fats distorts the  balance of proinflammatory agents, promoting chronic  inflammation and causing the potential for health problems  such as asthma, arthritis, allergies, or diabetes. Omega-6  fats compete with omega-3 fats for enzymes and will  actually replace omega-3 fats. The typical western diet is  characterized by an excessive consumption of foods high in  omega-6 fatty acids. To gain proper balance between the  two, increase your omega-3 fat intake by eating more fatty  fish or other sources of omega-3 fatty acids at least two  times per week.  The Role of Lipids in Food  |  303',\n",
       "  'sentences': ['Tools for Change  There are many  sources of omega-3 foods.',\n",
       "   ' It is important to strike a proper balance between  omega-3 and omega-6 fats in your diet.',\n",
       "   'Research suggests  that a diet that is too high in omega-6 fats distorts the  balance of proinflammatory agents, promoting chronic  inflammation and causing the potential for health problems  such as asthma, arthritis, allergies, or diabetes.',\n",
       "   'Omega-6  fats compete with omega-3 fats for enzymes and will  actually replace omega-3 fats.',\n",
       "   'The typical western diet is  characterized by an excessive consumption of foods high in  omega-6 fatty acids.',\n",
       "   'To gain proper balance between the  two, increase your omega-3 fat intake by eating more fatty  fish or other sources of omega-3 fatty acids at least two  times per week.',\n",
       "   ' The Role of Lipids in Food  |  303'],\n",
       "  'page_sentence_count_spacy': 7,\n",
       "  'sentence_chunks': [['Tools for Change  There are many  sources of omega-3 foods.',\n",
       "    ' It is important to strike a proper balance between  omega-3 and omega-6 fats in your diet.',\n",
       "    'Research suggests  that a diet that is too high in omega-6 fats distorts the  balance of proinflammatory agents, promoting chronic  inflammation and causing the potential for health problems  such as asthma, arthritis, allergies, or diabetes.',\n",
       "    'Omega-6  fats compete with omega-3 fats for enzymes and will  actually replace omega-3 fats.',\n",
       "    'The typical western diet is  characterized by an excessive consumption of foods high in  omega-6 fatty acids.',\n",
       "    'To gain proper balance between the  two, increase your omega-3 fat intake by eating more fatty  fish or other sources of omega-3 fatty acids at least two  times per week.',\n",
       "    ' The Role of Lipids in Food  |  303']],\n",
       "  'num_chunks': 1}]"
      ]
     },
     "execution_count": 15,
     "metadata": {},
     "output_type": "execute_result"
    }
   ],
   "source": [
    "random.sample(pages_and_text,k=1)"
   ]
  },
  {
   "cell_type": "markdown",
   "metadata": {
    "id": "RQadbLskFCas"
   },
   "source": [
    "### Splitting each chunk into its own item\n",
    "\n",
    "each chunk of sentence -> its own numerical representation -> good level of granularity.\n",
    "\n"
   ]
  },
  {
   "cell_type": "code",
   "execution_count": 16,
   "metadata": {
    "colab": {
     "base_uri": "https://localhost:8080/",
     "height": 49,
     "referenced_widgets": [
      "424dccf9cb994341a696336733b85e4b",
      "8e8a4a29ff514d198296e59e1aa1f905",
      "95faccd63934447ba50b2164eb3ff83a",
      "2c1610e530044590baafb9fc9a5d9483",
      "ec1bdba66e644eddaa507f827346b2c4",
      "9b9fd5f34fea4a0b8cffc7d6f2263b26",
      "ed23cd39989a45989e4ffb1b99994d8d",
      "2bac45051fee4391b32b2f590cd2463a",
      "5aa5ae870ec4479b9ec27e636d216919",
      "b1ba575b4ec14c44ab224ad3832038b7",
      "5500218d20994bed87979c419fe822c2"
     ]
    },
    "executionInfo": {
     "elapsed": 77,
     "status": "ok",
     "timestamp": 1761384013868,
     "user": {
      "displayName": "Muskan Motwani",
      "userId": "03800385271669659981"
     },
     "user_tz": -330
    },
    "id": "GwGOcplY2hqH",
    "outputId": "a7299a25-0981-4c94-fde9-e5720fef9edc"
   },
   "outputs": [
    {
     "data": {
      "application/vnd.jupyter.widget-view+json": {
       "model_id": "424dccf9cb994341a696336733b85e4b",
       "version_major": 2,
       "version_minor": 0
      },
      "text/plain": [
       "  0%|          | 0/1208 [00:00<?, ?it/s]"
      ]
     },
     "metadata": {},
     "output_type": "display_data"
    }
   ],
   "source": [
    "import re\n",
    "\n",
    "#split each chunk into its own item\n",
    "pages_and_chunks=[]\n",
    "for item in tqdm(pages_and_text):\n",
    "  for sentence_chunk in item[\"sentence_chunks\"]:\n",
    "    chunk_dict={}\n",
    "    chunk_dict[\"page_number\"]=item[\"page_number\"]\n",
    "\n",
    "    #Join the sentences together into a paragraph- like structure, aka join the list of sentences into one paragraph\n",
    "    joined_sentence_chunk=\"\".join(sentence_chunk).replace(\"  \",\" \").strip()\n",
    "    joined_sentence_chunk= re.sub(r'\\.([A-Z])',r'. \\1', joined_sentence_chunk)\n",
    "    # print(joined_sentence_chunk)\n",
    "\n",
    "    # joined_sentence_chunk=\n",
    "    chunk_dict[\"sentence_chunk\"]=joined_sentence_chunk\n",
    "\n",
    "    # Get some stats on our chunks\n",
    "    chunk_dict[\"chunk_char_chount\"]=len(joined_sentence_chunk)\n",
    "    chunk_dict[\"chunk_word_count\"]=len([word for word in joined_sentence_chunk.split(\" \")])\n",
    "    chunk_dict[\"chunk_token_count\"]= len(joined_sentence_chunk)/4  # 1 token = 4 characters\n",
    "    pages_and_chunks.append(chunk_dict)\n"
   ]
  },
  {
   "cell_type": "code",
   "execution_count": 17,
   "metadata": {
    "executionInfo": {
     "elapsed": 1,
     "status": "ok",
     "timestamp": 1761384013871,
     "user": {
      "displayName": "Muskan Motwani",
      "userId": "03800385271669659981"
     },
     "user_tz": -330
    },
    "id": "aN4eQLv9JJRQ"
   },
   "outputs": [],
   "source": [
    "# hey=\"hey how are you?\"\n",
    "# len(hey)"
   ]
  },
  {
   "cell_type": "code",
   "execution_count": 18,
   "metadata": {
    "colab": {
     "base_uri": "https://localhost:8080/"
    },
    "executionInfo": {
     "elapsed": 17,
     "status": "ok",
     "timestamp": 1761384013889,
     "user": {
      "displayName": "Muskan Motwani",
      "userId": "03800385271669659981"
     },
     "user_tz": -330
    },
    "id": "_mmqxlxyIfxv",
    "outputId": "aec7889f-aea8-44d8-e29e-2d460895aaeb"
   },
   "outputs": [
    {
     "data": {
      "text/plain": [
       "1843"
      ]
     },
     "execution_count": 18,
     "metadata": {},
     "output_type": "execute_result"
    }
   ],
   "source": [
    "len(pages_and_chunks)"
   ]
  },
  {
   "cell_type": "code",
   "execution_count": 19,
   "metadata": {
    "colab": {
     "base_uri": "https://localhost:8080/"
    },
    "executionInfo": {
     "elapsed": 9,
     "status": "ok",
     "timestamp": 1761384013900,
     "user": {
      "displayName": "Muskan Motwani",
      "userId": "03800385271669659981"
     },
     "user_tz": -330
    },
    "id": "crwy0n5nIiul",
    "outputId": "0fca24c1-bd3d-4a39-9bf1-b182ee98020c"
   },
   "outputs": [
    {
     "data": {
      "text/plain": [
       "[{'page_number': 473,\n",
       "  'sentence_chunk': 'The CDC reports that in 2009 in the United States, 33 percent of adults and 16 percent of children were obese, a doubling and tripling of the numbers since 1980, respectively, while in Hawai‘i the obesity rate was 23.8% in 2016 with 40.8% of those individuals being Native Hawaiians.2 The health consequences of too much body fat are numerous, including increased risks for cardiovascular disease, Type 2 diabetes, and some cancers. The medical costs related to obesity are well over one hundred billion dollars and in Hawai‘i, over $470 million is spent annually.\\xa0 On the individual level, people who are obese spend $1,429 more per year for medical care than people of healthy weight. Numerous obesogenic agents that contribute to this immense public health problem have become a part of everyday life in American society. The fast food industry has been growing for decades and continues to grow despite the latest economic slump. In America today there are over twelve thousand McDonald’s restaurants, while in 1960 there was one. Food portions have been getting bigger since the 1960s, and in the 1990s North American society experienced the “super-size” marketing boom, which still endures. Between 1960 and 2000 more than 123 million vehicles were added to the American society. Escalators, elevators, and horizontal walkways now dominate shopping malls and office buildings, factory work has become increasingly mechanized and robotized, the typical American watches more than four hours of television daily, and in many work places the only tools required issues/2015/14_0559.htm. Published 2013.',\n",
       "  'chunk_char_chount': 1605,\n",
       "  'chunk_word_count': 251,\n",
       "  'chunk_token_count': 401.25}]"
      ]
     },
     "execution_count": 19,
     "metadata": {},
     "output_type": "execute_result"
    }
   ],
   "source": [
    "random.sample(pages_and_chunks,k=1)"
   ]
  },
  {
   "cell_type": "code",
   "execution_count": 20,
   "metadata": {
    "colab": {
     "base_uri": "https://localhost:8080/",
     "height": 300
    },
    "executionInfo": {
     "elapsed": 4,
     "status": "ok",
     "timestamp": 1761384013905,
     "user": {
      "displayName": "Muskan Motwani",
      "userId": "03800385271669659981"
     },
     "user_tz": -330
    },
    "id": "61Bkt0wTIuzp",
    "outputId": "16fa6a32-f03c-4382-bb2b-0983f16e50ac"
   },
   "outputs": [
    {
     "data": {
      "application/vnd.google.colaboratory.intrinsic+json": {
       "summary": "{\n  \"name\": \"df\",\n  \"rows\": 8,\n  \"fields\": [\n    {\n      \"column\": \"page_number\",\n      \"properties\": {\n        \"dtype\": \"number\",\n        \"std\": 589.7974185972065,\n        \"min\": -41.0,\n        \"max\": 1843.0,\n        \"num_unique_values\": 8,\n        \"samples\": [\n          583.38,\n          586.0,\n          1843.0\n        ],\n        \"semantic_type\": \"\",\n        \"description\": \"\"\n      }\n    },\n    {\n      \"column\": \"chunk_char_chount\",\n      \"properties\": {\n        \"dtype\": \"number\",\n        \"std\": 674.7972839940261,\n        \"min\": 12.0,\n        \"max\": 1843.0,\n        \"num_unique_values\": 8,\n        \"samples\": [\n          734.44,\n          746.0,\n          1843.0\n        ],\n        \"semantic_type\": \"\",\n        \"description\": \"\"\n      }\n    },\n    {\n      \"column\": \"chunk_word_count\",\n      \"properties\": {\n        \"dtype\": \"number\",\n        \"std\": 616.9738147936844,\n        \"min\": 3.0,\n        \"max\": 1843.0,\n        \"num_unique_values\": 8,\n        \"samples\": [\n          112.33,\n          114.0,\n          1843.0\n        ],\n        \"semantic_type\": \"\",\n        \"description\": \"\"\n      }\n    },\n    {\n      \"column\": \"chunk_token_count\",\n      \"properties\": {\n        \"dtype\": \"number\",\n        \"std\": 601.8910558517096,\n        \"min\": 3.0,\n        \"max\": 1843.0,\n        \"num_unique_values\": 8,\n        \"samples\": [\n          183.61,\n          186.5,\n          1843.0\n        ],\n        \"semantic_type\": \"\",\n        \"description\": \"\"\n      }\n    }\n  ]\n}",
       "type": "dataframe"
      },
      "text/html": [
       "\n",
       "  <div id=\"df-f6b2288d-ab41-49e0-9cd3-f81cf91ece06\" class=\"colab-df-container\">\n",
       "    <div>\n",
       "<style scoped>\n",
       "    .dataframe tbody tr th:only-of-type {\n",
       "        vertical-align: middle;\n",
       "    }\n",
       "\n",
       "    .dataframe tbody tr th {\n",
       "        vertical-align: top;\n",
       "    }\n",
       "\n",
       "    .dataframe thead th {\n",
       "        text-align: right;\n",
       "    }\n",
       "</style>\n",
       "<table border=\"1\" class=\"dataframe\">\n",
       "  <thead>\n",
       "    <tr style=\"text-align: right;\">\n",
       "      <th></th>\n",
       "      <th>page_number</th>\n",
       "      <th>chunk_char_chount</th>\n",
       "      <th>chunk_word_count</th>\n",
       "      <th>chunk_token_count</th>\n",
       "    </tr>\n",
       "  </thead>\n",
       "  <tbody>\n",
       "    <tr>\n",
       "      <th>count</th>\n",
       "      <td>1843.00</td>\n",
       "      <td>1843.00</td>\n",
       "      <td>1843.00</td>\n",
       "      <td>1843.00</td>\n",
       "    </tr>\n",
       "    <tr>\n",
       "      <th>mean</th>\n",
       "      <td>583.38</td>\n",
       "      <td>734.44</td>\n",
       "      <td>112.33</td>\n",
       "      <td>183.61</td>\n",
       "    </tr>\n",
       "    <tr>\n",
       "      <th>std</th>\n",
       "      <td>347.79</td>\n",
       "      <td>447.54</td>\n",
       "      <td>71.22</td>\n",
       "      <td>111.89</td>\n",
       "    </tr>\n",
       "    <tr>\n",
       "      <th>min</th>\n",
       "      <td>-41.00</td>\n",
       "      <td>12.00</td>\n",
       "      <td>3.00</td>\n",
       "      <td>3.00</td>\n",
       "    </tr>\n",
       "    <tr>\n",
       "      <th>25%</th>\n",
       "      <td>280.50</td>\n",
       "      <td>315.00</td>\n",
       "      <td>44.00</td>\n",
       "      <td>78.75</td>\n",
       "    </tr>\n",
       "    <tr>\n",
       "      <th>50%</th>\n",
       "      <td>586.00</td>\n",
       "      <td>746.00</td>\n",
       "      <td>114.00</td>\n",
       "      <td>186.50</td>\n",
       "    </tr>\n",
       "    <tr>\n",
       "      <th>75%</th>\n",
       "      <td>890.00</td>\n",
       "      <td>1118.50</td>\n",
       "      <td>173.00</td>\n",
       "      <td>279.62</td>\n",
       "    </tr>\n",
       "    <tr>\n",
       "      <th>max</th>\n",
       "      <td>1166.00</td>\n",
       "      <td>1831.00</td>\n",
       "      <td>297.00</td>\n",
       "      <td>457.75</td>\n",
       "    </tr>\n",
       "  </tbody>\n",
       "</table>\n",
       "</div>\n",
       "    <div class=\"colab-df-buttons\">\n",
       "\n",
       "  <div class=\"colab-df-container\">\n",
       "    <button class=\"colab-df-convert\" onclick=\"convertToInteractive('df-f6b2288d-ab41-49e0-9cd3-f81cf91ece06')\"\n",
       "            title=\"Convert this dataframe to an interactive table.\"\n",
       "            style=\"display:none;\">\n",
       "\n",
       "  <svg xmlns=\"http://www.w3.org/2000/svg\" height=\"24px\" viewBox=\"0 -960 960 960\">\n",
       "    <path d=\"M120-120v-720h720v720H120Zm60-500h600v-160H180v160Zm220 220h160v-160H400v160Zm0 220h160v-160H400v160ZM180-400h160v-160H180v160Zm440 0h160v-160H620v160ZM180-180h160v-160H180v160Zm440 0h160v-160H620v160Z\"/>\n",
       "  </svg>\n",
       "    </button>\n",
       "\n",
       "  <style>\n",
       "    .colab-df-container {\n",
       "      display:flex;\n",
       "      gap: 12px;\n",
       "    }\n",
       "\n",
       "    .colab-df-convert {\n",
       "      background-color: #E8F0FE;\n",
       "      border: none;\n",
       "      border-radius: 50%;\n",
       "      cursor: pointer;\n",
       "      display: none;\n",
       "      fill: #1967D2;\n",
       "      height: 32px;\n",
       "      padding: 0 0 0 0;\n",
       "      width: 32px;\n",
       "    }\n",
       "\n",
       "    .colab-df-convert:hover {\n",
       "      background-color: #E2EBFA;\n",
       "      box-shadow: 0px 1px 2px rgba(60, 64, 67, 0.3), 0px 1px 3px 1px rgba(60, 64, 67, 0.15);\n",
       "      fill: #174EA6;\n",
       "    }\n",
       "\n",
       "    .colab-df-buttons div {\n",
       "      margin-bottom: 4px;\n",
       "    }\n",
       "\n",
       "    [theme=dark] .colab-df-convert {\n",
       "      background-color: #3B4455;\n",
       "      fill: #D2E3FC;\n",
       "    }\n",
       "\n",
       "    [theme=dark] .colab-df-convert:hover {\n",
       "      background-color: #434B5C;\n",
       "      box-shadow: 0px 1px 3px 1px rgba(0, 0, 0, 0.15);\n",
       "      filter: drop-shadow(0px 1px 2px rgba(0, 0, 0, 0.3));\n",
       "      fill: #FFFFFF;\n",
       "    }\n",
       "  </style>\n",
       "\n",
       "    <script>\n",
       "      const buttonEl =\n",
       "        document.querySelector('#df-f6b2288d-ab41-49e0-9cd3-f81cf91ece06 button.colab-df-convert');\n",
       "      buttonEl.style.display =\n",
       "        google.colab.kernel.accessAllowed ? 'block' : 'none';\n",
       "\n",
       "      async function convertToInteractive(key) {\n",
       "        const element = document.querySelector('#df-f6b2288d-ab41-49e0-9cd3-f81cf91ece06');\n",
       "        const dataTable =\n",
       "          await google.colab.kernel.invokeFunction('convertToInteractive',\n",
       "                                                    [key], {});\n",
       "        if (!dataTable) return;\n",
       "\n",
       "        const docLinkHtml = 'Like what you see? Visit the ' +\n",
       "          '<a target=\"_blank\" href=https://colab.research.google.com/notebooks/data_table.ipynb>data table notebook</a>'\n",
       "          + ' to learn more about interactive tables.';\n",
       "        element.innerHTML = '';\n",
       "        dataTable['output_type'] = 'display_data';\n",
       "        await google.colab.output.renderOutput(dataTable, element);\n",
       "        const docLink = document.createElement('div');\n",
       "        docLink.innerHTML = docLinkHtml;\n",
       "        element.appendChild(docLink);\n",
       "      }\n",
       "    </script>\n",
       "  </div>\n",
       "\n",
       "\n",
       "    <div id=\"df-e16c2975-4cad-4949-9f80-3ad5c90dd47c\">\n",
       "      <button class=\"colab-df-quickchart\" onclick=\"quickchart('df-e16c2975-4cad-4949-9f80-3ad5c90dd47c')\"\n",
       "                title=\"Suggest charts\"\n",
       "                style=\"display:none;\">\n",
       "\n",
       "<svg xmlns=\"http://www.w3.org/2000/svg\" height=\"24px\"viewBox=\"0 0 24 24\"\n",
       "     width=\"24px\">\n",
       "    <g>\n",
       "        <path d=\"M19 3H5c-1.1 0-2 .9-2 2v14c0 1.1.9 2 2 2h14c1.1 0 2-.9 2-2V5c0-1.1-.9-2-2-2zM9 17H7v-7h2v7zm4 0h-2V7h2v10zm4 0h-2v-4h2v4z\"/>\n",
       "    </g>\n",
       "</svg>\n",
       "      </button>\n",
       "\n",
       "<style>\n",
       "  .colab-df-quickchart {\n",
       "      --bg-color: #E8F0FE;\n",
       "      --fill-color: #1967D2;\n",
       "      --hover-bg-color: #E2EBFA;\n",
       "      --hover-fill-color: #174EA6;\n",
       "      --disabled-fill-color: #AAA;\n",
       "      --disabled-bg-color: #DDD;\n",
       "  }\n",
       "\n",
       "  [theme=dark] .colab-df-quickchart {\n",
       "      --bg-color: #3B4455;\n",
       "      --fill-color: #D2E3FC;\n",
       "      --hover-bg-color: #434B5C;\n",
       "      --hover-fill-color: #FFFFFF;\n",
       "      --disabled-bg-color: #3B4455;\n",
       "      --disabled-fill-color: #666;\n",
       "  }\n",
       "\n",
       "  .colab-df-quickchart {\n",
       "    background-color: var(--bg-color);\n",
       "    border: none;\n",
       "    border-radius: 50%;\n",
       "    cursor: pointer;\n",
       "    display: none;\n",
       "    fill: var(--fill-color);\n",
       "    height: 32px;\n",
       "    padding: 0;\n",
       "    width: 32px;\n",
       "  }\n",
       "\n",
       "  .colab-df-quickchart:hover {\n",
       "    background-color: var(--hover-bg-color);\n",
       "    box-shadow: 0 1px 2px rgba(60, 64, 67, 0.3), 0 1px 3px 1px rgba(60, 64, 67, 0.15);\n",
       "    fill: var(--button-hover-fill-color);\n",
       "  }\n",
       "\n",
       "  .colab-df-quickchart-complete:disabled,\n",
       "  .colab-df-quickchart-complete:disabled:hover {\n",
       "    background-color: var(--disabled-bg-color);\n",
       "    fill: var(--disabled-fill-color);\n",
       "    box-shadow: none;\n",
       "  }\n",
       "\n",
       "  .colab-df-spinner {\n",
       "    border: 2px solid var(--fill-color);\n",
       "    border-color: transparent;\n",
       "    border-bottom-color: var(--fill-color);\n",
       "    animation:\n",
       "      spin 1s steps(1) infinite;\n",
       "  }\n",
       "\n",
       "  @keyframes spin {\n",
       "    0% {\n",
       "      border-color: transparent;\n",
       "      border-bottom-color: var(--fill-color);\n",
       "      border-left-color: var(--fill-color);\n",
       "    }\n",
       "    20% {\n",
       "      border-color: transparent;\n",
       "      border-left-color: var(--fill-color);\n",
       "      border-top-color: var(--fill-color);\n",
       "    }\n",
       "    30% {\n",
       "      border-color: transparent;\n",
       "      border-left-color: var(--fill-color);\n",
       "      border-top-color: var(--fill-color);\n",
       "      border-right-color: var(--fill-color);\n",
       "    }\n",
       "    40% {\n",
       "      border-color: transparent;\n",
       "      border-right-color: var(--fill-color);\n",
       "      border-top-color: var(--fill-color);\n",
       "    }\n",
       "    60% {\n",
       "      border-color: transparent;\n",
       "      border-right-color: var(--fill-color);\n",
       "    }\n",
       "    80% {\n",
       "      border-color: transparent;\n",
       "      border-right-color: var(--fill-color);\n",
       "      border-bottom-color: var(--fill-color);\n",
       "    }\n",
       "    90% {\n",
       "      border-color: transparent;\n",
       "      border-bottom-color: var(--fill-color);\n",
       "    }\n",
       "  }\n",
       "</style>\n",
       "\n",
       "      <script>\n",
       "        async function quickchart(key) {\n",
       "          const quickchartButtonEl =\n",
       "            document.querySelector('#' + key + ' button');\n",
       "          quickchartButtonEl.disabled = true;  // To prevent multiple clicks.\n",
       "          quickchartButtonEl.classList.add('colab-df-spinner');\n",
       "          try {\n",
       "            const charts = await google.colab.kernel.invokeFunction(\n",
       "                'suggestCharts', [key], {});\n",
       "          } catch (error) {\n",
       "            console.error('Error during call to suggestCharts:', error);\n",
       "          }\n",
       "          quickchartButtonEl.classList.remove('colab-df-spinner');\n",
       "          quickchartButtonEl.classList.add('colab-df-quickchart-complete');\n",
       "        }\n",
       "        (() => {\n",
       "          let quickchartButtonEl =\n",
       "            document.querySelector('#df-e16c2975-4cad-4949-9f80-3ad5c90dd47c button');\n",
       "          quickchartButtonEl.style.display =\n",
       "            google.colab.kernel.accessAllowed ? 'block' : 'none';\n",
       "        })();\n",
       "      </script>\n",
       "    </div>\n",
       "\n",
       "    </div>\n",
       "  </div>\n"
      ],
      "text/plain": [
       "       page_number  chunk_char_chount  chunk_word_count  chunk_token_count\n",
       "count      1843.00            1843.00           1843.00            1843.00\n",
       "mean        583.38             734.44            112.33             183.61\n",
       "std         347.79             447.54             71.22             111.89\n",
       "min         -41.00              12.00              3.00               3.00\n",
       "25%         280.50             315.00             44.00              78.75\n",
       "50%         586.00             746.00            114.00             186.50\n",
       "75%         890.00            1118.50            173.00             279.62\n",
       "max        1166.00            1831.00            297.00             457.75"
      ]
     },
     "execution_count": 20,
     "metadata": {},
     "output_type": "execute_result"
    }
   ],
   "source": [
    "df=pd.DataFrame(pages_and_chunks)\n",
    "df.describe().round(2)"
   ]
  },
  {
   "cell_type": "code",
   "execution_count": 21,
   "metadata": {
    "colab": {
     "base_uri": "https://localhost:8080/"
    },
    "executionInfo": {
     "elapsed": 4,
     "status": "ok",
     "timestamp": 1761384013916,
     "user": {
      "displayName": "Muskan Motwani",
      "userId": "03800385271669659981"
     },
     "user_tz": -330
    },
    "id": "J6QbjrfoL-Xs",
    "outputId": "53a38553-5160-42e0-9fdf-ae814bd94de3"
   },
   "outputs": [
    {
     "data": {
      "text/plain": [
       "73"
      ]
     },
     "execution_count": 21,
     "metadata": {},
     "output_type": "execute_result"
    }
   ],
   "source": [
    "457-384"
   ]
  },
  {
   "cell_type": "markdown",
   "metadata": {
    "id": "t-p7HOAHMwku"
   },
   "source": [
    "Filter chunks of text for short chunks\n",
    "\n",
    "These chunks may not contain much useful information"
   ]
  },
  {
   "cell_type": "code",
   "execution_count": 22,
   "metadata": {
    "colab": {
     "base_uri": "https://localhost:8080/"
    },
    "executionInfo": {
     "elapsed": 7,
     "status": "ok",
     "timestamp": 1761384013931,
     "user": {
      "displayName": "Muskan Motwani",
      "userId": "03800385271669659981"
     },
     "user_tz": -330
    },
    "id": "k5Hjqyx9ME0p",
    "outputId": "0fd72183-4aeb-4f25-eb3c-2efeaf9b14e2"
   },
   "outputs": [
    {
     "name": "stdout",
     "output_type": "stream",
     "text": [
      "chunk token count: 3.25 | text : 828 | Infancy\n",
      "chunk token count: 17.75 | text : Table 6.1 Essential and Nonessential Amino Acids Defining Protein | 365\n",
      "chunk token count: 29.0 | text : 2010). EH. Net Encyclopedia. http://eh.net/?s=History+of+Food+and+Drug+Regulatio Protecting the Public Health | 1011\n",
      "chunk token count: 11.75 | text : Accessed April 15, 2018. 1046 | Comparing Diets\n",
      "chunk token count: 24.75 | text : http://www.ajcn.org/content/87/1/64.long. Accessed September 22, 2017. 554 | Water-Soluble Vitamins\n"
     ]
    }
   ],
   "source": [
    "#Show random chunks with under 30 tokens in length\n",
    "min_token_length=30\n",
    "for row in df[df[\"chunk_token_count\"]<=min_token_length].sample(5).iterrows():\n",
    "  print(f'chunk token count: {row[1][\"chunk_token_count\"]} | text : {row[1][\"sentence_chunk\"]}')"
   ]
  },
  {
   "cell_type": "code",
   "execution_count": 23,
   "metadata": {
    "colab": {
     "base_uri": "https://localhost:8080/"
    },
    "executionInfo": {
     "elapsed": 6,
     "status": "ok",
     "timestamp": 1761384013938,
     "user": {
      "displayName": "Muskan Motwani",
      "userId": "03800385271669659981"
     },
     "user_tz": -330
    },
    "id": "I4JPHra3M8Er",
    "outputId": "fa789d42-5c10-448f-b140-d026abd60e3a"
   },
   "outputs": [
    {
     "data": {
      "text/plain": [
       "[{'page_number': -39,\n",
       "  'sentence_chunk': 'Human Nutrition: 2020 Edition UNIVERSITY OF HAWAI‘I AT MĀNOA FOOD SCIENCE AND HUMAN NUTRITION PROGRAM ALAN TITCHENAL, SKYLAR HARA, NOEMI ARCEO CAACBAY, WILLIAM MEINKE-LAU, YA-YUN YANG, MARIE KAINOA FIALKOWSKI REVILLA, JENNIFER DRAPER, GEMADY LANGFELDER, CHERYL GIBBY, CHYNA NICOLE CHUN, AND ALLISON CALABRESE',\n",
       "  'chunk_char_chount': 308,\n",
       "  'chunk_word_count': 42,\n",
       "  'chunk_token_count': 77.0},\n",
       " {'page_number': -38,\n",
       "  'sentence_chunk': 'Human Nutrition: 2020 Edition by University of Hawai‘i at Mānoa Food Science and Human Nutrition Program is licensed under a Creative Commons Attribution 4.0 International License, except where otherwise noted.',\n",
       "  'chunk_char_chount': 210,\n",
       "  'chunk_word_count': 30,\n",
       "  'chunk_token_count': 52.5}]"
      ]
     },
     "execution_count": 23,
     "metadata": {},
     "output_type": "execute_result"
    }
   ],
   "source": [
    "#Filter our Dataframe for rows with under 30 tokens\n",
    "pages_and_chunks_over_min_token_len=df[df[\"chunk_token_count\"]> min_token_length].to_dict(orient=\"records\")\n",
    "pages_and_chunks_over_min_token_len[:2]"
   ]
  },
  {
   "cell_type": "code",
   "execution_count": 24,
   "metadata": {
    "colab": {
     "base_uri": "https://localhost:8080/"
    },
    "executionInfo": {
     "elapsed": 4,
     "status": "ok",
     "timestamp": 1761384013943,
     "user": {
      "displayName": "Muskan Motwani",
      "userId": "03800385271669659981"
     },
     "user_tz": -330
    },
    "id": "BZOvSfU3QGnu",
    "outputId": "b19744be-a4ce-4454-9dd3-3e145f32a2f4"
   },
   "outputs": [
    {
     "data": {
      "text/plain": [
       "[{'page_number': 812,\n",
       "  'sentence_chunk': 'duration rates across the United States. La Leche League is an international program that provides mother-to-mother support, encouragement, and education about breastfeeding for women around the world. For more information on La Leche League, visit http://www.llli.org. The state coalition, Breastfeeding Hawai‘i, provides a list of local and national resources: https://bfhawaii.org/ index.php/lactation-support/. Although breastfeeding should be recommended and encouraged for almost all new mothers, it is important to remember that the decision to breastfeed is a personal choice and women should not be made to feel guilty if they cannot, or choose not, to breastfeed their infants. In some rare cases, a woman is unable to breastfeed or it is not in the baby’s best interest, for example if the baby has galactosemia, an inborn error of metabolism. Nutritional choices that parents make, such as the decision to breastfeed or bottle-feed, not only affect early childhood development, but also a child’s health and wellness later in life. Therefore, it is imperative to promote and support the best practices for the well-being of infants and mothers alike. 812 | Infancy',\n",
       "  'chunk_char_chount': 1176,\n",
       "  'chunk_word_count': 178,\n",
       "  'chunk_token_count': 294.0}]"
      ]
     },
     "execution_count": 24,
     "metadata": {},
     "output_type": "execute_result"
    }
   ],
   "source": [
    "random.sample(pages_and_chunks_over_min_token_len,k=1)"
   ]
  },
  {
   "cell_type": "markdown",
   "metadata": {
    "id": "LvNErItNRFqQ"
   },
   "source": [
    "### Embedding out Text Chunks\n",
    " Embeddings are a powerful concept.\n",
    " Machine understands numbers\n",
    " text chunks -> numbers ,\n",
    "\n",
    " A useful numerical representation.\n",
    " Best part -> embeddings are *learned* representations.\n",
    "\n",
    " ...\n",
    " {\"the\":0,\n",
    " \"a\":1,\n",
    " ...}\n",
    "\n",
    " https://vickiboykis.com/what_are_embeddings/"
   ]
  },
  {
   "cell_type": "code",
   "execution_count": 25,
   "metadata": {
    "colab": {
     "base_uri": "https://localhost:8080/",
     "height": 1000,
     "referenced_widgets": [
      "baaea43dbab74d3ca8be1ecd4c141732",
      "bc967439246345f9bfec4af773fc4a65",
      "9d78f9ecaab54782bdf756c0589cf34a",
      "e8bff318350440eeb34934767a00c286",
      "cd7f757a6a3a417e83b9519db04b44ef",
      "807390fbab5b461e9bba29a6b71f2e1d",
      "7ba7bad3533b4ea7b53e63655c87300b",
      "95963a8b4fd7450ea04d24f895887a66",
      "5e915485aef04096895cf26af3a811a6",
      "6ad788e62c2444418f9dc8f65b754fd6",
      "636a75b66d0c4088808aa3279a75c39d",
      "f0531a018029449982a2e225eeb1b8af",
      "13299de20649480e86c9b215e6fb35ef",
      "711da57e16ed4f57b29b40ffc8bc43f7",
      "899e2188228f4d46bb5300c021a4b7b9",
      "813864cdc1db4a2dba833a4c4f066acb",
      "d062721f23b64bc08c4f3a7c0d1f1c06",
      "bf46e50a0e8f4bb7b99159d446f5292f",
      "b049d1b3ae14412fbdd26c2c7975079c",
      "cfda34c8a87d45cd9081e305ca6a1764",
      "7f4aaf7cea2447c5a9db3ba52db1d6fe",
      "0cae17b5661b46268cd5ff7f8e220685",
      "d8347e7f19ec48c4b2a32f0ff0aa683e",
      "746235c0ddd3475f95180bfb4a116110",
      "a49102d407de46d8bdc809d491180d25",
      "b838ee9f66534e90b435c6a9f93e8c06",
      "4a2f5368a569489088a5fda2b5fd8224",
      "4a73526a60eb45f2b40dde0a7777b229",
      "8714546d268345b7960a249bdd22dc21",
      "200f84fdd13e49b7a4832b829496e9d8",
      "4bef9ba300f74ba0ad76e74d27fff6dd",
      "21ba52710bef4f23b613326030e5ca3f",
      "d52471611a424194b6d846f16a425360",
      "c12683e0febd4ee7b80e7d3dfc298106",
      "914ce5bb16cf430183fbd74d6fb6612b",
      "83f530dca8ce4e75a4b91c93ea19400a",
      "d11fd52230ae4f3c97362a61580995ee",
      "3e63a60a85df423ca971c76b639d5170",
      "ed29048b9db14128a1c2dbb7bce27e4f",
      "fcfedb152b7b4b0b902ccf12052c2988",
      "66020de674ed4ab7b3afe1e52b9804b4",
      "510672bbb48c4019b6dd9154a6eb8964",
      "399910550c154d18ab8526c86b173a54",
      "aef8d8fa7ee741e5aa201f48d0c74ee1",
      "7e9958f299b540bab2ef0350f4bbe88a",
      "1350fc436c75456b82a206dfc774ea8e",
      "8d36c792b7d34c7680844b51dd2425d6",
      "ade6a8dfec9849afaec624f40b0e352e",
      "3c01e77bdf20466a901f5ae01daf7f32",
      "b1833d482ab24883ba678e91d8ad02ec",
      "96827dc2509341688009b991e906ce99",
      "93c528e7a16849f2b53ed799f2fdafda",
      "1778fb771cb24e94b4cac3f8da747536",
      "7ce92455e3664f2bbc6c5493eecc66e3",
      "221ca1a2243242f2bf3e14945e50e69b",
      "66a68fc06a1248a29dbdf734ba648f63",
      "95d12ec0d83847bf8359eba07825ad1c",
      "ebad33f36e404e2fa1bef2aa01888ab7",
      "4ca41a342e634d869ff46c01219609ec",
      "8d97fea635ab4d53b71b02002ac43ac6",
      "f3c19d083941448e899acf8824e2c36a",
      "175c813f3db2449fbae1e35c053cd928",
      "962e1b17708b47b5b4c7bfe489c1c087",
      "557ec3f33ce94c0ebcf7373fd7e7874e",
      "465a4ee0734b497dac471fd610a54637",
      "c8612e268f7645b9abdf92cfc435593c",
      "3a6a81c48d3f409587d37c627881db9f",
      "118b543466554d588db7a0a0e296434f",
      "ea2c59d46a2545b3a0979bb1aa190f82",
      "6d7c6aad26b84fccb6dabd5533283c6f",
      "ac46b7e77ed946799f2694562f7d48b3",
      "21b2e295503441e3b3fddc4b2632e395",
      "27ee03e2462d455793636b4179a4ae80",
      "3ed48c2d5f104dd48d7c11d7b1cd389f",
      "09fcabbc0e1643229379a6c3201b1050",
      "7a8a42588c144e20aac488fc398aa044",
      "71973a84d694467f8387dfd2077abca7",
      "b1c1ca2027454e9696c58e54a78f5b7f",
      "83ca1233c183491988356c89ae19535c",
      "aaf2a3195f0e40a2b2c5c9c94e230b0f",
      "d951f14bf0cd49f28eb24035513c3111",
      "e1d86634b346469cb9846b4a7b44cec1",
      "5d422dcbbb7b4ae980d45de3dc48da8e",
      "fa55677b266d4812b274969c00f77c73",
      "dac02c1c5a2643abb2d28f11dbeea968",
      "48868ce16edf4221921a92133de86a72",
      "6464143e060842608a2b5bde68852b73",
      "f927e6de611a4299b8392bc3ed92bbcc",
      "467935b284004db0b49824be2ffa55d4",
      "a6bfd739bfb842fbb83eb28f3201c16e",
      "b63d1fdace3a4cf3a422dff389319062",
      "f5483816fdbd4b2c8415d7bd77043855",
      "019ec0c969f149eab18b684522bdc4ed",
      "5ea3809e9d3c4d7791a6826efc273159",
      "45b1f728aaba40b19ba22a349e3e3302",
      "f4622408b00f4a03a0e7625372865375",
      "b7eabf13e0b84b159140ad5afd1b7dec",
      "81122b29e16b470ea1528be87cb89d95",
      "0899da4010444a1f8ed097cc3b151300",
      "3f7b34bf1a8d40d5a00bd9e669f6e405",
      "5039518995724d0682eb49235e69a1b6",
      "fa994bfbf65c40b586bb4f1a467b8792",
      "5e538febf8b34875b20366ef1f9f01dc",
      "671328c2cd264a3f8316bb15aa14f963",
      "5a3dbbd2a2e14efb8423f9a021a0224a",
      "f8448bd4f2cb45b4b8483bde147c7e31",
      "8b7fedded9ac4991a8502e6fa20e26bb",
      "8ce7212365cb4c6fa3bb4d16405f0644",
      "c89163d210fd467f9f78b3049f5697c0",
      "b198d213e1db4b9ba099b810075c0e8e",
      "e289c332468a4ce99ab774ba7a463f36",
      "3cfa9040c1ed4541a89d841b4afc8930",
      "b3eb3d4e5ef3485682ad891edfedb6f8",
      "5d0a25569fb1426d99349d95de050eeb",
      "0fc1598b1dbd499199cb8726ba6cd49a",
      "d0a30f18ac05458b8c4776f8a5613680",
      "7bb94fdb517d478d8c4495ce07464a97",
      "f824fddaeece435c96bcf896d88c5325",
      "2a20e801067a4cf3a7539f19f224d9cd",
      "b6b6a9c62e1c433ba2413338ed355ca4",
      "dc6d094509f94729a47ad1a78182a9aa"
     ]
    },
    "executionInfo": {
     "elapsed": 23194,
     "status": "ok",
     "timestamp": 1761384037144,
     "user": {
      "displayName": "Muskan Motwani",
      "userId": "03800385271669659981"
     },
     "user_tz": -330
    },
    "id": "IxWFPgIyQL4x",
    "outputId": "5afe8e28-292a-4c78-ad84-02185dce8685"
   },
   "outputs": [
    {
     "name": "stderr",
     "output_type": "stream",
     "text": [
      "/usr/local/lib/python3.12/dist-packages/huggingface_hub/utils/_auth.py:94: UserWarning: \n",
      "The secret `HF_TOKEN` does not exist in your Colab secrets.\n",
      "To authenticate with the Hugging Face Hub, create a token in your settings tab (https://huggingface.co/settings/tokens), set it as secret in your Google Colab and restart your session.\n",
      "You will be able to reuse this secret in all of your notebooks.\n",
      "Please note that authentication is recommended but still optional to access public models or datasets.\n",
      "  warnings.warn(\n"
     ]
    },
    {
     "data": {
      "application/vnd.jupyter.widget-view+json": {
       "model_id": "baaea43dbab74d3ca8be1ecd4c141732",
       "version_major": 2,
       "version_minor": 0
      },
      "text/plain": [
       "modules.json:   0%|          | 0.00/349 [00:00<?, ?B/s]"
      ]
     },
     "metadata": {},
     "output_type": "display_data"
    },
    {
     "data": {
      "application/vnd.jupyter.widget-view+json": {
       "model_id": "f0531a018029449982a2e225eeb1b8af",
       "version_major": 2,
       "version_minor": 0
      },
      "text/plain": [
       "config_sentence_transformers.json:   0%|          | 0.00/116 [00:00<?, ?B/s]"
      ]
     },
     "metadata": {},
     "output_type": "display_data"
    },
    {
     "data": {
      "application/vnd.jupyter.widget-view+json": {
       "model_id": "d8347e7f19ec48c4b2a32f0ff0aa683e",
       "version_major": 2,
       "version_minor": 0
      },
      "text/plain": [
       "README.md: 0.00B [00:00, ?B/s]"
      ]
     },
     "metadata": {},
     "output_type": "display_data"
    },
    {
     "data": {
      "application/vnd.jupyter.widget-view+json": {
       "model_id": "c12683e0febd4ee7b80e7d3dfc298106",
       "version_major": 2,
       "version_minor": 0
      },
      "text/plain": [
       "sentence_bert_config.json:   0%|          | 0.00/53.0 [00:00<?, ?B/s]"
      ]
     },
     "metadata": {},
     "output_type": "display_data"
    },
    {
     "data": {
      "application/vnd.jupyter.widget-view+json": {
       "model_id": "7e9958f299b540bab2ef0350f4bbe88a",
       "version_major": 2,
       "version_minor": 0
      },
      "text/plain": [
       "config.json:   0%|          | 0.00/571 [00:00<?, ?B/s]"
      ]
     },
     "metadata": {},
     "output_type": "display_data"
    },
    {
     "data": {
      "application/vnd.jupyter.widget-view+json": {
       "model_id": "66a68fc06a1248a29dbdf734ba648f63",
       "version_major": 2,
       "version_minor": 0
      },
      "text/plain": [
       "model.safetensors:   0%|          | 0.00/438M [00:00<?, ?B/s]"
      ]
     },
     "metadata": {},
     "output_type": "display_data"
    },
    {
     "data": {
      "application/vnd.jupyter.widget-view+json": {
       "model_id": "3a6a81c48d3f409587d37c627881db9f",
       "version_major": 2,
       "version_minor": 0
      },
      "text/plain": [
       "tokenizer_config.json:   0%|          | 0.00/363 [00:00<?, ?B/s]"
      ]
     },
     "metadata": {},
     "output_type": "display_data"
    },
    {
     "data": {
      "application/vnd.jupyter.widget-view+json": {
       "model_id": "b1c1ca2027454e9696c58e54a78f5b7f",
       "version_major": 2,
       "version_minor": 0
      },
      "text/plain": [
       "vocab.txt: 0.00B [00:00, ?B/s]"
      ]
     },
     "metadata": {},
     "output_type": "display_data"
    },
    {
     "data": {
      "application/vnd.jupyter.widget-view+json": {
       "model_id": "467935b284004db0b49824be2ffa55d4",
       "version_major": 2,
       "version_minor": 0
      },
      "text/plain": [
       "tokenizer.json: 0.00B [00:00, ?B/s]"
      ]
     },
     "metadata": {},
     "output_type": "display_data"
    },
    {
     "data": {
      "application/vnd.jupyter.widget-view+json": {
       "model_id": "3f7b34bf1a8d40d5a00bd9e669f6e405",
       "version_major": 2,
       "version_minor": 0
      },
      "text/plain": [
       "special_tokens_map.json:   0%|          | 0.00/239 [00:00<?, ?B/s]"
      ]
     },
     "metadata": {},
     "output_type": "display_data"
    },
    {
     "data": {
      "application/vnd.jupyter.widget-view+json": {
       "model_id": "e289c332468a4ce99ab774ba7a463f36",
       "version_major": 2,
       "version_minor": 0
      },
      "text/plain": [
       "config.json:   0%|          | 0.00/190 [00:00<?, ?B/s]"
      ]
     },
     "metadata": {},
     "output_type": "display_data"
    },
    {
     "name": "stdout",
     "output_type": "stream",
     "text": [
      "(3, 768)\n",
      " Sentence:  Hey everyone My name is muskan and I am pursuing Master's in AI\n",
      " Embedding: [ 2.84770783e-02  1.94112137e-02 -5.11290431e-02  1.94660909e-02\n",
      "  5.96002936e-02 -2.16224361e-02  3.29924673e-02 -1.37970755e-02\n",
      "  8.21515266e-03 -2.73991539e-03  3.76399383e-02  9.66601633e-03\n",
      " -1.05519942e-03  7.05568641e-02  3.61313485e-02 -4.43465710e-02\n",
      "  5.75506464e-02 -2.79346295e-02  3.45404516e-03 -4.58190180e-02\n",
      " -2.14776620e-02  1.00932093e-02 -6.30272552e-02  3.08812177e-03\n",
      " -2.84736720e-03 -5.14094643e-02 -1.99105416e-04 -6.66215434e-04\n",
      "  2.64175814e-02  3.78837772e-02  8.81159119e-03 -7.61162043e-02\n",
      " -1.45298121e-02  4.82573509e-02  1.89462469e-06 -3.56392153e-02\n",
      "  1.29763624e-02  2.46622805e-02 -3.08278259e-02 -3.41099910e-02\n",
      "  3.61462384e-02  4.53045256e-02  1.51467770e-02  4.25282344e-02\n",
      " -1.59142986e-02  7.14700222e-02  3.26582044e-02  2.34695394e-02\n",
      "  1.19987214e-02  4.58968990e-02  7.20946165e-03 -1.87088493e-02\n",
      "  7.21726865e-02 -1.54117392e-02 -1.62307348e-03 -5.68176918e-02\n",
      "  3.13467756e-02 -4.87841229e-04 -3.49318273e-02  1.25221126e-02\n",
      "  1.05282827e-03  6.44018641e-03 -2.49170791e-02 -6.07147056e-04\n",
      "  4.54320870e-02  9.02423561e-02  5.48302904e-02 -5.99506125e-02\n",
      " -1.23391654e-02  2.88107600e-02  1.84277538e-02 -3.72608826e-02\n",
      "  1.01445168e-02  1.05519127e-02 -4.30713734e-03 -1.66608915e-02\n",
      " -2.22018640e-02  3.52974050e-02 -1.78357121e-02 -3.88667844e-02\n",
      " -9.88491345e-03 -4.01533209e-03 -1.68946795e-02  5.00428975e-02\n",
      " -2.49178261e-02  7.45902359e-02  1.50438836e-02 -1.64418519e-02\n",
      "  2.99175140e-02 -8.42212960e-02 -2.86438596e-03 -1.68336537e-02\n",
      "  4.00127694e-02  2.22652946e-02 -6.15198128e-02 -6.10611551e-02\n",
      "  2.81514749e-02 -6.99306503e-02 -4.43208292e-02  5.08433301e-03\n",
      " -1.08207865e-02  8.98438971e-03  5.41116670e-02  3.25636268e-02\n",
      "  1.20944930e-02  5.58928549e-02  3.20696575e-03  2.63541471e-02\n",
      " -4.12778705e-02 -2.68496573e-02 -4.32286970e-02 -3.18730483e-03\n",
      " -2.68366933e-02  2.32646000e-02  2.45018229e-02  1.80112943e-02\n",
      " -4.59691957e-02  1.82308014e-02 -7.96389766e-03 -1.45112751e-02\n",
      " -6.41106889e-02 -1.47674186e-02 -2.25408524e-02  1.27127487e-02\n",
      " -5.75399883e-02 -2.01768018e-02 -4.38641757e-02  4.19314727e-02\n",
      "  1.70974452e-02 -1.71380211e-02  8.94992333e-03  2.56631859e-02\n",
      " -2.30778195e-02 -4.74452339e-02  3.28077301e-02  4.93560955e-02\n",
      " -7.37091992e-03  3.56721096e-02  1.32948989e-02 -1.43245596e-03\n",
      "  4.23471779e-02 -6.54482618e-02  3.20923105e-02  2.32319422e-02\n",
      "  2.33759135e-02 -1.49138635e-02 -1.56519618e-02 -4.09740496e-05\n",
      " -2.79294737e-02 -1.99546665e-02  1.26827750e-02  1.60854999e-02\n",
      " -4.40924056e-02 -7.77333649e-03  3.62095311e-02  1.04345232e-02\n",
      "  4.41737063e-02 -5.48876151e-02 -2.38061510e-02  4.93695699e-02\n",
      "  1.06272409e-02  1.51801780e-02  5.18249311e-02  7.71244569e-03\n",
      "  7.12320395e-03 -3.84706482e-02  8.81128013e-02  1.04902722e-02\n",
      " -6.88154250e-02  1.91797819e-02 -6.09216746e-03  2.45800279e-02\n",
      "  2.10494660e-02  1.97910890e-02 -2.56181117e-02 -6.27229037e-03\n",
      "  3.26442346e-02  6.24270998e-02  2.78234971e-03 -9.44470707e-03\n",
      " -4.17139195e-02 -8.15583840e-02  5.12569286e-02  6.22586124e-02\n",
      "  1.27172759e-02  3.54481349e-03 -2.78208032e-03  4.90294583e-02\n",
      " -1.51180485e-02 -1.66905131e-02  1.83845852e-02 -2.30604075e-02\n",
      " -9.17305797e-02  5.40233776e-02  1.61578562e-02 -5.12970472e-03\n",
      " -1.11373877e-02 -3.13789174e-02  6.60511106e-03 -1.75004452e-02\n",
      " -5.41799255e-02 -3.28543186e-02  6.56275684e-03 -4.51976582e-02\n",
      " -4.60172538e-04 -3.77406031e-02 -2.99600065e-02 -7.75930285e-02\n",
      "  1.62313543e-02 -3.32654156e-02  3.57233658e-02 -3.98971103e-02\n",
      "  5.23244925e-02 -2.86507942e-02 -3.15233483e-03  3.48118655e-02\n",
      " -6.56881928e-03  2.23756339e-02  1.43648423e-02  2.07540914e-02\n",
      "  1.41101303e-02  1.62009597e-02  2.85718236e-02 -1.14300719e-03\n",
      " -3.03771924e-02  9.10080504e-03  6.09837659e-02 -3.00988965e-02\n",
      "  6.49176463e-02  4.74094264e-02 -8.14884994e-03  2.47879582e-03\n",
      "  3.81537192e-02 -5.48642536e-04 -1.62273031e-02  3.23113166e-02\n",
      "  3.04634385e-02  3.89881129e-03  9.73334257e-03 -6.20185696e-02\n",
      "  1.69253517e-02  7.13846385e-02  3.11416648e-02 -4.16424684e-02\n",
      "  3.82725298e-02 -2.89174784e-02 -3.79023398e-03  5.14275543e-02\n",
      "  4.45048464e-03 -1.25494543e-02  1.37245785e-02  4.12116274e-02\n",
      " -5.98089583e-03 -6.85370946e-03  2.02996805e-02  1.20236259e-02\n",
      " -6.06770590e-02  1.50638828e-02 -6.27705827e-02 -2.72499453e-02\n",
      "  1.21416785e-02 -4.82901745e-02 -8.43795948e-03  3.30483206e-02\n",
      "  2.86102928e-02  4.94178338e-03  1.59095135e-02 -4.56255227e-02\n",
      " -2.99462732e-02  2.05256622e-02 -6.64154859e-03  1.91962309e-02\n",
      "  3.35500464e-02 -1.12195509e-02 -1.56488840e-03  1.88911725e-02\n",
      "  4.89982255e-02 -9.86021291e-03 -6.02543131e-02  3.25675309e-02\n",
      "  4.44985293e-02  4.41081747e-02 -4.68242131e-02 -5.32253198e-02\n",
      " -5.68189584e-02 -2.86823213e-02  3.97452191e-02 -6.17135353e-02\n",
      " -7.80679844e-03  1.65602379e-02 -2.86252517e-02  2.55098175e-02\n",
      " -4.60234024e-02 -9.28957760e-03 -1.44178178e-02 -1.20821856e-02\n",
      "  9.91344638e-03  2.97714956e-02 -8.16673506e-03  4.88275550e-02\n",
      " -2.61754380e-03  1.13135502e-02  1.71543323e-02  4.68568429e-02\n",
      "  3.76062244e-02  2.42534559e-02  4.15076315e-02  6.07786281e-03\n",
      " -3.17745819e-03 -4.61124703e-02  1.67150963e-02 -1.71446800e-02\n",
      "  2.41549090e-02  2.43750326e-02  4.18176949e-02 -1.87656172e-02\n",
      " -8.03930778e-03  3.76732945e-02  9.68268421e-03  1.08858291e-02\n",
      "  7.66390655e-03  3.69169638e-02  5.48835918e-02  8.77983693e-04\n",
      " -1.42587433e-02 -3.46084964e-03 -6.81944266e-02  2.70615071e-02\n",
      " -2.21774802e-02 -3.98734324e-02  2.16953605e-02 -1.49753522e-02\n",
      " -1.79475769e-02 -2.05794740e-02 -1.94913764e-02 -4.91553247e-02\n",
      "  6.75982656e-03 -6.84663877e-02  1.24624772e-02  6.61221857e-04\n",
      " -5.96376229e-03  2.97382148e-03 -4.89896387e-02  2.02405620e-02\n",
      " -1.87670591e-03 -1.03938524e-02 -1.84300058e-02  7.87794404e-03\n",
      " -4.62357625e-02 -9.32720304e-03  7.23549649e-02 -5.54413088e-02\n",
      " -4.26101638e-03 -1.82651505e-02 -2.25597322e-02  8.15508515e-03\n",
      "  7.28398561e-02  1.38511322e-02 -1.93404313e-02 -1.12209832e-02\n",
      "  3.60973999e-02 -3.44987921e-02  2.88270470e-02  5.73762506e-02\n",
      " -2.58643106e-02 -1.43244052e-02  6.32524490e-02  5.46193728e-03\n",
      "  3.28084221e-03  2.09939084e-03 -1.10507919e-03  3.92635958e-03\n",
      " -1.74937602e-02  3.10307499e-02 -1.52119929e-02 -2.41148956e-02\n",
      " -1.71297304e-02  1.09748263e-02 -2.91222706e-02  7.79490732e-03\n",
      "  7.28333369e-02 -2.51568519e-02  1.04975458e-02 -6.53322740e-03\n",
      " -1.63578149e-03 -3.78348418e-02 -1.61414035e-02  2.11037491e-02\n",
      " -5.20528629e-02 -1.53416786e-02  8.33511911e-03 -8.50935876e-02\n",
      " -1.00137763e-01 -5.61109222e-02 -2.87796017e-02 -1.18405344e-02\n",
      " -6.99418131e-03  1.25212790e-02  1.17216408e-02  2.89214756e-02\n",
      "  1.06192473e-02  5.53365275e-02 -2.60680895e-02  1.77981481e-02\n",
      " -2.48709247e-02  5.80090135e-02  9.28103179e-02  3.71154100e-02\n",
      " -9.52552781e-02 -7.17564002e-02 -2.93097980e-02  2.86148433e-02\n",
      "  4.18730564e-02 -2.42703278e-02 -2.31464896e-02 -5.54606728e-02\n",
      "  3.85665242e-03 -7.46695548e-02  5.60711734e-02 -1.63819268e-02\n",
      "  2.01375857e-02  1.48102809e-02  3.66625935e-02 -2.99280346e-03\n",
      " -1.00838030e-02 -3.19436230e-02 -2.04833932e-02  4.60881703e-02\n",
      " -1.46271987e-02 -5.03562056e-02  4.32609348e-03  6.81732362e-03\n",
      " -2.39801910e-02  7.72835016e-02  1.65386982e-02 -7.15797069e-03\n",
      "  1.29960366e-02  1.28367366e-02 -1.57168601e-02 -1.88242365e-02\n",
      " -2.10003816e-02  5.25076455e-03  9.14432481e-02  1.99759100e-02\n",
      "  1.31565090e-02  4.56746221e-02  9.88643523e-03 -5.53751625e-02\n",
      " -3.25378068e-02 -2.99884602e-02  5.97394109e-02  1.07098455e-02\n",
      " -1.25148362e-02 -7.40631623e-03 -1.28605757e-02 -5.06687500e-02\n",
      " -2.51902230e-02 -1.17873391e-02 -1.16751427e-02 -9.23151057e-03\n",
      "  8.68092775e-02  2.51654238e-02  3.18006165e-02  2.25182697e-02\n",
      " -1.09456358e-02 -4.23401548e-03 -7.03177080e-02  2.81908712e-03\n",
      "  3.28317173e-02  1.88458781e-03 -4.42839600e-02  9.21495608e-04\n",
      " -4.10804674e-02 -2.32024863e-02  1.32732531e-02  3.69156003e-02\n",
      "  1.32493796e-02  1.21688424e-02 -3.32172168e-03  2.67008431e-02\n",
      "  1.11314692e-01  7.39990547e-03 -2.21550595e-02 -7.77463391e-02\n",
      " -2.80123223e-02  3.08572575e-02  3.12705934e-02  4.22567911e-02\n",
      " -1.18478881e-02 -6.10186253e-03  5.11440858e-02 -7.33113755e-03\n",
      "  1.63417310e-02 -9.06185359e-02  2.49655060e-02 -6.01856969e-02\n",
      "  1.26842195e-02  6.96740486e-03 -6.41442090e-02  9.98393744e-02\n",
      " -5.01300814e-03 -1.76517833e-02  9.59424581e-03  2.65778806e-02\n",
      "  4.18651700e-02  1.36120874e-03 -5.13060987e-02  3.07149570e-02\n",
      " -3.66328172e-02 -4.77744732e-03  2.30533648e-02  3.03644827e-03\n",
      " -3.79781947e-02 -3.26076932e-02  9.85316467e-03  4.60243002e-02\n",
      "  6.31599575e-02  2.47998890e-02  2.14540139e-02 -3.25983539e-02\n",
      "  7.83356354e-02 -2.10178532e-02  5.83553202e-02 -1.63803529e-02\n",
      " -2.57809702e-02  2.20101885e-02  3.18660587e-02 -1.70409568e-02\n",
      "  7.83548206e-02  1.84949618e-02 -3.92161012e-02  3.06512113e-03\n",
      " -4.93225455e-03  1.02461940e-02 -1.33953365e-02  5.17855771e-02\n",
      " -2.32913140e-02  7.28234872e-02  1.82845769e-03  6.81025609e-02\n",
      "  2.12004259e-02 -1.72715131e-02  1.37346499e-02  1.99271664e-02\n",
      "  4.28340957e-02 -2.71132607e-02  1.91768147e-02  7.25002168e-03\n",
      "  2.14680191e-02 -9.16244369e-03 -5.80458604e-02  1.11784153e-02\n",
      " -2.56101433e-02 -2.59748660e-02 -3.28877009e-02 -5.91606544e-33\n",
      " -3.17535922e-02  4.07203101e-03  2.93548629e-02  1.36147309e-02\n",
      " -7.74792284e-02 -8.80161300e-02  1.00846663e-02 -2.20254390e-03\n",
      " -1.69771817e-02 -1.86347123e-02 -2.98884083e-02  6.15825504e-02\n",
      "  2.63452753e-02  1.29607106e-02  4.19022068e-02  3.76372188e-02\n",
      "  3.19801606e-02  5.15326038e-02  2.55368967e-02  1.97336506e-02\n",
      " -6.58715367e-02  7.77334068e-03  2.65797824e-02 -3.97015363e-02\n",
      " -1.94247700e-02 -3.02831400e-02 -2.41542980e-02 -2.52151731e-02\n",
      " -7.20456168e-02 -2.04432532e-02 -1.14905145e-02  2.75016706e-02\n",
      " -1.87616423e-03  5.65361790e-02 -2.96877651e-03 -3.38263996e-02\n",
      " -1.23446342e-02 -2.81042941e-02 -1.89640801e-02  3.31503525e-02\n",
      "  7.01550627e-03 -5.59200794e-02  1.64490249e-02 -4.31869887e-02\n",
      " -2.86939163e-02  3.62516977e-02  5.79255894e-02  4.68074754e-02\n",
      "  5.00432774e-02 -1.15272729e-02 -4.88949940e-02  1.80895790e-06\n",
      " -8.27702954e-02  2.09102407e-02 -4.18874100e-02  1.83569491e-02\n",
      "  2.38008238e-02 -4.46780622e-02 -1.82364639e-02  1.49833430e-02\n",
      "  1.82448153e-03  4.95269150e-03  8.90002586e-03 -2.59161890e-02\n",
      "  2.85767429e-02  1.00092515e-02  6.15322366e-02  3.56146395e-02\n",
      "  4.06891070e-02  2.05349270e-03 -2.89490353e-02  6.23975620e-02\n",
      " -1.96495019e-02 -1.72056409e-03 -4.66886722e-02 -1.12725832e-01\n",
      " -5.13779446e-02 -2.29058973e-03  3.36523503e-02  2.19830759e-02\n",
      " -3.34766358e-02  1.28909629e-02 -5.98466881e-02 -5.46095986e-03\n",
      "  5.65164424e-02 -5.97603098e-02 -1.98181719e-02 -9.38805100e-03\n",
      "  2.13669669e-02 -2.48131137e-02  9.28579271e-03 -1.36272972e-02\n",
      " -2.68035121e-02 -3.92102785e-02  6.18747771e-02 -6.78940043e-02\n",
      "  9.48865246e-03 -5.67890471e-03 -2.74222549e-02  4.91896793e-02\n",
      " -1.32101178e-02 -1.06400969e-02 -4.93313558e-02 -1.01906713e-02\n",
      "  9.00482088e-02  2.56939624e-02 -2.94751562e-02 -6.87419297e-03\n",
      " -1.85560826e-02 -6.23365529e-02 -9.69820004e-03 -1.72152203e-02\n",
      "  6.11826740e-02 -1.84964817e-02 -8.42014700e-03  2.73427609e-02\n",
      "  1.50703052e-02 -2.29083728e-02 -3.22310440e-02 -1.46906720e-02\n",
      " -5.21494038e-02 -6.39566034e-02 -1.42868776e-02 -1.02928309e-02\n",
      " -4.80268486e-02 -1.04257027e-02 -4.15482521e-02 -5.95562626e-04\n",
      "  1.70450881e-02 -6.17135279e-02 -3.25009525e-02  1.94588536e-03\n",
      "  2.54055550e-07 -4.28409949e-02  6.70049861e-02  2.05624243e-03\n",
      "  3.38644460e-02 -3.30493897e-02  6.29453547e-03 -2.60073431e-02\n",
      "  3.62850465e-02 -3.64807174e-02  7.94508085e-02 -1.79484636e-02\n",
      " -1.85473934e-02 -3.44031081e-02 -3.76088135e-02 -5.96355610e-02\n",
      " -2.72804555e-02 -2.36420124e-03  9.45173204e-03 -2.13523745e-03\n",
      "  9.57924034e-03  3.44017078e-03  5.18476665e-02  4.10033017e-02\n",
      " -7.82754179e-03 -5.38602879e-04 -7.40184039e-02 -4.29081097e-02\n",
      "  3.15233767e-02  5.16847931e-02  4.98632602e-02  5.41302450e-02\n",
      " -2.63274438e-03  8.17098888e-04 -5.99256717e-04  3.68464068e-02\n",
      " -4.63223606e-02  5.22540845e-02  4.79120538e-02 -1.33301830e-02\n",
      "  4.25033420e-02 -1.23148840e-02  5.12948185e-02  1.63046923e-03\n",
      " -4.30715270e-03  4.60121110e-02  5.32643013e-02 -4.21990901e-02\n",
      " -8.38069171e-02  4.13693041e-02  1.08985719e-03 -3.20755765e-02\n",
      "  1.89118832e-02  5.05797751e-02 -1.81917530e-02 -6.94525521e-03\n",
      " -1.84736364e-02  3.89363393e-02  4.80900984e-04  3.24110799e-02\n",
      " -2.12995876e-02 -4.60896976e-02 -6.86470568e-02  1.82188302e-02\n",
      " -9.25548375e-03  6.28808290e-02 -7.29164947e-03 -1.45912943e-02\n",
      "  1.78410414e-34 -2.17638761e-02  3.40772495e-02 -5.54091390e-03\n",
      "  7.51110837e-02  1.89744011e-02 -4.68753166e-02 -6.84328899e-02\n",
      "  2.45030243e-02  2.50267261e-03  2.06292830e-02 -8.72481838e-02]\n",
      "\n",
      " Sentence: My research work is centered around Video Summarization\n",
      " Embedding: [ 4.03231010e-02 -1.01614036e-02 -8.60049017e-03 -8.19402467e-03\n",
      "  2.64815018e-02 -2.16178037e-02  6.62037134e-02 -5.77421300e-03\n",
      " -6.54935837e-02 -5.08531965e-02  7.15906546e-02 -9.24508553e-03\n",
      " -2.93434430e-02  5.92783540e-02  3.51218022e-02 -1.14527263e-01\n",
      "  5.13480045e-04 -1.45109734e-02  6.64071925e-03 -2.18580049e-02\n",
      "  4.62008491e-02 -4.65166420e-02 -7.61380070e-04 -3.69858034e-02\n",
      " -6.73783049e-02 -1.10954996e-02 -4.17476753e-03 -1.30275441e-02\n",
      "  5.36773577e-02 -1.14889173e-02 -1.24372803e-02  1.62130371e-02\n",
      "  2.31892765e-02  7.37067265e-03  1.56714907e-06 -2.07634661e-02\n",
      " -2.93522682e-02 -2.45345403e-02  6.44642115e-02  3.25619914e-02\n",
      "  5.88381812e-02 -8.80474318e-03 -3.10964091e-03  4.57066437e-03\n",
      " -6.08546007e-03  4.25288640e-02  7.61570781e-02 -3.51200141e-02\n",
      "  2.65366789e-02 -6.83646463e-03 -2.68513579e-02 -7.92140216e-02\n",
      " -1.82523334e-03 -1.43807731e-03 -3.77059542e-02  6.13964312e-02\n",
      " -3.42367776e-02  3.36721316e-02  3.53317931e-02 -3.14618237e-02\n",
      " -7.29700411e-03  3.68195958e-02 -1.33467978e-02  4.05405369e-03\n",
      "  5.20502627e-02  4.87203151e-02 -5.43497168e-02 -1.09655946e-01\n",
      "  1.05974982e-02  4.74895239e-02  3.20711955e-02  2.95183863e-02\n",
      " -2.98061944e-03  6.70339465e-02 -3.67446546e-03  5.70798479e-02\n",
      " -7.70586580e-02  6.11320585e-02  1.69473123e-02  1.25921862e-02\n",
      " -6.36514649e-02  4.68859859e-02 -6.93707094e-02 -3.76122966e-02\n",
      "  4.98434827e-02 -5.25356196e-02  4.47116494e-02  9.36827715e-03\n",
      " -5.72877303e-02 -4.19844911e-02  1.63627099e-02 -2.20280048e-02\n",
      "  3.20558809e-02  2.80982605e-03  4.78831418e-02 -3.03369965e-02\n",
      "  1.84317809e-02 -3.16312127e-02 -1.42871598e-02 -4.42618085e-03\n",
      "  2.48523131e-02 -2.07418483e-02  2.98589468e-03  4.14401852e-02\n",
      "  1.05192391e-02 -1.40955513e-02 -3.00182104e-02 -2.52890587e-03\n",
      " -1.70182425e-03  1.00616599e-02 -7.13462979e-02  2.47505158e-02\n",
      "  2.09384840e-02  1.68585591e-02 -2.92096995e-02 -3.27723450e-03\n",
      " -1.87414270e-02  6.25677826e-03 -1.40833212e-02  2.89464965e-02\n",
      " -5.29802367e-02  5.39139062e-02 -1.31012416e-02  3.74813750e-03\n",
      "  2.70516686e-02  4.60381359e-02 -3.78315188e-02 -2.10883673e-02\n",
      " -2.97250081e-04 -2.64447927e-02  3.75162661e-02 -5.09792706e-03\n",
      "  3.45748179e-02  1.05590262e-02  2.14750282e-02 -1.97731741e-02\n",
      " -5.56840375e-02 -4.70296964e-02 -1.79079324e-02  1.93357598e-02\n",
      "  3.91231530e-04  2.64425986e-02  1.29947523e-02 -5.83207645e-02\n",
      "  2.49962974e-03  1.25994114e-03 -1.76389385e-02  4.55057062e-02\n",
      " -1.22046471e-02 -1.61562208e-02 -4.13100198e-02  7.03536496e-02\n",
      " -1.45332310e-02  7.41897477e-03  2.98358928e-02  2.42464039e-02\n",
      "  8.59981850e-02  1.16776414e-02 -5.64780794e-02  4.10032943e-02\n",
      "  5.55349849e-02  5.81682622e-02  3.44199315e-02  1.62220709e-02\n",
      " -1.06672853e-01  1.38648581e-02 -2.08054855e-02  2.81639583e-02\n",
      " -5.12140319e-02 -3.11316433e-03 -2.22221799e-02  4.71113063e-02\n",
      " -2.64196172e-02  2.49960721e-02  3.26961353e-02  4.44679521e-02\n",
      " -3.17682475e-02 -5.01919165e-02 -2.30300836e-02  3.16075422e-02\n",
      "  6.52916590e-03 -5.38480170e-02  4.78364974e-02  1.17320888e-01\n",
      "  4.73099947e-02  5.07310480e-02  6.31311815e-03  5.81091344e-02\n",
      " -7.71999583e-02 -1.81086641e-02 -2.66265683e-02 -2.30877213e-02\n",
      " -2.79881973e-02  2.83265151e-02 -7.37204798e-04 -1.99703816e-02\n",
      " -1.58950277e-02 -4.81644422e-02 -5.06277867e-02 -7.14931265e-02\n",
      "  3.74029800e-02  4.91933245e-03 -2.61657536e-02  3.77578810e-02\n",
      " -3.41417491e-02 -4.00667526e-02  2.27727164e-02 -4.85461839e-02\n",
      "  2.60657296e-02  1.65873375e-02  6.30638655e-03 -9.36647505e-03\n",
      " -1.09903477e-02 -3.77333276e-02  1.02963494e-02 -3.95351388e-02\n",
      "  5.18968282e-03  1.46477176e-02 -2.94213835e-02  8.55602622e-02\n",
      " -2.92984280e-03  1.04347384e-02 -2.11465526e-02 -2.42003463e-02\n",
      "  2.74641607e-02  1.07391942e-02 -2.02253833e-02 -1.43486783e-02\n",
      "  2.00741272e-02  7.22954571e-02 -2.87695583e-02  8.72226898e-03\n",
      "  2.27873102e-02  2.59999428e-02  1.28579987e-02  4.92436476e-02\n",
      "  5.81886098e-02 -3.91749712e-03  2.67766938e-02 -1.50861695e-01\n",
      " -7.95229152e-03  3.24223675e-02 -2.17723940e-02  3.74354310e-02\n",
      "  6.64176792e-03  1.80485044e-02 -1.61149520e-02 -1.32233826e-02\n",
      "  4.74620871e-02  6.34531770e-03 -1.63119957e-02  6.06938824e-03\n",
      "  7.09725835e-04  1.41064581e-02 -2.61299871e-03  3.06221861e-02\n",
      " -5.97837195e-02  1.14544556e-02 -4.76173088e-02 -3.32518620e-03\n",
      " -1.83046870e-02 -3.44094373e-02 -1.04316669e-02 -2.10180366e-03\n",
      " -2.38805395e-02 -2.42685918e-02  4.57633696e-02 -1.83770731e-02\n",
      " -3.64377499e-02  3.88040114e-03 -2.67511271e-02 -2.74567325e-02\n",
      "  7.06330827e-03 -5.74220810e-03 -2.65962742e-02  1.81502034e-03\n",
      " -6.85998127e-02 -2.15862747e-02  1.66246165e-02 -5.63449040e-03\n",
      "  1.09029040e-02  3.91380116e-02 -7.38253370e-02 -2.07303185e-02\n",
      "  3.31070386e-02  1.86814591e-02  1.59989540e-02 -5.56809567e-02\n",
      "  3.76493204e-04  3.55875259e-03  2.33948603e-02  2.14981567e-02\n",
      "  8.36328696e-03 -4.58409488e-02 -1.77536793e-02  6.49844855e-02\n",
      " -1.55563829e-02 -1.14264525e-02 -2.37222202e-02  1.29697863e-02\n",
      "  3.60740237e-02 -2.37902943e-02  5.39330281e-02  3.46074603e-03\n",
      " -2.15463620e-02 -5.16875938e-04  4.60039042e-02 -4.06401046e-02\n",
      "  8.53009708e-03 -7.03229606e-02  4.97675836e-02  5.35599375e-03\n",
      "  2.16937959e-02  2.49751303e-02 -2.25364114e-04  3.15810628e-02\n",
      "  3.53926700e-03 -1.71039514e-02  3.73431370e-02  2.95755174e-02\n",
      "  1.76920532e-03 -1.96812558e-03  2.42678802e-02  9.88372043e-03\n",
      " -1.90708451e-02  1.42034853e-03 -1.00509888e-02 -3.30872461e-02\n",
      "  1.40552118e-03 -1.09292911e-02  6.78281067e-03 -1.01338839e-02\n",
      " -1.21328402e-02 -3.37879434e-02 -3.75876836e-02  6.47336915e-02\n",
      " -8.27745255e-03  1.75675582e-02 -9.86767933e-03 -4.63928543e-02\n",
      " -1.04878740e-02  2.65585259e-02 -2.58841831e-02  2.19152495e-03\n",
      "  4.84875083e-04 -1.97468605e-02  5.97722232e-02  7.01809973e-02\n",
      " -5.47106899e-02  4.85910513e-02  7.35567138e-02  8.97180364e-02\n",
      "  1.18846875e-02  9.33402870e-03 -5.55969914e-03  5.92578426e-02\n",
      "  2.39740759e-02 -2.97764502e-02 -2.54811887e-02 -4.20687832e-02\n",
      "  3.99293602e-02 -4.23267782e-02  1.69871580e-02 -1.22223804e-02\n",
      " -5.29532321e-02  2.71458887e-02  3.96614000e-02 -4.87511568e-02\n",
      " -6.83657546e-03  1.85586829e-02  3.15390229e-02  2.56524328e-02\n",
      "  2.41057668e-02  4.04913425e-02  1.64198689e-02 -4.63276431e-02\n",
      " -1.12482058e-02 -2.51759100e-03 -1.01166956e-01  1.98075585e-02\n",
      "  2.71775406e-02  2.74555776e-02  5.09047844e-02 -2.94166040e-02\n",
      " -3.31465038e-03  9.92550980e-03 -7.94869789e-04 -1.15268417e-02\n",
      " -1.63373705e-02  8.07584599e-02  9.36090853e-03 -3.90463020e-03\n",
      "  7.32456381e-03 -3.83243039e-02  8.63467529e-03 -3.16588208e-02\n",
      " -2.05959324e-02  1.68592297e-02 -2.23288182e-02  5.66716678e-03\n",
      "  1.65620428e-02 -1.05931759e-01 -5.04030921e-02 -5.30700050e-02\n",
      " -4.04993258e-02 -3.91624384e-02  4.57624197e-02  3.18754390e-02\n",
      " -6.21299222e-02  9.74582322e-03 -8.60459581e-02 -2.45164856e-02\n",
      "  3.66986208e-02  5.52558200e-03  3.90575156e-02 -6.75291866e-02\n",
      "  2.83931685e-03  3.98794888e-03  4.40914072e-02  1.74967982e-02\n",
      " -1.91964526e-02  2.56173573e-02  5.67468908e-03  1.28177262e-03\n",
      "  3.05816028e-02 -6.15307800e-02  2.00319365e-02 -8.54262710e-03\n",
      "  2.79101692e-02 -2.66762525e-02  1.03673944e-02  5.40131442e-02\n",
      "  7.98724517e-02  4.72417427e-03 -2.12501269e-02 -9.68140550e-03\n",
      " -6.58970401e-02 -1.50832050e-02  4.05296125e-02 -3.94165739e-02\n",
      "  3.71521339e-02  2.15558931e-02  7.37251807e-03 -2.10078247e-02\n",
      "  3.98572125e-02  1.83520596e-02  2.28180457e-02 -9.75931287e-02\n",
      " -1.07480185e-02  5.81929684e-02 -3.77594978e-02 -1.24564604e-03\n",
      " -2.96545345e-02  4.56075072e-02 -9.23025655e-04  4.72066738e-03\n",
      " -4.33354899e-02  1.05087424e-03  9.86237265e-03 -6.47472590e-02\n",
      "  9.02155638e-02  3.07928603e-02  6.83111027e-02  6.89766034e-02\n",
      "  3.39439921e-02 -1.62302684e-02  6.23480184e-03  5.47296219e-02\n",
      "  7.67977675e-04 -5.49978726e-02 -1.13860266e-02 -2.11436357e-02\n",
      " -4.16065641e-02 -2.67286636e-02  1.95560716e-02  4.45037568e-03\n",
      " -9.11245681e-03 -4.91155796e-02 -4.46178280e-02 -3.74435149e-02\n",
      " -3.26012820e-02  3.16191874e-02 -4.24101986e-02 -4.88840900e-02\n",
      " -1.30075328e-02 -1.28371874e-02 -1.18608857e-02  1.92968566e-02\n",
      " -4.14604768e-02  2.40054466e-02  6.55056350e-03  1.01119967e-03\n",
      " -1.24258399e-02  4.52331118e-02 -4.38884720e-02 -4.84507792e-02\n",
      " -2.66136210e-02  2.39636488e-02 -7.16452897e-02 -2.90716030e-02\n",
      " -5.34224585e-02 -5.83674526e-03  2.37695500e-02 -3.14260200e-02\n",
      " -4.16981578e-02 -9.25038569e-03  9.96579230e-03  1.39798401e-02\n",
      " -1.36394724e-02  4.20084782e-02  2.19076369e-02  3.26064713e-02\n",
      "  1.41650373e-02  2.06644479e-02 -5.18208370e-02 -5.52796805e-03\n",
      "  4.48222272e-02 -7.37491250e-02 -2.22795494e-02 -6.86294213e-03\n",
      "  6.01936840e-02 -2.17059366e-02  7.48709738e-02  1.42233158e-02\n",
      " -2.74722632e-02 -2.21397486e-02  6.73806947e-03  1.18358685e-02\n",
      "  3.71614397e-02  6.82314113e-02 -1.13522429e-02 -8.61363932e-02\n",
      " -2.31363308e-02  1.52362287e-02  1.47161270e-02  4.29388098e-02\n",
      " -3.45829092e-02  8.76291934e-03 -2.64306515e-02  3.39465626e-02\n",
      " -1.53936464e-02 -2.20310166e-02  1.52899409e-02 -2.00772528e-02\n",
      "  1.33961812e-02  2.12818123e-02  3.21587212e-02 -2.53638644e-02\n",
      "  3.58437672e-02  2.38428749e-02  1.18575031e-02 -6.27937838e-02\n",
      " -4.58971262e-02 -1.63746346e-03  5.66451885e-02 -5.78322429e-33\n",
      "  1.49422931e-03 -9.05902032e-03 -1.95268746e-02  3.35241221e-02\n",
      " -4.42014337e-02 -1.36853848e-02  1.14247799e-02  3.13825975e-03\n",
      "  6.35320507e-03 -3.36791985e-02  1.61662269e-02  1.31877046e-02\n",
      "  2.93611530e-02  2.58852374e-02  7.54840160e-03  4.59715649e-02\n",
      "  2.27950737e-02  1.19038671e-02  4.77615278e-03 -4.15239185e-02\n",
      " -5.85136451e-02 -1.91837307e-02 -4.04535010e-02 -4.70713042e-02\n",
      " -5.89392893e-02 -1.90030336e-02  1.56083063e-03 -4.80960049e-02\n",
      "  7.06224963e-02  1.70456376e-02 -7.83244055e-03 -2.73315404e-02\n",
      " -1.13528529e-02 -5.72814681e-02 -1.40884332e-03 -4.25152713e-03\n",
      " -4.00305055e-02  2.88035870e-02  3.49369906e-02 -1.86594222e-02\n",
      " -1.93034969e-02 -2.55700853e-02  2.82568764e-02 -4.24587913e-02\n",
      "  1.49640534e-02 -3.93579528e-03  6.37312680e-02 -2.80410945e-02\n",
      " -2.27042139e-02  9.91859660e-03 -5.61937094e-02 -4.03845962e-03\n",
      " -5.56771271e-02  1.93300787e-02  5.13478592e-02 -1.89863108e-02\n",
      " -1.45762637e-02 -1.04290850e-01 -1.03628505e-02  4.99212183e-03\n",
      " -1.12711759e-02  2.30608489e-02  1.06932446e-01 -2.57959217e-02\n",
      "  3.74536007e-03  5.08151092e-02 -7.53495749e-03  1.80540595e-03\n",
      "  2.86912620e-02 -4.02014405e-02  9.41392686e-03  7.69305974e-02\n",
      "  3.38579603e-02  2.34847758e-02 -2.24106782e-03  1.61691066e-02\n",
      "  9.07159969e-03  1.04900158e-03 -8.35893862e-03  1.51061928e-02\n",
      "  5.85075887e-03  4.52198740e-03  8.27385038e-02 -8.96409713e-03\n",
      " -3.29541159e-03  7.19506061e-03 -2.56072246e-02 -3.41977030e-02\n",
      " -1.67523138e-02  1.88724848e-03  2.03545466e-02  2.35792231e-02\n",
      "  6.66706031e-03  2.75106691e-02  1.14546247e-01  4.50248411e-03\n",
      "  5.24724694e-03  8.47316310e-02  2.33421777e-03 -5.66647272e-04\n",
      " -1.01261288e-02  1.68783013e-02 -5.07539958e-02 -3.10416380e-03\n",
      " -8.23949277e-03 -4.83103888e-03 -1.08780898e-02 -1.10326465e-02\n",
      "  7.38882320e-03 -1.09118456e-02  6.79129660e-02  1.85781009e-02\n",
      " -3.47657222e-03 -1.19898310e-02 -3.21477205e-02  3.19715589e-02\n",
      "  1.77114662e-02  3.42708789e-02 -3.44568565e-02  6.44329796e-03\n",
      "  4.86287661e-02 -4.17091809e-02 -1.72803253e-02  6.88003935e-03\n",
      " -3.19509022e-02  3.12786587e-02  2.68917512e-02  1.92677397e-02\n",
      "  2.55608149e-02 -8.83543864e-03 -2.19425522e-02  3.72947715e-02\n",
      "  2.28856607e-07 -1.21670803e-02  6.65293410e-02 -2.66998541e-02\n",
      "  1.83915682e-02 -1.36266779e-02 -4.15954441e-02  2.12169550e-02\n",
      " -2.46012211e-02  6.02664938e-03  4.78813564e-03  1.25467703e-02\n",
      "  5.31611256e-02 -8.62033479e-03 -4.68883384e-03 -6.43085539e-02\n",
      " -9.65152159e-02 -1.00591294e-02  2.29942445e-02  5.27949026e-03\n",
      "  2.68377811e-02  4.12846869e-03  5.70202842e-02  4.23851125e-02\n",
      "  4.47167829e-02 -7.80053902e-03 -9.20927618e-03  2.77761631e-02\n",
      "  3.58522721e-02 -4.93411149e-04 -3.37045779e-03  1.16947368e-02\n",
      "  2.16514636e-02  4.93800733e-04  2.16263644e-02  1.33476816e-02\n",
      " -6.84315562e-02  6.75675720e-02  1.97918876e-03  9.11766663e-03\n",
      " -2.93295868e-02  2.33996958e-02  3.18172313e-02 -4.00644504e-02\n",
      "  4.71937023e-02  2.05822140e-02 -5.99925080e-03  1.45639079e-02\n",
      "  5.17541915e-02 -7.85293281e-02 -1.63255818e-02 -3.51627804e-02\n",
      "  9.29704588e-03 -4.85891214e-04  3.92277502e-02 -1.60687994e-02\n",
      " -4.36013788e-02 -4.86327708e-02  3.63715924e-03  6.09258004e-02\n",
      " -5.48875751e-03  4.95365914e-03 -7.59716472e-03  1.38926180e-02\n",
      " -2.47673318e-02  2.76477151e-02  2.56886650e-02 -4.83057871e-02\n",
      "  1.55079342e-34  3.06910239e-02  1.02527849e-02 -3.65228280e-02\n",
      " -3.44398916e-02 -1.91930849e-02 -2.15531588e-02 -7.75855854e-02\n",
      " -2.30053477e-02 -5.10809012e-03  5.78497769e-03 -2.93997899e-02]\n",
      "\n",
      " Sentence: Currently I am exploring personalised Video Summarization\n",
      " Embedding: [ 3.44407149e-02 -2.18785126e-02 -1.01600178e-02 -3.38499621e-02\n",
      " -1.03552183e-02 -3.18697356e-02  2.29695532e-02  2.20592637e-02\n",
      " -3.95443067e-02 -3.76592465e-02  3.62354219e-02 -1.22366531e-03\n",
      " -6.79650381e-02  4.47949730e-02  8.56134854e-03 -1.16887413e-01\n",
      "  1.38639184e-02 -2.80575901e-02 -3.44936550e-02  3.03609902e-03\n",
      "  2.59005800e-02 -3.78988199e-02  1.02739912e-02 -3.16140242e-02\n",
      " -1.33377854e-02 -1.03755426e-02  1.52077163e-02 -1.11266393e-02\n",
      "  4.64855283e-02 -1.93309896e-02 -1.00538963e-02  1.58034731e-02\n",
      "  4.04961370e-02  1.74684916e-02  1.42214878e-06 -2.97167394e-02\n",
      " -4.92704250e-02 -3.96967009e-02  5.93358874e-02  8.16722214e-02\n",
      "  7.18132704e-02  5.23186997e-02  1.36660412e-03  6.31785253e-03\n",
      " -1.35343708e-02  4.28767987e-02  6.42218143e-02 -2.61982605e-02\n",
      "  2.73952950e-02 -8.46285466e-03 -3.54291685e-02 -6.11041710e-02\n",
      " -1.99295636e-02 -2.10885722e-02  1.31336758e-02  3.59330997e-02\n",
      " -2.39793770e-02  8.34148470e-03  6.24257289e-02 -2.26844382e-02\n",
      " -5.41986376e-02  1.75335840e-03 -1.41574433e-02 -2.06282903e-02\n",
      "  7.34902173e-02  2.58564465e-02 -4.39482480e-02 -6.13088161e-02\n",
      " -2.76357941e-02  1.86018236e-02  1.45739475e-02  4.65905219e-02\n",
      " -2.78232899e-03  1.15664965e-02  1.99088510e-02  6.74732998e-02\n",
      " -5.57793528e-02 -4.68811346e-03  1.11376233e-02  5.02330102e-02\n",
      " -2.82994658e-02  6.73049167e-02 -5.40929697e-02 -1.09947976e-02\n",
      "  7.91648403e-02 -1.93152111e-02  3.01714186e-02  6.41808566e-03\n",
      " -4.51711155e-02 -3.74873616e-02  3.26780118e-02 -1.02616032e-03\n",
      "  5.33083789e-02 -1.35029554e-02  6.50490001e-02 -5.39135076e-02\n",
      "  1.44392932e-02 -2.30247548e-04 -4.19093743e-02 -1.43747404e-02\n",
      "  7.09043890e-02  6.38354383e-03 -3.29733966e-03  5.36845811e-02\n",
      " -1.07484153e-02 -2.06712820e-02 -1.14765540e-02 -3.10541745e-02\n",
      " -1.74325313e-02  1.15354154e-02 -7.44863600e-02  8.23383685e-03\n",
      "  2.04790775e-02  4.50828932e-02 -3.43701728e-02 -8.05853307e-03\n",
      " -2.67340783e-02  1.18942084e-02 -4.67878021e-02 -1.40807382e-03\n",
      " -2.31861360e-02  6.79645687e-02  3.64637226e-02  1.60497427e-02\n",
      "  6.71320409e-03  2.85716299e-02 -8.17372799e-02 -7.34481122e-03\n",
      " -2.53813528e-03  3.29668932e-02  4.07588705e-02 -2.13894285e-02\n",
      "  2.43217824e-03  3.05855609e-02  4.77700643e-02  1.02163274e-02\n",
      " -4.62457575e-02 -2.37926915e-02 -4.77833077e-02  2.55942196e-02\n",
      "  1.62755568e-02  1.40897827e-02  3.38118430e-03 -4.10129242e-02\n",
      " -3.40950787e-02 -4.48199026e-02 -2.85073388e-02  2.46525537e-02\n",
      " -1.38958124e-02 -4.41203117e-02 -3.45378332e-02  2.90542673e-02\n",
      "  9.63427220e-03 -6.32358715e-03  1.56999417e-02  1.55997006e-02\n",
      "  7.18232021e-02  4.84822504e-02 -8.39805454e-02  4.39228900e-02\n",
      "  6.73831552e-02  3.30590196e-02  3.45546007e-02  1.03716776e-02\n",
      " -9.46171731e-02  3.48847769e-02 -4.82169278e-02  2.78567453e-03\n",
      " -4.91547026e-02 -1.99885182e-02 -9.66941845e-03  1.07919862e-02\n",
      " -1.28021296e-02  7.62870396e-03  2.97849551e-02  1.52175240e-02\n",
      "  1.68073066e-02 -1.30340951e-02  4.76997020e-03  3.83893847e-02\n",
      "  9.41419881e-03  1.39148617e-02  5.01536131e-02  1.40427381e-01\n",
      "  1.87981538e-02  2.05372721e-02 -3.05587938e-03  4.89588864e-02\n",
      " -7.80537874e-02 -3.76949757e-02 -8.47159792e-03  9.35429148e-03\n",
      " -9.89982206e-03  1.92265417e-02  4.38504387e-04 -4.46428582e-02\n",
      "  4.45088837e-03 -3.88795510e-02 -2.90751103e-02 -4.80049811e-02\n",
      "  2.84680128e-02  2.19238200e-03 -3.86953242e-02  8.30358118e-02\n",
      " -2.68284380e-02 -6.29062131e-02 -5.15467953e-04 -2.20309179e-02\n",
      "  5.33034420e-03 -4.60746698e-02  4.22574952e-02 -1.55790756e-02\n",
      " -2.08531786e-02 -4.66344655e-02  2.43950058e-02 -1.64601449e-02\n",
      "  1.72347911e-02  1.07786199e-02 -8.67044367e-03  5.92204891e-02\n",
      " -1.81300864e-02  3.15107070e-02  1.74188185e-02 -2.28221901e-02\n",
      "  5.31939156e-02 -1.57871610e-03  7.57554844e-02 -1.59793925e-02\n",
      " -1.44314514e-02  8.60571936e-02  4.60375613e-03  1.01341624e-02\n",
      "  2.59172916e-02  2.29564290e-02  1.64539809e-03  4.06695977e-02\n",
      "  4.25726622e-02  1.42741501e-02  3.52679975e-02 -1.35531321e-01\n",
      "  1.80623662e-02  9.26438160e-03 -9.20857955e-03  1.99427959e-02\n",
      " -4.64330806e-04  4.18743165e-03 -8.93973000e-03 -4.35798392e-02\n",
      "  1.85364000e-02  9.02192667e-03  1.39451539e-02  1.14606256e-02\n",
      " -3.82871076e-04  1.58614870e-02  5.13538625e-03  2.33805105e-02\n",
      " -3.37607041e-02 -2.36603175e-03 -5.02287298e-02 -1.20236473e-02\n",
      " -2.15699375e-02 -1.77877247e-02 -2.67970911e-03  2.09373701e-02\n",
      " -1.63097605e-02 -3.66360880e-02  2.21377853e-02 -4.94452380e-02\n",
      " -4.45580557e-02  1.17198369e-02 -1.50752040e-02 -2.07037907e-02\n",
      " -2.38247379e-03 -1.66170970e-02 -4.74266708e-02 -1.56171266e-02\n",
      " -3.59682813e-02 -7.60843558e-03 -2.28215028e-02 -7.23970216e-03\n",
      "  4.00859490e-02  2.88824793e-02 -5.77498004e-02 -2.60583051e-02\n",
      "  1.02139367e-02  9.64835193e-03  2.51306873e-02 -6.18300214e-03\n",
      " -1.41262347e-02 -5.44546209e-02  6.42305091e-02  3.12325880e-02\n",
      "  1.05592860e-02  1.92935485e-03 -3.29824463e-02  3.84916812e-02\n",
      " -1.69041380e-02  1.97381191e-02 -4.11269674e-03  1.12468926e-02\n",
      "  1.19525129e-02 -7.01680360e-03  7.33612478e-02  1.33622224e-02\n",
      " -4.03715558e-02  4.35107574e-03  2.66374797e-02 -1.15148108e-02\n",
      "  2.84848411e-05 -2.08918955e-02  8.94950982e-03  4.80673416e-03\n",
      " -3.32438527e-03  3.75997536e-02  1.40847005e-02  3.73501964e-02\n",
      " -1.49829406e-02 -1.20394956e-02  3.31530385e-02  4.00785394e-02\n",
      "  5.88279255e-02  8.02950840e-03  6.08674474e-02  1.96130238e-02\n",
      " -1.33732883e-02  2.03964971e-02 -3.45779471e-02 -4.37423326e-02\n",
      "  2.52681468e-02 -2.46502999e-02  6.26477320e-03 -4.08481769e-02\n",
      " -1.64056290e-02  1.32680777e-03 -4.01496254e-02  7.14866519e-02\n",
      "  1.06819440e-02 -3.69688636e-03 -5.37287258e-02 -5.86226545e-02\n",
      "  2.50815190e-02  1.21252164e-02 -4.87240590e-03 -1.37456842e-02\n",
      "  6.42354647e-03 -4.85441610e-02  3.75967249e-02  5.39873391e-02\n",
      " -5.68750165e-02 -1.64010320e-02  1.02306660e-02  6.23776466e-02\n",
      " -3.15995631e-03  1.25933252e-02  2.78655961e-02  5.56862019e-02\n",
      " -4.07872256e-03 -2.31665242e-02 -4.84638363e-02 -3.75798307e-02\n",
      "  1.94740053e-02 -4.24157083e-03  2.64158752e-02 -7.11218566e-02\n",
      " -4.23512347e-02  4.38891202e-02  6.47116527e-02 -6.31819442e-02\n",
      " -1.63927749e-02  3.61916721e-02 -5.74487727e-03  2.92334370e-02\n",
      "  3.40960398e-02  2.06370614e-02  2.84072366e-02 -6.26857355e-02\n",
      " -2.05607545e-02 -2.11026110e-02 -5.41776307e-02  4.83744144e-02\n",
      "  5.55033572e-02 -3.20518315e-02 -9.62712395e-04 -3.75590846e-02\n",
      " -2.11772334e-04 -1.70260351e-02 -3.21090482e-02 -4.17642016e-03\n",
      " -1.81426406e-02  7.15401694e-02  2.34612245e-02 -2.53589712e-02\n",
      "  3.83271612e-02 -4.27474640e-03 -1.15832826e-02 -2.90861838e-02\n",
      " -6.59966841e-02  1.69806052e-02 -6.17789179e-02  1.43816823e-03\n",
      " -1.70848146e-02 -1.01261318e-01 -1.94988977e-02 -2.03808211e-03\n",
      " -1.21713262e-02 -1.34298271e-02  3.17525677e-02  2.20241528e-02\n",
      " -3.07100061e-02 -2.76136585e-02 -4.89423946e-02  3.16475034e-02\n",
      "  4.69348431e-02 -3.50403320e-03  7.44707957e-02 -5.15858121e-02\n",
      "  3.43984691e-04 -3.82713671e-03  5.33563793e-02  6.80494085e-02\n",
      " -2.85785571e-02  2.78469753e-02  2.69888365e-03 -2.18981039e-02\n",
      "  4.06760834e-02 -9.05287415e-02 -2.01455224e-02  1.46777332e-02\n",
      "  2.14437377e-02 -4.53208946e-02 -4.86891717e-02  1.94053762e-02\n",
      "  5.54816425e-02  4.88452613e-04 -2.10759528e-02 -2.55921725e-02\n",
      " -5.06440252e-02  3.23377848e-02 -2.75844932e-02 -3.29664685e-02\n",
      "  3.75956036e-02  2.30058730e-02 -2.81483755e-02 -3.10507044e-02\n",
      "  6.17670491e-02  1.36803482e-02  5.44546507e-02 -6.73149228e-02\n",
      " -1.28332349e-02  5.60566150e-02 -4.27326858e-02 -3.06279641e-02\n",
      " -4.07200642e-02  8.25694576e-02 -1.83092151e-02  6.82663289e-04\n",
      " -3.11714746e-02 -4.57568355e-02 -1.18929632e-02 -4.66694869e-02\n",
      "  6.63271993e-02  3.20579484e-02  7.09276572e-02  7.31989220e-02\n",
      "  2.74521522e-02 -1.38124172e-02 -2.57419655e-03  2.92683709e-02\n",
      "  2.48893932e-03 -6.81735901e-03 -1.36560788e-02 -2.46982854e-02\n",
      " -2.10495461e-02 -1.61458999e-02 -1.97600712e-05 -3.16942036e-02\n",
      " -2.75805108e-02 -3.10967211e-02 -2.07502767e-02 -3.83796580e-02\n",
      " -4.81291227e-02  6.64998358e-03 -4.52889316e-02 -3.76842134e-02\n",
      "  1.12584345e-02 -1.00006517e-02 -1.54617587e-02  2.31040698e-02\n",
      " -2.48966441e-02 -3.12344432e-02  3.42081301e-02 -1.23983882e-02\n",
      "  6.60891086e-03  2.96050124e-02 -3.03743966e-02 -6.22422732e-02\n",
      " -4.49693389e-02 -2.09899177e-03 -6.12149276e-02 -1.50951585e-02\n",
      " -3.84511091e-02  5.75908553e-03  1.60215981e-02 -6.67401357e-03\n",
      " -2.90505718e-02 -8.78596213e-03 -1.17753129e-02  2.68117152e-02\n",
      " -2.34405845e-02  3.01983561e-02  1.67833772e-02  6.08663149e-02\n",
      " -8.55765585e-03  4.67040837e-02 -2.99467333e-02  2.21926775e-02\n",
      "  4.80509698e-02 -6.30782619e-02 -5.46923876e-02 -7.94091541e-03\n",
      "  4.10268791e-02 -1.23805264e-02  5.70891127e-02 -2.35688593e-02\n",
      " -1.38234869e-02 -6.80056959e-02 -8.56005121e-03  1.47239678e-02\n",
      "  5.36003560e-02  6.19503073e-02 -1.69192981e-02 -7.14351907e-02\n",
      " -2.69696116e-02  1.43842921e-02 -2.48252284e-02  3.65058929e-02\n",
      " -2.73657478e-02  5.06599173e-02 -6.53749658e-03  2.27035414e-02\n",
      " -4.89975102e-02  2.60536443e-04  2.76401453e-02 -1.44466637e-02\n",
      " -1.66780446e-02  9.87840630e-03  9.25719664e-02  1.81180164e-02\n",
      "  1.12017728e-02  3.81213352e-02  1.01932939e-02 -5.06721400e-02\n",
      " -1.75233521e-02  3.59889586e-03  1.34990877e-02 -5.20941223e-33\n",
      " -7.51131773e-03  1.05444936e-03 -2.58650184e-02  9.19745266e-02\n",
      "  7.48710195e-03 -5.86898848e-02  2.99781673e-02  1.19411545e-02\n",
      "  3.53053249e-02 -2.76820753e-02  1.56293472e-03 -3.35431285e-02\n",
      "  1.34059433e-02  3.34626511e-02  1.21198529e-02  5.47513291e-02\n",
      "  3.87680829e-02  1.71856824e-02  2.09324192e-02 -2.30405238e-02\n",
      " -4.48476113e-02  1.09625319e-02 -5.18484693e-03 -2.92300060e-02\n",
      " -5.25786206e-02  2.97987089e-02  1.43154329e-02 -3.54399122e-02\n",
      "  2.07194705e-02  8.07493646e-03  2.49265917e-02 -1.65345296e-02\n",
      " -3.29273716e-02 -3.02894488e-02  1.23712851e-03 -1.51489247e-02\n",
      " -3.09998170e-02 -3.82413343e-03  4.79247160e-02 -1.96447168e-02\n",
      " -2.10442618e-02 -8.58070403e-02  2.32057199e-02 -3.41447331e-02\n",
      " -3.49189900e-02 -1.56337321e-02  6.18602373e-02 -1.50853759e-02\n",
      "  1.29185719e-02  6.88873045e-03 -2.93018855e-02 -9.51447617e-03\n",
      " -5.72248511e-02  4.65794764e-02  5.41483052e-02 -5.99452900e-03\n",
      " -1.56495571e-02 -7.55942911e-02 -1.68024115e-02  5.58057278e-02\n",
      "  1.92600791e-03  4.63224538e-02  8.63168612e-02 -5.06553426e-02\n",
      " -4.19376232e-03  4.16536406e-02  2.57322807e-02 -4.30330634e-02\n",
      "  4.75739315e-02 -9.85467434e-03  4.40316042e-03  8.60527456e-02\n",
      "  1.82827953e-02  3.42591517e-02 -1.07521638e-02  2.29884940e-03\n",
      "  1.58943217e-02  2.92849950e-02 -1.16419597e-02 -3.57515402e-02\n",
      " -1.95374922e-03  2.80138347e-02  6.79865777e-02  1.87381599e-02\n",
      "  4.93051484e-03 -1.66610237e-02 -2.34542321e-02 -2.52027698e-02\n",
      " -1.76673178e-02 -5.01588872e-03 -6.17464725e-03  1.01372730e-02\n",
      "  2.21012998e-02  2.10750233e-02  9.92720798e-02 -2.61901179e-03\n",
      " -2.31770966e-02  9.75261182e-02  3.02874334e-02 -1.04448255e-02\n",
      " -2.70283911e-02  1.50882290e-03 -5.11000939e-02 -3.06398459e-02\n",
      " -2.51453705e-02 -4.92657255e-03 -3.51991467e-02  2.97189653e-02\n",
      " -1.00924680e-02  2.51359753e-02  6.61284104e-02  2.01974623e-02\n",
      " -1.41165387e-02  2.53262580e-03 -1.96787901e-02  4.46516611e-02\n",
      " -2.91848443e-02  4.99363877e-02 -6.06793091e-02  3.00809741e-02\n",
      " -5.07932808e-03 -6.03731424e-02 -6.27831928e-03  9.57843848e-03\n",
      " -8.12460389e-03  4.11020704e-02  3.33167836e-02 -9.44638811e-03\n",
      "  2.57139280e-02  4.66300873e-03 -2.21806485e-02  4.87958416e-02\n",
      "  2.04162419e-07 -3.25179920e-02  6.86188787e-02  6.70845388e-03\n",
      " -2.66709551e-02  8.60967953e-03  8.80737789e-03  1.28527060e-02\n",
      " -8.35091528e-03  3.51644382e-02  1.55172339e-02  4.75446833e-03\n",
      "  5.30590564e-02 -1.18808001e-02 -2.02740775e-03 -5.28277941e-02\n",
      " -5.22400402e-02 -2.92285625e-02  3.00600976e-02 -1.09642709e-03\n",
      "  4.87969331e-02 -8.90535209e-03  7.71602839e-02  6.87914714e-02\n",
      "  3.48568298e-02 -1.31917633e-02 -9.28758457e-03  5.24005704e-02\n",
      " -1.73114007e-03 -2.36656237e-02 -7.81911891e-03 -2.83447802e-02\n",
      "  3.88846546e-02 -3.52484994e-02 -1.22445577e-03 -1.94466040e-02\n",
      " -7.62738883e-02  3.71594578e-02  7.16622872e-03 -1.64734554e-02\n",
      " -6.15071096e-02 -9.03557893e-03  5.68944849e-02 -2.90945545e-02\n",
      "  5.15420027e-02  3.66239138e-02  2.70560791e-04  1.12182405e-02\n",
      "  4.77149598e-02 -5.33520281e-02  1.65542224e-04 -2.94483248e-02\n",
      "  1.19267013e-02  1.16874669e-02  2.10969038e-02 -7.62042124e-03\n",
      " -3.26281833e-03 -5.72147556e-02 -3.47375899e-04  3.09075788e-02\n",
      " -2.63729189e-02 -9.63578746e-03 -2.29400806e-02 -2.66269054e-02\n",
      " -5.35033224e-03 -7.92010687e-03  1.63398031e-02 -5.97565956e-02\n",
      "  1.04554747e-34  3.07231825e-02  5.07631600e-02 -2.82163695e-02\n",
      " -4.45371233e-02 -6.02246225e-02 -1.37360180e-02 -8.53915364e-02\n",
      "  2.71204696e-03  2.01174542e-02  3.66200209e-02 -3.37248780e-02]\n",
      "\n"
     ]
    }
   ],
   "source": [
    "from sentence_transformers import SentenceTransformer\n",
    "embedding_model= SentenceTransformer(model_name_or_path=\"all-mpnet-base-v2\",device=\"cpu\")\n",
    "\n",
    "\n",
    "sentences=[\" Hey everyone My name is muskan and I am pursuing Master's in AI\",\"My research work is centered around Video Summarization\",\"Currently I am exploring personalised Video Summarization\"]\n",
    "\n",
    "embeddings= embedding_model.encode(sentences)\n",
    "embeddings_dict=dict(zip(sentences,embeddings))\n",
    "print(embeddings.shape)\n",
    "for sentence,embedding in embeddings_dict.items():\n",
    "  print(f\" Sentence: {sentence}\")\n",
    "  print(f\" Embedding: {embedding}\")\n",
    "  print(\"\")\n",
    "\n"
   ]
  },
  {
   "cell_type": "code",
   "execution_count": 26,
   "metadata": {
    "colab": {
     "base_uri": "https://localhost:8080/"
    },
    "executionInfo": {
     "elapsed": 6,
     "status": "ok",
     "timestamp": 1761384037157,
     "user": {
      "displayName": "Muskan Motwani",
      "userId": "03800385271669659981"
     },
     "user_tz": -330
    },
    "id": "ctZwyKKTuyW0",
    "outputId": "1726da17-ba81-4d50-d18c-0337c498b5bb"
   },
   "outputs": [
    {
     "data": {
      "text/plain": [
       "(768,)"
      ]
     },
     "execution_count": 26,
     "metadata": {},
     "output_type": "execute_result"
    }
   ],
   "source": [
    "embeddings[0].shape"
   ]
  },
  {
   "cell_type": "code",
   "execution_count": 27,
   "metadata": {
    "colab": {
     "base_uri": "https://localhost:8080/"
    },
    "executionInfo": {
     "elapsed": 38,
     "status": "ok",
     "timestamp": 1761384037196,
     "user": {
      "displayName": "Muskan Motwani",
      "userId": "03800385271669659981"
     },
     "user_tz": -330
    },
    "id": "IPQLAInlzHom",
    "outputId": "7a13dd0b-d3e2-40e7-826e-6c5e02237276"
   },
   "outputs": [
    {
     "data": {
      "text/plain": [
       "array([-1.45473080e-02,  7.66727030e-02, -2.85872333e-02, -3.31283323e-02,\n",
       "        3.65210772e-02,  4.78570387e-02, -7.08107278e-02,  1.62833966e-02,\n",
       "        1.93444025e-02, -2.80481875e-02, -2.91746892e-02,  5.11309765e-02,\n",
       "       -3.28720659e-02, -8.98753200e-03, -1.03672538e-02, -3.15488167e-02,\n",
       "        4.22784276e-02, -9.13280062e-03, -1.94016788e-02,  4.35689203e-02,\n",
       "       -2.31997799e-02,  4.29883450e-02, -1.72393303e-02, -2.01372430e-02,\n",
       "       -3.13574187e-02,  8.08169041e-03, -2.06725001e-02, -2.27869172e-02,\n",
       "        2.44812649e-02,  1.71968360e-02, -6.26673177e-02, -7.54796788e-02,\n",
       "        3.57421897e-02, -5.46572218e-03,  1.24730332e-06, -7.63203809e-03,\n",
       "       -3.53222564e-02,  1.91327073e-02,  3.99044976e-02,  2.11736304e-03,\n",
       "        1.64565779e-02,  9.84051824e-03, -1.80700365e-02,  9.33830347e-03,\n",
       "        3.23483013e-02,  5.84785640e-02,  4.23187129e-02,  1.62091721e-02,\n",
       "       -9.14911777e-02,  1.82305146e-02, -5.25731966e-03, -7.81017030e-03,\n",
       "       -3.47644053e-02, -1.01831603e-04, -9.65477712e-03,  5.22899330e-02,\n",
       "        1.52456146e-02,  1.05422121e-02,  2.10148301e-02, -1.38553055e-02,\n",
       "       -3.75944376e-02, -5.72233759e-02,  6.64912090e-02,  2.45627714e-03,\n",
       "        2.55167261e-02,  3.77775207e-02,  2.76863817e-02, -2.45716907e-02,\n",
       "        2.43620574e-02,  3.49905491e-02, -3.49028520e-02, -4.93867183e-03,\n",
       "        6.81601698e-03,  4.50944602e-02,  6.90904399e-03,  1.14737768e-02,\n",
       "        3.66864763e-02,  4.02682349e-02,  4.24677916e-02,  1.21451803e-02,\n",
       "        4.90805041e-03,  6.70209154e-03, -3.07982266e-02, -4.74835135e-04,\n",
       "       -3.96071076e-02, -1.18890367e-02,  3.48101631e-02,  1.52127892e-02,\n",
       "        4.83176205e-03,  5.28494380e-02, -6.46774918e-02,  3.00129727e-02,\n",
       "        3.83021869e-02,  4.23714407e-02, -5.32574691e-02, -5.55918645e-03,\n",
       "       -2.74476390e-02, -2.95133572e-02,  4.75043952e-02, -1.10218991e-02,\n",
       "       -5.88265769e-02, -1.16618332e-02, -8.33426714e-02, -2.46357117e-02,\n",
       "        4.74454127e-02,  5.46443649e-02, -2.42981799e-02, -5.29452600e-02,\n",
       "        2.28929371e-02, -8.69956159e-04, -4.88942415e-02, -2.53103133e-02,\n",
       "        7.70678744e-02,  5.69900237e-02,  2.86229774e-02, -1.57332281e-03,\n",
       "        7.94348642e-02,  2.24736519e-02,  5.00359014e-03, -3.96808283e-03,\n",
       "        8.58045649e-03, -2.52368972e-02, -8.24415497e-03,  5.32644540e-02,\n",
       "        6.59032864e-03,  1.82210803e-02, -8.69629458e-02,  4.31967899e-02,\n",
       "       -2.86612418e-02, -5.18720448e-02, -9.11269744e-04, -9.71063785e-03,\n",
       "       -3.46385613e-02, -2.71559507e-02,  3.32040414e-02, -2.43675653e-02,\n",
       "       -1.89913195e-02, -4.16372456e-02,  6.64051473e-02,  9.75397823e-04,\n",
       "       -6.71441259e-04,  1.23330287e-03, -1.88144576e-02,  4.68907133e-02,\n",
       "        5.46861626e-02,  8.01841635e-03,  1.75472163e-02, -2.19881674e-03,\n",
       "        5.00561530e-03,  5.67321815e-02,  6.96682408e-02,  1.46436514e-02,\n",
       "       -9.31071714e-02, -1.26185529e-02, -7.23036006e-02,  1.16127143e-04,\n",
       "        5.40898629e-02, -3.32768150e-02,  2.48239841e-02,  6.72468245e-02,\n",
       "        3.45423967e-02, -4.99131717e-03, -4.48251888e-02, -5.55036329e-02,\n",
       "       -5.55662811e-02, -4.72543873e-02,  5.21706417e-03,  1.99847687e-02,\n",
       "        3.52873979e-03, -7.52701014e-02,  2.67593600e-02,  3.13316211e-02,\n",
       "       -2.13878490e-02, -2.53582634e-02,  6.60627708e-02, -3.79822007e-03,\n",
       "        1.72966684e-03,  2.55590901e-02, -4.31266055e-02,  4.05427488e-03,\n",
       "        1.85788590e-02,  1.59322284e-02,  1.00603178e-02,  3.54765058e-02,\n",
       "        2.57356279e-03,  1.46151092e-02,  1.08086655e-03,  6.17926344e-02,\n",
       "        1.60133578e-02,  1.55217769e-02,  3.38934944e-03,  7.38751795e-03,\n",
       "        4.62796912e-03,  1.19771464e-02, -2.22111046e-02,  3.32430974e-02,\n",
       "        1.30507695e-02, -9.45959017e-02,  1.92044489e-02, -2.13420019e-02,\n",
       "       -5.28254686e-03,  9.01520029e-02,  4.75887284e-02, -2.46057734e-02,\n",
       "        6.42882427e-04,  5.84885990e-03, -4.05396856e-02, -1.55255338e-02,\n",
       "        3.68704051e-02,  2.34617107e-02,  5.74560128e-02, -2.46109515e-02,\n",
       "       -2.94354409e-02, -7.99202919e-03,  1.55304177e-02, -3.91087821e-03,\n",
       "        1.78511441e-02, -1.75800116e-03, -1.83041878e-02,  9.47187841e-02,\n",
       "       -2.54314560e-02, -3.77975181e-02,  9.79455188e-02,  1.79755464e-02,\n",
       "       -7.73809897e-03,  2.27807015e-02,  4.57148850e-02,  1.71552002e-02,\n",
       "        3.51930298e-02, -1.90126579e-02,  1.39739842e-03,  3.31789739e-02,\n",
       "        4.44041118e-02,  2.86698993e-02,  5.34521975e-02,  3.28312293e-02,\n",
       "        5.52564533e-03,  2.23780628e-02, -9.38726775e-03, -6.68332279e-02,\n",
       "        2.99007148e-02,  6.89630136e-02, -1.36479251e-02,  2.98763793e-02,\n",
       "       -1.83595121e-02, -6.84988499e-02,  7.55542330e-03, -7.85368786e-04,\n",
       "        1.22811589e-02,  8.88278801e-03, -3.46379802e-02,  1.12969549e-02,\n",
       "       -4.44450565e-02,  1.00413784e-02, -3.62991653e-02, -2.39463039e-02,\n",
       "        2.97465473e-02, -2.73256917e-02,  1.05879633e-02,  1.13884527e-02,\n",
       "        7.53292069e-02, -1.48295043e-02, -6.36837333e-02,  4.08296734e-02,\n",
       "       -5.22071347e-02, -8.53491365e-04, -3.06047406e-02,  4.63196151e-02,\n",
       "       -9.17664077e-03,  3.12791741e-03,  3.91602144e-02, -3.47800218e-02,\n",
       "       -2.86343116e-02,  4.81525436e-02, -2.93694041e-03,  1.97711848e-02,\n",
       "        1.21127479e-02, -6.82448447e-02,  1.90934744e-02,  1.09582068e-02,\n",
       "       -6.06389865e-02,  3.87967634e-03,  3.91351730e-02,  4.65689823e-02,\n",
       "        4.67324257e-03,  5.19057363e-02,  2.15038154e-02, -1.10510178e-02,\n",
       "        4.28912714e-02,  5.92604373e-03, -1.54299885e-02, -1.17191263e-02,\n",
       "        1.04202004e-02,  2.26956494e-02,  5.02243126e-03,  8.50961823e-03,\n",
       "       -3.36886942e-02, -5.01523130e-02,  5.59588103e-03, -5.59638515e-02,\n",
       "        3.78468004e-03, -1.90140568e-02,  8.82789213e-03,  1.77501645e-02,\n",
       "        5.09780310e-02, -2.01751627e-02,  2.21495260e-03,  9.00214016e-02,\n",
       "        9.43100918e-03,  1.28152901e-02, -5.16687296e-02, -6.71979785e-02,\n",
       "       -6.65828912e-03,  4.59541008e-02,  6.21870980e-02,  6.29634038e-02,\n",
       "       -7.76772276e-02, -6.27349094e-02,  2.13560760e-02, -3.54638360e-02,\n",
       "       -2.72188280e-02, -1.83704030e-02,  2.57110521e-02,  2.73734238e-02,\n",
       "       -2.05341782e-02,  3.12489085e-02,  6.17937669e-02,  2.82256980e-03,\n",
       "        9.42654088e-02,  5.39689325e-04, -3.67933176e-02,  2.16331426e-02,\n",
       "        5.56003526e-02,  8.22854973e-03,  1.73951853e-02, -6.19068965e-02,\n",
       "        1.15494821e-02, -6.15610890e-02, -1.46472547e-03,  1.73469689e-02,\n",
       "       -7.23908376e-03, -4.79254015e-02, -2.79301442e-02,  3.57204415e-02,\n",
       "       -5.44243585e-03,  2.41939165e-02,  9.67006478e-03, -4.45231795e-02,\n",
       "       -5.65502569e-02, -7.03274310e-02, -5.13422117e-03, -1.22374155e-01,\n",
       "        4.00631763e-02,  7.84557499e-03,  1.76967811e-02,  1.78067014e-02,\n",
       "        1.19575448e-02,  2.81823445e-02, -8.97242408e-03,  2.16232706e-02,\n",
       "        2.00863983e-02,  2.75823157e-02, -5.10544004e-03,  7.55692692e-03,\n",
       "       -2.15563308e-02,  5.08302562e-02,  3.42583074e-03, -5.21124639e-02,\n",
       "       -5.57864346e-02,  1.04194954e-02,  4.05397080e-03, -3.89530286e-02,\n",
       "       -7.80606363e-03,  1.77254546e-02, -1.63437352e-02,  3.43393981e-02,\n",
       "        6.19500168e-02,  2.41788365e-02,  7.99902156e-03,  1.24412226e-02,\n",
       "        2.85640191e-02,  2.50759907e-02,  1.47869168e-02,  6.14376701e-02,\n",
       "       -5.95356748e-02,  5.64258837e-04,  6.96326792e-03, -9.42598283e-03,\n",
       "       -2.98646782e-02, -1.79769378e-02,  3.68006863e-02, -7.61807933e-02,\n",
       "       -2.57907081e-02, -8.80654603e-02, -1.99168194e-02, -3.44832912e-02,\n",
       "       -3.03549282e-02,  3.44826952e-02, -7.38927023e-03, -1.73982512e-03,\n",
       "       -2.12657247e-02,  5.19678742e-02,  7.11391792e-02,  1.89422388e-02,\n",
       "        6.76488224e-03, -6.69399053e-02,  3.58919315e-02, -1.40840909e-03,\n",
       "        6.70214146e-02, -1.10296622e-01, -1.04557641e-01,  1.18080489e-02,\n",
       "       -1.29538924e-02, -1.38785839e-02, -4.69234474e-02, -5.10462709e-02,\n",
       "        1.18376995e-02, -1.15415687e-03, -1.65976305e-02,  1.63003150e-02,\n",
       "       -3.08757182e-02, -4.04602997e-02,  1.09036183e-02,  1.91066950e-03,\n",
       "       -1.86017305e-02,  4.51204218e-02, -3.49306166e-02,  4.07408886e-02,\n",
       "       -2.27419622e-02,  4.51252908e-02,  1.25923660e-02, -6.06237911e-02,\n",
       "        3.06808334e-02, -8.21872950e-02, -3.94097790e-02, -1.80607140e-02,\n",
       "       -3.17829773e-02, -1.87636893e-02, -6.69391528e-02, -2.84681004e-02,\n",
       "       -3.36956047e-02,  7.08523095e-02, -4.08129469e-02,  1.86222997e-02,\n",
       "        3.72805409e-02,  5.44050522e-02, -3.62138301e-02, -2.40351669e-02,\n",
       "        3.33078429e-02,  1.48777617e-02,  3.82791343e-03,  2.03328934e-02,\n",
       "       -1.90318022e-02,  6.85468838e-02, -2.61596385e-02,  7.61793926e-03,\n",
       "        7.72187952e-03, -2.78082937e-02, -6.35820499e-04, -5.93661703e-02,\n",
       "        2.52776276e-02, -9.11576673e-03,  3.14962044e-02,  4.85464446e-02,\n",
       "        4.02202550e-03, -4.97475602e-02,  4.02149633e-02, -3.31468433e-02,\n",
       "       -7.33905518e-03, -6.42377883e-02, -7.94854015e-03, -1.31809404e-02,\n",
       "       -1.84599105e-02,  2.87002698e-02,  3.40777487e-02,  1.64637342e-02,\n",
       "        2.55925246e-02,  1.68952774e-02, -7.05597922e-03, -3.55657116e-02,\n",
       "       -1.19185410e-02, -1.83535684e-02, -9.80014168e-03, -3.25880982e-02,\n",
       "       -6.76729530e-02, -4.14830409e-02,  1.26835592e-02, -1.96198784e-02,\n",
       "       -1.33284815e-02,  3.08478542e-04, -2.15602270e-03,  1.49845879e-03,\n",
       "       -3.24675292e-02, -8.34457949e-02, -1.04842167e-02,  3.62600349e-02,\n",
       "        3.27117965e-02, -5.04390858e-02,  1.88516323e-02,  3.44326794e-02,\n",
       "       -5.93705811e-02, -6.96217362e-03, -6.85650669e-03,  3.20587978e-02,\n",
       "        5.67237027e-02,  3.59651772e-03,  3.05233966e-03, -8.35193973e-03,\n",
       "       -6.32246733e-02,  2.40306072e-02,  1.81329772e-02, -3.24354023e-02,\n",
       "        3.55797522e-02,  2.48554070e-02,  2.70361677e-02,  1.48999793e-02,\n",
       "       -1.02008572e-02, -4.06876355e-02,  7.49792159e-03, -7.38303410e-03,\n",
       "       -2.43661013e-02, -2.79312339e-02,  2.15101764e-02, -1.52133498e-03,\n",
       "       -2.60490309e-02, -1.90740209e-02, -5.75375138e-03, -3.91289815e-02,\n",
       "       -3.69491801e-02, -1.56944431e-02,  2.03789864e-03, -2.25925725e-02,\n",
       "        2.28398703e-02,  2.02069785e-02, -9.60354214e-07,  7.31383488e-02,\n",
       "        6.96466342e-02, -2.86336131e-02,  2.49679610e-02,  2.13330798e-02,\n",
       "        1.73935127e-02,  1.66924414e-03,  8.78218487e-02, -4.98331897e-02,\n",
       "       -1.82478298e-02,  6.07356280e-02,  2.91278046e-02, -4.14200779e-03,\n",
       "       -1.23882061e-02, -4.38930728e-02,  3.53288352e-02, -3.17289084e-02,\n",
       "       -1.49162440e-02, -1.92080978e-02, -3.64692062e-02, -4.76264210e-33,\n",
       "       -1.65021289e-02, -1.91782985e-03, -2.67094448e-02, -5.98559864e-02,\n",
       "        2.01786999e-02, -3.64557430e-02,  9.36812311e-02,  4.13829722e-02,\n",
       "        2.49364860e-02,  2.84616482e-02, -5.30352071e-02, -1.58115719e-02,\n",
       "       -1.08963754e-02,  5.59872156e-03,  6.61978452e-03,  4.10366282e-02,\n",
       "        1.94684193e-02,  1.37695260e-02,  2.33072098e-02, -1.79666057e-02,\n",
       "       -9.75463353e-03,  1.38820875e-02,  3.28209922e-02, -7.10959360e-02,\n",
       "        2.42044255e-02,  4.45041582e-02,  6.82343636e-03, -1.49720088e-02,\n",
       "       -1.06187966e-02,  5.69256581e-02, -3.76738012e-02, -2.27492582e-02,\n",
       "        1.36830304e-02,  1.66805927e-02, -2.49874778e-02,  3.49297971e-02,\n",
       "       -2.07296927e-02, -7.13403746e-02, -2.37199534e-02,  1.29399635e-03,\n",
       "       -5.55279106e-02, -4.02691327e-02,  6.04658872e-02, -7.12550581e-02,\n",
       "       -3.67311132e-03,  4.44095284e-02,  3.00362725e-02, -4.66634007e-03,\n",
       "       -3.00804502e-03,  2.76630521e-02, -7.24814832e-02, -1.84943862e-02,\n",
       "       -1.63340066e-02, -7.55405985e-03,  7.54157128e-03, -2.75981463e-02,\n",
       "        1.38857691e-02, -3.57244462e-02, -4.12924066e-02, -2.62138788e-02,\n",
       "       -1.62564907e-02, -5.82110770e-02, -2.01614890e-02,  3.48336459e-03,\n",
       "        3.19005586e-02,  3.50152068e-02,  6.06669933e-02,  3.43760662e-02,\n",
       "       -2.98972335e-02,  3.25451642e-02, -5.99345788e-02,  6.56661913e-02,\n",
       "        2.68802587e-02, -2.69832537e-02, -2.10625082e-02, -1.87442750e-02,\n",
       "       -1.59093589e-02,  1.13463663e-02,  3.98988789e-03,  3.00080254e-04,\n",
       "       -3.66469510e-02, -2.44353767e-02,  6.47017907e-04,  1.99622363e-02,\n",
       "        1.52563844e-02,  5.01294993e-02,  2.02886146e-02,  8.82892497e-03,\n",
       "       -1.11352708e-02,  3.85979563e-02, -1.65023208e-02,  2.19597965e-02,\n",
       "        1.82960834e-02,  3.89182083e-02,  2.53675394e-02, -4.02411111e-02,\n",
       "       -8.96732695e-03, -3.70788537e-02,  2.09786254e-03, -2.77803224e-02,\n",
       "        2.53884587e-02, -5.52188978e-02,  2.19426118e-02, -2.33169459e-03,\n",
       "        5.01946779e-03, -1.64534841e-02,  1.05187176e-02, -5.03660589e-02,\n",
       "       -4.22653556e-02,  7.00080208e-03,  3.10426895e-02, -3.34108174e-02,\n",
       "        5.86859174e-02,  8.19553733e-02,  6.24131709e-02, -2.91639995e-02,\n",
       "        2.99067013e-02, -2.05861181e-02, -1.52513376e-02, -4.37216181e-03,\n",
       "       -3.49395089e-02,  5.21422538e-04, -8.23073685e-02,  1.25809079e-02,\n",
       "        4.63737212e-02, -1.98730584e-02, -6.80075819e-03, -3.20763364e-02,\n",
       "       -3.11928391e-02,  2.33916100e-03, -7.12391222e-03,  3.22027877e-02,\n",
       "        1.92548143e-07,  1.10377301e-03, -2.26696534e-03,  4.66677872e-03,\n",
       "        3.90407629e-02,  1.15277721e-02, -3.16437259e-02,  1.09581910e-02,\n",
       "       -7.46685499e-03, -3.00779613e-03,  4.42970395e-02, -3.87204736e-02,\n",
       "        2.68561523e-02,  6.71142414e-02,  3.13462727e-02,  8.28517135e-03,\n",
       "       -4.69741486e-02, -2.00917311e-02,  1.49600022e-02, -6.05240837e-03,\n",
       "       -2.51887254e-02, -8.65160227e-02, -3.71249230e-03, -1.21992929e-02,\n",
       "        2.72876993e-02,  1.69983078e-02,  1.75528023e-02,  1.60762314e-02,\n",
       "       -2.09924802e-02,  1.62167661e-02, -3.43657611e-03, -4.03561965e-02,\n",
       "        4.92832996e-02, -4.05391529e-02, -2.86077727e-02,  2.82582045e-02,\n",
       "       -5.85250370e-02,  3.73864477e-03, -5.79858348e-02,  1.07589234e-02,\n",
       "        1.01049268e-03, -4.99975681e-02,  7.17912540e-02, -4.38279212e-02,\n",
       "        4.68930230e-02,  1.04924822e-02,  8.27343315e-02, -5.27053489e-04,\n",
       "        1.18511124e-02,  7.17550516e-02, -9.45714302e-03, -1.25318496e-02,\n",
       "       -2.01185793e-02,  3.64993326e-02,  1.48872845e-02, -1.45487068e-03,\n",
       "       -3.00978613e-03,  1.37841497e-02, -1.91234052e-02, -1.82692555e-03,\n",
       "       -8.64937156e-02, -5.01501225e-02, -9.10474546e-03, -1.70881709e-03,\n",
       "        3.53977978e-02,  2.20071431e-02, -3.84717509e-02, -3.58285233e-02,\n",
       "        1.10739064e-34,  7.16632372e-03, -2.17415448e-02, -3.08314175e-03,\n",
       "        6.33606091e-02,  7.69228069e-03, -1.05928052e-02,  6.00480065e-02,\n",
       "       -1.55672943e-02,  5.26661091e-02,  3.67813278e-03, -1.82436723e-02],\n",
       "      dtype=float32)"
      ]
     },
     "execution_count": 27,
     "metadata": {},
     "output_type": "execute_result"
    }
   ],
   "source": [
    "embedding= embedding_model.encode(\"My favourite animal is the cow!\")\n",
    "embedding"
   ]
  },
  {
   "cell_type": "code",
   "execution_count": 28,
   "metadata": {
    "colab": {
     "base_uri": "https://localhost:8080/"
    },
    "executionInfo": {
     "elapsed": 11,
     "status": "ok",
     "timestamp": 1761384037227,
     "user": {
      "displayName": "Muskan Motwani",
      "userId": "03800385271669659981"
     },
     "user_tz": -330
    },
    "id": "iu3UCWVF0pwU",
    "outputId": "752beaba-c236-4cfb-ad09-27da956a1f3c"
   },
   "outputs": [
    {
     "name": "stdout",
     "output_type": "stream",
     "text": [
      "CPU times: user 3 µs, sys: 1e+03 ns, total: 4 µs\n",
      "Wall time: 6.91 µs\n"
     ]
    }
   ],
   "source": [
    "%%time\n",
    "\n",
    "# embedding_model.to(\"cpu\")\n",
    "\n",
    "# #embed each chunk one by one\n",
    "# for item in tqdm(pages_and_chunks_over_min_token_len):\n",
    "#   item[\"embedding\"]=embedding_model.encode(item[\"sentence_chunk\"])\n",
    "\n"
   ]
  },
  {
   "cell_type": "code",
   "execution_count": 29,
   "metadata": {
    "colab": {
     "base_uri": "https://localhost:8080/",
     "height": 84,
     "referenced_widgets": [
      "03edb14069264c4fba6f2ec4dc1a9691",
      "20f4191843fb43a49bb865ffcfa15f70",
      "48e44af37621482992195ed6e9e0015c",
      "3a6548c7a09c4f94944f037efa1338cf",
      "973d93146e64450693eab4beaa3f82cb",
      "831855c5a25846249a0e93d5da054280",
      "d88c93e9851f4f1fae39e43a736f20d5",
      "93eb7c26c76847f9b9f08c266fd9fd59",
      "aa93dce9f9fd484e856d635d0f78d8e3",
      "cd5c9e24139549c5bda49a8efe75d6e3",
      "4a5816ad439040fbaf6c2046f4a3f0f9"
     ]
    },
    "executionInfo": {
     "elapsed": 23689,
     "status": "ok",
     "timestamp": 1761384060923,
     "user": {
      "displayName": "Muskan Motwani",
      "userId": "03800385271669659981"
     },
     "user_tz": -330
    },
    "id": "c5FYvj022L8h",
    "outputId": "37227b47-cf39-4361-bb17-b391544bdb01"
   },
   "outputs": [
    {
     "data": {
      "application/vnd.jupyter.widget-view+json": {
       "model_id": "03edb14069264c4fba6f2ec4dc1a9691",
       "version_major": 2,
       "version_minor": 0
      },
      "text/plain": [
       "  0%|          | 0/1680 [00:00<?, ?it/s]"
      ]
     },
     "metadata": {},
     "output_type": "display_data"
    },
    {
     "name": "stdout",
     "output_type": "stream",
     "text": [
      "CPU times: user 1min 7s, sys: 417 ms, total: 1min 8s\n",
      "Wall time: 23.7 s\n"
     ]
    }
   ],
   "source": [
    "%%time\n",
    "\n",
    "embedding_model.to(\"cuda\")\n",
    "\n",
    "for item in tqdm(pages_and_chunks_over_min_token_len):\n",
    "  # print(item[\"sentence_chunk\"])\n",
    "  item[\"embedding\"]=embedding_model.encode(item[\"sentence_chunk\"])\n",
    "  # print(item[\"embedding\"].shape)\n"
   ]
  },
  {
   "cell_type": "code",
   "execution_count": 30,
   "metadata": {
    "colab": {
     "base_uri": "https://localhost:8080/"
    },
    "executionInfo": {
     "elapsed": 15,
     "status": "ok",
     "timestamp": 1761384060950,
     "user": {
      "displayName": "Muskan Motwani",
      "userId": "03800385271669659981"
     },
     "user_tz": -330
    },
    "id": "op0-RDDg4j3b",
    "outputId": "bd26f45a-ae98-480b-e340-f21bc7358b96"
   },
   "outputs": [
    {
     "name": "stdout",
     "output_type": "stream",
     "text": [
      "<class 'str'>\n"
     ]
    }
   ],
   "source": [
    "for item in pages_and_chunks_over_min_token_len:\n",
    "  print(type(item[\"sentence_chunk\"]))\n",
    "  break"
   ]
  },
  {
   "cell_type": "code",
   "execution_count": 31,
   "metadata": {
    "colab": {
     "base_uri": "https://localhost:8080/"
    },
    "executionInfo": {
     "elapsed": 11,
     "status": "ok",
     "timestamp": 1761384060963,
     "user": {
      "displayName": "Muskan Motwani",
      "userId": "03800385271669659981"
     },
     "user_tz": -330
    },
    "id": "QR_gYWMr2bUu",
    "outputId": "e12a885b-7841-40c9-afa4-e668d443f140"
   },
   "outputs": [
    {
     "name": "stdout",
     "output_type": "stream",
     "text": [
      "CPU times: user 287 µs, sys: 0 ns, total: 287 µs\n",
      "Wall time: 294 µs\n"
     ]
    },
    {
     "data": {
      "text/plain": [
       "1680"
      ]
     },
     "execution_count": 31,
     "metadata": {},
     "output_type": "execute_result"
    }
   ],
   "source": [
    "%%time\n",
    "\n",
    "text_chunks=[item[\"sentence_chunk\"] for item in pages_and_chunks_over_min_token_len]\n",
    "text_chunks[419]\n",
    "len(text_chunks)"
   ]
  },
  {
   "cell_type": "code",
   "execution_count": 32,
   "metadata": {
    "colab": {
     "base_uri": "https://localhost:8080/"
    },
    "executionInfo": {
     "elapsed": 10,
     "status": "ok",
     "timestamp": 1761384060977,
     "user": {
      "displayName": "Muskan Motwani",
      "userId": "03800385271669659981"
     },
     "user_tz": -330
    },
    "id": "1ZrFb0n22zcn",
    "outputId": "75bbb972-6a4d-4501-eaa2-0a3b6564e83c"
   },
   "outputs": [
    {
     "data": {
      "text/plain": [
       "1680"
      ]
     },
     "execution_count": 32,
     "metadata": {},
     "output_type": "execute_result"
    }
   ],
   "source": [
    "len(text_chunks)"
   ]
  },
  {
   "cell_type": "code",
   "execution_count": 33,
   "metadata": {
    "colab": {
     "base_uri": "https://localhost:8080/"
    },
    "executionInfo": {
     "elapsed": 5304,
     "status": "ok",
     "timestamp": 1761384066282,
     "user": {
      "displayName": "Muskan Motwani",
      "userId": "03800385271669659981"
     },
     "user_tz": -330
    },
    "id": "gGQzXYNk21nT",
    "outputId": "ca3d9cae-3e32-4e2a-c8bb-c09308a96aa1"
   },
   "outputs": [
    {
     "name": "stdout",
     "output_type": "stream",
     "text": [
      "CPU times: user 8.31 s, sys: 89.7 ms, total: 8.4 s\n",
      "Wall time: 5.33 s\n"
     ]
    },
    {
     "data": {
      "text/plain": [
       "torch.Size([1680, 768])"
      ]
     },
     "execution_count": 33,
     "metadata": {},
     "output_type": "execute_result"
    }
   ],
   "source": [
    "%%time\n",
    "\n",
    "text_chunk_embeddings= embedding_model.encode(text_chunks, batch_size=32,convert_to_tensor=True)\n",
    "text_chunk_embeddings.shape"
   ]
  },
  {
   "cell_type": "markdown",
   "metadata": {
    "id": "-UCMGp-g-KrU"
   },
   "source": [
    "### Save embeddings to file"
   ]
  },
  {
   "cell_type": "code",
   "execution_count": 34,
   "metadata": {
    "colab": {
     "base_uri": "https://localhost:8080/"
    },
    "executionInfo": {
     "elapsed": 4,
     "status": "ok",
     "timestamp": 1761384066294,
     "user": {
      "displayName": "Muskan Motwani",
      "userId": "03800385271669659981"
     },
     "user_tz": -330
    },
    "id": "ewZKCE-3-RkK",
    "outputId": "730d7329-2de9-4945-da49-f9c81ec20421"
   },
   "outputs": [
    {
     "data": {
      "text/plain": [
       "{'page_number': 277,\n",
       " 'sentence_chunk': 'often. • Calm your “sweet tooth” by eating fruits, such as berries or an apple. • Replace sugary soft drinks with seltzer water, tea, or a small amount of 100 percent fruit juice added to water or soda water. The Food Industry: Functional Attributes of Carbohydrates and the Use of Sugar Substitutes In the food industry, both fast-releasing and slow-releasing carbohydrates are utilized to give foods a wide spectrum of functional attributes, including increased sweetness, viscosity, bulk, coating ability, solubility, consistency, texture, body, and browning capacity. The differences in chemical structure between the different carbohydrates confer their varied functional uses in foods. Starches, gums, and pectins are used as thickening agents in making jam, cakes, cookies, noodles, canned products, imitation cheeses, and a variety of other foods. Molecular gastronomists use slow- releasing carbohydrates, such as alginate, to give shape and texture to their fascinating food creations. Adding fiber to foods increases bulk. Simple sugars are used not only for adding sweetness, but also to add texture, consistency, and browning. In ice cream, the combination of sucrose and corn syrup imparts sweetness as well as a glossy appearance and smooth texture.',\n",
       " 'chunk_char_chount': 1264,\n",
       " 'chunk_word_count': 190,\n",
       " 'chunk_token_count': 316.0,\n",
       " 'embedding': array([ 3.36195566e-02, -6.33048546e-03,  1.35672670e-02, -1.72719557e-03,\n",
       "         7.37233134e-03, -1.12093361e-02, -7.77235329e-02, -1.98783143e-03,\n",
       "         4.41749394e-02,  1.84355024e-02,  1.08431326e-03, -4.48691659e-02,\n",
       "        -1.44435959e-02,  2.23461632e-02, -1.58056766e-02, -3.96063179e-02,\n",
       "         6.19644066e-03,  3.06795072e-02,  1.50323622e-02, -3.01858578e-02,\n",
       "        -5.63730765e-03,  7.23950705e-03,  4.44135536e-03,  3.83774936e-02,\n",
       "        -2.77931206e-02, -1.08045284e-02, -2.09066961e-02, -3.82517092e-03,\n",
       "         1.28809204e-02, -7.62624890e-02,  2.56193541e-02,  5.03177643e-02,\n",
       "        -1.48145175e-02, -9.30032730e-02,  1.84821772e-06, -2.72034220e-02,\n",
       "         2.04363354e-02,  3.49979438e-02, -7.01642632e-02,  8.21791217e-02,\n",
       "         9.58010368e-03,  1.12016834e-02,  1.45271653e-02,  2.08604839e-02,\n",
       "         1.88053132e-03,  1.94313508e-02,  4.30906229e-02, -6.63991868e-02,\n",
       "        -4.47118562e-03,  9.62142739e-03, -1.76184885e-02, -9.32420194e-02,\n",
       "        -1.74521860e-02,  1.43797714e-02,  9.59808975e-02,  1.59285720e-02,\n",
       "         3.41024101e-02,  9.89580620e-03,  2.74767214e-03, -3.97160463e-02,\n",
       "         1.76487565e-02, -2.50339210e-02,  4.65405472e-02,  5.50865848e-03,\n",
       "         3.66739854e-02,  8.11415240e-02,  1.02667708e-03, -3.91497975e-03,\n",
       "         1.02581307e-02,  3.18636075e-02, -4.20974009e-02, -6.66075898e-03,\n",
       "         2.48229429e-02,  1.19641824e-02, -2.52436548e-02,  1.71536282e-02,\n",
       "         3.19568180e-02, -4.50095907e-02,  2.03785188e-02,  3.80981974e-02,\n",
       "        -2.11242028e-02,  1.18820854e-02, -3.76303564e-04, -8.87256290e-04,\n",
       "         7.49150068e-02, -1.01155639e-02, -2.94809099e-02,  7.10153999e-03,\n",
       "         6.48592487e-02, -1.94550739e-05, -1.11182496e-01, -5.66404350e-02,\n",
       "        -2.52492726e-02,  1.38240755e-02,  7.55137345e-03, -1.46898348e-02,\n",
       "         2.22207401e-02,  5.33682411e-04,  2.86545679e-02, -6.54062554e-02,\n",
       "         2.24799309e-02,  5.24192043e-02, -2.71777790e-02,  8.84031318e-03,\n",
       "        -1.05444686e-02, -4.95050801e-04, -1.30082602e-02,  3.40696201e-02,\n",
       "         2.01001949e-05, -1.76007561e-02,  8.07828270e-03, -6.34983089e-03,\n",
       "        -4.88275401e-02,  4.00034972e-02,  1.75283495e-02,  9.74304788e-03,\n",
       "         1.14656216e-03,  6.90655084e-03, -3.30178663e-02, -3.02616488e-02,\n",
       "        -3.29962373e-02,  2.22184248e-02,  3.96934114e-02,  3.49612981e-02,\n",
       "        -8.87161419e-02,  1.60383340e-02, -1.26950245e-03, -2.32299753e-02,\n",
       "        -1.26420278e-02,  2.95909867e-02,  2.31829137e-02,  1.65003687e-02,\n",
       "        -3.81323434e-02,  3.05584278e-02,  4.51847315e-02,  2.07054727e-02,\n",
       "        -1.63255271e-03,  6.37389300e-03, -2.33271606e-02, -5.73715195e-02,\n",
       "        -5.11532202e-02, -4.93464246e-02, -3.44207734e-02, -2.04844084e-02,\n",
       "        -2.87391618e-02,  5.63038066e-02, -8.33715219e-03,  2.81260279e-03,\n",
       "         2.13627312e-02, -1.49662048e-02, -5.19253723e-02,  2.39164475e-02,\n",
       "         4.13530879e-02,  3.56319025e-02,  8.95308703e-03, -3.69550250e-02,\n",
       "        -3.16563807e-02, -9.72753391e-03, -2.04478372e-02,  8.17026049e-02,\n",
       "        -1.99236162e-02, -1.28493551e-02,  1.64391287e-03, -4.63711470e-02,\n",
       "        -1.17448447e-02,  4.12844568e-02, -5.67117333e-03,  2.24809926e-02,\n",
       "        -3.83236781e-02, -1.59223415e-02,  2.21639052e-02, -2.22280174e-02,\n",
       "        -1.54940449e-02, -1.01861567e-03,  7.21554756e-02, -2.41180900e-02,\n",
       "        -1.79879684e-02,  9.44158062e-03, -3.65188271e-02, -1.49368902e-03,\n",
       "         6.17680475e-02,  5.66991717e-02,  4.52418588e-02,  2.77483314e-02,\n",
       "        -3.50607783e-02,  9.84826032e-03,  3.15149724e-02,  5.07388599e-02,\n",
       "        -1.77961607e-02, -3.29665728e-02,  1.27585670e-02,  2.99521834e-02,\n",
       "         3.04353181e-02,  1.07564814e-02,  8.39108042e-03,  3.33771221e-02,\n",
       "        -4.95182164e-02,  2.59656031e-02,  2.12878291e-03, -2.50239013e-04,\n",
       "         6.51650578e-02,  5.81840798e-02,  3.07667926e-02, -2.88986694e-03,\n",
       "        -1.51140867e-02, -3.88628454e-03, -2.01706421e-02,  4.65609506e-02,\n",
       "        -1.68076809e-02, -6.59578145e-02, -1.26034105e-02, -1.55909685e-02,\n",
       "        -6.79304241e-04, -3.24725248e-02, -6.40974427e-03,  3.73333041e-03,\n",
       "        -1.18836528e-02,  3.81205305e-02, -2.22536661e-02,  5.33905998e-02,\n",
       "         3.00371200e-02,  1.18945520e-02,  5.80814779e-02, -2.68650167e-02,\n",
       "         7.29336813e-02,  2.93379501e-02,  5.82008995e-02, -5.18405251e-02,\n",
       "        -2.97832955e-02,  3.41012441e-02,  3.58817242e-02,  2.01626755e-02,\n",
       "         1.53029815e-03,  3.30131804e-03, -2.03335918e-02,  2.88390256e-02,\n",
       "         1.79472901e-02,  3.13740484e-02,  5.43468818e-03,  5.02344146e-02,\n",
       "        -2.97928229e-02, -5.50696552e-02, -6.76094415e-03, -7.79470836e-04,\n",
       "        -1.20694516e-02,  2.82924976e-02,  2.94356071e-03, -2.83945389e-02,\n",
       "        -2.30177864e-02, -9.66011453e-03, -4.08909889e-03, -3.00462078e-02,\n",
       "        -5.52085694e-03,  3.04489140e-03, -1.92805920e-02, -1.19101666e-02,\n",
       "         1.14658067e-03, -2.52537876e-02,  2.08762214e-02,  7.25417584e-03,\n",
       "         6.35353327e-02, -2.79527716e-03,  1.50287999e-02,  3.25877145e-02,\n",
       "        -6.62059039e-02, -6.57664910e-02, -4.48119678e-02,  5.92018627e-02,\n",
       "         4.68917890e-03, -1.12712225e-02, -1.91877745e-02,  5.61325662e-02,\n",
       "         4.85782698e-02,  2.94703152e-02,  3.55923995e-02,  5.80262998e-03,\n",
       "         4.88802744e-03, -4.76187952e-02, -3.37588750e-02, -8.45590513e-03,\n",
       "         1.14556765e-02,  2.67739166e-02,  1.23477224e-02,  2.00255346e-02,\n",
       "         1.81062277e-02,  6.46769116e-03, -6.97586983e-02, -2.74993461e-02,\n",
       "        -7.13093113e-03, -2.73372978e-02,  7.44503736e-02,  1.47062903e-02,\n",
       "        -1.30421249e-02,  9.73011553e-03, -3.36028226e-02,  2.02024356e-02,\n",
       "         3.13419513e-02, -7.58527266e-03, -1.71298522e-03, -2.14764755e-02,\n",
       "         1.32148303e-02,  2.89809518e-03,  5.57682104e-03,  1.89360064e-02,\n",
       "        -7.54977250e-03,  5.85188568e-02, -3.90176196e-03,  9.89167718e-04,\n",
       "         1.98942572e-02,  8.60822108e-03,  2.15447564e-02,  2.29394641e-02,\n",
       "         6.50779298e-03,  4.21972945e-02,  8.26635398e-03, -2.81754844e-02,\n",
       "         7.21109146e-03, -2.69675273e-02,  7.82311857e-02, -2.18505859e-02,\n",
       "        -1.21231778e-02,  1.76022276e-02, -1.50717031e-02, -1.42517043e-02,\n",
       "        -8.10356997e-03,  3.10536241e-03, -1.54168665e-04, -1.05307968e-02,\n",
       "        -8.38614330e-02,  2.03410573e-02, -2.97046769e-02,  2.18859259e-02,\n",
       "         3.91102247e-02,  4.04879861e-02,  1.79388523e-02, -7.44179823e-03,\n",
       "        -1.97079275e-02,  9.81899351e-02, -3.58328968e-02, -5.74958250e-02,\n",
       "        -1.95771288e-02, -4.07495908e-02, -2.19417736e-02, -2.51251794e-02,\n",
       "         5.03383987e-02, -9.53014847e-03,  7.42822587e-02, -3.41540959e-04,\n",
       "        -3.74953868e-03,  2.93305125e-02,  1.55237771e-03, -2.88340785e-02,\n",
       "        -1.85488723e-02, -1.90557502e-02, -4.09590118e-02, -3.18212286e-02,\n",
       "         2.95139663e-02,  3.23087885e-03, -2.50308122e-02,  1.53750982e-02,\n",
       "         4.33425494e-02,  5.10640768e-03, -2.58109365e-02, -7.54621923e-02,\n",
       "        -1.04838898e-02,  4.82506678e-02, -1.21016856e-02, -5.31354696e-02,\n",
       "         2.99499370e-02, -3.44397910e-02,  1.44982124e-02,  3.35098095e-02,\n",
       "         4.15852033e-02, -1.07931793e-02,  1.73437055e-02,  1.92254987e-02,\n",
       "         2.45624296e-02,  4.63915765e-02, -5.21132164e-03, -1.41820693e-02,\n",
       "         4.22138162e-02, -6.33322522e-02,  4.98142019e-02, -2.07672585e-02,\n",
       "        -7.48898089e-02, -2.81311553e-02, -7.68959429e-03, -3.19059826e-02,\n",
       "        -1.94262322e-02, -3.94592285e-02,  3.08891516e-02,  5.22625865e-03,\n",
       "        -2.11188681e-02,  2.72949133e-02,  3.95513289e-02, -2.35161148e-02,\n",
       "         2.23498661e-02,  1.15609569e-02, -4.94572259e-02,  3.27671692e-02,\n",
       "         6.16607852e-02, -4.80517633e-02,  1.66053362e-02, -3.90644446e-02,\n",
       "         1.80994328e-02, -4.69239764e-02,  2.08607968e-02, -4.26504854e-03,\n",
       "         2.95830872e-02,  2.67971288e-02,  2.06799200e-03,  1.40325753e-02,\n",
       "         1.39026958e-02, -3.42218280e-02,  4.16489989e-02,  4.45410460e-02,\n",
       "         2.13968717e-02,  2.67350096e-02,  2.34731100e-02,  4.50120158e-02,\n",
       "        -6.25008196e-02, -8.93840659e-03, -1.02569759e-02,  3.47213037e-02,\n",
       "        -2.72306670e-02, -5.27837016e-02, -6.72355220e-02, -2.41084863e-02,\n",
       "        -6.29305989e-02, -2.45558359e-02,  6.79910257e-02, -1.71199068e-02,\n",
       "        -5.19690244e-03, -2.50085201e-02,  4.36798087e-04, -5.29310841e-04,\n",
       "         5.64266630e-02, -3.68509963e-02,  1.27868738e-03,  4.36809212e-02,\n",
       "         3.42691084e-03,  7.88337458e-03, -4.34134938e-02, -4.49230671e-02,\n",
       "         8.90783444e-02,  1.74692236e-02,  2.03296486e-02, -1.01353647e-02,\n",
       "        -9.39848833e-03,  8.80940557e-02, -5.66903781e-03, -1.05300872e-02,\n",
       "        -6.30244389e-02,  6.76474813e-03,  1.29810884e-03, -3.32524776e-02,\n",
       "        -6.34877980e-02,  7.06905797e-02, -5.23132831e-03, -2.53332146e-02,\n",
       "        -2.87126508e-02, -1.01521658e-02,  4.22700234e-02, -1.54305222e-02,\n",
       "        -7.59011582e-02,  3.65060493e-02,  4.00408134e-02,  2.08072998e-02,\n",
       "        -9.66927130e-03,  7.80477887e-03, -2.30107941e-02,  6.49472773e-02,\n",
       "        -2.14785580e-02,  1.98699511e-03, -1.97605323e-03, -4.29251567e-02,\n",
       "        -6.99224398e-02,  5.22380248e-02, -7.91266710e-02,  2.38740947e-02,\n",
       "        -4.35845666e-02,  1.17662074e-02,  1.32625895e-02,  6.97017312e-02,\n",
       "         4.33111675e-02, -4.57387604e-03,  6.64432049e-02, -3.31923030e-02,\n",
       "         1.59750096e-02, -5.51458597e-02, -1.20564671e-02,  5.07312641e-03,\n",
       "        -2.47540548e-02, -6.06123097e-02, -5.29979588e-03, -4.35959920e-02,\n",
       "         4.77819666e-02,  3.37773263e-02, -2.80110221e-02,  6.84495419e-02,\n",
       "         6.60216063e-02,  2.77557783e-03,  3.83193418e-02, -4.94900346e-02,\n",
       "         1.73597615e-02, -2.41690110e-02, -2.11087391e-02,  4.73573804e-03,\n",
       "         3.32153104e-02,  5.93856238e-02,  9.94154904e-03,  2.92046089e-02,\n",
       "        -2.83260141e-02,  3.52802873e-02, -4.07909043e-02, -5.74266575e-02,\n",
       "         2.63905060e-02, -7.08783716e-02,  1.73162371e-02,  5.38091501e-03,\n",
       "         1.15251066e-02, -2.14818493e-02,  2.60815420e-03,  3.82594578e-02,\n",
       "        -6.18265085e-02,  9.82393976e-03,  3.29366066e-02,  9.30187013e-03,\n",
       "        -6.35777712e-02,  8.44492838e-02,  1.37453887e-03,  1.92111218e-03,\n",
       "        -2.84220371e-02,  4.92005870e-02,  1.61023699e-02,  1.69644356e-02,\n",
       "         1.62301455e-02,  2.92291818e-03,  3.85009274e-02, -4.31264453e-02,\n",
       "         1.44625809e-02, -1.80732887e-02,  5.74169196e-02, -3.90737019e-02,\n",
       "         8.29734355e-02, -1.12668211e-02, -5.81889451e-02, -3.74181531e-02,\n",
       "         1.12795690e-02, -1.26190066e-01,  5.36711235e-03, -4.74467035e-03,\n",
       "        -3.80182602e-02, -3.80317979e-02,  3.38512696e-02, -5.65267462e-33,\n",
       "         3.12506109e-02, -2.74420846e-02,  1.49309682e-02,  9.66008678e-02,\n",
       "         3.82223092e-02,  6.07445315e-02, -8.67401250e-03, -2.20907796e-02,\n",
       "        -3.87738310e-02,  3.14043872e-02, -2.78094038e-02, -2.61556227e-02,\n",
       "        -2.18033255e-03, -5.67599572e-02, -3.29962671e-02, -3.37906405e-02,\n",
       "         2.51040645e-02,  1.20998919e-02, -4.59937938e-03, -2.30384106e-03,\n",
       "        -8.03607851e-02, -2.47460958e-02,  3.90837155e-02, -3.80970277e-02,\n",
       "         7.66094550e-02,  3.75051387e-02,  1.00947600e-02, -7.00766221e-02,\n",
       "        -2.27734819e-02,  3.35722677e-02, -2.90578399e-02, -3.86459637e-03,\n",
       "         3.98564301e-02, -3.37578319e-02, -2.65688114e-02,  8.76989216e-02,\n",
       "         8.22847337e-03, -1.56535506e-02, -1.40035506e-02,  2.47986913e-02,\n",
       "        -3.26931179e-02, -2.71499902e-02, -2.48089153e-02, -1.73133723e-02,\n",
       "        -4.77490798e-02,  4.30413149e-02,  1.23732835e-02,  1.67823378e-02,\n",
       "         5.97122684e-02,  1.10688619e-02, -2.47990694e-02, -4.01355699e-03,\n",
       "         3.85954939e-02,  7.99258612e-03,  4.08466086e-02,  8.16078708e-02,\n",
       "         1.41681060e-02, -1.61755644e-02,  4.62705828e-02,  6.75018281e-02,\n",
       "         4.88049071e-03,  4.43557203e-02, -5.26424870e-02,  4.46237773e-02,\n",
       "         1.51577638e-02, -3.11318245e-02, -2.43333587e-03, -1.35898134e-02,\n",
       "        -5.16744964e-02, -1.28283482e-02, -4.79294211e-02,  1.57548329e-05,\n",
       "         5.55568114e-02,  7.30250264e-03,  1.25851393e-01, -7.46831149e-02,\n",
       "        -3.31933685e-02, -2.04487033e-02, -8.40956420e-02, -9.70691293e-02,\n",
       "        -2.75863247e-04, -2.53043789e-02,  3.13058272e-02, -2.38177180e-02,\n",
       "        -2.50919238e-02,  1.06879957e-01, -8.03864375e-03, -4.56796885e-02,\n",
       "        -1.87865123e-02, -6.08093850e-02,  4.03947942e-02,  6.67789578e-03,\n",
       "        -3.44066136e-02,  5.60434870e-02,  2.06243489e-02,  7.52737187e-03,\n",
       "         3.48817147e-02, -8.49590357e-03,  2.34857877e-03, -5.82643552e-03,\n",
       "        -4.84207831e-02,  2.79288683e-02,  2.19938233e-02,  1.34437261e-02,\n",
       "        -3.05742603e-02, -2.82639507e-02, -5.49179986e-02,  4.83709574e-02,\n",
       "         2.10338365e-02, -4.58570383e-02, -8.81959591e-03,  3.36519107e-02,\n",
       "         3.62561531e-02, -5.10728881e-02, -5.84396198e-02,  7.98103632e-04,\n",
       "         1.99138056e-02,  2.59554386e-02, -9.53383557e-03, -2.35024728e-02,\n",
       "        -6.40766323e-02, -9.99838766e-03,  6.02089576e-02, -1.54787879e-02,\n",
       "         1.46333240e-02, -2.73179226e-02,  2.11187899e-02, -7.98223466e-02,\n",
       "        -6.87026978e-02,  9.48769506e-03, -1.09383278e-02,  1.36643210e-02,\n",
       "         2.81300345e-07,  1.70468632e-02,  1.37893213e-02, -1.67372171e-02,\n",
       "         3.99160311e-02, -5.93482293e-02, -8.79670493e-03,  4.47691679e-02,\n",
       "        -2.94926446e-02, -3.48557942e-02, -3.94704863e-02,  1.52494875e-03,\n",
       "        -5.70393205e-02, -1.58385169e-02,  2.68248599e-02, -2.32512131e-02,\n",
       "         1.21564278e-02, -1.29620088e-02, -6.76471069e-02,  3.04765757e-02,\n",
       "         2.22089197e-02, -7.54232239e-03, -1.48998545e-02, -1.43285831e-02,\n",
       "        -3.65560167e-02, -3.22323591e-02,  1.44278938e-02, -5.36744203e-03,\n",
       "        -1.84828993e-02,  6.61565587e-02,  2.09395234e-02,  3.05020064e-03,\n",
       "         1.59577858e-02,  3.94967310e-02, -2.02135723e-02, -2.40854546e-02,\n",
       "        -2.85920147e-02, -2.59215608e-02, -8.99069682e-02, -1.97141469e-02,\n",
       "        -8.99936780e-02, -3.41961822e-05,  1.10063748e-03, -2.26069894e-02,\n",
       "         1.26897113e-03, -3.18909436e-02, -3.87221053e-02, -7.64145749e-03,\n",
       "         1.19272871e-02,  6.19138591e-02, -5.65737449e-02, -9.06445552e-03,\n",
       "         4.63988222e-02, -2.26716846e-02,  5.40721870e-04,  3.30264913e-03,\n",
       "         7.85055396e-04, -5.53774601e-03,  2.09835395e-02,  1.68783106e-02,\n",
       "         7.32699782e-03,  1.08058956e-02,  3.89462262e-02, -3.56237292e-02,\n",
       "         1.80466436e-02, -1.45939477e-02,  4.73401742e-03,  1.92299783e-02,\n",
       "         2.68856474e-34,  1.68735697e-03, -5.82957976e-02,  2.25708243e-02,\n",
       "         6.02850085e-03, -3.00494265e-02,  3.22193988e-02, -1.27366185e-02,\n",
       "         3.73876840e-02,  2.93489732e-03,  4.22898531e-02, -1.54303585e-03],\n",
       "       dtype=float32)}"
      ]
     },
     "execution_count": 34,
     "metadata": {},
     "output_type": "execute_result"
    }
   ],
   "source": [
    "pages_and_chunks_over_min_token_len[419]"
   ]
  },
  {
   "cell_type": "code",
   "execution_count": 35,
   "metadata": {
    "executionInfo": {
     "elapsed": 7558,
     "status": "ok",
     "timestamp": 1761384073854,
     "user": {
      "displayName": "Muskan Motwani",
      "userId": "03800385271669659981"
     },
     "user_tz": -330
    },
    "id": "HOkh_XsZ9LJu"
   },
   "outputs": [],
   "source": [
    "text_chunk_embeddings_df=pd.DataFrame(pages_and_chunks_over_min_token_len)\n",
    "embeddings_df_save_path=\"text_chunk_embeddings.csv\"\n",
    "text_chunk_embeddings_df.to_csv(embeddings_df_save_path,index=False)"
   ]
  },
  {
   "cell_type": "code",
   "execution_count": 36,
   "metadata": {
    "colab": {
     "base_uri": "https://localhost:8080/",
     "height": 206
    },
    "executionInfo": {
     "elapsed": 26,
     "status": "ok",
     "timestamp": 1761384073889,
     "user": {
      "displayName": "Muskan Motwani",
      "userId": "03800385271669659981"
     },
     "user_tz": -330
    },
    "id": "GRr3DBim-ohi",
    "outputId": "896e37be-6f00-41a8-bd6d-76551be749ab"
   },
   "outputs": [
    {
     "data": {
      "application/vnd.google.colaboratory.intrinsic+json": {
       "summary": "{\n  \"name\": \"text_chunk_embeddings_df\",\n  \"rows\": 1680,\n  \"fields\": [\n    {\n      \"column\": \"page_number\",\n      \"properties\": {\n        \"dtype\": \"number\",\n        \"std\": 349,\n        \"min\": -39,\n        \"max\": 1166,\n        \"num_unique_values\": 1136,\n        \"samples\": [\n          795,\n          918,\n          265\n        ],\n        \"semantic_type\": \"\",\n        \"description\": \"\"\n      }\n    },\n    {\n      \"column\": \"sentence_chunk\",\n      \"properties\": {\n        \"dtype\": \"string\",\n        \"num_unique_values\": 1680,\n        \"samples\": [\n          \"The major determinants of Type 2 diabetes that can be changed are overnutrition and a sedentary lifestyle. Therefore, reversing or improving these factors by lifestyle interventions markedly improve the overall health of Type 2 diabetics and lower blood-glucose levels. In fact it has been shown that when people are overweight, losing as little as nine pounds (four kilograms) decreases blood- glucose levels in Type 2 diabetics. The Diabetes Prevention Trial demonstrated that by adhering to a diet containing between 1,200 and 1,800 kilocalories per day with a dietary fat intake goal of less than 25 percent and increasing physical activity to at least 150 minutes per week, people at high risk for Type 2 diabetes achieved a weight loss of 7 percent and significantly decreased their chances of developing Type 2 diabetes.15 The American Diabetes Association (ADA) has a website that provides information and tips for helping diabetics answer the question, \\u201cWhat Can I Eat\\u201d. In regard to carbohydrates the ADA recommends diabetics keep track of the carbohydrates they eat and set a limit. These dietary practices will help keep blood-glucose levels in the target range. Figure 18.5 Metabolic Syndrome: A Combination of Risk Factors Increasing the Chances for Chronic Disease 15.\\u00a0Knowler WC. (2002). Reduction in the Incidence of Type 2 Diabetes with Lifestyle Intervention or Metformin.\",\n          \"Scheme of a micelle formed by phospholipid s in an aqueous solution by Emmanuel Boutet /\\u00a0CC BY-SA 3.0 cholesterol so it acts as an emulsifier. It attracts and holds onto fat while it is simultaneously attracted to and held on to by water. Emulsification increases the surface area of lipids over a thousand- fold, making them more accessible to the digestive enzymes. Once the stomach contents have been emulsified, fat-breaking enzymes work on the triglycerides and diglycerides to sever fatty acids from their glycerol foundations. As pancreatic lipase enters the small intestine, it breaks down the fats into free fatty acids and monoglycerides. Yet again, another hurdle presents itself. How will the fats pass through the watery layer of mucus that coats the absorptive lining of the digestive tract?As before, the answer is bile. Bile salts envelop the fatty acids and monoglycerides to form micelles. Micelles have a fatty acid core with a water-soluble exterior.\",\n          \"Image by\\u00a0Gtirouflet / CC BY-SA 3.0 dense cortical bone is about 10 percent porous and it looks like many concentric circles, similar to the rings in a tree trunk, sandwiched together (Figure 2.27 \\u201cCortical (Compact) Bone\\u201d). Cortical bone tissue makes up approximately 80 percent of the adult skeleton. It surrounds all trabecular tissue and is the only bone tissue in the shafts of long bones. Figure 2.26 The Arrangement of Bone Tissues The two basic tissue types of bones are trabecular and cortical. This photo shows normal (left) and degraded (right) trabecular (spongy) bone. Figure 2.27 Cortical (Compact) Bone. The Skeletal System | 123\"\n        ],\n        \"semantic_type\": \"\",\n        \"description\": \"\"\n      }\n    },\n    {\n      \"column\": \"chunk_char_chount\",\n      \"properties\": {\n        \"dtype\": \"number\",\n        \"std\": 415,\n        \"min\": 121,\n        \"max\": 1831,\n        \"num_unique_values\": 992,\n        \"samples\": [\n          421,\n          777,\n          1617\n        ],\n        \"semantic_type\": \"\",\n        \"description\": \"\"\n      }\n    },\n    {\n      \"column\": \"chunk_word_count\",\n      \"properties\": {\n        \"dtype\": \"number\",\n        \"std\": 66,\n        \"min\": 9,\n        \"max\": 297,\n        \"num_unique_values\": 257,\n        \"samples\": [\n          227,\n          276,\n          73\n        ],\n        \"semantic_type\": \"\",\n        \"description\": \"\"\n      }\n    },\n    {\n      \"column\": \"chunk_token_count\",\n      \"properties\": {\n        \"dtype\": \"number\",\n        \"std\": 103.84074677997317,\n        \"min\": 30.25,\n        \"max\": 457.75,\n        \"num_unique_values\": 992,\n        \"samples\": [\n          105.25,\n          194.25,\n          404.25\n        ],\n        \"semantic_type\": \"\",\n        \"description\": \"\"\n      }\n    },\n    {\n      \"column\": \"embedding\",\n      \"properties\": {\n        \"dtype\": \"object\",\n        \"semantic_type\": \"\",\n        \"description\": \"\"\n      }\n    }\n  ]\n}",
       "type": "dataframe",
       "variable_name": "text_chunk_embeddings_df"
      },
      "text/html": [
       "\n",
       "  <div id=\"df-1eda7ae1-9ac1-4963-b078-23cbc2de03a3\" class=\"colab-df-container\">\n",
       "    <div>\n",
       "<style scoped>\n",
       "    .dataframe tbody tr th:only-of-type {\n",
       "        vertical-align: middle;\n",
       "    }\n",
       "\n",
       "    .dataframe tbody tr th {\n",
       "        vertical-align: top;\n",
       "    }\n",
       "\n",
       "    .dataframe thead th {\n",
       "        text-align: right;\n",
       "    }\n",
       "</style>\n",
       "<table border=\"1\" class=\"dataframe\">\n",
       "  <thead>\n",
       "    <tr style=\"text-align: right;\">\n",
       "      <th></th>\n",
       "      <th>page_number</th>\n",
       "      <th>sentence_chunk</th>\n",
       "      <th>chunk_char_chount</th>\n",
       "      <th>chunk_word_count</th>\n",
       "      <th>chunk_token_count</th>\n",
       "      <th>embedding</th>\n",
       "    </tr>\n",
       "  </thead>\n",
       "  <tbody>\n",
       "    <tr>\n",
       "      <th>0</th>\n",
       "      <td>-39</td>\n",
       "      <td>Human Nutrition: 2020 Edition UNIVERSITY OF HA...</td>\n",
       "      <td>308</td>\n",
       "      <td>42</td>\n",
       "      <td>77.00</td>\n",
       "      <td>[0.06742427, 0.090228155, -0.005095483, -0.031...</td>\n",
       "    </tr>\n",
       "    <tr>\n",
       "      <th>1</th>\n",
       "      <td>-38</td>\n",
       "      <td>Human Nutrition: 2020 Edition by University of...</td>\n",
       "      <td>210</td>\n",
       "      <td>30</td>\n",
       "      <td>52.50</td>\n",
       "      <td>[0.055215605, 0.05921393, -0.01661673, -0.0204...</td>\n",
       "    </tr>\n",
       "    <tr>\n",
       "      <th>2</th>\n",
       "      <td>-37</td>\n",
       "      <td>Contents Preface University of Hawai‘i at Māno...</td>\n",
       "      <td>766</td>\n",
       "      <td>114</td>\n",
       "      <td>191.50</td>\n",
       "      <td>[0.027980179, 0.03398138, -0.020642674, 0.0019...</td>\n",
       "    </tr>\n",
       "    <tr>\n",
       "      <th>3</th>\n",
       "      <td>-36</td>\n",
       "      <td>Lifestyles and Nutrition University of Hawai‘i...</td>\n",
       "      <td>941</td>\n",
       "      <td>142</td>\n",
       "      <td>235.25</td>\n",
       "      <td>[0.06825668, 0.038127486, -0.008468552, -0.018...</td>\n",
       "    </tr>\n",
       "    <tr>\n",
       "      <th>4</th>\n",
       "      <td>-35</td>\n",
       "      <td>The Cardiovascular System University of Hawai‘...</td>\n",
       "      <td>998</td>\n",
       "      <td>152</td>\n",
       "      <td>249.50</td>\n",
       "      <td>[0.03302645, -0.008497705, 0.009571587, -0.004...</td>\n",
       "    </tr>\n",
       "  </tbody>\n",
       "</table>\n",
       "</div>\n",
       "    <div class=\"colab-df-buttons\">\n",
       "\n",
       "  <div class=\"colab-df-container\">\n",
       "    <button class=\"colab-df-convert\" onclick=\"convertToInteractive('df-1eda7ae1-9ac1-4963-b078-23cbc2de03a3')\"\n",
       "            title=\"Convert this dataframe to an interactive table.\"\n",
       "            style=\"display:none;\">\n",
       "\n",
       "  <svg xmlns=\"http://www.w3.org/2000/svg\" height=\"24px\" viewBox=\"0 -960 960 960\">\n",
       "    <path d=\"M120-120v-720h720v720H120Zm60-500h600v-160H180v160Zm220 220h160v-160H400v160Zm0 220h160v-160H400v160ZM180-400h160v-160H180v160Zm440 0h160v-160H620v160ZM180-180h160v-160H180v160Zm440 0h160v-160H620v160Z\"/>\n",
       "  </svg>\n",
       "    </button>\n",
       "\n",
       "  <style>\n",
       "    .colab-df-container {\n",
       "      display:flex;\n",
       "      gap: 12px;\n",
       "    }\n",
       "\n",
       "    .colab-df-convert {\n",
       "      background-color: #E8F0FE;\n",
       "      border: none;\n",
       "      border-radius: 50%;\n",
       "      cursor: pointer;\n",
       "      display: none;\n",
       "      fill: #1967D2;\n",
       "      height: 32px;\n",
       "      padding: 0 0 0 0;\n",
       "      width: 32px;\n",
       "    }\n",
       "\n",
       "    .colab-df-convert:hover {\n",
       "      background-color: #E2EBFA;\n",
       "      box-shadow: 0px 1px 2px rgba(60, 64, 67, 0.3), 0px 1px 3px 1px rgba(60, 64, 67, 0.15);\n",
       "      fill: #174EA6;\n",
       "    }\n",
       "\n",
       "    .colab-df-buttons div {\n",
       "      margin-bottom: 4px;\n",
       "    }\n",
       "\n",
       "    [theme=dark] .colab-df-convert {\n",
       "      background-color: #3B4455;\n",
       "      fill: #D2E3FC;\n",
       "    }\n",
       "\n",
       "    [theme=dark] .colab-df-convert:hover {\n",
       "      background-color: #434B5C;\n",
       "      box-shadow: 0px 1px 3px 1px rgba(0, 0, 0, 0.15);\n",
       "      filter: drop-shadow(0px 1px 2px rgba(0, 0, 0, 0.3));\n",
       "      fill: #FFFFFF;\n",
       "    }\n",
       "  </style>\n",
       "\n",
       "    <script>\n",
       "      const buttonEl =\n",
       "        document.querySelector('#df-1eda7ae1-9ac1-4963-b078-23cbc2de03a3 button.colab-df-convert');\n",
       "      buttonEl.style.display =\n",
       "        google.colab.kernel.accessAllowed ? 'block' : 'none';\n",
       "\n",
       "      async function convertToInteractive(key) {\n",
       "        const element = document.querySelector('#df-1eda7ae1-9ac1-4963-b078-23cbc2de03a3');\n",
       "        const dataTable =\n",
       "          await google.colab.kernel.invokeFunction('convertToInteractive',\n",
       "                                                    [key], {});\n",
       "        if (!dataTable) return;\n",
       "\n",
       "        const docLinkHtml = 'Like what you see? Visit the ' +\n",
       "          '<a target=\"_blank\" href=https://colab.research.google.com/notebooks/data_table.ipynb>data table notebook</a>'\n",
       "          + ' to learn more about interactive tables.';\n",
       "        element.innerHTML = '';\n",
       "        dataTable['output_type'] = 'display_data';\n",
       "        await google.colab.output.renderOutput(dataTable, element);\n",
       "        const docLink = document.createElement('div');\n",
       "        docLink.innerHTML = docLinkHtml;\n",
       "        element.appendChild(docLink);\n",
       "      }\n",
       "    </script>\n",
       "  </div>\n",
       "\n",
       "\n",
       "    <div id=\"df-41da333d-8b50-4abf-bcd4-117c25a0a31a\">\n",
       "      <button class=\"colab-df-quickchart\" onclick=\"quickchart('df-41da333d-8b50-4abf-bcd4-117c25a0a31a')\"\n",
       "                title=\"Suggest charts\"\n",
       "                style=\"display:none;\">\n",
       "\n",
       "<svg xmlns=\"http://www.w3.org/2000/svg\" height=\"24px\"viewBox=\"0 0 24 24\"\n",
       "     width=\"24px\">\n",
       "    <g>\n",
       "        <path d=\"M19 3H5c-1.1 0-2 .9-2 2v14c0 1.1.9 2 2 2h14c1.1 0 2-.9 2-2V5c0-1.1-.9-2-2-2zM9 17H7v-7h2v7zm4 0h-2V7h2v10zm4 0h-2v-4h2v4z\"/>\n",
       "    </g>\n",
       "</svg>\n",
       "      </button>\n",
       "\n",
       "<style>\n",
       "  .colab-df-quickchart {\n",
       "      --bg-color: #E8F0FE;\n",
       "      --fill-color: #1967D2;\n",
       "      --hover-bg-color: #E2EBFA;\n",
       "      --hover-fill-color: #174EA6;\n",
       "      --disabled-fill-color: #AAA;\n",
       "      --disabled-bg-color: #DDD;\n",
       "  }\n",
       "\n",
       "  [theme=dark] .colab-df-quickchart {\n",
       "      --bg-color: #3B4455;\n",
       "      --fill-color: #D2E3FC;\n",
       "      --hover-bg-color: #434B5C;\n",
       "      --hover-fill-color: #FFFFFF;\n",
       "      --disabled-bg-color: #3B4455;\n",
       "      --disabled-fill-color: #666;\n",
       "  }\n",
       "\n",
       "  .colab-df-quickchart {\n",
       "    background-color: var(--bg-color);\n",
       "    border: none;\n",
       "    border-radius: 50%;\n",
       "    cursor: pointer;\n",
       "    display: none;\n",
       "    fill: var(--fill-color);\n",
       "    height: 32px;\n",
       "    padding: 0;\n",
       "    width: 32px;\n",
       "  }\n",
       "\n",
       "  .colab-df-quickchart:hover {\n",
       "    background-color: var(--hover-bg-color);\n",
       "    box-shadow: 0 1px 2px rgba(60, 64, 67, 0.3), 0 1px 3px 1px rgba(60, 64, 67, 0.15);\n",
       "    fill: var(--button-hover-fill-color);\n",
       "  }\n",
       "\n",
       "  .colab-df-quickchart-complete:disabled,\n",
       "  .colab-df-quickchart-complete:disabled:hover {\n",
       "    background-color: var(--disabled-bg-color);\n",
       "    fill: var(--disabled-fill-color);\n",
       "    box-shadow: none;\n",
       "  }\n",
       "\n",
       "  .colab-df-spinner {\n",
       "    border: 2px solid var(--fill-color);\n",
       "    border-color: transparent;\n",
       "    border-bottom-color: var(--fill-color);\n",
       "    animation:\n",
       "      spin 1s steps(1) infinite;\n",
       "  }\n",
       "\n",
       "  @keyframes spin {\n",
       "    0% {\n",
       "      border-color: transparent;\n",
       "      border-bottom-color: var(--fill-color);\n",
       "      border-left-color: var(--fill-color);\n",
       "    }\n",
       "    20% {\n",
       "      border-color: transparent;\n",
       "      border-left-color: var(--fill-color);\n",
       "      border-top-color: var(--fill-color);\n",
       "    }\n",
       "    30% {\n",
       "      border-color: transparent;\n",
       "      border-left-color: var(--fill-color);\n",
       "      border-top-color: var(--fill-color);\n",
       "      border-right-color: var(--fill-color);\n",
       "    }\n",
       "    40% {\n",
       "      border-color: transparent;\n",
       "      border-right-color: var(--fill-color);\n",
       "      border-top-color: var(--fill-color);\n",
       "    }\n",
       "    60% {\n",
       "      border-color: transparent;\n",
       "      border-right-color: var(--fill-color);\n",
       "    }\n",
       "    80% {\n",
       "      border-color: transparent;\n",
       "      border-right-color: var(--fill-color);\n",
       "      border-bottom-color: var(--fill-color);\n",
       "    }\n",
       "    90% {\n",
       "      border-color: transparent;\n",
       "      border-bottom-color: var(--fill-color);\n",
       "    }\n",
       "  }\n",
       "</style>\n",
       "\n",
       "      <script>\n",
       "        async function quickchart(key) {\n",
       "          const quickchartButtonEl =\n",
       "            document.querySelector('#' + key + ' button');\n",
       "          quickchartButtonEl.disabled = true;  // To prevent multiple clicks.\n",
       "          quickchartButtonEl.classList.add('colab-df-spinner');\n",
       "          try {\n",
       "            const charts = await google.colab.kernel.invokeFunction(\n",
       "                'suggestCharts', [key], {});\n",
       "          } catch (error) {\n",
       "            console.error('Error during call to suggestCharts:', error);\n",
       "          }\n",
       "          quickchartButtonEl.classList.remove('colab-df-spinner');\n",
       "          quickchartButtonEl.classList.add('colab-df-quickchart-complete');\n",
       "        }\n",
       "        (() => {\n",
       "          let quickchartButtonEl =\n",
       "            document.querySelector('#df-41da333d-8b50-4abf-bcd4-117c25a0a31a button');\n",
       "          quickchartButtonEl.style.display =\n",
       "            google.colab.kernel.accessAllowed ? 'block' : 'none';\n",
       "        })();\n",
       "      </script>\n",
       "    </div>\n",
       "\n",
       "    </div>\n",
       "  </div>\n"
      ],
      "text/plain": [
       "   page_number                                     sentence_chunk  \\\n",
       "0          -39  Human Nutrition: 2020 Edition UNIVERSITY OF HA...   \n",
       "1          -38  Human Nutrition: 2020 Edition by University of...   \n",
       "2          -37  Contents Preface University of Hawai‘i at Māno...   \n",
       "3          -36  Lifestyles and Nutrition University of Hawai‘i...   \n",
       "4          -35  The Cardiovascular System University of Hawai‘...   \n",
       "\n",
       "   chunk_char_chount  chunk_word_count  chunk_token_count  \\\n",
       "0                308                42              77.00   \n",
       "1                210                30              52.50   \n",
       "2                766               114             191.50   \n",
       "3                941               142             235.25   \n",
       "4                998               152             249.50   \n",
       "\n",
       "                                           embedding  \n",
       "0  [0.06742427, 0.090228155, -0.005095483, -0.031...  \n",
       "1  [0.055215605, 0.05921393, -0.01661673, -0.0204...  \n",
       "2  [0.027980179, 0.03398138, -0.020642674, 0.0019...  \n",
       "3  [0.06825668, 0.038127486, -0.008468552, -0.018...  \n",
       "4  [0.03302645, -0.008497705, 0.009571587, -0.004...  "
      ]
     },
     "execution_count": 36,
     "metadata": {},
     "output_type": "execute_result"
    }
   ],
   "source": [
    "text_chunk_embeddings_df.head()"
   ]
  },
  {
   "cell_type": "code",
   "execution_count": 37,
   "metadata": {
    "colab": {
     "base_uri": "https://localhost:8080/",
     "height": 206
    },
    "executionInfo": {
     "elapsed": 590,
     "status": "ok",
     "timestamp": 1761384074480,
     "user": {
      "displayName": "Muskan Motwani",
      "userId": "03800385271669659981"
     },
     "user_tz": -330
    },
    "id": "uSHRwf80-vZV",
    "outputId": "0e7a32e8-cb74-492b-9fcb-d08f48d20352"
   },
   "outputs": [
    {
     "data": {
      "application/vnd.google.colaboratory.intrinsic+json": {
       "summary": "{\n  \"name\": \"text_chunk_embeddings_df_load\",\n  \"rows\": 1680,\n  \"fields\": [\n    {\n      \"column\": \"page_number\",\n      \"properties\": {\n        \"dtype\": \"number\",\n        \"std\": 349,\n        \"min\": -39,\n        \"max\": 1166,\n        \"num_unique_values\": 1136,\n        \"samples\": [\n          795,\n          918,\n          265\n        ],\n        \"semantic_type\": \"\",\n        \"description\": \"\"\n      }\n    },\n    {\n      \"column\": \"sentence_chunk\",\n      \"properties\": {\n        \"dtype\": \"string\",\n        \"num_unique_values\": 1680,\n        \"samples\": [\n          \"The major determinants of Type 2 diabetes that can be changed are overnutrition and a sedentary lifestyle. Therefore, reversing or improving these factors by lifestyle interventions markedly improve the overall health of Type 2 diabetics and lower blood-glucose levels. In fact it has been shown that when people are overweight, losing as little as nine pounds (four kilograms) decreases blood- glucose levels in Type 2 diabetics. The Diabetes Prevention Trial demonstrated that by adhering to a diet containing between 1,200 and 1,800 kilocalories per day with a dietary fat intake goal of less than 25 percent and increasing physical activity to at least 150 minutes per week, people at high risk for Type 2 diabetes achieved a weight loss of 7 percent and significantly decreased their chances of developing Type 2 diabetes.15 The American Diabetes Association (ADA) has a website that provides information and tips for helping diabetics answer the question, \\u201cWhat Can I Eat\\u201d. In regard to carbohydrates the ADA recommends diabetics keep track of the carbohydrates they eat and set a limit. These dietary practices will help keep blood-glucose levels in the target range. Figure 18.5 Metabolic Syndrome: A Combination of Risk Factors Increasing the Chances for Chronic Disease 15.\\u00a0Knowler WC. (2002). Reduction in the Incidence of Type 2 Diabetes with Lifestyle Intervention or Metformin.\",\n          \"Scheme of a micelle formed by phospholipid s in an aqueous solution by Emmanuel Boutet /\\u00a0CC BY-SA 3.0 cholesterol so it acts as an emulsifier. It attracts and holds onto fat while it is simultaneously attracted to and held on to by water. Emulsification increases the surface area of lipids over a thousand- fold, making them more accessible to the digestive enzymes. Once the stomach contents have been emulsified, fat-breaking enzymes work on the triglycerides and diglycerides to sever fatty acids from their glycerol foundations. As pancreatic lipase enters the small intestine, it breaks down the fats into free fatty acids and monoglycerides. Yet again, another hurdle presents itself. How will the fats pass through the watery layer of mucus that coats the absorptive lining of the digestive tract?As before, the answer is bile. Bile salts envelop the fatty acids and monoglycerides to form micelles. Micelles have a fatty acid core with a water-soluble exterior.\",\n          \"Image by\\u00a0Gtirouflet / CC BY-SA 3.0 dense cortical bone is about 10 percent porous and it looks like many concentric circles, similar to the rings in a tree trunk, sandwiched together (Figure 2.27 \\u201cCortical (Compact) Bone\\u201d). Cortical bone tissue makes up approximately 80 percent of the adult skeleton. It surrounds all trabecular tissue and is the only bone tissue in the shafts of long bones. Figure 2.26 The Arrangement of Bone Tissues The two basic tissue types of bones are trabecular and cortical. This photo shows normal (left) and degraded (right) trabecular (spongy) bone. Figure 2.27 Cortical (Compact) Bone. The Skeletal System | 123\"\n        ],\n        \"semantic_type\": \"\",\n        \"description\": \"\"\n      }\n    },\n    {\n      \"column\": \"chunk_char_chount\",\n      \"properties\": {\n        \"dtype\": \"number\",\n        \"std\": 415,\n        \"min\": 121,\n        \"max\": 1831,\n        \"num_unique_values\": 992,\n        \"samples\": [\n          421,\n          777,\n          1617\n        ],\n        \"semantic_type\": \"\",\n        \"description\": \"\"\n      }\n    },\n    {\n      \"column\": \"chunk_word_count\",\n      \"properties\": {\n        \"dtype\": \"number\",\n        \"std\": 66,\n        \"min\": 9,\n        \"max\": 297,\n        \"num_unique_values\": 257,\n        \"samples\": [\n          227,\n          276,\n          73\n        ],\n        \"semantic_type\": \"\",\n        \"description\": \"\"\n      }\n    },\n    {\n      \"column\": \"chunk_token_count\",\n      \"properties\": {\n        \"dtype\": \"number\",\n        \"std\": 103.84074677997317,\n        \"min\": 30.25,\n        \"max\": 457.75,\n        \"num_unique_values\": 992,\n        \"samples\": [\n          105.25,\n          194.25,\n          404.25\n        ],\n        \"semantic_type\": \"\",\n        \"description\": \"\"\n      }\n    },\n    {\n      \"column\": \"embedding\",\n      \"properties\": {\n        \"dtype\": \"string\",\n        \"num_unique_values\": 1680,\n        \"samples\": [\n          \"[ 2.29729936e-02  2.80859247e-02  1.12715028e-02  2.38459818e-02\\n  6.08849078e-02 -2.20196154e-02 -3.04391272e-02  7.16837794e-02\\n  3.34621556e-02  2.56895050e-02  3.81384008e-02 -1.46272546e-02\\n  6.05136622e-03  3.96036729e-02 -2.14920938e-02 -2.19398998e-02\\n  3.65133658e-02 -3.25683206e-02 -2.36242712e-02  1.27335107e-02\\n -2.04192027e-02 -7.57569540e-03 -2.97014639e-02  1.34395370e-02\\n -3.89802977e-02  7.09831575e-03  8.38490278e-02  4.68920358e-03\\n -6.21600356e-03 -3.64423431e-02  6.83111101e-02  2.30760761e-02\\n  1.70159042e-02 -3.24641317e-02  2.05456968e-06 -3.15726772e-02\\n -4.76173125e-03  2.94138268e-02  9.00707301e-03  4.50910591e-02\\n  1.82500053e-02 -2.45281868e-02  2.80213840e-02  3.24000902e-02\\n  1.67630445e-02 -2.78206598e-02  2.20614728e-02  3.33284363e-02\\n  2.97171697e-02  2.26194095e-02  9.21218656e-03 -9.00363475e-02\\n  1.28435241e-02 -2.76685599e-02 -1.24297189e-02  2.76750606e-02\\n -7.83730485e-03  5.50725572e-02 -3.28327604e-02 -9.84457228e-03\\n  4.40649986e-02 -5.17247580e-02 -2.61238832e-02  2.34586075e-02\\n -3.23815271e-02  1.43910414e-02 -2.31871102e-02 -6.13955893e-02\\n  3.56797278e-02  4.42797765e-02  7.54781961e-02 -1.18830837e-02\\n  2.61459313e-02  2.20207181e-02  1.07243452e-02  9.09302011e-03\\n  2.32546367e-02 -7.01869503e-02 -4.57891934e-02  2.91911159e-02\\n -1.55158946e-02  1.12296315e-02  1.60889216e-02 -2.10473686e-02\\n  1.33293588e-03 -1.47659061e-02 -1.23751191e-02  2.28246972e-02\\n  1.66185498e-02  7.55398767e-03 -2.91870274e-02  2.15626322e-02\\n -4.81806397e-02  2.03475356e-02  2.55756229e-02 -1.04519287e-02\\n  2.39592195e-02  7.22793713e-02  2.07348708e-02 -5.32777086e-02\\n  4.41575386e-02  7.44044408e-02  8.33298787e-02 -2.73018330e-03\\n  2.66782846e-03  1.34550445e-02 -3.98521461e-02  1.67208456e-03\\n -3.05837654e-02  4.47130352e-02 -2.64747557e-03 -1.56471562e-02\\n -7.53284544e-02 -2.73019988e-02  4.55050282e-02 -1.80288183e-03\\n  5.39071765e-03 -4.53816950e-02 -4.69642691e-02 -3.81236225e-02\\n -1.64280552e-02  8.61566328e-03  3.98035981e-02 -1.25875678e-02\\n -1.80445462e-02  1.02986144e-02  4.12723199e-02 -1.31619927e-02\\n  4.11747582e-02  6.24926109e-03  4.69480492e-02 -1.32724615e-02\\n -3.39613156e-03  8.27880017e-03  6.28441479e-03  5.81035987e-02\\n -1.29940324e-02 -3.89739894e-03  2.20918916e-02  7.65073160e-03\\n -5.82268983e-02  5.13123907e-03 -2.03677192e-02 -6.17644377e-02\\n  5.85706672e-03 -2.43920088e-02  3.34543474e-02  3.82698998e-02\\n  3.51355155e-03 -1.31548848e-02 -1.13629568e-02 -1.27255218e-02\\n -2.48163729e-03  1.72944460e-02  8.27016756e-02 -3.42378323e-03\\n -5.70959002e-02  2.50502280e-03  3.03654745e-02  9.44623630e-03\\n  1.72372144e-02  7.99588207e-03 -2.43335906e-02  2.92636678e-02\\n  6.21003769e-02  7.02462392e-04  4.73045260e-02 -2.81685181e-02\\n  3.49311344e-03  5.04241996e-02  1.11960443e-02  3.41657177e-02\\n -4.17057797e-02  5.92101365e-02  2.73968298e-02 -3.56948860e-02\\n  3.93448733e-02  3.51529084e-02  8.42084922e-03 -1.98321622e-02\\n  4.33469638e-02 -1.18260654e-02  4.92545739e-02 -3.05400938e-02\\n  4.26849397e-03  4.03069891e-03 -6.49488494e-02 -7.95927830e-04\\n -3.46954428e-02 -9.99789964e-03  1.64243709e-02 -1.20536964e-02\\n  7.07974732e-02 -9.05370861e-02  2.73720641e-02  2.17130911e-02\\n -2.33670175e-02  9.12264064e-02  1.64063275e-02  3.62658650e-02\\n  1.47561058e-02 -6.63468195e-03 -5.39023168e-02 -6.76799640e-02\\n  4.55672108e-03 -2.33429950e-02  4.05053869e-02 -1.99937355e-02\\n  3.04896999e-02 -5.00026420e-02  4.43863310e-02 -2.04093866e-02\\n  6.49715960e-02 -4.67289835e-02  3.04762609e-02 -4.17238213e-02\\n  1.36049725e-02 -1.18888170e-02  1.12099992e-02  6.29553497e-02\\n -1.77913345e-02  4.15676348e-02 -1.00579914e-02  6.75380579e-04\\n  2.51111481e-02 -1.26866112e-02  1.68014970e-02 -3.28931436e-02\\n -4.90503460e-02 -5.12543134e-03  5.16201481e-02  2.13184431e-02\\n -6.63907528e-02  2.90889479e-02 -7.74788088e-04 -3.93134728e-02\\n -6.18339516e-03  1.16510857e-02 -3.34363915e-02 -2.28617582e-02\\n -9.15383361e-03 -3.65932956e-02 -3.25162150e-02 -1.53120300e-02\\n -9.30079743e-02 -3.57470848e-02 -7.29240244e-03  4.26716134e-02\\n -4.41388600e-02  6.41513392e-02 -2.29487233e-02 -5.17615937e-02\\n  1.37782395e-02  2.89340168e-02 -7.61773959e-02  1.12729901e-02\\n -7.52168596e-02  5.26858820e-03  1.53507972e-02  4.68976609e-02\\n -1.34887500e-02 -8.26929696e-03  5.36377216e-03  4.95160893e-02\\n -1.30892321e-02 -4.93161604e-02  8.89854971e-03  2.88364571e-02\\n -4.04627770e-02 -5.19260205e-02  6.67705759e-03 -2.46643974e-03\\n  2.24981643e-02  2.95400061e-02 -5.24825882e-03  1.17631592e-02\\n  3.35198417e-02 -4.02948353e-03  1.56868044e-02  2.04602331e-02\\n  8.72191042e-02  6.44629598e-02  4.14886847e-02  1.39544290e-02\\n  3.64198275e-02 -4.75281104e-02 -1.10576088e-02 -6.18624985e-02\\n  1.04862954e-02  1.40445842e-03  5.39735332e-02 -1.78427398e-02\\n  4.31337720e-03  6.45332187e-02 -4.83200960e-02  7.58985579e-02\\n  1.35628963e-02 -4.18067127e-02  1.54282367e-02 -2.14080513e-02\\n  2.15211380e-02  3.94406505e-02 -1.00536663e-02  6.46506064e-03\\n -1.72794797e-02 -1.12748882e-02 -2.73868199e-02 -3.50130014e-02\\n  8.66164360e-03 -6.33234391e-03  4.85603362e-02  3.74994017e-02\\n  2.12799571e-02 -2.77581792e-02 -3.15050827e-03 -5.67034585e-03\\n -4.97750565e-02  1.61907282e-02 -3.45673896e-02  2.42028050e-02\\n -6.08446775e-04 -1.02716694e-02 -4.54923660e-02 -1.02981981e-02\\n  1.40911760e-02  3.75180058e-02  1.68752391e-02  2.34776568e-02\\n -6.18586950e-02  3.49497013e-02  2.63891239e-02  3.26851495e-02\\n  1.95784699e-02  4.40050475e-03 -2.89963558e-02 -6.47586118e-03\\n  3.63212936e-02  7.43830428e-02 -2.42742691e-02  5.18779345e-02\\n -7.51687288e-02 -3.40245441e-02  1.70769263e-02  8.19654986e-02\\n -1.98336393e-02 -1.83938295e-02 -5.01794182e-02  2.75631510e-02\\n -4.24477309e-02  2.42094807e-02 -2.18182728e-02  1.33800367e-02\\n  3.36719789e-02  1.84938428e-03  1.08133443e-02 -6.36373088e-02\\n  4.44507338e-02  1.21701183e-02 -2.84682456e-02 -1.32247461e-02\\n  2.05366537e-02  4.44630906e-02 -6.56913221e-02 -1.55691430e-02\\n  1.03134615e-02 -3.58045995e-02 -1.38292536e-02  4.76106972e-04\\n  1.26236947e-02  1.15177929e-02 -8.35120864e-03  3.91691886e-02\\n  3.29118548e-03  1.52778830e-02 -4.11466658e-02 -2.41303612e-02\\n  2.96915583e-02  1.58117134e-02 -5.56087308e-02 -6.59466488e-03\\n  3.99093702e-02 -9.33312997e-02  1.72184668e-02  3.36730038e-03\\n -1.26988925e-02  2.48799026e-02 -8.33463017e-03 -2.17450541e-02\\n  5.75357676e-02 -3.72378230e-02  2.99196932e-02 -5.25630917e-03\\n  7.22944224e-03 -2.23791059e-02  9.92898550e-03 -4.89397831e-02\\n -3.30955237e-02 -3.47236097e-02 -3.55034135e-02  4.07062992e-02\\n  2.99441144e-02 -1.32662177e-01  3.83204930e-02 -2.97529250e-02\\n  1.57118160e-02  1.49636660e-02  3.05667222e-02  5.80924191e-03\\n  4.45674099e-02  8.68415609e-02  3.00537366e-02 -3.14172916e-02\\n -1.12733589e-02 -6.85861558e-02  8.29142705e-02  9.32674331e-04\\n  8.28285981e-03  4.60251458e-02  5.92523962e-02 -8.62022396e-03\\n -1.28702661e-02 -9.42938775e-03  2.76092179e-02  4.46677506e-02\\n -6.61542863e-02 -4.07488793e-02 -2.03003008e-02  2.83709411e-02\\n -2.50594635e-02  1.89823303e-02  6.60287142e-02  6.14815056e-02\\n -1.37755740e-03 -3.10591212e-03  2.10915692e-02  1.09830471e-02\\n -2.95005180e-02 -1.86231136e-02  8.57474133e-02  5.12545407e-02\\n  2.64491849e-02 -3.36265154e-02  3.48860398e-02 -2.85117272e-02\\n  7.39187151e-02  2.89257783e-02  3.45990285e-02 -1.44111821e-02\\n  6.03982471e-02  5.42171905e-03  1.08373798e-02  1.06092403e-02\\n -6.86236620e-02  2.03311123e-04  1.60010923e-02 -8.57139844e-03\\n -2.39313953e-02 -2.35607512e-02 -3.61981913e-02 -4.08706442e-02\\n  1.07472852e-01  3.81625397e-03  3.19191143e-02 -1.63455922e-02\\n -1.62466578e-02 -6.20275317e-03 -5.22550642e-02  5.99559210e-02\\n -5.44447377e-02 -1.31395934e-02  4.59873192e-02  4.86567579e-02\\n  2.39443723e-02  3.04191783e-02 -4.35936935e-02 -5.25393821e-02\\n -7.88886547e-02  2.50433339e-03 -3.06024663e-02 -3.53883021e-02\\n -4.16593105e-02  2.38333195e-02 -1.45165902e-03 -2.84110215e-02\\n -2.23766919e-02  3.99736129e-02 -1.79760773e-02 -2.58030407e-02\\n -2.83792317e-02  1.75174344e-02 -3.72972190e-02 -2.12672749e-03\\n -6.22427315e-02 -6.65185750e-02 -2.23803930e-02 -7.89400563e-02\\n -1.83512364e-02  5.61044104e-02  1.92721095e-02  5.66429906e-02\\n  6.06254488e-03 -2.40686145e-02  3.77018414e-02 -2.64845379e-02\\n -3.40271066e-03 -3.50038819e-02 -1.39413467e-02  1.73181447e-03\\n  2.22160276e-02  3.72691453e-02 -3.77214141e-02  4.42813477e-03\\n  1.78216603e-02 -2.63886172e-02  1.44201554e-02  5.36080915e-03\\n -1.14303250e-02  1.87312663e-02  1.34986418e-03 -4.87837149e-03\\n -3.91571643e-03 -1.70022510e-02  5.42912073e-03  6.04774803e-02\\n  1.41849322e-02  3.82715948e-02 -3.95067707e-02 -2.00121179e-02\\n -2.09617075e-02  2.74659749e-02  9.52145085e-03 -6.81963284e-03\\n -1.10616414e-02 -8.06701835e-03 -2.63257306e-02 -1.13474587e-02\\n  4.03615795e-02 -2.57180911e-02 -3.69606204e-02 -2.36007571e-02\\n  1.45106576e-02 -3.04713286e-02  2.86728628e-02 -2.93920492e-03\\n -2.37206416e-03 -8.02426599e-03 -3.76460701e-02 -2.02637278e-02\\n  2.97035780e-02 -2.50615701e-02  1.87683722e-03 -5.57896942e-02\\n -2.73329727e-02 -3.78011093e-02  1.61891356e-02 -5.38802897e-33\\n  2.96111181e-02 -9.83625371e-03  4.98379730e-02  5.77777363e-02\\n  5.10296933e-02  1.32933361e-02 -6.45377636e-02 -9.37822927e-03\\n -5.93022965e-02  7.89666101e-02 -2.94902120e-02 -2.31252946e-02\\n  2.72870711e-05 -4.59786877e-02 -6.16562776e-02 -2.65489612e-02\\n  7.99556077e-03  1.57608150e-03 -3.19293924e-02 -1.06759882e-02\\n -6.44516423e-02  3.45161259e-02  8.73179641e-03  1.91062111e-02\\n  2.99177989e-02  4.72093485e-02  1.41662406e-02 -5.85128146e-04\\n  1.50942267e-03  1.84304714e-02 -1.34501364e-02  7.77283236e-02\\n -3.04924062e-04  4.56190258e-02  1.24297570e-02  7.88352564e-02\\n -6.26034802e-03 -3.03326026e-02  2.22761594e-02  3.11825913e-03\\n  6.48971871e-02 -5.33699840e-02  1.14038447e-03  3.22003779e-03\\n -8.58834013e-02  7.39832446e-02 -2.24174242e-02 -1.98693704e-02\\n  2.02376419e-03  2.72148233e-02 -4.08967324e-02 -6.27454603e-03\\n  2.47814730e-02  4.25337069e-02 -2.33338792e-02  4.21235934e-02\\n -5.35760866e-03 -1.38929002e-02  2.34856810e-02  2.73593273e-02\\n -2.59762239e-02  3.09628062e-02 -4.41264398e-02  3.08858342e-02\\n -3.02759488e-03 -7.87443575e-03 -1.53053198e-02  1.24026034e-02\\n -1.44549543e-02 -7.57972524e-02 -7.31532872e-02 -6.25108108e-02\\n  2.19611786e-02  4.04325090e-02 -2.31301039e-03 -6.09265305e-02\\n -4.90598828e-02  1.80721376e-02 -4.54713665e-02 -4.93626185e-02\\n -9.59481578e-03 -1.43827992e-02  1.51193812e-02 -3.79985273e-02\\n -4.98143695e-02  7.65519366e-02 -3.22401039e-02 -3.91259603e-02\\n -7.93611184e-02 -3.08242459e-02  2.04933323e-02  9.77791101e-03\\n -4.97582427e-04  5.28453011e-03  4.71584983e-02  5.64916898e-03\\n  8.42628777e-02 -6.12572804e-02 -3.29320366e-03  7.30868243e-03\\n -1.97428223e-02 -1.43558709e-02  1.55158096e-03  4.72506247e-02\\n -2.23656464e-03  2.67000124e-02 -1.06265489e-02 -2.58234404e-02\\n  7.00479820e-02 -1.86981224e-02 -3.37645672e-02  2.94382889e-02\\n -3.21478806e-02 -3.84804867e-02 -5.57591468e-02  4.19322588e-02\\n  2.99479607e-02  8.49122629e-02  1.71478894e-02 -5.41984439e-02\\n -3.17496397e-02  3.15846540e-02  3.04571018e-02 -3.83366458e-02\\n -6.88591367e-03 -1.95199996e-02  3.14678140e-02 -1.13852904e-03\\n -7.36937746e-02 -1.74842775e-02  5.41743357e-03 -1.92077216e-02\\n  2.78682137e-07  4.08470482e-02 -1.53627619e-03 -1.78423263e-02\\n -1.03534898e-02 -3.08404230e-02 -6.02939306e-03  3.50857414e-02\\n -6.51571453e-02 -5.80149256e-02  4.58920747e-02  4.16007899e-02\\n -3.90204340e-02 -3.64808775e-02 -3.20155099e-02  6.35178238e-02\\n  2.17223652e-02  1.82709098e-02 -1.36412391e-02 -4.86772461e-03\\n -7.65325036e-03  4.14721202e-03  3.67409438e-02 -2.42217388e-02\\n -7.34255761e-02 -3.96182053e-02  4.99257958e-03  4.51599061e-03\\n -4.24852818e-02  6.33896037e-04 -2.84216926e-02  9.66380816e-03\\n  8.96293297e-03  4.65004221e-02 -7.67296329e-02 -2.04632133e-02\\n -7.31814653e-02 -6.51863068e-02  6.90150857e-02 -3.71697471e-02\\n  4.29911874e-02 -1.47519829e-02  1.61679890e-02 -1.68805923e-02\\n -4.27693427e-02 -3.91149474e-03 -5.42811826e-02 -4.86369729e-02\\n  4.49500978e-02  2.64735520e-02 -7.76932463e-02  4.56957985e-03\\n  2.51250826e-02 -5.15799560e-02  9.67912748e-03 -1.23087075e-02\\n  2.34425887e-02  5.72340051e-03  3.40899155e-02  2.72950120e-02\\n -3.42273489e-02 -3.70478746e-03 -5.08048572e-03  3.87148410e-02\\n -8.21774174e-03 -5.54903150e-02 -7.95351516e-04  1.96649209e-02\\n  1.80299746e-34  1.06232967e-02  7.13028759e-03 -8.23648460e-03\\n -4.72389013e-02  1.98795870e-02 -8.45585763e-03 -1.23929447e-02\\n  1.10524823e-03 -2.05327233e-04  2.58644242e-02 -6.45051524e-02]\",\n          \"[-2.89898861e-04 -4.76907566e-02  4.69394960e-02 -1.34329293e-02\\n  2.12686490e-02 -6.53086323e-03  1.84320156e-02 -5.08892909e-03\\n  4.43609580e-02 -2.93549523e-02  1.95518602e-02  5.42303175e-02\\n  1.03220195e-02 -2.42334921e-02  4.03823182e-02 -3.05172168e-02\\n -2.09651198e-02  7.83722010e-03 -1.09209031e-01 -1.38158780e-02\\n -1.22020077e-02  3.17832269e-03 -2.41584936e-03  3.28726321e-02\\n  6.40644506e-02 -3.99281606e-02 -1.83247775e-02 -3.14285867e-02\\n -4.16912250e-02 -3.85700837e-02 -1.26829529e-02 -1.41208898e-03\\n  1.31108034e-02 -9.94679611e-03  2.10254939e-06 -7.18540326e-02\\n -5.03428876e-02  2.97871567e-02 -1.69740692e-02 -2.29916517e-02\\n -1.15228829e-03 -9.93641466e-02 -1.35236243e-02 -7.95061421e-03\\n  3.42774093e-02 -5.95667548e-02 -1.08887348e-02 -1.95660256e-02\\n  7.71187916e-02  8.48048925e-03 -8.23517889e-03 -7.42352083e-02\\n  3.04883979e-02  5.15961871e-02  5.65597937e-02 -2.05482859e-02\\n -5.42608555e-03 -2.55838595e-02 -3.91943417e-02 -3.48252021e-02\\n  1.56397354e-02  5.52787222e-02  2.22798102e-02 -2.18725260e-02\\n  1.79668833e-02  6.62144721e-02  1.44304531e-02 -3.41766588e-02\\n  3.90865244e-02 -2.13876627e-02 -7.50386044e-02 -3.48831378e-02\\n -3.81169580e-02  1.10502224e-02 -4.12467867e-02  1.77212786e-02\\n  6.79143704e-03  1.09248366e-02  2.70897634e-02  1.80689469e-02\\n  6.10433221e-02  1.14617115e-02 -3.80260614e-03 -3.18495855e-02\\n  1.48276088e-03 -1.43926358e-02 -1.98453646e-02 -4.45456132e-02\\n  7.31128501e-03 -5.73883802e-02  5.91197051e-03 -3.44004557e-02\\n  4.99223126e-03  3.59584279e-02  6.44463999e-03  1.80018209e-02\\n  6.66555017e-02 -1.43229234e-04  5.16850278e-02 -2.70860409e-03\\n -8.12204182e-03 -3.59168909e-02 -2.43293419e-02  3.56825702e-02\\n  3.06038037e-02  2.07295250e-02 -2.72049010e-02  3.89791876e-02\\n -2.48998241e-03  2.48275027e-02  1.78018212e-02 -2.56232545e-02\\n  3.13616507e-02  7.06909448e-02 -3.29235755e-02  6.67959824e-03\\n  1.89116260e-03 -1.15451925e-02 -1.72486082e-02  3.75370160e-02\\n  8.91311839e-03  3.62646952e-02  3.51427272e-02  1.90210454e-02\\n -4.58955169e-02  1.19934656e-01  3.36185917e-02 -7.39445025e-03\\n -1.03651797e-02  8.12049508e-02  4.01631482e-02  1.02531239e-02\\n -4.94024120e-02 -1.05537344e-02 -2.22280491e-02  3.68789723e-03\\n -1.05225053e-02 -2.50414833e-02 -3.70037332e-02 -4.52544540e-02\\n  7.80265173e-03  3.66311111e-02  2.23718993e-02  5.00967912e-03\\n -2.80605927e-02 -1.19901672e-02  1.19607635e-02  3.20546031e-02\\n  2.95472052e-03  6.01988658e-02  2.25248444e-03  6.14434257e-02\\n -2.30831206e-02  1.14265243e-02  2.39354018e-02  1.05365515e-02\\n -1.95968859e-02 -6.21460238e-03 -3.88051420e-02  1.25449803e-02\\n  4.87881266e-02 -1.30138630e-02  3.37267555e-02 -2.83177774e-02\\n -3.69780660e-02 -1.87967066e-02  2.91273706e-02  3.03811021e-02\\n -2.06773188e-02  1.28035219e-02  3.55234668e-02  5.05655725e-03\\n  3.86969335e-02 -6.59883022e-02  6.12659100e-03  6.19648099e-02\\n -7.87229463e-03  2.65276129e-03 -5.22707440e-02  8.05528276e-03\\n  8.70954245e-02  5.17621860e-02  2.65399013e-02 -1.25499524e-03\\n  1.99716091e-02  2.72730403e-02  4.49447706e-02  3.09776869e-02\\n -3.58908661e-02  1.70547757e-02  1.96559131e-02 -1.12501755e-02\\n -5.03950007e-03 -5.86961955e-02 -9.83599573e-04  4.27694917e-02\\n -5.07055894e-02 -1.89975966e-02  4.01683105e-03  3.92593034e-02\\n  1.55548216e-03  7.46859843e-03  5.32642528e-02 -4.59342217e-03\\n -2.41951197e-02  5.40453196e-02 -7.32910186e-02 -6.24243654e-02\\n  1.83400009e-02 -8.10545012e-02 -4.10038270e-02 -5.79014570e-02\\n  5.77443419e-03 -1.38999056e-02  3.55744772e-02  6.65481063e-03\\n  3.30575332e-02  1.69161633e-02 -1.81860887e-02  3.19372714e-02\\n -1.55437952e-02  5.05150668e-02  5.82077354e-02 -2.34185997e-02\\n  5.89607330e-03 -2.15327982e-02  4.05315915e-03 -1.02185383e-02\\n -4.35367487e-02 -4.99299634e-03  1.46756386e-02 -1.71298385e-02\\n  1.82500742e-02  1.11141242e-02 -7.75679341e-03 -3.55587266e-02\\n  7.47965695e-03 -8.88301246e-03 -2.59019937e-02  6.83144387e-03\\n -4.77917716e-02 -2.46858671e-02 -3.94188380e-03  1.66136902e-02\\n  7.24268053e-03 -1.85808484e-02 -6.14708140e-02  1.26165170e-02\\n -3.51574756e-02  1.67146157e-02 -3.57484370e-02 -4.81097400e-02\\n -6.50256127e-02 -3.60029191e-02 -9.18579753e-03  4.35761586e-02\\n  6.52618706e-02 -1.07990187e-02  8.77568591e-03 -6.16239989e-03\\n -1.77497379e-02  2.54069734e-02  3.35899778e-02 -1.85800288e-02\\n -1.61337331e-02 -4.13477533e-02 -1.49374865e-02  2.46960409e-02\\n  2.41081174e-02  9.61820711e-04  3.87678593e-02  3.26361321e-02\\n  6.86732680e-03  5.00897430e-02  5.11830188e-02 -4.05327827e-02\\n -8.97689462e-02 -8.13850085e-04 -3.85215655e-02  1.96412690e-02\\n -4.87154862e-03  6.26532733e-02 -5.00203185e-02  1.36259291e-02\\n  1.98138021e-02  2.23706905e-02 -1.47624807e-02 -2.08031274e-02\\n  5.73374815e-02 -1.08853608e-01  7.27196112e-02  3.57443839e-02\\n -1.71731587e-03 -4.48274659e-03 -1.11866966e-02 -1.15358997e-02\\n -6.34972984e-03  6.09585047e-02  1.82273928e-02  8.02924559e-02\\n -6.22957107e-03  2.27490850e-02  2.69049481e-02  1.22414734e-02\\n -3.83753777e-02  5.28008081e-02 -2.88847964e-02  4.91493847e-03\\n  5.87584563e-02  4.09480277e-03  1.61685944e-02  1.02570681e-02\\n -5.05571179e-02  5.99424355e-02  2.43417956e-02 -2.55821757e-02\\n  3.37801203e-02  2.05736253e-02 -2.93751415e-02 -3.52504142e-02\\n  2.85072718e-02  2.23733727e-02 -1.63354687e-02  1.31281689e-02\\n -2.06889305e-02  1.05701834e-02  2.39638928e-02  2.64977850e-03\\n -4.38604169e-02 -2.48857643e-02 -5.12025226e-03 -4.29650284e-02\\n  3.62291262e-02  1.21394508e-02 -2.53850780e-02 -4.19798791e-02\\n -2.53918655e-02  3.80630568e-02 -1.32844523e-02 -6.39878362e-02\\n -6.17673201e-03 -2.35546217e-03  2.35471539e-02  5.53486608e-02\\n  3.34822387e-02 -6.05285121e-03  3.04024480e-02  4.34461469e-03\\n -3.28185409e-02 -8.15890078e-03 -9.93100647e-03 -4.69345562e-02\\n -2.77413018e-02 -4.12742458e-02 -5.05772755e-02 -2.53928192e-02\\n -7.42017146e-05  2.39503905e-02 -1.62669811e-02 -1.58133684e-03\\n  1.10625640e-01  1.11785382e-02  2.37951130e-02 -6.20768629e-02\\n  4.65054773e-02  4.82486114e-02  5.55227604e-03  3.66428196e-02\\n  5.40089188e-03 -1.73931923e-02 -5.17672207e-03  1.78117361e-02\\n -3.30749415e-02  3.81596908e-02  9.95533541e-03 -2.02581566e-03\\n  6.38611382e-03  4.95962687e-02 -8.83316100e-02 -6.28741749e-04\\n  8.45938642e-03  1.88548621e-02  1.00379999e-04 -1.25207352e-02\\n -7.24975904e-03 -2.52529443e-03  3.03693931e-03 -2.31710505e-02\\n  1.31589444e-02  4.16985899e-02 -9.28909425e-03 -5.84791377e-02\\n -6.46011755e-02 -9.03795213e-02  1.03680491e-02 -1.47697199e-02\\n  3.39405611e-02  2.08894704e-02 -2.78322976e-02  6.83821589e-02\\n  3.50590460e-02 -4.68555540e-02  4.72041890e-02 -3.77113256e-03\\n -5.75098488e-03  2.41767317e-02 -4.17235717e-02  2.28880662e-02\\n  4.02758047e-02 -4.91468906e-02  5.05239367e-02 -1.00680172e-01\\n -2.90744845e-02 -1.67413931e-02  1.17921857e-02 -1.26427943e-02\\n  2.48180255e-02  2.69937851e-02 -9.13031306e-03 -5.64103164e-02\\n  4.68287580e-02  3.84604745e-02  3.81847918e-02  2.33298000e-02\\n  2.69803312e-02 -3.96660939e-02 -2.58250907e-02 -6.80448189e-02\\n -7.80752394e-04 -1.27612036e-02  2.29762048e-02 -1.66850928e-02\\n -1.99029632e-02  1.26399063e-02  9.90941525e-02 -4.01805947e-03\\n  4.98764291e-02 -5.11977039e-02  1.49696367e-02  3.19837183e-02\\n  2.93051861e-02 -3.64751965e-02  3.42510268e-02 -6.13178220e-03\\n  6.81453422e-02 -2.24676565e-03 -1.98654234e-02  5.55716865e-02\\n -2.85562128e-02  3.58595699e-02 -1.89085100e-02  3.27889882e-02\\n -3.52928191e-02  4.49295752e-02  3.33936028e-02 -2.24280474e-03\\n  1.83846056e-02  4.99152718e-03  2.87550688e-02 -6.33753240e-02\\n  2.02281643e-02 -2.66910094e-04  3.94244976e-02 -1.10257920e-02\\n -3.18046175e-02 -1.13525819e-02 -2.47584842e-02 -4.52757900e-04\\n -1.15936548e-02 -9.17806930e-04 -4.71309982e-02  3.67310271e-02\\n -2.05483995e-02  7.07768137e-03 -3.64862308e-02 -6.40820712e-02\\n -5.00232168e-02 -2.14896128e-02 -2.11248808e-02  2.18097996e-02\\n -3.70296650e-02 -7.97159877e-03 -7.28314859e-04 -5.57386354e-02\\n  1.37111237e-02  3.24637927e-02 -4.11842763e-02 -8.94590188e-03\\n -2.66410094e-02 -4.38084186e-04  7.27507919e-02  3.20167020e-02\\n  7.19508342e-03 -7.69989118e-02 -8.38132575e-03 -1.57921501e-02\\n  1.48548409e-02  3.00975586e-03  1.15479557e-02  7.29490966e-02\\n -1.33349644e-02 -1.48559723e-03  7.86755327e-03  1.31218201e-02\\n -7.11151138e-02 -1.64781120e-02 -1.93814710e-02 -1.98638849e-02\\n -3.71746086e-02  6.20009303e-02  3.73834260e-02 -1.30262291e-02\\n -9.81294811e-02  4.18129638e-02  1.00712208e-02 -8.76893941e-03\\n -3.06627410e-03 -7.13661611e-02  4.43297625e-02  2.85195094e-02\\n  7.60584651e-03 -1.95184927e-02 -3.53755578e-02 -1.98185015e-02\\n  1.83214736e-03  3.23965177e-02  7.32530793e-03  1.30306128e-02\\n -6.46259710e-02  6.06432967e-02 -2.28145029e-02 -9.53817274e-03\\n -2.75356192e-02 -1.14284400e-02  1.32799763e-02 -2.13443320e-02\\n  6.87101483e-02  5.53868599e-02  2.36709565e-02 -5.58102950e-02\\n -1.48389617e-03  1.56297535e-02 -2.13469826e-02  5.28876372e-02\\n  3.98663990e-02  2.78922562e-02 -2.24801525e-02  2.37330934e-03\\n  5.89274317e-02 -5.76467887e-02 -2.99277175e-02  1.71147920e-02\\n -5.72593249e-02 -4.33231471e-03  4.52495441e-02 -5.64960070e-33\\n  7.47269094e-02  3.62142026e-02  3.95277441e-02  3.07968389e-02\\n  5.90636693e-02  3.75339091e-02 -2.31895726e-02 -4.05858643e-02\\n -1.92533887e-03  9.35128927e-02 -5.24860900e-03 -1.54406643e-02\\n  9.47383605e-03  2.04023663e-02 -5.42762764e-02 -8.57644603e-02\\n  3.89174223e-02 -2.27755923e-02  4.55556698e-02  2.87668258e-02\\n -4.85455357e-02 -6.96453229e-02 -8.42806026e-02 -2.75642127e-02\\n  7.34936213e-03 -2.87090074e-02  6.42396212e-02 -6.70449389e-03\\n -9.58654135e-02  1.88550502e-02 -3.90135832e-02 -3.27156261e-02\\n -4.77096476e-02 -2.81655379e-02 -1.86207201e-02  2.91773975e-02\\n  2.21861918e-02 -1.15162246e-02 -2.01660525e-02  1.75863206e-02\\n -2.69361748e-03 -2.08921395e-02  1.97621323e-02 -4.78855520e-03\\n -1.26683852e-02  1.35948826e-02  1.80629510e-02  3.39837223e-02\\n  2.93650664e-02 -2.20210496e-02 -1.12773981e-02  2.52639744e-02\\n -3.16103920e-02 -3.53704563e-05  7.28631243e-02  9.46147367e-03\\n  5.21957800e-02 -6.56996295e-02  9.55659524e-02  8.91742110e-03\\n -4.13986444e-02 -1.96980010e-03 -2.69607697e-02 -3.09552513e-02\\n -3.77707444e-02 -2.05183588e-03  2.15004125e-04  6.11692518e-02\\n  7.54572749e-02  3.39427441e-02 -5.28385490e-03 -8.06459635e-02\\n  1.36984531e-02 -9.93240327e-02  1.18184872e-02 -1.05019640e-02\\n -1.66479275e-02 -5.94034195e-02 -7.50456005e-02 -9.63898376e-02\\n -4.96468097e-02 -3.80981527e-03  2.93504186e-02 -1.30302468e-02\\n -1.96876694e-02  7.66345300e-03 -6.62866805e-04 -6.74137753e-03\\n -3.01071610e-02 -3.74916606e-02  8.14800858e-02  1.02742845e-02\\n -3.63987759e-02  4.70368601e-02  4.34757397e-02 -6.05085194e-02\\n  5.91272190e-02 -6.01011291e-02 -4.68129897e-03  5.12216948e-02\\n -1.28850583e-02  1.57380011e-02  1.33342743e-02  2.65763886e-02\\n -5.83723783e-02  3.47832255e-02 -1.22272987e-02  1.50707632e-03\\n -1.26263034e-02 -2.35722605e-02 -8.27669445e-03  3.78872268e-02\\n -1.11825438e-02 -2.38841511e-02 -1.60250366e-02  3.18535306e-02\\n  5.17348666e-03 -9.09909792e-03 -6.33170223e-03 -4.04079333e-02\\n -1.26681365e-02  2.52133235e-03 -4.30412628e-02  9.42819007e-03\\n -6.64179102e-02 -2.53620818e-02  3.53503088e-03  8.19249544e-03\\n  5.27807453e-04 -4.34151255e-02 -3.94070009e-03 -1.35703748e-02\\n  2.88146026e-07  4.27780971e-02  5.02581475e-03  7.52719957e-03\\n  1.53221712e-02 -3.81952105e-03 -4.28856127e-02  4.52935696e-03\\n  1.84004698e-02 -6.30367361e-03 -2.81434096e-02 -1.63979561e-03\\n  3.87154549e-04 -2.06686389e-02  3.05093545e-02  5.44761168e-03\\n  5.98083548e-02  5.66420294e-02 -2.37631015e-02  3.25633190e-03\\n  4.02556136e-02  2.62154154e-02  2.93611828e-02  4.04729284e-02\\n -3.56090888e-02 -3.55421472e-03  7.23572895e-02 -5.21490276e-02\\n  3.87457907e-02  6.35160804e-02 -3.82685177e-02 -1.84759572e-02\\n  1.70838237e-02  7.56823346e-02 -5.08912727e-02 -1.48344901e-03\\n -2.67082322e-02  6.18558982e-03 -8.99381121e-04 -1.19499788e-02\\n -7.07399705e-03  3.20797861e-02  1.72325205e-02 -1.53200924e-02\\n  7.72963837e-03 -5.85321672e-02 -3.12942592e-03  5.66899637e-03\\n -2.73431726e-02  3.62395160e-02 -1.12157017e-02 -1.35082128e-02\\n  3.58750112e-02  6.22952217e-03  2.90325023e-02 -9.97451693e-03\\n -1.87332071e-02  3.08613349e-02  2.58529987e-02 -1.21459970e-02\\n  2.74000000e-02  1.34400232e-02  8.27935059e-03 -4.50032130e-02\\n  1.50193814e-02  5.98297641e-02 -6.39654323e-02 -3.34206223e-02\\n  3.10314759e-34 -3.95944546e-04 -6.39823824e-02 -1.33804809e-02\\n -3.26807518e-03  4.86220745e-03 -3.79620194e-02  3.63107808e-02\\n  3.06082536e-02 -7.84127100e-04  5.17915040e-02 -1.50401555e-02]\",\n          \"[ 1.57728214e-02 -5.64577542e-02 -3.63887381e-03  1.73160173e-02\\n -2.66746129e-03  2.10536495e-02 -2.02101432e-02  4.30584550e-02\\n -3.53951156e-02  2.19664462e-02 -4.33511250e-02 -5.20750210e-02\\n -5.89870801e-03  2.55817566e-02  3.15636918e-02  7.17284577e-03\\n -3.72072570e-02 -1.11364797e-02 -1.11602200e-02 -3.12545225e-02\\n -3.86702456e-02 -2.43350398e-02 -4.18421179e-02 -4.27627824e-02\\n -3.75365168e-02 -1.38184540e-02  2.48205997e-02 -1.15433186e-02\\n -1.36964582e-02 -3.28310020e-03  1.13740880e-02 -1.04402546e-02\\n  5.59672900e-02 -3.27690281e-02  2.05511310e-06  8.69800895e-03\\n  5.24925534e-03 -6.02522981e-04  7.95764104e-03  8.60197768e-02\\n  1.62341520e-02  3.49688751e-04 -2.19876841e-02 -1.75112626e-03\\n  2.28333641e-02  2.16686316e-02 -1.60330459e-02  2.73147132e-02\\n -6.92030936e-02 -6.68441039e-03 -2.49029254e-03  2.01713145e-02\\n  1.47406179e-02  1.52927982e-02  6.65228674e-03  2.65217852e-02\\n -5.44198304e-02  1.34172127e-01 -1.52043197e-02  2.51244865e-02\\n -2.14611497e-02  7.70708313e-04  1.96670126e-02 -2.68957466e-02\\n  4.74147499e-02  4.20907661e-02  4.15420458e-02 -4.86595482e-02\\n  2.95606107e-02  1.16407946e-02  8.50693602e-03 -1.01046236e-02\\n  4.82071415e-02  6.38100691e-03  2.07358133e-03 -5.98762669e-02\\n -1.56382527e-02  4.81904000e-02  2.05990206e-02 -7.43985351e-04\\n  1.42410118e-02  3.69147805e-04 -3.08749508e-02  5.07627148e-03\\n -1.63760316e-02 -8.42410028e-02  3.60810347e-02  8.39668140e-03\\n  5.14656678e-02 -3.27205770e-02  7.42346107e-04 -3.66089516e-03\\n  1.47049204e-02  4.50345427e-02 -6.67315423e-02 -3.50497290e-02\\n -2.04253150e-03 -1.14342570e-03  1.14085436e-01 -3.33109945e-02\\n -5.43336459e-02 -6.90691359e-03 -1.05299480e-01  4.72107381e-02\\n -7.59746209e-02 -4.97120731e-02 -4.04515974e-02  2.93611456e-02\\n  1.07014868e-02 -3.83838429e-03  3.03368922e-02  4.20746207e-03\\n  1.17355166e-02  3.46791707e-02 -2.05858275e-02 -6.12229221e-02\\n -2.72969324e-02 -4.43290547e-03  7.09903287e-03 -2.08244100e-02\\n -6.91964151e-03  6.64384514e-02  1.79156866e-02  2.68767290e-02\\n  1.39488243e-02 -5.40006813e-03 -3.38540003e-02  1.90436114e-02\\n  9.69933718e-03 -2.47601047e-02  1.38934515e-02  3.50373760e-02\\n -1.62765160e-02  6.22383459e-03 -2.01238878e-03 -7.44358674e-02\\n  5.14436960e-02  5.49387326e-03  1.21743847e-02  3.73239219e-02\\n -1.50537277e-02 -3.23125906e-02 -1.56131294e-02 -3.34043475e-03\\n -1.84460077e-02  2.07658466e-02 -1.68162864e-02  6.05426133e-02\\n -9.68632661e-03  8.01254623e-03 -2.72264741e-02 -4.52808524e-03\\n -7.75353238e-02 -2.35011131e-02  5.10917716e-02 -3.80758680e-02\\n  1.37859769e-02 -1.74624082e-02  3.25980373e-02  5.16020134e-02\\n  2.20756158e-02 -2.48686131e-02 -5.07828258e-02 -7.71802142e-02\\n  6.98579755e-03 -1.88843459e-02 -4.38863710e-02  1.05715347e-02\\n  3.30445506e-02  3.87548353e-03  4.17918861e-02  7.42689446e-02\\n -1.62473880e-02 -2.62175407e-02 -2.07489226e-02  1.32539913e-01\\n -4.11955453e-02  8.61668843e-04  6.24621809e-02 -7.81116486e-02\\n  7.59768188e-02 -2.26889048e-02  4.39216271e-02 -2.91420706e-02\\n  3.70258577e-02 -6.29991805e-03 -1.81147940e-02  5.53551409e-03\\n  1.04618892e-02 -3.58778946e-02 -7.27115991e-03 -4.91430685e-02\\n -1.79034173e-02  2.63426080e-02  2.13690829e-02 -1.68986395e-02\\n  6.72682712e-04 -7.07057714e-02 -1.83181167e-02  2.31532548e-02\\n -3.04878149e-02 -3.46207432e-03 -5.81699470e-03 -5.40997982e-02\\n -4.43706214e-02 -4.23483551e-02 -4.37021554e-02  2.59232540e-02\\n  3.26459948e-03  2.61602476e-02 -2.89005861e-02  3.05306297e-02\\n  6.89622201e-03 -4.21663076e-02  1.18978368e-02 -1.43659869e-02\\n  1.15575390e-02 -2.52995919e-02 -4.00523059e-02  1.20739238e-02\\n -2.85350643e-02 -1.07138595e-02 -3.22781168e-02  8.96960311e-03\\n -4.03620005e-02  8.41991976e-02  1.07750865e-02 -3.76433618e-02\\n -7.40152821e-02 -4.36559618e-02  2.69118063e-02 -1.00798393e-03\\n  3.17117348e-02  5.25654964e-02 -4.80853729e-02 -5.99735901e-02\\n -8.01319331e-02  4.34510559e-02 -1.74203739e-02  4.51895259e-02\\n  1.31648267e-02 -9.69533697e-02  4.54950631e-02  4.50391322e-03\\n  4.80539985e-02 -2.98802275e-02  2.00214181e-02  2.06043776e-02\\n -1.51534956e-02 -1.61411576e-02 -3.15559879e-02 -4.95321900e-02\\n  4.67075640e-03  2.07061339e-02 -7.21533373e-02  4.37031463e-02\\n -9.53316689e-02  1.38542559e-02 -5.00774905e-02 -2.00575143e-02\\n  4.04674895e-02 -4.60864529e-02  1.04648573e-02 -2.10422985e-02\\n -1.63541734e-02  2.04275758e-03  1.52302533e-02 -7.33366515e-03\\n  6.12386828e-03  1.80253908e-02 -3.73194041e-03  4.54135574e-02\\n -1.63549166e-02  2.90952753e-02 -5.81544563e-02  1.81123372e-02\\n  4.74347956e-02  3.09087709e-02 -4.07739077e-03  3.95797640e-02\\n  6.03917753e-03  7.78303593e-02 -7.49446377e-02 -2.59119533e-02\\n  1.99973527e-02 -3.86637375e-02 -5.09800948e-02 -3.81935090e-02\\n  3.10431998e-02  6.50127381e-02  5.39994845e-03  6.04327917e-02\\n -3.42034339e-03 -2.26868931e-02  3.74620035e-02  3.57151357e-03\\n -1.46530140e-02  2.38615368e-02  1.38629116e-02  7.55867884e-02\\n  9.34517290e-03  2.70611551e-02  2.20354157e-03  3.78867541e-03\\n  1.29412056e-03  3.50290760e-02 -2.58361232e-02 -3.20287384e-02\\n  3.19325849e-02  5.17735630e-02  3.26043963e-02 -2.35525407e-02\\n -8.89073871e-03 -9.25663039e-02 -1.09475460e-02  6.18337877e-02\\n -9.19496361e-03 -1.52931726e-02 -2.32071131e-02  5.54586435e-03\\n  2.19746563e-03  4.17146571e-02  2.41860934e-02  5.54502159e-02\\n  1.29140159e-02  2.37725377e-02 -4.04298753e-02 -8.37785192e-03\\n  1.24115648e-03  3.72962281e-02 -2.39369478e-02  3.17287408e-02\\n -1.81639176e-02 -3.81306075e-02 -2.29516812e-02  1.86471846e-02\\n -2.51918398e-02 -1.11231757e-02  2.61019170e-02 -4.17888816e-03\\n  6.35215454e-03  3.05976812e-03 -2.26567183e-02  5.52211627e-02\\n  2.82943733e-02  5.34320511e-02  1.34906936e-02 -4.37364280e-02\\n  4.72911692e-04 -5.08616492e-02  2.24530161e-03  2.40628198e-02\\n -5.08144014e-02  3.10155302e-02  5.88586414e-03  6.03939183e-02\\n -6.95785554e-03  8.09021518e-02  1.35770114e-02  2.20059566e-02\\n  2.92208185e-03  3.32831107e-02 -2.36402117e-02  3.11954133e-02\\n -4.10430022e-02 -5.60786724e-02 -5.94599987e-04  2.23749764e-02\\n  2.54720543e-03 -1.74369477e-02  6.10900372e-02  5.14829196e-02\\n  2.62116790e-02  1.92391090e-02  7.50765845e-04  3.26914042e-02\\n  4.47160425e-03  4.62861499e-03 -2.28656642e-02 -1.22452741e-02\\n -1.07553471e-02  5.44747189e-02  3.25375050e-02 -8.92884377e-03\\n -2.65619494e-02  5.18130921e-02 -4.14081886e-02  1.72499027e-02\\n  2.43675783e-02 -6.26094118e-02 -1.49969128e-03  3.28976996e-02\\n -1.18481861e-02  1.05182417e-02 -1.13771055e-02  1.52540123e-02\\n -6.17332496e-02  5.94183691e-02 -1.74798332e-02  3.99899930e-02\\n -4.91301389e-03 -3.88532206e-02  4.38259356e-02  7.51832908e-04\\n -1.10452846e-02  3.96509394e-02 -5.72199523e-02  5.06886691e-02\\n -1.45355333e-02 -2.52196062e-02  4.76122536e-02 -5.30431755e-02\\n -4.65137651e-03 -1.32735241e-02  1.48337511e-02  1.04052670e-01\\n  3.78372669e-02 -1.66944750e-02  4.94301543e-02  2.64419746e-02\\n  3.87430601e-02 -2.47008707e-02  3.11887115e-02 -2.38935202e-02\\n -3.32879997e-03 -4.90695685e-02  3.12209427e-02  5.64973801e-03\\n -1.49829425e-02  4.12272103e-02 -1.28541887e-02 -4.14467342e-02\\n  2.29692534e-02  5.30692078e-02 -2.79646460e-03  9.76619720e-02\\n -3.33680678e-03 -3.79326008e-02  3.39732654e-02 -8.15869216e-03\\n  1.95176750e-02 -3.17266732e-02  2.76834872e-02  3.81084112e-03\\n  1.27147115e-03 -3.36397178e-02 -6.71808794e-02 -2.31627980e-03\\n  9.74481180e-03  7.14553520e-02  1.19599933e-02  7.30534876e-03\\n -2.38244142e-03 -4.34232596e-03  8.59755930e-03  7.95184076e-03\\n -6.88121468e-02  6.17698431e-02  2.05795430e-02  1.50338104e-02\\n -2.66217403e-02 -8.35668948e-03 -6.99697286e-02 -4.49123904e-02\\n -7.37115666e-02  3.19463536e-02 -3.07798758e-02 -7.66984895e-02\\n  1.89426616e-02  1.13014048e-02 -2.09322833e-02  4.37395796e-02\\n -3.37798521e-02 -3.42227295e-02 -1.77016631e-02 -2.69568209e-02\\n -3.63975614e-02  1.71616804e-02 -5.46437979e-04  6.61909627e-03\\n -5.62196039e-03  8.01925659e-02 -3.30427475e-02  5.89381754e-02\\n  1.32203354e-02  1.94528159e-02 -4.06430475e-03  6.62009045e-03\\n  2.55999342e-02 -2.27143988e-02  1.24017008e-01  1.62557103e-02\\n -1.74379610e-02 -1.78733207e-02  6.59453729e-03  1.21004954e-01\\n  4.74225394e-02 -9.45356861e-03  4.78293560e-02 -1.17365923e-03\\n -2.45884582e-02  4.98818059e-04 -2.94580571e-02  6.61750212e-02\\n  5.29057998e-03  4.71242294e-02 -5.08805097e-04 -4.14449768e-03\\n -3.93875241e-02 -2.48596333e-02 -1.20226648e-02  2.86598485e-02\\n  4.12970409e-02  4.82219607e-02  2.75197849e-02 -4.92078997e-02\\n -2.67136842e-02  9.12839361e-03 -5.45903221e-02 -7.02850055e-03\\n -1.63870286e-02  3.04526985e-02  2.88387667e-02  8.44171550e-03\\n  2.42970628e-03  1.03751114e-02 -4.05460969e-03  2.85729654e-02\\n -2.12687459e-02  8.71468987e-03  4.17382568e-02 -5.81028461e-02\\n -6.57839105e-02 -3.61579843e-02  8.71246122e-03  8.81481618e-02\\n  8.76042526e-03 -1.10896556e-02 -3.13027240e-02 -8.36811773e-03\\n  2.24093180e-02 -3.53497826e-02  4.64792214e-02  1.57019272e-02\\n -2.84721777e-02 -4.64543188e-03 -9.90465749e-03 -2.12735180e-02\\n  3.03749442e-02 -4.30261008e-02 -1.26876682e-02 -2.74391472e-02\\n  7.86173120e-02 -4.44015488e-02 -4.63078804e-02 -5.84436947e-33\\n  2.52901260e-02 -1.22533261e-03  2.77748215e-03 -1.93980839e-02\\n  6.36000047e-03  7.04464987e-02  5.31472936e-02  8.39251280e-03\\n -5.63005954e-02  2.05048863e-02  2.50587333e-02  1.99946053e-02\\n -9.76992189e-04  1.19377235e-02  3.38732675e-02  3.10742147e-02\\n -1.95467286e-02 -8.23810101e-02  3.13370824e-02 -6.07700367e-03\\n -4.58179116e-02 -2.34846119e-02  4.69334014e-02 -2.66870279e-02\\n  2.99764797e-02  4.57940204e-03  3.68848667e-02 -8.09238199e-03\\n -3.91403623e-02 -2.12850217e-02 -1.58816427e-02  5.18106623e-03\\n  4.49700281e-04  6.88075200e-02  1.90402139e-02  3.69308027e-03\\n -5.63388411e-03 -6.54178932e-02  2.01129340e-04 -4.79890369e-02\\n -8.07988420e-02  3.20624486e-02 -1.01095587e-02 -4.02874313e-02\\n  2.35207193e-02  2.24210843e-02 -5.00766328e-03  6.61187619e-03\\n  6.33937120e-02 -3.64622213e-02 -3.75311114e-02  6.13955036e-03\\n -1.46715250e-02 -1.08262962e-02 -3.08831185e-02  6.81239069e-02\\n -1.99181754e-02 -9.69506335e-03  2.02977508e-02  3.64061296e-02\\n  1.30685223e-02  4.41169925e-03 -9.40269306e-02  2.14329157e-02\\n -1.58167239e-02  2.95217521e-02  1.00607844e-02  8.51427019e-03\\n -5.09682670e-02 -5.59637435e-02 -5.46281636e-02  3.26886810e-02\\n -2.30245222e-03 -1.13981348e-02  4.67577241e-02 -2.70811655e-02\\n -5.65672219e-02 -7.20600504e-03  8.01947713e-02  3.82957272e-02\\n -5.66239730e-02  2.40409784e-02 -3.09085706e-04  6.30280841e-03\\n  2.36698836e-02 -1.47807449e-02  1.33693567e-03 -1.02467965e-02\\n -6.37238994e-02 -1.35340150e-02  7.17988564e-03  5.95079269e-03\\n  1.69184208e-02 -1.00788781e-02  3.31459083e-02 -1.39945243e-02\\n  2.43025385e-02 -1.34768346e-02  5.46660013e-02  3.35097574e-02\\n -4.18632245e-03  1.20559577e-02  9.96874273e-03 -8.02403316e-03\\n -2.07022391e-02 -1.35632409e-02  1.76398978e-02  4.72903764e-03\\n  2.84237340e-02  5.47406357e-03  5.50538190e-02 -3.87830213e-02\\n  2.52093617e-02 -2.19767028e-03 -1.40215820e-02 -2.50385446e-03\\n -8.00565875e-04 -4.19641547e-02 -1.19341789e-02  7.16388319e-03\\n -4.00717109e-02 -3.03082205e-02 -2.99562868e-02 -2.40452476e-02\\n  3.49001549e-02 -1.57152768e-02  1.98987536e-02  2.06107162e-02\\n -3.93997096e-02 -2.40752734e-02  9.95542668e-03  3.20616625e-02\\n  2.85939166e-07  1.87074803e-02 -1.40053872e-03 -3.99141610e-02\\n -5.14978692e-02  6.18600026e-02 -3.14667299e-02  1.45794861e-02\\n -9.48635116e-03 -4.80021499e-02 -1.23640746e-01 -7.49547547e-03\\n  4.88134511e-02  2.27913484e-02  4.93783085e-03 -2.99876425e-02\\n  3.39511074e-02 -1.36664836e-02 -5.97698614e-02  1.43400701e-02\\n  7.44068064e-03 -6.55861497e-02 -4.55697961e-02 -4.00813594e-02\\n -3.28516215e-02  4.69852891e-03  3.70964520e-02 -1.64579079e-02\\n  2.70081125e-03  3.53282802e-02 -3.39808762e-02  1.71928480e-02\\n -1.29510695e-02  3.41145024e-02  2.54638568e-02  9.78612690e-04\\n -5.00721857e-03 -6.41396036e-03 -1.76254362e-02 -2.70556659e-02\\n  5.34198508e-02 -2.46295985e-03 -5.98584628e-03  1.63509399e-02\\n -2.67965384e-02 -3.76960495e-03  7.36865681e-04  8.06824863e-03\\n -9.76281539e-02  7.08713084e-02  8.81879218e-03  3.66175398e-02\\n -5.96829392e-02 -4.19252133e-03 -4.77341712e-02  3.49607714e-03\\n -6.49406463e-02  1.75297633e-02  1.77128259e-02  3.39440368e-02\\n  9.04354677e-02 -1.21040586e-02 -1.56275742e-02 -1.67803428e-05\\n -4.02414240e-02  6.47975951e-02  4.05366719e-03  2.55563743e-02\\n  2.74017009e-34  3.57053839e-02 -1.24818571e-02 -8.30528978e-03\\n -3.16899680e-02 -1.62917525e-02 -8.44952650e-03  1.34990811e-02\\n -2.03759987e-02  9.23624821e-03  1.50189176e-03 -2.35626828e-02]\"\n        ],\n        \"semantic_type\": \"\",\n        \"description\": \"\"\n      }\n    }\n  ]\n}",
       "type": "dataframe",
       "variable_name": "text_chunk_embeddings_df_load"
      },
      "text/html": [
       "\n",
       "  <div id=\"df-e1138d97-6cfa-40f7-8a7b-93a8c6f5239c\" class=\"colab-df-container\">\n",
       "    <div>\n",
       "<style scoped>\n",
       "    .dataframe tbody tr th:only-of-type {\n",
       "        vertical-align: middle;\n",
       "    }\n",
       "\n",
       "    .dataframe tbody tr th {\n",
       "        vertical-align: top;\n",
       "    }\n",
       "\n",
       "    .dataframe thead th {\n",
       "        text-align: right;\n",
       "    }\n",
       "</style>\n",
       "<table border=\"1\" class=\"dataframe\">\n",
       "  <thead>\n",
       "    <tr style=\"text-align: right;\">\n",
       "      <th></th>\n",
       "      <th>page_number</th>\n",
       "      <th>sentence_chunk</th>\n",
       "      <th>chunk_char_chount</th>\n",
       "      <th>chunk_word_count</th>\n",
       "      <th>chunk_token_count</th>\n",
       "      <th>embedding</th>\n",
       "    </tr>\n",
       "  </thead>\n",
       "  <tbody>\n",
       "    <tr>\n",
       "      <th>0</th>\n",
       "      <td>-39</td>\n",
       "      <td>Human Nutrition: 2020 Edition UNIVERSITY OF HA...</td>\n",
       "      <td>308</td>\n",
       "      <td>42</td>\n",
       "      <td>77.00</td>\n",
       "      <td>[ 6.74242675e-02  9.02281553e-02 -5.09548280e-...</td>\n",
       "    </tr>\n",
       "    <tr>\n",
       "      <th>1</th>\n",
       "      <td>-38</td>\n",
       "      <td>Human Nutrition: 2020 Edition by University of...</td>\n",
       "      <td>210</td>\n",
       "      <td>30</td>\n",
       "      <td>52.50</td>\n",
       "      <td>[ 5.52156046e-02  5.92139289e-02 -1.66167300e-...</td>\n",
       "    </tr>\n",
       "    <tr>\n",
       "      <th>2</th>\n",
       "      <td>-37</td>\n",
       "      <td>Contents Preface University of Hawai‘i at Māno...</td>\n",
       "      <td>766</td>\n",
       "      <td>114</td>\n",
       "      <td>191.50</td>\n",
       "      <td>[ 2.79801786e-02  3.39813791e-02 -2.06426736e-...</td>\n",
       "    </tr>\n",
       "    <tr>\n",
       "      <th>3</th>\n",
       "      <td>-36</td>\n",
       "      <td>Lifestyles and Nutrition University of Hawai‘i...</td>\n",
       "      <td>941</td>\n",
       "      <td>142</td>\n",
       "      <td>235.25</td>\n",
       "      <td>[ 6.82566836e-02  3.81274857e-02 -8.46855156e-...</td>\n",
       "    </tr>\n",
       "    <tr>\n",
       "      <th>4</th>\n",
       "      <td>-35</td>\n",
       "      <td>The Cardiovascular System University of Hawai‘...</td>\n",
       "      <td>998</td>\n",
       "      <td>152</td>\n",
       "      <td>249.50</td>\n",
       "      <td>[ 3.30264494e-02 -8.49770475e-03  9.57158674e-...</td>\n",
       "    </tr>\n",
       "  </tbody>\n",
       "</table>\n",
       "</div>\n",
       "    <div class=\"colab-df-buttons\">\n",
       "\n",
       "  <div class=\"colab-df-container\">\n",
       "    <button class=\"colab-df-convert\" onclick=\"convertToInteractive('df-e1138d97-6cfa-40f7-8a7b-93a8c6f5239c')\"\n",
       "            title=\"Convert this dataframe to an interactive table.\"\n",
       "            style=\"display:none;\">\n",
       "\n",
       "  <svg xmlns=\"http://www.w3.org/2000/svg\" height=\"24px\" viewBox=\"0 -960 960 960\">\n",
       "    <path d=\"M120-120v-720h720v720H120Zm60-500h600v-160H180v160Zm220 220h160v-160H400v160Zm0 220h160v-160H400v160ZM180-400h160v-160H180v160Zm440 0h160v-160H620v160ZM180-180h160v-160H180v160Zm440 0h160v-160H620v160Z\"/>\n",
       "  </svg>\n",
       "    </button>\n",
       "\n",
       "  <style>\n",
       "    .colab-df-container {\n",
       "      display:flex;\n",
       "      gap: 12px;\n",
       "    }\n",
       "\n",
       "    .colab-df-convert {\n",
       "      background-color: #E8F0FE;\n",
       "      border: none;\n",
       "      border-radius: 50%;\n",
       "      cursor: pointer;\n",
       "      display: none;\n",
       "      fill: #1967D2;\n",
       "      height: 32px;\n",
       "      padding: 0 0 0 0;\n",
       "      width: 32px;\n",
       "    }\n",
       "\n",
       "    .colab-df-convert:hover {\n",
       "      background-color: #E2EBFA;\n",
       "      box-shadow: 0px 1px 2px rgba(60, 64, 67, 0.3), 0px 1px 3px 1px rgba(60, 64, 67, 0.15);\n",
       "      fill: #174EA6;\n",
       "    }\n",
       "\n",
       "    .colab-df-buttons div {\n",
       "      margin-bottom: 4px;\n",
       "    }\n",
       "\n",
       "    [theme=dark] .colab-df-convert {\n",
       "      background-color: #3B4455;\n",
       "      fill: #D2E3FC;\n",
       "    }\n",
       "\n",
       "    [theme=dark] .colab-df-convert:hover {\n",
       "      background-color: #434B5C;\n",
       "      box-shadow: 0px 1px 3px 1px rgba(0, 0, 0, 0.15);\n",
       "      filter: drop-shadow(0px 1px 2px rgba(0, 0, 0, 0.3));\n",
       "      fill: #FFFFFF;\n",
       "    }\n",
       "  </style>\n",
       "\n",
       "    <script>\n",
       "      const buttonEl =\n",
       "        document.querySelector('#df-e1138d97-6cfa-40f7-8a7b-93a8c6f5239c button.colab-df-convert');\n",
       "      buttonEl.style.display =\n",
       "        google.colab.kernel.accessAllowed ? 'block' : 'none';\n",
       "\n",
       "      async function convertToInteractive(key) {\n",
       "        const element = document.querySelector('#df-e1138d97-6cfa-40f7-8a7b-93a8c6f5239c');\n",
       "        const dataTable =\n",
       "          await google.colab.kernel.invokeFunction('convertToInteractive',\n",
       "                                                    [key], {});\n",
       "        if (!dataTable) return;\n",
       "\n",
       "        const docLinkHtml = 'Like what you see? Visit the ' +\n",
       "          '<a target=\"_blank\" href=https://colab.research.google.com/notebooks/data_table.ipynb>data table notebook</a>'\n",
       "          + ' to learn more about interactive tables.';\n",
       "        element.innerHTML = '';\n",
       "        dataTable['output_type'] = 'display_data';\n",
       "        await google.colab.output.renderOutput(dataTable, element);\n",
       "        const docLink = document.createElement('div');\n",
       "        docLink.innerHTML = docLinkHtml;\n",
       "        element.appendChild(docLink);\n",
       "      }\n",
       "    </script>\n",
       "  </div>\n",
       "\n",
       "\n",
       "    <div id=\"df-595bdca3-63e5-4eef-81fb-2399919ec506\">\n",
       "      <button class=\"colab-df-quickchart\" onclick=\"quickchart('df-595bdca3-63e5-4eef-81fb-2399919ec506')\"\n",
       "                title=\"Suggest charts\"\n",
       "                style=\"display:none;\">\n",
       "\n",
       "<svg xmlns=\"http://www.w3.org/2000/svg\" height=\"24px\"viewBox=\"0 0 24 24\"\n",
       "     width=\"24px\">\n",
       "    <g>\n",
       "        <path d=\"M19 3H5c-1.1 0-2 .9-2 2v14c0 1.1.9 2 2 2h14c1.1 0 2-.9 2-2V5c0-1.1-.9-2-2-2zM9 17H7v-7h2v7zm4 0h-2V7h2v10zm4 0h-2v-4h2v4z\"/>\n",
       "    </g>\n",
       "</svg>\n",
       "      </button>\n",
       "\n",
       "<style>\n",
       "  .colab-df-quickchart {\n",
       "      --bg-color: #E8F0FE;\n",
       "      --fill-color: #1967D2;\n",
       "      --hover-bg-color: #E2EBFA;\n",
       "      --hover-fill-color: #174EA6;\n",
       "      --disabled-fill-color: #AAA;\n",
       "      --disabled-bg-color: #DDD;\n",
       "  }\n",
       "\n",
       "  [theme=dark] .colab-df-quickchart {\n",
       "      --bg-color: #3B4455;\n",
       "      --fill-color: #D2E3FC;\n",
       "      --hover-bg-color: #434B5C;\n",
       "      --hover-fill-color: #FFFFFF;\n",
       "      --disabled-bg-color: #3B4455;\n",
       "      --disabled-fill-color: #666;\n",
       "  }\n",
       "\n",
       "  .colab-df-quickchart {\n",
       "    background-color: var(--bg-color);\n",
       "    border: none;\n",
       "    border-radius: 50%;\n",
       "    cursor: pointer;\n",
       "    display: none;\n",
       "    fill: var(--fill-color);\n",
       "    height: 32px;\n",
       "    padding: 0;\n",
       "    width: 32px;\n",
       "  }\n",
       "\n",
       "  .colab-df-quickchart:hover {\n",
       "    background-color: var(--hover-bg-color);\n",
       "    box-shadow: 0 1px 2px rgba(60, 64, 67, 0.3), 0 1px 3px 1px rgba(60, 64, 67, 0.15);\n",
       "    fill: var(--button-hover-fill-color);\n",
       "  }\n",
       "\n",
       "  .colab-df-quickchart-complete:disabled,\n",
       "  .colab-df-quickchart-complete:disabled:hover {\n",
       "    background-color: var(--disabled-bg-color);\n",
       "    fill: var(--disabled-fill-color);\n",
       "    box-shadow: none;\n",
       "  }\n",
       "\n",
       "  .colab-df-spinner {\n",
       "    border: 2px solid var(--fill-color);\n",
       "    border-color: transparent;\n",
       "    border-bottom-color: var(--fill-color);\n",
       "    animation:\n",
       "      spin 1s steps(1) infinite;\n",
       "  }\n",
       "\n",
       "  @keyframes spin {\n",
       "    0% {\n",
       "      border-color: transparent;\n",
       "      border-bottom-color: var(--fill-color);\n",
       "      border-left-color: var(--fill-color);\n",
       "    }\n",
       "    20% {\n",
       "      border-color: transparent;\n",
       "      border-left-color: var(--fill-color);\n",
       "      border-top-color: var(--fill-color);\n",
       "    }\n",
       "    30% {\n",
       "      border-color: transparent;\n",
       "      border-left-color: var(--fill-color);\n",
       "      border-top-color: var(--fill-color);\n",
       "      border-right-color: var(--fill-color);\n",
       "    }\n",
       "    40% {\n",
       "      border-color: transparent;\n",
       "      border-right-color: var(--fill-color);\n",
       "      border-top-color: var(--fill-color);\n",
       "    }\n",
       "    60% {\n",
       "      border-color: transparent;\n",
       "      border-right-color: var(--fill-color);\n",
       "    }\n",
       "    80% {\n",
       "      border-color: transparent;\n",
       "      border-right-color: var(--fill-color);\n",
       "      border-bottom-color: var(--fill-color);\n",
       "    }\n",
       "    90% {\n",
       "      border-color: transparent;\n",
       "      border-bottom-color: var(--fill-color);\n",
       "    }\n",
       "  }\n",
       "</style>\n",
       "\n",
       "      <script>\n",
       "        async function quickchart(key) {\n",
       "          const quickchartButtonEl =\n",
       "            document.querySelector('#' + key + ' button');\n",
       "          quickchartButtonEl.disabled = true;  // To prevent multiple clicks.\n",
       "          quickchartButtonEl.classList.add('colab-df-spinner');\n",
       "          try {\n",
       "            const charts = await google.colab.kernel.invokeFunction(\n",
       "                'suggestCharts', [key], {});\n",
       "          } catch (error) {\n",
       "            console.error('Error during call to suggestCharts:', error);\n",
       "          }\n",
       "          quickchartButtonEl.classList.remove('colab-df-spinner');\n",
       "          quickchartButtonEl.classList.add('colab-df-quickchart-complete');\n",
       "        }\n",
       "        (() => {\n",
       "          let quickchartButtonEl =\n",
       "            document.querySelector('#df-595bdca3-63e5-4eef-81fb-2399919ec506 button');\n",
       "          quickchartButtonEl.style.display =\n",
       "            google.colab.kernel.accessAllowed ? 'block' : 'none';\n",
       "        })();\n",
       "      </script>\n",
       "    </div>\n",
       "\n",
       "    </div>\n",
       "  </div>\n"
      ],
      "text/plain": [
       "   page_number                                     sentence_chunk  \\\n",
       "0          -39  Human Nutrition: 2020 Edition UNIVERSITY OF HA...   \n",
       "1          -38  Human Nutrition: 2020 Edition by University of...   \n",
       "2          -37  Contents Preface University of Hawai‘i at Māno...   \n",
       "3          -36  Lifestyles and Nutrition University of Hawai‘i...   \n",
       "4          -35  The Cardiovascular System University of Hawai‘...   \n",
       "\n",
       "   chunk_char_chount  chunk_word_count  chunk_token_count  \\\n",
       "0                308                42              77.00   \n",
       "1                210                30              52.50   \n",
       "2                766               114             191.50   \n",
       "3                941               142             235.25   \n",
       "4                998               152             249.50   \n",
       "\n",
       "                                           embedding  \n",
       "0  [ 6.74242675e-02  9.02281553e-02 -5.09548280e-...  \n",
       "1  [ 5.52156046e-02  5.92139289e-02 -1.66167300e-...  \n",
       "2  [ 2.79801786e-02  3.39813791e-02 -2.06426736e-...  \n",
       "3  [ 6.82566836e-02  3.81274857e-02 -8.46855156e-...  \n",
       "4  [ 3.30264494e-02 -8.49770475e-03  9.57158674e-...  "
      ]
     },
     "execution_count": 37,
     "metadata": {},
     "output_type": "execute_result"
    }
   ],
   "source": [
    "#import saved file and view\n",
    "text_chunk_embeddings_df_load=pd.read_csv(embeddings_df_save_path)\n",
    "text_chunk_embeddings_df_load.head()"
   ]
  },
  {
   "cell_type": "markdown",
   "metadata": {
    "id": "67Xjk16RAD7j"
   },
   "source": [
    "If your embedding database is really large (e.g. over 100k-1M samples) It would be great using a vector database for storage.\n",
    "https://en.wikipedia.org/wiki/Vector_database"
   ]
  },
  {
   "cell_type": "markdown",
   "metadata": {
    "id": "c-IbWDNNBb5c"
   },
   "source": [
    "### RAG - Search and Answer\n",
    "\n",
    "RAG goal: Retrieve relevant passages based on a query and use those passages to augment an input to an LLM so it can generate an output based on those relevant passages."
   ]
  },
  {
   "cell_type": "markdown",
   "metadata": {
    "id": "7kCzDNrDEKqY"
   },
   "source": [
    "### Similarity Search\n",
    "Embeddings can be used for almost any type of data\n",
    "like images, sound,text, etc.\n",
    "Comparing embeddings is known as similarity search,vector searcntnh, semantic search.\n",
    "In our case, we want to query our nutrition textbook passages based on semantics or vibe.\n",
    "\n",
    "\n"
   ]
  },
  {
   "cell_type": "code",
   "execution_count": 38,
   "metadata": {
    "colab": {
     "base_uri": "https://localhost:8080/",
     "height": 459
    },
    "executionInfo": {
     "elapsed": 401,
     "status": "ok",
     "timestamp": 1761384074883,
     "user": {
      "displayName": "Muskan Motwani",
      "userId": "03800385271669659981"
     },
     "user_tz": -330
    },
    "id": "EPw2jvl2-3LD",
    "outputId": "f3a7ccdc-1551-41c3-8deb-da06edd80fc9"
   },
   "outputs": [
    {
     "data": {
      "text/html": [
       "<div>\n",
       "<style scoped>\n",
       "    .dataframe tbody tr th:only-of-type {\n",
       "        vertical-align: middle;\n",
       "    }\n",
       "\n",
       "    .dataframe tbody tr th {\n",
       "        vertical-align: top;\n",
       "    }\n",
       "\n",
       "    .dataframe thead th {\n",
       "        text-align: right;\n",
       "    }\n",
       "</style>\n",
       "<table border=\"1\" class=\"dataframe\">\n",
       "  <thead>\n",
       "    <tr style=\"text-align: right;\">\n",
       "      <th></th>\n",
       "      <th>embedding</th>\n",
       "    </tr>\n",
       "  </thead>\n",
       "  <tbody>\n",
       "    <tr>\n",
       "      <th>0</th>\n",
       "      <td>[0.0674242675, 0.0902281553, -0.0050954828, -0...</td>\n",
       "    </tr>\n",
       "    <tr>\n",
       "      <th>1</th>\n",
       "      <td>[0.0552156046, 0.0592139289, -0.01661673, -0.0...</td>\n",
       "    </tr>\n",
       "    <tr>\n",
       "      <th>2</th>\n",
       "      <td>[0.0279801786, 0.0339813791, -0.0206426736, 0....</td>\n",
       "    </tr>\n",
       "    <tr>\n",
       "      <th>3</th>\n",
       "      <td>[0.0682566836, 0.0381274857, -0.00846855156, -...</td>\n",
       "    </tr>\n",
       "    <tr>\n",
       "      <th>4</th>\n",
       "      <td>[0.0330264494, -0.00849770475, 0.00957158674, ...</td>\n",
       "    </tr>\n",
       "    <tr>\n",
       "      <th>...</th>\n",
       "      <td>...</td>\n",
       "    </tr>\n",
       "    <tr>\n",
       "      <th>1675</th>\n",
       "      <td>[0.0185622796, -0.0164277405, -0.0127045745, -...</td>\n",
       "    </tr>\n",
       "    <tr>\n",
       "      <th>1676</th>\n",
       "      <td>[0.0334720835, -0.0570440441, 0.0151489405, -0...</td>\n",
       "    </tr>\n",
       "    <tr>\n",
       "      <th>1677</th>\n",
       "      <td>[0.0770515427, 0.00978556462, -0.0121817458, 0...</td>\n",
       "    </tr>\n",
       "    <tr>\n",
       "      <th>1678</th>\n",
       "      <td>[0.103045121, -0.0164702311, 0.00826846622, 0....</td>\n",
       "    </tr>\n",
       "    <tr>\n",
       "      <th>1679</th>\n",
       "      <td>[0.0863773227, -0.0125358971, -0.0112746703, 0...</td>\n",
       "    </tr>\n",
       "  </tbody>\n",
       "</table>\n",
       "<p>1680 rows × 1 columns</p>\n",
       "</div><br><label><b>dtype:</b> object</label>"
      ],
      "text/plain": [
       "0       [0.0674242675, 0.0902281553, -0.0050954828, -0...\n",
       "1       [0.0552156046, 0.0592139289, -0.01661673, -0.0...\n",
       "2       [0.0279801786, 0.0339813791, -0.0206426736, 0....\n",
       "3       [0.0682566836, 0.0381274857, -0.00846855156, -...\n",
       "4       [0.0330264494, -0.00849770475, 0.00957158674, ...\n",
       "                              ...                        \n",
       "1675    [0.0185622796, -0.0164277405, -0.0127045745, -...\n",
       "1676    [0.0334720835, -0.0570440441, 0.0151489405, -0...\n",
       "1677    [0.0770515427, 0.00978556462, -0.0121817458, 0...\n",
       "1678    [0.103045121, -0.0164702311, 0.00826846622, 0....\n",
       "1679    [0.0863773227, -0.0125358971, -0.0112746703, 0...\n",
       "Name: embedding, Length: 1680, dtype: object"
      ]
     },
     "execution_count": 38,
     "metadata": {},
     "output_type": "execute_result"
    }
   ],
   "source": [
    "\n",
    "import random\n",
    "\n",
    "import torch\n",
    "import numpy as np\n",
    "import pandas as pd\n",
    "\n",
    "device= \"cuda\" if torch.cuda.is_available() else \"cpu\"\n",
    "\n",
    "text_chunk_embeddings_df= pd.read_csv(\"text_chunk_embeddings.csv\")\n",
    "\n",
    "#Convert embedding column back to np.array (it got converted to string when it saved to csv)\n",
    "text_chunk_embeddings_df[\"embedding\"]= text_chunk_embeddings_df[\"embedding\"].apply(lambda x: np.fromstring(x.strip(\"[]\"), sep=\" \"))\n",
    "\n",
    "# Convert oour embeddings into a torch.tensor\n",
    "embeddings=torch.tensor(np.stack(text_chunk_embeddings_df[\"embedding\"].tolist(),axis=0),dtype=torch.float32).to(device)\n",
    "\n",
    "# Convert texts and embedding df to list of dicts\n",
    "pages_and_chunks= text_chunk_embeddings_df.to_dict(orient=\"records\")\n",
    "\n",
    "text_chunk_embeddings_df[\"embedding\"]"
   ]
  },
  {
   "cell_type": "code",
   "execution_count": 39,
   "metadata": {
    "colab": {
     "base_uri": "https://localhost:8080/",
     "output_embedded_package_id": "1ggdf2hJTR_WqsfhpwmxbdJnj9HH0tuHM"
    },
    "executionInfo": {
     "elapsed": 15688,
     "status": "ok",
     "timestamp": 1761384090572,
     "user": {
      "displayName": "Muskan Motwani",
      "userId": "03800385271669659981"
     },
     "user_tz": -330
    },
    "id": "83M4cWF8Q2en",
    "outputId": "d7dc344e-ce1e-4c0f-a692-5422f493e3d7"
   },
   "outputs": [
    {
     "data": {
      "text/plain": [
       "Output hidden; open in https://colab.research.google.com to view."
      ]
     },
     "metadata": {},
     "output_type": "display_data"
    }
   ],
   "source": [
    "# embeddings=np.stack(text_chunk_embeddings_df[\"embedding\"].tolist())\n",
    "\n",
    "embeddings.shape\n",
    "pages_and_chunks"
   ]
  },
  {
   "cell_type": "code",
   "execution_count": 40,
   "metadata": {
    "executionInfo": {
     "elapsed": 4,
     "status": "ok",
     "timestamp": 1761384090670,
     "user": {
      "displayName": "Muskan Motwani",
      "userId": "03800385271669659981"
     },
     "user_tz": -330
    },
    "id": "KOAI5brFUW2b"
   },
   "outputs": [],
   "source": [
    "#Create model\n",
    "\n",
    "from sentence_transformers import util,SentenceTransformer\n",
    "\n",
    "embedding_model= SentenceTransformer(model_name_or_path=\"all-mpnet-base-v2\",device=device)"
   ]
  },
  {
   "cell_type": "markdown",
   "metadata": {
    "id": "Kyvyu6UJZt8X"
   },
   "source": [
    "Embedding model ready!\n",
    "Let's create a small semantic search pipeline.\n",
    "\n",
    "In essence, we want to search for a query (e.g. \"macronutrient functions\") and get back relevant passages from our textbook.\n",
    "\n",
    "We can do:\n",
    "1. Define a query string\n",
    "2. Turn a query string into an embedding.\n",
    "3. Perform a dot product or cosine similarity function between the text embedding and the query embedding.\n",
    "4. Sort the result from 3 in descending order."
   ]
  },
  {
   "cell_type": "code",
   "execution_count": 41,
   "metadata": {
    "executionInfo": {
     "elapsed": 2,
     "status": "ok",
     "timestamp": 1761384090676,
     "user": {
      "displayName": "Muskan Motwani",
      "userId": "03800385271669659981"
     },
     "user_tz": -330
    },
    "id": "LYjstM39d5R6"
   },
   "outputs": [],
   "source": [
    "#to use dot product for comparison ensure vector sizes are of same shape and tensors ar ein the same datatype"
   ]
  },
  {
   "cell_type": "code",
   "execution_count": 42,
   "metadata": {
    "colab": {
     "base_uri": "https://localhost:8080/"
    },
    "executionInfo": {
     "elapsed": 5,
     "status": "ok",
     "timestamp": 1761384090683,
     "user": {
      "displayName": "Muskan Motwani",
      "userId": "03800385271669659981"
     },
     "user_tz": -330
    },
    "id": "vsYl-2J1Zn8T",
    "outputId": "ce3f284c-afbb-429b-ac88-6fae40343566"
   },
   "outputs": [
    {
     "name": "stdout",
     "output_type": "stream",
     "text": [
      "Query: good foods for protein\n",
      "Time taken to get scores on 1680 embeddings: 0.00445 seconds.\n"
     ]
    },
    {
     "data": {
      "text/plain": [
       "torch.return_types.topk(\n",
       "values=tensor([0.7729, 0.7647, 0.6743, 0.6743, 0.6634], device='cuda:0'),\n",
       "indices=tensor([611, 616, 615, 620, 617], device='cuda:0'))"
      ]
     },
     "execution_count": 42,
     "metadata": {},
     "output_type": "execute_result"
    }
   ],
   "source": [
    "# 1. Define the query\n",
    "query= \"good foods for protein\"\n",
    "print(f'Query: {query}')\n",
    "\n",
    "#2. Embed the query Note: embed it with the same model as the documents\n",
    "query_embedding= embedding_model.encode(query,convert_to_tensor=True).to(device)\n",
    "\n",
    "\n",
    "#3. Perform a dot product (similarity scores) use cosine similarity if outputs of model arent normalized\n",
    "from time import perf_counter as timer\n",
    "\n",
    "start_time= timer()\n",
    "dot_scores = util.dot_score(a=query_embedding,b=embeddings)[0]\n",
    "end_time= timer()\n",
    "print(f\"Time taken to get scores on {len(embeddings)} embeddings: {end_time-start_time:.5f} seconds.\")\n",
    "\n",
    "#4. Get the top-k results (we'll )\n",
    "top_results_dot_product= torch.topk(dot_scores,k=5)\n",
    "top_results_dot_product"
   ]
  },
  {
   "cell_type": "code",
   "execution_count": 43,
   "metadata": {
    "colab": {
     "base_uri": "https://localhost:8080/"
    },
    "executionInfo": {
     "elapsed": 6,
     "status": "ok",
     "timestamp": 1761384090690,
     "user": {
      "displayName": "Muskan Motwani",
      "userId": "03800385271669659981"
     },
     "user_tz": -330
    },
    "id": "BcBaSQXNdR-3",
    "outputId": "93bdfd33-6919-4fe5-d3e5-782b3adb1f42"
   },
   "outputs": [
    {
     "data": {
      "text/plain": [
       "{'page_number': 5,\n",
       " 'sentence_chunk': 'Macronutrients Nutrients that are needed in large amounts are called macronutrients. There are three classes of macronutrients: carbohydrates, lipids, and proteins. These can be metabolically processed into cellular energy. The energy from macronutrients comes from their chemical bonds. This chemical energy is converted into cellular energy that is then utilized to perform work, allowing our bodies to conduct their basic functions. A unit of measurement of food energy is the calorie. On nutrition food labels the amount given for “calories” is actually equivalent to each calorie multiplied by one thousand. A kilocalorie (one thousand calories, denoted with a small “c”) is synonymous with the “Calorie” (with a capital “C”) on nutrition food labels. Water is also a macronutrient in the sense that you require a large amount of it, but unlike the other macronutrients, it does not yield calories. Carbohydrates Carbohydrates are molecules composed of carbon, hydrogen, and oxygen.',\n",
       " 'chunk_char_chount': 987,\n",
       " 'chunk_word_count': 149,\n",
       " 'chunk_token_count': 246.75,\n",
       " 'embedding': array([ 5.12206443e-02, -4.26197127e-02,  1.97356194e-02,  1.30613362e-02,\n",
       "         5.76598793e-02,  1.50817651e-02, -8.98823664e-02,  3.10130902e-02,\n",
       "        -2.98853982e-02, -3.47163118e-02,  3.21012996e-02,  1.07060736e-02,\n",
       "         2.06893142e-02,  3.23249809e-02,  3.62949669e-02, -3.53821553e-02,\n",
       "         6.14871383e-02, -4.20648530e-02, -3.95430960e-02,  3.16183046e-02,\n",
       "         5.24938980e-04,  5.43848425e-03,  3.73274684e-02, -9.44860186e-03,\n",
       "        -1.07091658e-01,  5.05331233e-02,  2.96340715e-02,  1.15390802e-02,\n",
       "        -2.46292469e-03, -5.12202419e-02, -8.93949345e-03, -1.50747446e-03,\n",
       "        -4.07980457e-02, -3.03628184e-02,  2.09010773e-06, -4.28524911e-02,\n",
       "        -3.43207233e-02,  6.94920262e-03, -7.17835650e-02,  1.22952173e-02,\n",
       "        -4.46250942e-03, -5.22793867e-02,  2.00276095e-02, -1.34436116e-02,\n",
       "         4.98107113e-02,  3.58145051e-02,  4.80722301e-02, -3.26665901e-02,\n",
       "        -3.76311876e-02, -7.63265975e-03,  6.88402494e-03, -5.60150761e-03,\n",
       "         2.25822814e-02, -1.74587108e-02,  3.06603517e-02,  4.68476117e-02,\n",
       "         1.86912026e-02,  7.59700537e-02, -1.06622092e-02,  4.57863323e-02,\n",
       "         2.90246680e-02,  1.99847352e-02,  9.43735056e-03, -1.29955523e-02,\n",
       "         5.31571321e-02,  6.15917332e-02, -5.04083894e-02, -2.54436526e-02,\n",
       "        -3.56739241e-04,  5.59728146e-02, -2.37430576e-02,  1.07695442e-02,\n",
       "         2.26447377e-02,  2.21030856e-03, -1.82256103e-02, -1.35282958e-02,\n",
       "         4.39408123e-02, -2.17777099e-02,  4.27759215e-02,  1.18115805e-02,\n",
       "        -8.25901236e-03,  1.60724912e-02,  2.82430202e-02, -1.11974822e-02,\n",
       "        -2.45931223e-02, -6.06057793e-02, -3.71069275e-02, -4.58630733e-03,\n",
       "        -1.80643750e-03, -3.78605276e-02, -9.56856906e-02, -3.32344882e-02,\n",
       "         5.13074137e-02,  1.19458651e-02,  8.91532004e-02, -2.07037255e-02,\n",
       "        -1.70695335e-02,  6.89378902e-02,  7.98154026e-02, -5.33365980e-02,\n",
       "        -3.27835903e-02, -2.75643393e-02,  1.19161047e-02,  1.96792148e-02,\n",
       "         2.09322432e-03,  8.88264924e-03, -7.58036599e-03, -5.34667633e-02,\n",
       "        -4.95696254e-02,  8.67320318e-03, -4.69778143e-02, -2.12227702e-02,\n",
       "        -4.15335856e-02,  3.72832194e-02, -3.81440669e-02,  4.74060513e-02,\n",
       "        -3.88260335e-02, -7.18369707e-03, -3.15470658e-02,  1.76315159e-02,\n",
       "        -1.44514292e-02,  3.07651404e-02,  3.46488357e-02, -8.39260872e-03,\n",
       "        -3.14043574e-02,  5.50121590e-02,  1.90809965e-02, -6.29032031e-02,\n",
       "         9.10228305e-03, -6.42892197e-02,  1.39967678e-02, -7.07599754e-03,\n",
       "        -2.94537228e-02,  2.08528657e-02, -1.04387384e-02,  1.02603473e-02,\n",
       "         4.33670655e-02, -1.68561861e-02,  2.88610663e-02, -8.11358169e-02,\n",
       "        -1.04753964e-01, -4.55289520e-02, -5.13248481e-02,  1.25922710e-02,\n",
       "         8.64885841e-03,  4.51929914e-03,  4.56908233e-02,  4.67330441e-02,\n",
       "         5.80705665e-02, -1.13193574e-03,  4.56145452e-03,  4.15875092e-02,\n",
       "         4.27243933e-02,  2.82426132e-03,  4.70684879e-02, -2.30714753e-02,\n",
       "         2.05919165e-02, -4.54461165e-02,  6.81779906e-02,  1.11990366e-02,\n",
       "         5.20032691e-03, -1.66078266e-02, -2.03240123e-02, -1.76641289e-02,\n",
       "        -2.53125485e-02, -4.15261500e-02,  1.21012749e-02, -7.14609772e-03,\n",
       "         1.50870290e-02,  1.43981082e-02, -1.42068248e-02, -1.47212306e-02,\n",
       "        -1.84840616e-02,  3.73983830e-02,  4.82297316e-02,  8.26240797e-03,\n",
       "         8.70284450e-04,  1.63980797e-02, -4.14805561e-02,  1.76652186e-02,\n",
       "         2.92758569e-02, -2.03148443e-02,  6.03397423e-03,  3.39284576e-02,\n",
       "        -5.11279479e-02, -3.29859443e-02,  1.19597521e-02, -5.89680821e-02,\n",
       "         1.49900336e-02, -2.48976946e-02,  5.55844828e-02, -1.96322445e-02,\n",
       "         7.56425015e-06, -6.87669963e-02,  3.23559605e-02, -1.10599995e-02,\n",
       "        -1.78017858e-02,  8.66497122e-03, -6.42555719e-03, -2.59782113e-02,\n",
       "         2.72192713e-02,  8.66381750e-02, -2.93233730e-02,  1.56848375e-02,\n",
       "        -8.42268094e-02,  2.29735374e-02,  3.90507691e-02,  1.46789420e-02,\n",
       "        -1.37597066e-03, -1.14772841e-02, -4.87177446e-03, -4.14112285e-02,\n",
       "        -3.32113559e-04, -1.28843151e-02, -3.15797073e-03, -6.54503405e-02,\n",
       "        -1.16173364e-02, -2.91304197e-02, -5.44330254e-02,  2.17899419e-02,\n",
       "         2.12141126e-02, -2.21223906e-02, -7.13878050e-02, -5.07890247e-02,\n",
       "         8.56907442e-02, -4.96718697e-02, -1.72049168e-03, -1.25248022e-02,\n",
       "        -8.32402334e-02,  1.83944646e-02,  4.81732823e-02,  5.68842590e-02,\n",
       "        -2.20833160e-02, -6.83016842e-03, -3.79386470e-02, -3.55392061e-02,\n",
       "        -1.74433794e-02,  4.68359552e-02, -8.91762227e-03,  4.86650132e-02,\n",
       "        -2.11817306e-02, -3.28908786e-02,  2.44304072e-02,  1.11137629e-02,\n",
       "        -5.00014313e-02,  2.15977971e-02, -4.26010750e-02, -1.19191268e-02,\n",
       "        -6.02721609e-03,  5.59982248e-02,  2.28940044e-02,  9.75413434e-03,\n",
       "         1.61253978e-02, -8.22240021e-03,  2.17042528e-02, -9.24524199e-03,\n",
       "         6.48606271e-02, -2.86090970e-02,  8.20321403e-03,  2.80465931e-02,\n",
       "         7.18476698e-02,  1.23421545e-03,  3.20823267e-02,  1.71127338e-02,\n",
       "        -5.36557287e-02, -2.59170663e-02, -7.83944223e-03,  4.85570468e-02,\n",
       "         7.65651930e-03, -1.14301462e-02,  1.63090937e-02,  2.42607612e-02,\n",
       "        -9.45936539e-04,  5.39971255e-02,  8.63445364e-03,  1.68763101e-02,\n",
       "         3.64885405e-02, -3.27896550e-02,  1.31791979e-02, -1.29420925e-02,\n",
       "        -1.47349061e-02,  4.01211344e-02,  2.64455508e-02,  2.14624833e-02,\n",
       "        -7.74360541e-03,  2.46680975e-02,  3.14302347e-03,  1.34802926e-02,\n",
       "         7.77451023e-02, -1.39843421e-02,  5.59257120e-02, -1.61790568e-02,\n",
       "        -2.97732349e-03, -8.85173306e-03, -9.58820153e-03,  5.59059391e-03,\n",
       "         3.50931585e-02, -3.85739468e-02,  3.82849164e-02,  2.14203186e-02,\n",
       "         4.16792044e-03, -2.03424208e-02, -6.76701888e-02,  1.88576896e-02,\n",
       "        -9.57173202e-03,  2.79920530e-02,  1.37692746e-02, -1.86339971e-02,\n",
       "         6.89145848e-02,  5.22053503e-02,  1.06269987e-02,  5.14396355e-02,\n",
       "        -1.23038869e-02,  4.24455479e-02, -6.09480552e-02,  1.26481140e-02,\n",
       "        -2.98745092e-02,  6.77426159e-02,  3.19172032e-02, -3.52336094e-02,\n",
       "         6.28789794e-03, -3.27924686e-03, -1.90393869e-02, -1.96798947e-02,\n",
       "        -2.24827286e-02,  7.21127493e-03, -3.31809409e-02,  8.80562887e-02,\n",
       "        -8.00812244e-02,  2.34367847e-02, -3.13476957e-02,  2.47506499e-02,\n",
       "         2.94469949e-02,  2.42623650e-02,  2.54903194e-02,  1.86420847e-02,\n",
       "        -3.26942503e-02, -3.21797282e-02,  4.35436796e-03, -2.12304480e-02,\n",
       "        -3.35889794e-02, -1.24098528e-02, -1.59347488e-03,  7.88185671e-02,\n",
       "         3.76581699e-02,  7.27088973e-02,  4.05480042e-02, -6.92256447e-03,\n",
       "         1.61997974e-02,  3.81625704e-02, -3.29869962e-03,  3.39780143e-03,\n",
       "        -7.60581950e-03, -1.41148013e-03, -1.33250784e-02,  7.66779259e-02,\n",
       "        -8.62753764e-03, -1.59633029e-02, -2.91217528e-02, -6.19482510e-02,\n",
       "         6.51341528e-02,  7.80710354e-02, -6.48326203e-02, -5.71081899e-02,\n",
       "         3.09010185e-02, -6.17976114e-03, -1.55528216e-02,  2.85684178e-03,\n",
       "         1.67836025e-02, -1.39425024e-02,  2.73234900e-02, -2.15965733e-02,\n",
       "        -3.98247765e-04, -5.62275294e-04,  1.28166210e-02,  1.22629059e-03,\n",
       "         2.82255225e-02,  3.95409279e-02, -1.18189409e-01,  1.74515210e-02,\n",
       "         1.49928089e-02,  1.87664479e-02,  3.58751789e-02, -9.38477553e-03,\n",
       "        -7.47179100e-03,  1.03580337e-02, -2.89553516e-02, -2.83714514e-02,\n",
       "         6.40503094e-02, -5.47635369e-02,  1.34002287e-02, -4.44100164e-02,\n",
       "        -7.21827149e-02,  4.05690260e-02, -9.43302934e-04,  1.44825028e-02,\n",
       "        -2.99105030e-02,  1.07988724e-02, -1.99925117e-02,  2.60403864e-02,\n",
       "         3.68308201e-02, -1.84924714e-02,  6.57837316e-02, -9.11413319e-03,\n",
       "         6.66735403e-04,  4.29192036e-02,  5.39137498e-02, -6.67363219e-03,\n",
       "        -5.47647569e-03,  3.56545523e-02,  9.74673405e-03, -6.72663227e-02,\n",
       "        -2.91336160e-02, -1.33687472e-02,  1.52671365e-02,  2.32469812e-02,\n",
       "         1.22045248e-03,  5.07125119e-03,  3.50581594e-02, -1.10613713e-02,\n",
       "        -4.96192947e-02, -1.03339413e-02,  1.58704370e-02,  5.57404989e-03,\n",
       "        -8.41477364e-02,  1.46636991e-02, -1.90380365e-02,  2.06014551e-02,\n",
       "        -2.46869884e-02,  3.85333896e-02,  2.09521456e-03, -7.00801089e-02,\n",
       "        -1.37359435e-02, -1.01723615e-02, -5.90135008e-02,  6.45322651e-02,\n",
       "         5.85188083e-02, -7.51208514e-02,  3.02052032e-03,  1.02363611e-02,\n",
       "        -5.27153257e-03,  2.75019724e-02,  3.74610163e-03, -6.33777073e-03,\n",
       "         1.15083763e-03,  5.50109185e-02, -2.21077241e-02, -3.91179323e-02,\n",
       "         7.24823177e-02,  1.98626779e-02,  1.82016399e-02,  3.04597188e-02,\n",
       "        -6.48683757e-02,  8.08702186e-02,  2.45368145e-02,  1.11445105e-02,\n",
       "        -4.76422161e-02,  4.56594676e-03, -2.81589618e-03, -7.88682029e-02,\n",
       "         1.68548394e-02, -1.72774214e-02, -2.18883418e-02,  6.90088549e-04,\n",
       "        -6.29118904e-02, -3.79275205e-03,  5.01791202e-02, -6.64928555e-02,\n",
       "        -1.44832097e-02, -2.13097706e-02, -1.90427538e-03,  2.36838982e-02,\n",
       "        -7.37538608e-03, -1.13887377e-02,  4.16967310e-02, -7.12385699e-02,\n",
       "         1.64448109e-03, -2.71907635e-02, -1.00598512e-02,  5.68651818e-02,\n",
       "        -1.59575921e-02, -2.18626186e-02,  2.95809824e-02,  1.32436315e-02,\n",
       "         6.84041344e-03, -2.32374538e-02,  2.30216924e-02, -2.83628665e-02,\n",
       "        -7.53525365e-03, -6.13193326e-02,  2.78965067e-02,  7.69140944e-02,\n",
       "        -2.20717136e-02, -5.54075129e-02,  4.10171365e-03, -1.86912958e-02,\n",
       "         1.98104717e-02, -8.79302062e-03,  3.64848301e-02,  3.39768752e-02,\n",
       "         5.12781031e-02, -2.33525075e-02,  9.18403734e-03, -2.00319886e-02,\n",
       "        -1.99395861e-03,  2.12422162e-02, -1.97834373e-02, -2.45847311e-02,\n",
       "         1.06189335e-02,  8.33647326e-03, -2.37421449e-02,  3.34301181e-02,\n",
       "         9.77970194e-03,  7.12097362e-02, -2.83091683e-02, -8.49853158e-02,\n",
       "        -1.90319065e-02,  8.11630301e-03, -1.77514460e-02, -2.63862554e-02,\n",
       "         2.13689264e-02, -4.03648615e-02, -5.73516265e-03, -1.78485494e-02,\n",
       "         1.95427909e-02,  4.72576842e-02,  1.18539920e-02,  1.90282403e-03,\n",
       "        -4.95081097e-02,  4.68240827e-02,  3.50180902e-02, -1.06982738e-02,\n",
       "        -2.17255633e-02, -4.43654321e-02,  1.96755975e-02,  6.33003414e-02,\n",
       "        -1.04450278e-01,  4.90753772e-03, -3.49747576e-02,  1.82479955e-02,\n",
       "        -4.48663579e-03, -1.80579629e-02,  1.75676420e-02,  2.44325083e-02,\n",
       "         4.84508500e-02,  2.89442688e-02, -3.35029811e-02, -5.95787615e-02,\n",
       "         6.59442786e-03, -8.16655904e-02, -7.21410289e-03,  6.02774359e-02,\n",
       "        -1.12552270e-02, -2.55421400e-02,  8.09146166e-02, -5.94383612e-33,\n",
       "         3.02098431e-02, -8.92082304e-02,  6.49115536e-03,  9.60946232e-02,\n",
       "        -1.93735119e-02,  6.53395280e-02, -1.14362063e-02, -1.10447686e-02,\n",
       "        -2.04059072e-02,  1.09527670e-02,  3.00814006e-02,  1.57746319e-02,\n",
       "         1.61111057e-02, -2.45360341e-02,  3.83538119e-02, -2.73477752e-02,\n",
       "         3.25411223e-02, -3.87462154e-02, -9.24404617e-03, -5.23319177e-04,\n",
       "        -2.05826517e-02, -4.33793589e-02,  3.30365002e-02, -3.97197949e-03,\n",
       "         5.11727594e-02, -1.30963151e-03,  1.67805664e-02,  9.70001798e-03,\n",
       "        -1.71041605e-03,  3.79025415e-02, -6.72443025e-03,  7.52368942e-02,\n",
       "         3.14809643e-02,  1.11006610e-02, -7.97905785e-04,  1.06822299e-02,\n",
       "        -2.57275179e-02, -2.34340951e-02, -1.76068414e-02,  3.74440178e-02,\n",
       "        -7.64185041e-02, -4.72622365e-02, -3.27571556e-02, -7.18574645e-03,\n",
       "        -4.53085899e-02,  4.06784154e-02, -1.70750767e-02,  3.52568575e-03,\n",
       "         4.42162761e-03,  1.49104663e-03,  3.68175730e-02,  2.31745206e-02,\n",
       "        -2.79525556e-02,  5.68877310e-02,  1.02578597e-02,  2.06507500e-02,\n",
       "        -1.54371904e-02, -2.24641468e-02,  1.94130074e-02,  8.84841755e-03,\n",
       "         3.99252325e-02,  7.77886286e-02, -2.38020066e-02,  7.14736655e-02,\n",
       "        -1.00755943e-02, -1.08495373e-02,  1.78618189e-02,  2.33524647e-02,\n",
       "        -5.17381169e-02, -3.77957011e-03, -2.61190571e-02,  1.47429463e-02,\n",
       "         1.29185163e-03, -7.94027932e-03,  1.03189396e-02, -5.02169356e-02,\n",
       "        -1.10685658e-02,  2.92008240e-02, -4.55097407e-02, -6.17506616e-02,\n",
       "        -5.01007065e-02, -3.19400057e-02,  3.56948525e-02, -3.29650007e-02,\n",
       "        -2.08452195e-02, -8.41172971e-03, -8.45201034e-03,  1.97558813e-02,\n",
       "         1.75183490e-02, -5.55997230e-02, -1.28371604e-02, -3.12198000e-03,\n",
       "         1.49003034e-02, -1.17948148e-02,  4.48351055e-02, -2.55915876e-02,\n",
       "         4.90458645e-02, -2.55753798e-03, -1.89134497e-02,  3.80497091e-02,\n",
       "        -4.56058756e-02,  8.28825496e-03, -6.04800973e-03, -6.15014434e-02,\n",
       "        -1.04682958e-02, -2.22252589e-02, -7.94930756e-02,  1.00402758e-02,\n",
       "         5.95424175e-02, -4.18819189e-02,  7.33768055e-03, -2.86843460e-02,\n",
       "         1.30295428e-03, -6.89497367e-02, -2.83592064e-02,  5.79135353e-03,\n",
       "         3.40575874e-02,  8.78306478e-03,  3.57473944e-03, -4.11857590e-02,\n",
       "        -2.78929193e-02, -8.72809347e-03,  4.13260348e-02, -1.59993861e-02,\n",
       "        -8.08928628e-03, -3.20716985e-02, -4.38995380e-03, -4.60190605e-03,\n",
       "         3.12835611e-02,  2.70411223e-02,  6.15944806e-03,  4.89444286e-02,\n",
       "         2.85611065e-07,  3.17536731e-04,  2.96484726e-03,  7.97611952e-04,\n",
       "        -8.53873491e-02, -1.12007167e-02,  6.90981001e-03,  4.60342951e-02,\n",
       "        -3.09937187e-02, -5.70021123e-02, -2.13643681e-04,  1.58192720e-02,\n",
       "        -6.90226853e-02,  2.67769094e-03,  1.01097729e-02,  7.05997869e-02,\n",
       "         4.68590530e-03,  5.22019118e-02, -4.89752516e-02,  1.88349523e-02,\n",
       "        -2.68262923e-02, -3.91778238e-02, -4.75330055e-02, -6.58264160e-02,\n",
       "        -6.83649036e-04, -6.86893389e-02, -2.00279523e-02,  2.77797654e-02,\n",
       "        -3.19516957e-02,  6.69077262e-02,  1.30915102e-02,  2.04992965e-02,\n",
       "        -9.98120569e-03,  2.52219271e-02,  2.48376355e-02, -2.19197702e-02,\n",
       "        -5.83549772e-05,  2.09554359e-02,  3.51148956e-02, -1.84648042e-03,\n",
       "         2.23087929e-02, -4.03340720e-02, -1.05464440e-02, -6.97744638e-03,\n",
       "        -4.89753997e-03, -4.20797393e-02, -3.75690460e-02, -5.53472713e-03,\n",
       "        -1.39226867e-02,  3.71149406e-02, -2.15041600e-02, -6.70337081e-02,\n",
       "         3.31932344e-02, -1.80221628e-02,  3.10805701e-02, -2.36991281e-03,\n",
       "         2.99423747e-02,  1.85484737e-02,  5.75077385e-02,  4.83018905e-02,\n",
       "         1.89165433e-03, -7.74481753e-03,  4.14552120e-03, -4.65455977e-03,\n",
       "        -2.11399212e-03,  4.39929590e-02,  8.85789171e-02, -2.53144535e-03,\n",
       "         2.09605520e-34, -5.73767396e-03, -3.41718942e-02,  8.44174647e-04,\n",
       "        -1.45266159e-02, -5.25104478e-02,  2.84898765e-02, -9.34370160e-02,\n",
       "         7.84424716e-04,  7.05511076e-03, -5.20309508e-02, -3.24149914e-02])}"
      ]
     },
     "execution_count": 43,
     "metadata": {},
     "output_type": "execute_result"
    }
   ],
   "source": [
    "pages_and_chunks[42]"
   ]
  },
  {
   "cell_type": "markdown",
   "metadata": {
    "id": "zRVhvYxm-heO"
   },
   "source": [
    "If we have 10M+ embedding , we would like to create an index\n",
    "\n",
    "A popular index library\n",
    "Faiss see : https://faiss.ai/index.html\n",
    "One technique that the library provides is approximate nearest neighbour search (ANN):  https://en.wikipedia.org/wiki/Nearest_neighbor_search\n"
   ]
  },
  {
   "cell_type": "code",
   "execution_count": 44,
   "metadata": {
    "executionInfo": {
     "elapsed": 20,
     "status": "ok",
     "timestamp": 1761384090714,
     "user": {
      "displayName": "Muskan Motwani",
      "userId": "03800385271669659981"
     },
     "user_tz": -330
    },
    "id": "vfZNNELJeL6l"
   },
   "outputs": [],
   "source": [
    "import textwrap\n",
    "\n",
    "def print_wrapped(text, wrap_length=100):\n",
    "  wrapped_text= textwrap.fill(text,wrap_length)\n",
    "  print(wrapped_text)"
   ]
  },
  {
   "cell_type": "code",
   "execution_count": 44,
   "metadata": {
    "executionInfo": {
     "elapsed": 2,
     "status": "ok",
     "timestamp": 1761384090718,
     "user": {
      "displayName": "Muskan Motwani",
      "userId": "03800385271669659981"
     },
     "user_tz": -330
    },
    "id": "xFs5-gAUP5ce"
   },
   "outputs": [],
   "source": []
  },
  {
   "cell_type": "code",
   "execution_count": 45,
   "metadata": {
    "colab": {
     "base_uri": "https://localhost:8080/"
    },
    "executionInfo": {
     "elapsed": 5,
     "status": "ok",
     "timestamp": 1761384090724,
     "user": {
      "displayName": "Muskan Motwani",
      "userId": "03800385271669659981"
     },
     "user_tz": -330
    },
    "id": "FJfzKPfreNuE",
    "outputId": "2865aa2a-90de-4814-d5c1-9be9e651aa83"
   },
   "outputs": [
    {
     "name": "stdout",
     "output_type": "stream",
     "text": [
      "Query:  good foods for protein \n",
      "\n",
      "Results\n",
      " Score: 0.7729\n",
      "Text:\n",
      "Dietary Sources of Protein The protein food group consists of foods made from meat, seafood,\n",
      "poultry, eggs, soy, dry beans, peas, and seeds. According to the Harvard School of Public Health,\n",
      "“animal protein and vegetable protein probably have the same effects on health. It’s the protein\n",
      "package that’s likely to make a difference.”1 1. Protein: The Bottom Line. Harvard School of Public\n",
      "Proteins, Diet, and Personal Choices | 411\n",
      " Page number : 411\n",
      "\n",
      "\n",
      " Score: 0.7647\n",
      "Text:\n",
      "Additionally, a person should consume 8 ounces of cooked seafood every week (typically as two\n",
      "4-ounce servings) to assure they are getting the healthy omega-3 fatty acids that have been linked\n",
      "to a lower risk for heart disease. Another tip is choosing to eat dry beans, peas, or soy products\n",
      "as a main dish. Some of the menu choices include chili with kidney and pinto beans, hummus on pita\n",
      "bread, and black bean enchiladas. You could also enjoy nuts in a variety of ways. You can put them\n",
      "on a salad, in a stir-fry, or use them as a topping for steamed vegetables in place of meat or\n",
      "cheese. If you do not eat meat, the USDA has much more information on how to get all the protein you\n",
      "need from a plant-based diet. When choosing the best protein-rich foods to eat, pay attention to the\n",
      "whole nutrient package and remember to select from a variety of protein sources to get all the other\n",
      "essential micronutrients. Protein Quality While protein is contained in a wide variety of foods, it\n",
      "differs in quality. High-quality protein contains all the essential amino acids in the proportions\n",
      "needed by the human body. The amino acid profile of different foods is therefore one component of\n",
      "protein quality.\n",
      " Page number : 414\n",
      "\n",
      "\n",
      " Score: 0.6743\n",
      "Text:\n",
      "18.9 5.4 200 454 Tuna 3 oz. (canned) 21.7 0.2 26 99 Soybeans 1 c. (boiled) 29.0 2.2 0 298 Lentils 1\n",
      "c. (boiled) 17.9 0.1 0 226 Kidney beans 1 c. (canned) 13.5 0.2 0 215 Sunflower seeds 1 c. 9.6 2.0 0\n",
      "269 The USDA provides some tips for choosing your dietary protein sources. Their motto is, “Go Lean\n",
      "with Protein”. The overall suggestion is to eat a variety of protein-rich foods to benefit health.\n",
      "The USDA recommends lean meats, such as round steaks, top sirloin, extra lean ground beef, pork\n",
      "loin, and skinless chicken. Proteins, Diet, and Personal Choices | 413\n",
      " Page number : 413\n",
      "\n",
      "\n",
      " Score: 0.6743\n",
      "Text:\n",
      "Food PDCAAS* Milk protein 1.00 Egg white 1.00 Whey 1.00 Soy protein 1.00 Beef 0.92 Soybeans 0.91\n",
      "Chickpeas 0.78 Fruits 0.76 Vegetables 0.73 Whole wheat 0.42 *1 is the highest rank, 0 is the lowest\n",
      "Protein Needs: Special Considerations Some groups may need to examine how to meet their protein\n",
      "needs more closely than others. We will take a closer look at the special protein considerations for\n",
      "vegetarians, the elderly, and athletes. Vegetarians and Vegans People who follow variations of the\n",
      "vegetarian diet and consume eggs and/or dairy products can meet their protein requirements by\n",
      "consuming adequate amounts of these foods. Vegetarians and vegans can also attain their recommended\n",
      "protein intakes if they give a little more attention to high-quality plant-based protein sources.\n",
      "However, when following a vegetarian diet, the amino acid lysine can be challenging to acquire.\n",
      "Grains, nuts, and seeds are lysine-poor foods, but tofu, soy, quinoa, and pistachios are all good\n",
      "Proteins, Diet, and Personal Choices | 417\n",
      " Page number : 417\n",
      "\n",
      "\n",
      " Score: 0.6634\n",
      "Text:\n",
      "Foods that contain some of the essential amino acids are called incomplete protein sources, while\n",
      "those that contain all nine essential amino acids are called complete protein sources, or high-\n",
      "quality protein sources. Foods that are complete protein sources include animal foods such as milk,\n",
      "cheese, eggs, fish, poultry, and meat, and a few plant foods, such as soy and quinoa. The only\n",
      "animal-based protein that is not complete is gelatin, which is made of the protein, collagen. Figure\n",
      "6.18 Complete and Incomplete Protein Sources 414 | Proteins, Diet, and Personal Choices\n",
      " Page number : 414\n",
      "\n",
      "\n"
     ]
    }
   ],
   "source": [
    "query=\" good foods for protein\"\n",
    "print(f\"Query: {query} \\n\")\n",
    "print(\"Results\")\n",
    "\n",
    "# Loop through zipped together scores and indices from topk\n",
    "\n",
    "for score, idx in zip(top_results_dot_product[0],top_results_dot_product[1]):\n",
    "  print(f\" Score: {score:.4f}\")\n",
    "  print(\"Text:\")\n",
    "  print_wrapped(pages_and_chunks[idx][\"sentence_chunk\"])\n",
    "  print(f\" Page number : {pages_and_chunks[idx]['page_number']}\")\n",
    "  print(\"\\n\")\n"
   ]
  },
  {
   "cell_type": "markdown",
   "metadata": {
    "id": "PGAVIQjcQonr"
   },
   "source": [
    "Note: We could improve the order of these results with a reranking model. A model that has been traineds to take search results (eg. the top 25 semantic results) and rank them in order from most likely top-1 to least likely.\n",
    "\n",
    " open source reranking model:\n",
    "https://huggingface.co/mixedbread-ai/mxbai-rerank-large-v1\n",
    "To check our results, what if we wanted to automatically surface the page of texts related to our query?"
   ]
  },
  {
   "cell_type": "code",
   "execution_count": 46,
   "metadata": {
    "colab": {
     "base_uri": "https://localhost:8080/",
     "height": 829
    },
    "executionInfo": {
     "elapsed": 5,
     "status": "ok",
     "timestamp": 1761384090730,
     "user": {
      "displayName": "Muskan Motwani",
      "userId": "03800385271669659981"
     },
     "user_tz": -330
    },
    "id": "Y2w0tUoWNKva",
    "outputId": "f76e5f35-8fc7-4686-ea3b-3b875b17e435"
   },
   "outputs": [
    {
     "data": {
      "image/png": "[encoded data removed]",
      "text/plain": [
       "<Figure size 1000x1000 with 1 Axes>"
      ]
     },
     "metadata": {},
     "output_type": "display_data"
    }
   ],
   "source": [
    "import fitz\n",
    "\n",
    "pdf_path= \"human-nutirition-text-pdf\"\n",
    "doc= fitz.open(pdf_path)\n",
    "page= doc.load_page(411+41)\n",
    "\n",
    "# Get the image of the page\n",
    "img= page.get_pixmap(dpi=300)\n",
    "\n",
    "#save image\n",
    "img.save(\"output_filename.png\")\n",
    "\n",
    "doc.close()\n",
    "\n",
    "# CONVERT THE PIXMAP TO A NUMPY ARRAY\n",
    "img_array= np.frombuffer(img.samples_mv,dtype=np.uint8).reshape((img.h,img.w,img.n))\n",
    "\n",
    "# Display image\n",
    "import matplotlib.pyplot as plt\n",
    "plt.figure(figsize=(10,10))\n",
    "plt.imshow(img_array)\n",
    "plt.title(f\"Query: '{query}'| Most relevant page:\")\n",
    "plt.axis('off')\n",
    "plt.show()"
   ]
  },
  {
   "cell_type": "markdown",
   "metadata": {
    "id": "M9lwLEHhTvka"
   },
   "source": [
    "### **Similarity measures: dot product and cosine similarity**\n",
    "\n",
    "Two of the common similarity measures : dot prod and cosine\n",
    "\n",
    "Closer vectors: higher scores\n",
    "further away vectors will have low scores.\n",
    "\n",
    "Vectors have direction (which way is it going) and magnitude (how long is it?)\n"
   ]
  },
  {
   "cell_type": "code",
   "execution_count": 47,
   "metadata": {
    "executionInfo": {
     "elapsed": 1,
     "status": "ok",
     "timestamp": 1761384090734,
     "user": {
      "displayName": "Muskan Motwani",
      "userId": "03800385271669659981"
     },
     "user_tz": -330
    },
    "id": "rSoZc_zsShta"
   },
   "outputs": [],
   "source": [
    "# import torch\n",
    "\n",
    "# def dot_product(vector1,vector2):\n",
    "#   return torch.dot(vector1,vector2)\n",
    "\n",
    "# def cosine_similarity(vector1,vector2):\n",
    "#   return torch.dot(vector1,vector2)/(torch.norm(vector1)*torch.norm(vector2))\n",
    "\n",
    "# # example  vectors\n",
    "# vector1= torch.tensor([1,2,3],dtype=torch.float32)\n",
    "# vector2= torch.tensor([4,5,6],dtype=torch.float32)\n"
   ]
  },
  {
   "cell_type": "code",
   "execution_count": 48,
   "metadata": {
    "executionInfo": {
     "elapsed": 2,
     "status": "ok",
     "timestamp": 1761384090736,
     "user": {
      "displayName": "Muskan Motwani",
      "userId": "03800385271669659981"
     },
     "user_tz": -330
    },
    "id": "b1tu-R-XWnGP"
   },
   "outputs": [],
   "source": [
    "# dot_product(vector1,vector2)"
   ]
  },
  {
   "cell_type": "code",
   "execution_count": 49,
   "metadata": {
    "executionInfo": {
     "elapsed": 1,
     "status": "ok",
     "timestamp": 1761384090739,
     "user": {
      "displayName": "Muskan Motwani",
      "userId": "03800385271669659981"
     },
     "user_tz": -330
    },
    "id": "II8LCIAGWryL"
   },
   "outputs": [],
   "source": [
    "# cosine_similarity(vector1,vector2)"
   ]
  },
  {
   "cell_type": "markdown",
   "metadata": {
    "id": "dpDcyoxoZkul"
   },
   "source": [
    "Since the embeddings that we get are already normalized : so thats why we've used dot product"
   ]
  },
  {
   "cell_type": "markdown",
   "metadata": {
    "id": "LGupX0DbaEBN"
   },
   "source": [
    "***### Functionizing our semantic search pipeline(retrieval)***\n",
    "\n"
   ]
  },
  {
   "cell_type": "code",
   "execution_count": 50,
   "metadata": {
    "executionInfo": {
     "elapsed": 16,
     "status": "ok",
     "timestamp": 1761384090756,
     "user": {
      "displayName": "Muskan Motwani",
      "userId": "03800385271669659981"
     },
     "user_tz": -330
    },
    "id": "IBeoxypiWto4"
   },
   "outputs": [],
   "source": [
    "def retrieve_relevant(query: str,\n",
    "                      embeddings: torch.tensor,\n",
    "                      model: SentenceTransformer=embedding_model,\n",
    "                      n_resources_to_return: int=5,\n",
    "                      print_time: bool=True):\n",
    "\n",
    "  \"\"\"\n",
    "  Embeds a query with model and returns top k scores and indices from embeddings.\n",
    "  \"\"\"\n",
    "\n",
    "  #Embed the query\n",
    "  query_embedding= model.encode(query,convert_to_tensor=True).to(device)\n",
    "\n",
    "  # Perform a dot product\n",
    "  start_time=timer()\n",
    "  dot_scores= util.dot_score(a=query_embedding,b=embeddings)[0]\n",
    "  end_time=timer()\n",
    "\n",
    "  if print_time:\n",
    "    print(f\"Time taken to get scores on {len(embeddings)} embeddings: {end_time-start_time:.5f} seconds\")\n",
    "\n",
    "  scores,indices=torch.topk(input=dot_scores,k=n_resources_to_return)\n",
    "\n",
    "  return scores,indices\n",
    "\n",
    "def print_top_results_and_scores(query: str,\n",
    "                                 embeddings: torch.tensor,\n",
    "                                 pages_and_chunks: list[dict]=pages_and_chunks,\n",
    "                                 n_resources_to_return=5):\n",
    "\n",
    "  scores,indices=retrieve_relevant(query=query,\n",
    "                                   embeddings=embeddings,\n",
    "                                   n_resources_to_return=n_resources_to_return)\n",
    "\n",
    "  for score, idx in zip(scores,indices):\n",
    "        print(f\" Score: {score:.4f}\")\n",
    "        print(\"Text:\")\n",
    "        print_wrapped(pages_and_chunks[idx][\"sentence_chunk\"])\n",
    "        print(f\" Page number : {pages_and_chunks[idx]['page_number']}\")\n",
    "        print(\"\\n\")\n",
    "\n"
   ]
  },
  {
   "cell_type": "code",
   "execution_count": 51,
   "metadata": {
    "colab": {
     "base_uri": "https://localhost:8080/"
    },
    "executionInfo": {
     "elapsed": 6,
     "status": "ok",
     "timestamp": 1761384090763,
     "user": {
      "displayName": "Muskan Motwani",
      "userId": "03800385271669659981"
     },
     "user_tz": -330
    },
    "id": "6oMEjHpuZz_8",
    "outputId": "a9664614-eda8-4b2c-b23f-e725670bd8a6"
   },
   "outputs": [
    {
     "name": "stdout",
     "output_type": "stream",
     "text": [
      "Time taken to get scores on 1680 embeddings: 0.00009 seconds\n",
      "Time taken to get scores on 1680 embeddings: 0.00008 seconds\n",
      " Score: 0.6799\n",
      "Text:\n",
      "Food Serving Vitamin B12 (mcg) Percent Daily Value Clams 3 oz. 84.1 1,402 Salmon 3 oz. 4.8 80 Tuna,\n",
      "canned 3 oz. 2.5 42 Breakfast cereals, fortified 1 serving 1.5 25 Beef, top sirloin 3 oz. 1.4 23\n",
      "Milk, lowfat 8 fl oz. 1.2 18 Yogurt, lowfat 8 oz. 1.1 18 Cheese, swiss 1 oz. 0.9 15 Egg 1 large 0.6\n",
      "10 Dietary Fact Sheet: Vitamin B12. National Institute of Health, Office of Dietary Supplements.\n",
      "https://ods.od.nih.gov/factsheets/ VitaminB12-HealthProfessional/. Updated February 11, 2016.\n",
      " Page number : 586\n",
      "\n",
      "\n",
      " Score: 0.6330\n",
      "Text:\n",
      "Dietary Reference Intakes The RDAs and ULs for different age groups for  Vitamin B12 are listed in\n",
      "Table 9.27 “Dietary Reference Intakes for Vitamin B12“. Table 9.27  Dietary Reference Intakes for\n",
      "Vitamin B12 Age Group RDA Males and Females mcg/day Infants (0–6 months) 0.4* Infants (7–12 months)\n",
      "0.5* Children (1–3 years) 0.9 Children (4–8 years) 1.2 Children (9–13 years) 1.8 Adolescents (14–18\n",
      "years) 2.4 Adults (> 19 years) 2.4 *denotes Adequate Intake Dietary Fact Sheet: Vitamin B12.\n",
      "National Institute of Health, Office of Dietary Supplements. https://ods.od.nih.gov/factsheets/\n",
      "VitaminB12-HealthProfessional/. Updated February 11, 2016. Accessed October 28, 2017. Dietary\n",
      "Sources Vitamin B12 is found naturally in animal products such as fish, meat, poultry, eggs, and\n",
      "milk products. Although vitamin B12 is not generally present in plant foods, fortified breakfast\n",
      "cereals are also a good source of vitamin B12. For the vitamin B12 content of various foods, see\n",
      "Table 9.28 “Vitamin B12 Content of Various Foods”. Table 9.28 Vitamin B12 Content of Various Foods\n",
      "Water-Soluble Vitamins | 585\n",
      " Page number : 585\n",
      "\n",
      "\n",
      " Score: 0.6041\n",
      "Text:\n",
      "Dietary Sources Biotin can be found in foods such as eggs, fish, meat, seeds, nuts and certain\n",
      "vegetables. For the pantothenic acid content of various foods, see Table 9.22 Biotin Content of\n",
      "Various Foods”. Table 9.22 Biotin Content of Various Foods Food Serving Biotin (mcg) Percent Daily\n",
      "Value* Eggs 1 large 10 33.3 Salmon, canned 3 oz. 5 16.6 Pork chop 3 oz. 3.8 12.6 Sunflower seeds ¼\n",
      "c. 2.6 8.6 Sweet potato ½ c. 2.4 8 Almonds ¼ c. 1.5 5 Tuna, canned 3 oz. 0.6 2 Broccoli ½ c. 0.4 1.3\n",
      "Banana ½ c. 0.2 0.6 * Current AI used to determine Percent Daily Value Fact Sheet for Health\n",
      "Professionals: Biotin. National Institute of Health, Office of Dietary\n",
      "Supplements.https://ods.od.nih.gov/ factsheets/Biotin-HealthProfessional/. Updated October 3, 2017.\n",
      "Accessed November 10, 2017. Vitamin B6 (Pyridoxine) Vitamin B6 is the coenzyme involved in a wide\n",
      "variety of functions in the body.\n",
      " Page number : 574\n",
      "\n",
      "\n",
      " Score: 0.5761\n",
      "Text:\n",
      "Table 9.23 Dietary Reference Intakes for Vitamin B6 Age Group RDA Males and Females mg/day UL\n",
      "Infants (0–6 months) 0.1* Not possible to determine Infants (7–12 months) 0.3* Not possible to\n",
      "determine Children (1–3 years) 0.5 30 Children (4–8 years) 0.6 40 Children (9–13 years) 1 60\n",
      "Adolescents (14–18 years) 1.3 (males), 1.2 (females) 80 Adults (> 19 years) 1.3 100 *denotes\n",
      "Adequate Intake Dietary Supplement Fact Sheet: Vitamin B6. National Institute of Health, Office of\n",
      "Dietary Supplements.https://ods.od.nih.gov/ factsheets/VitaminB6-HealthProfessional/. Updates\n",
      "February 11, 2016. Accessed October 22, 2017. Dietary Sources Vitamin B6 can be found in a variety\n",
      "of foods. The richest sources include fish, beef liver and other organ meats, potatoes, and other\n",
      "starchy vegetables and fruits. For the Vitamin B6  content of various foods, see Table 9.24 Vitamin\n",
      "B6 Content of Various Foods”. Table 9.24 Vitamin B6 Content of Various Foods Water-Soluble Vitamins\n",
      "| 577\n",
      " Page number : 577\n",
      "\n",
      "\n",
      " Score: 0.5490\n",
      "Text:\n",
      "Food Serving Vitamin A (IU) Percent Daily Value Beef liver 3 oz. 27,185 545 Chicken liver 3 oz.\n",
      "12,325 245 Milk, skim 1 c. 500 10 Milk, whole 1 c. 249 5 Cheddar cheese 1 oz. 284 6 Source: Dietary\n",
      "Supplement Fact Sheet: Vitamin A. National Institutes of Health, Office of Dietary Supplements.\n",
      "http://ods.od.nih.gov/factsheets/VitaminA-QuickFacts/. Updated September 5, 2012. Accessed October\n",
      "7, 2017. In the United States, the most consumed carotenoids are alpha- carotene, beta-carotene,\n",
      "beta-cryptoxanthin, lycopene, lutein, and zeaxanthin. See Table 9.3 “Alpha- and Beta-Carotene\n",
      "Content of Various Foods” for the carotenoid content of various foods. Table 9.3 Alpha- and Beta-\n",
      "Carotene Content of Various Foods Food Serving Beta-carotene (mg) Alpha-carotene (mg) Pumpkin,\n",
      "canned 1c. 17.00 11.70 Carrot juice 1c.\n",
      " Page number : 529\n",
      "\n",
      "\n"
     ]
    }
   ],
   "source": [
    "retrieve_relevant(query=\"foods high in Vitamin B12 \",embeddings=embeddings)\n",
    "print_top_results_and_scores(query=\"foods high in Vitamin B12 \",embeddings=embeddings)\n"
   ]
  },
  {
   "cell_type": "markdown",
   "metadata": {
    "id": "F1ZC29fDdEef"
   },
   "source": [
    "###**Getting an LLM for local generation**\n",
    "\n",
    "What is a generative LLM?\n",
    "\n",
    "Goes from text input -> generate text_output.\n",
    "\n",
    "\n"
   ]
  },
  {
   "cell_type": "code",
   "execution_count": 52,
   "metadata": {
    "colab": {
     "base_uri": "https://localhost:8080/"
    },
    "executionInfo": {
     "elapsed": 6,
     "status": "ok",
     "timestamp": 1761384090770,
     "user": {
      "displayName": "Muskan Motwani",
      "userId": "03800385271669659981"
     },
     "user_tz": -330
    },
    "id": "ZphFzt_4bUeZ",
    "outputId": "49723dd8-8c46-48fd-db12-5c03a98a642a"
   },
   "outputs": [
    {
     "name": "stdout",
     "output_type": "stream",
     "text": [
      " Available gpu memory 40 GB\n"
     ]
    }
   ],
   "source": [
    "#Get GPU available memory\n",
    "\n",
    "import torch\n",
    "gpu_memory_bytes=torch.cuda.get_device_properties(0).total_memory\n",
    "gpu_memory_gb= round(gpu_memory_bytes/(2**30))\n",
    "print(f\" Available gpu memory {gpu_memory_gb} GB\")"
   ]
  },
  {
   "cell_type": "markdown",
   "metadata": {
    "id": "RvFpnzVYgDBw"
   },
   "source": [
    "Note: to use gemma-7b-it https://huggingface.co/google/gemma-7b-it or other gemma models--> Hugging face cli login https://huggingface.co/docs/huggingface_hub/guides/cli\n"
   ]
  },
  {
   "cell_type": "code",
   "execution_count": 53,
   "metadata": {
    "colab": {
     "base_uri": "https://localhost:8080/"
    },
    "executionInfo": {
     "elapsed": 10,
     "status": "ok",
     "timestamp": 1761384090781,
     "user": {
      "displayName": "Muskan Motwani",
      "userId": "03800385271669659981"
     },
     "user_tz": -330
    },
    "id": "-aG1VenQfs-a",
    "outputId": "b2d22c62-b338-49a1-dd09-a8ab2e1e9176"
   },
   "outputs": [
    {
     "name": "stdout",
     "output_type": "stream",
     "text": [
      "Requirement already satisfied: huggingface_hub in /usr/local/lib/python3.12/dist-packages (0.35.3)\n",
      "Collecting huggingface_hub\n",
      "  Downloading huggingface_hub-0.36.0-py3-none-any.whl.metadata (14 kB)\n",
      "Requirement already satisfied: filelock in /usr/local/lib/python3.12/dist-packages (from huggingface_hub) (3.20.0)\n",
      "Requirement already satisfied: fsspec>=2023.5.0 in /usr/local/lib/python3.12/dist-packages (from huggingface_hub) (2025.3.0)\n",
      "Requirement already satisfied: packaging>=20.9 in /usr/local/lib/python3.12/dist-packages (from huggingface_hub) (25.0)\n",
      "Requirement already satisfied: pyyaml>=5.1 in /usr/local/lib/python3.12/dist-packages (from huggingface_hub) (6.0.3)\n",
      "Requirement already satisfied: requests in /usr/local/lib/python3.12/dist-packages (from huggingface_hub) (2.32.4)\n",
      "Requirement already satisfied: tqdm>=4.42.1 in /usr/local/lib/python3.12/dist-packages (from huggingface_hub) (4.67.1)\n",
      "Requirement already satisfied: typing-extensions>=3.7.4.3 in /usr/local/lib/python3.12/dist-packages (from huggingface_hub) (4.15.0)\n",
      "Requirement already satisfied: hf-xet<2.0.0,>=1.1.3 in /usr/local/lib/python3.12/dist-packages (from huggingface_hub) (1.1.10)\n",
      "Requirement already satisfied: charset_normalizer<4,>=2 in /usr/local/lib/python3.12/dist-packages (from requests->huggingface_hub) (3.4.4)\n",
      "Requirement already satisfied: idna<4,>=2.5 in /usr/local/lib/python3.12/dist-packages (from requests->huggingface_hub) (3.11)\n",
      "Requirement already satisfied: urllib3<3,>=1.21.1 in /usr/local/lib/python3.12/dist-packages (from requests->huggingface_hub) (2.5.0)\n",
      "Requirement already satisfied: certifi>=2017.4.17 in /usr/local/lib/python3.12/dist-packages (from requests->huggingface_hub) (2025.10.5)\n",
      "Downloading huggingface_hub-0.36.0-py3-none-any.whl (566 kB)\n",
      "\u001b[2K   \u001b[90m━━━━━━━━━━━━━━━━━━━━━━━━━━━━━━━━━━━━━━━━\u001b[0m \u001b[32m566.1/566.1 kB\u001b[0m \u001b[31m39.1 MB/s\u001b[0m eta \u001b[36m0:00:00\u001b[0m\n",
      "\u001b[?25hInstalling collected packages: huggingface_hub\n",
      "  Attempting uninstall: huggingface_hub\n",
      "    Found existing installation: huggingface-hub 0.35.3\n",
      "    Uninstalling huggingface-hub-0.35.3:\n",
      "      Successfully uninstalled huggingface-hub-0.35.3\n",
      "Successfully installed huggingface_hub-0.36.0\n"
     ]
    }
   ],
   "source": [
    "! pip install -U \"huggingface_hub\"\n"
   ]
  },
  {
   "cell_type": "code",
   "execution_count": 54,
   "metadata": {
    "colab": {
     "base_uri": "https://localhost:8080/"
    },
    "executionInfo": {
     "elapsed": 3540,
     "status": "ok",
     "timestamp": 1761384094323,
     "user": {
      "displayName": "Muskan Motwani",
      "userId": "03800385271669659981"
     },
     "user_tz": -330
    },
    "id": "qLg92S5yfylw",
    "outputId": "e44f49fb-3777-4953-a204-392cb493fff5"
   },
   "outputs": [
    {
     "name": "stdout",
     "output_type": "stream",
     "text": [
      "Requirement already satisfied: huggingface_hub[cli] in /usr/local/lib/python3.12/dist-packages (0.36.0)\n",
      "Requirement already satisfied: filelock in /usr/local/lib/python3.12/dist-packages (from huggingface_hub[cli]) (3.20.0)\n",
      "Requirement already satisfied: fsspec>=2023.5.0 in /usr/local/lib/python3.12/dist-packages (from huggingface_hub[cli]) (2025.3.0)\n",
      "Requirement already satisfied: packaging>=20.9 in /usr/local/lib/python3.12/dist-packages (from huggingface_hub[cli]) (25.0)\n",
      "Requirement already satisfied: pyyaml>=5.1 in /usr/local/lib/python3.12/dist-packages (from huggingface_hub[cli]) (6.0.3)\n",
      "Requirement already satisfied: requests in /usr/local/lib/python3.12/dist-packages (from huggingface_hub[cli]) (2.32.4)\n",
      "Requirement already satisfied: tqdm>=4.42.1 in /usr/local/lib/python3.12/dist-packages (from huggingface_hub[cli]) (4.67.1)\n",
      "Requirement already satisfied: typing-extensions>=3.7.4.3 in /usr/local/lib/python3.12/dist-packages (from huggingface_hub[cli]) (4.15.0)\n",
      "Requirement already satisfied: hf-xet<2.0.0,>=1.1.3 in /usr/local/lib/python3.12/dist-packages (from huggingface_hub[cli]) (1.1.10)\n",
      "Collecting InquirerPy==0.3.4 (from huggingface_hub[cli])\n",
      "  Downloading InquirerPy-0.3.4-py3-none-any.whl.metadata (8.1 kB)\n",
      "Collecting pfzy<0.4.0,>=0.3.1 (from InquirerPy==0.3.4->huggingface_hub[cli])\n",
      "  Downloading pfzy-0.3.4-py3-none-any.whl.metadata (4.9 kB)\n",
      "Requirement already satisfied: prompt-toolkit<4.0.0,>=3.0.1 in /usr/local/lib/python3.12/dist-packages (from InquirerPy==0.3.4->huggingface_hub[cli]) (3.0.52)\n",
      "Requirement already satisfied: charset_normalizer<4,>=2 in /usr/local/lib/python3.12/dist-packages (from requests->huggingface_hub[cli]) (3.4.4)\n",
      "Requirement already satisfied: idna<4,>=2.5 in /usr/local/lib/python3.12/dist-packages (from requests->huggingface_hub[cli]) (3.11)\n",
      "Requirement already satisfied: urllib3<3,>=1.21.1 in /usr/local/lib/python3.12/dist-packages (from requests->huggingface_hub[cli]) (2.5.0)\n",
      "Requirement already satisfied: certifi>=2017.4.17 in /usr/local/lib/python3.12/dist-packages (from requests->huggingface_hub[cli]) (2025.10.5)\n",
      "Requirement already satisfied: wcwidth in /usr/local/lib/python3.12/dist-packages (from prompt-toolkit<4.0.0,>=3.0.1->InquirerPy==0.3.4->huggingface_hub[cli]) (0.2.14)\n",
      "Downloading InquirerPy-0.3.4-py3-none-any.whl (67 kB)\n",
      "\u001b[2K   \u001b[90m━━━━━━━━━━━━━━━━━━━━━━━━━━━━━━━━━━━━━━━━\u001b[0m \u001b[32m67.7/67.7 kB\u001b[0m \u001b[31m6.2 MB/s\u001b[0m eta \u001b[36m0:00:00\u001b[0m\n",
      "\u001b[?25hDownloading pfzy-0.3.4-py3-none-any.whl (8.5 kB)\n",
      "Installing collected packages: pfzy, InquirerPy\n",
      "Successfully installed InquirerPy-0.3.4 pfzy-0.3.4\n"
     ]
    }
   ],
   "source": [
    "!pip install -U \"huggingface_hub[cli]\""
   ]
  },
  {
   "cell_type": "code",
   "execution_count": 55,
   "metadata": {
    "colab": {
     "base_uri": "https://localhost:8080/"
    },
    "executionInfo": {
     "elapsed": 308719,
     "status": "ok",
     "timestamp": 1761384403049,
     "user": {
      "displayName": "Muskan Motwani",
      "userId": "03800385271669659981"
     },
     "user_tz": -330
    },
    "id": "_GhFmbHLh5q4",
    "outputId": "805178c6-e52f-4701-e385-479a7c52ac0e"
   },
   "outputs": [
    {
     "name": "stdout",
     "output_type": "stream",
     "text": [
      "\n",
      "    _|    _|  _|    _|    _|_|_|    _|_|_|  _|_|_|  _|      _|    _|_|_|      _|_|_|_|    _|_|      _|_|_|  _|_|_|_|\n",
      "    _|    _|  _|    _|  _|        _|          _|    _|_|    _|  _|            _|        _|    _|  _|        _|\n",
      "    _|_|_|_|  _|    _|  _|  _|_|  _|  _|_|    _|    _|  _|  _|  _|  _|_|      _|_|_|    _|_|_|_|  _|        _|_|_|\n",
      "    _|    _|  _|    _|  _|    _|  _|    _|    _|    _|    _|_|  _|    _|      _|        _|    _|  _|        _|\n",
      "    _|    _|    _|_|      _|_|_|    _|_|_|  _|_|_|  _|      _|    _|_|_|      _|        _|    _|    _|_|_|  _|_|_|_|\n",
      "\n",
      "    To log in, `huggingface_hub` requires a token generated from https://huggingface.co/settings/tokens .\n",
      "Enter your token (input will not be visible): \n",
      "Add token as git credential? (Y/n) n\n",
      "Token is valid (permission: fineGrained).\n",
      "The token `rag` has been saved to /root/.cache/huggingface/stored_tokens\n",
      "Your token has been saved to /root/.cache/huggingface/token\n",
      "Login successful.\n",
      "The current active token is: `rag`\n"
     ]
    }
   ],
   "source": [
    "!hf auth login"
   ]
  },
  {
   "cell_type": "code",
   "execution_count": 56,
   "metadata": {
    "colab": {
     "base_uri": "https://localhost:8080/"
    },
    "executionInfo": {
     "elapsed": 775,
     "status": "ok",
     "timestamp": 1761384403838,
     "user": {
      "displayName": "Muskan Motwani",
      "userId": "03800385271669659981"
     },
     "user_tz": -330
    },
    "id": "-KZVKTTPh-wT",
    "outputId": "fcd343fb-c94e-46e5-bd30-755e783ea597"
   },
   "outputs": [
    {
     "name": "stdout",
     "output_type": "stream",
     "text": [
      "\u001b[1muser: \u001b[0m INFISKI\n"
     ]
    }
   ],
   "source": [
    "\n",
    "\n",
    "!hf auth whoami\n",
    "\n",
    "\n",
    "\n"
   ]
  },
  {
   "cell_type": "code",
   "execution_count": 57,
   "metadata": {
    "colab": {
     "base_uri": "https://localhost:8080/"
    },
    "executionInfo": {
     "elapsed": 37,
     "status": "ok",
     "timestamp": 1761384403877,
     "user": {
      "displayName": "Muskan Motwani",
      "userId": "03800385271669659981"
     },
     "user_tz": -330
    },
    "id": "CBzpFmSSkv_Z",
    "outputId": "d7514226-48a2-47bc-ec44-0535ffbf90e1"
   },
   "outputs": [
    {
     "name": "stdout",
     "output_type": "stream",
     "text": [
      "GPU memory: 40 | Recommend model: Gemma 7B in 4-bit or float16 precision.\n",
      "use_quantization_config set to: False\n",
      "model_id set to: google/gemma-7b-it\n"
     ]
    }
   ],
   "source": [
    "\n",
    "\n",
    "# Note: the following is Gemma focused, however, there are more and more LLMs of the 2B and 7B size appearing for local use.\n",
    "if gpu_memory_gb < 5.1:\n",
    "    print(f\"Your available GPU memory is {gpu_memory_gb}GB, you may not have enough memory to run a Gemma LLM locally without quantization.\")\n",
    "elif gpu_memory_gb < 8.1:\n",
    "    print(f\"GPU memory: {gpu_memory_gb} | Recommended model: Gemma 2B in 4-bit precision.\")\n",
    "    use_quantization_config = True\n",
    "    model_id = \"google/gemma-2b-it\"\n",
    "elif gpu_memory_gb < 19.0:\n",
    "    print(f\"GPU memory: {gpu_memory_gb} | Recommended model: Gemma 2B in float16 or Gemma 7B in 4-bit precision.\")\n",
    "    use_quantization_config = False\n",
    "    model_id = \"google/gemma-2b-it\"\n",
    "elif gpu_memory_gb > 19.0:\n",
    "    print(f\"GPU memory: {gpu_memory_gb} | Recommend model: Gemma 7B in 4-bit or float16 precision.\")\n",
    "    use_quantization_config = False\n",
    "    model_id = \"google/gemma-7b-it\"\n",
    "\n",
    "print(f\"use_quantization_config set to: {use_quantization_config}\")\n",
    "print(f\"model_id set to: {model_id}\")\n",
    "\n"
   ]
  },
  {
   "cell_type": "code",
   "execution_count": 58,
   "metadata": {
    "colab": {
     "base_uri": "https://localhost:8080/"
    },
    "executionInfo": {
     "elapsed": 238,
     "status": "ok",
     "timestamp": 1761384404117,
     "user": {
      "displayName": "Muskan Motwani",
      "userId": "03800385271669659981"
     },
     "user_tz": -330
    },
    "id": "dwFcbDlSjNx4",
    "outputId": "6248f178-4e10-42d6-a1c2-12945916bb31"
   },
   "outputs": [
    {
     "name": "stdout",
     "output_type": "stream",
     "text": [
      "Sat Oct 25 09:26:43 2025       \n",
      "+-----------------------------------------------------------------------------------------+\n",
      "| NVIDIA-SMI 550.54.15              Driver Version: 550.54.15      CUDA Version: 12.4     |\n",
      "|-----------------------------------------+------------------------+----------------------+\n",
      "| GPU  Name                 Persistence-M | Bus-Id          Disp.A | Volatile Uncorr. ECC |\n",
      "| Fan  Temp   Perf          Pwr:Usage/Cap |           Memory-Usage | GPU-Util  Compute M. |\n",
      "|                                         |                        |               MIG M. |\n",
      "|=========================================+========================+======================|\n",
      "|   0  NVIDIA A100-SXM4-40GB          Off |   00000000:00:04.0 Off |                    0 |\n",
      "| N/A   35C    P0             52W /  400W |    1945MiB /  40960MiB |      0%      Default |\n",
      "|                                         |                        |             Disabled |\n",
      "+-----------------------------------------+------------------------+----------------------+\n",
      "                                                                                         \n",
      "+-----------------------------------------------------------------------------------------+\n",
      "| Processes:                                                                              |\n",
      "|  GPU   GI   CI        PID   Type   Process name                              GPU Memory |\n",
      "|        ID   ID                                                               Usage      |\n",
      "|=========================================================================================|\n",
      "+-----------------------------------------------------------------------------------------+\n"
     ]
    }
   ],
   "source": [
    "!nvidia-smi"
   ]
  },
  {
   "cell_type": "markdown",
   "metadata": {
    "id": "Qg9OhvKOkP1z"
   },
   "source": [
    "# Loading an LLM locally\n",
    "\n",
    "We can load an LLM locally using hugging face Transformers.\n",
    "\n",
    "To get a model running local we're going to need a few things:\n",
    "1. A quantization config (optional) - a config on what precision to load the model in(eg. 8 bit , 4 bit, etc)\n",
    "\n",
    "2. A model id- this will transformers which model/tokenizer to load\n",
    "\n",
    "3. A tokenizer - this turns text into numbers ready for the LLM (note: a tokenizer is different from an embedding model)\n",
    "\n",
    "4. An LLM model - this will be what we use to generate text based on an input\n",
    "\n",
    "One of the best ways to load/make the LLM work faster is flash attention(Flash Attention 2). https://github.com/Dao-AILab/flash-attention\n"
   ]
  },
  {
   "cell_type": "code",
   "execution_count": 64,
   "metadata": {
    "colab": {
     "base_uri": "https://localhost:8080/"
    },
    "executionInfo": {
     "elapsed": 4324,
     "status": "ok",
     "timestamp": 1761384532659,
     "user": {
      "displayName": "Muskan Motwani",
      "userId": "03800385271669659981"
     },
     "user_tz": -330
    },
    "id": "1Fk3j869qGZX",
    "outputId": "37b2e506-97d8-4329-c90a-87c68a7fd26a"
   },
   "outputs": [
    {
     "name": "stdout",
     "output_type": "stream",
     "text": [
      "Requirement already satisfied: transformers in /usr/local/lib/python3.12/dist-packages (4.57.1)\n",
      "Requirement already satisfied: filelock in /usr/local/lib/python3.12/dist-packages (from transformers) (3.20.0)\n",
      "Requirement already satisfied: huggingface-hub<1.0,>=0.34.0 in /usr/local/lib/python3.12/dist-packages (from transformers) (0.36.0)\n",
      "Requirement already satisfied: numpy>=1.17 in /usr/local/lib/python3.12/dist-packages (from transformers) (2.0.2)\n",
      "Requirement already satisfied: packaging>=20.0 in /usr/local/lib/python3.12/dist-packages (from transformers) (25.0)\n",
      "Requirement already satisfied: pyyaml>=5.1 in /usr/local/lib/python3.12/dist-packages (from transformers) (6.0.3)\n",
      "Requirement already satisfied: regex!=2019.12.17 in /usr/local/lib/python3.12/dist-packages (from transformers) (2024.11.6)\n",
      "Requirement already satisfied: requests in /usr/local/lib/python3.12/dist-packages (from transformers) (2.32.4)\n",
      "Requirement already satisfied: tokenizers<=0.23.0,>=0.22.0 in /usr/local/lib/python3.12/dist-packages (from transformers) (0.22.1)\n",
      "Requirement already satisfied: safetensors>=0.4.3 in /usr/local/lib/python3.12/dist-packages (from transformers) (0.6.2)\n",
      "Requirement already satisfied: tqdm>=4.27 in /usr/local/lib/python3.12/dist-packages (from transformers) (4.67.1)\n",
      "Requirement already satisfied: fsspec>=2023.5.0 in /usr/local/lib/python3.12/dist-packages (from huggingface-hub<1.0,>=0.34.0->transformers) (2025.3.0)\n",
      "Requirement already satisfied: typing-extensions>=3.7.4.3 in /usr/local/lib/python3.12/dist-packages (from huggingface-hub<1.0,>=0.34.0->transformers) (4.15.0)\n",
      "Requirement already satisfied: hf-xet<2.0.0,>=1.1.3 in /usr/local/lib/python3.12/dist-packages (from huggingface-hub<1.0,>=0.34.0->transformers) (1.1.10)\n",
      "Requirement already satisfied: charset_normalizer<4,>=2 in /usr/local/lib/python3.12/dist-packages (from requests->transformers) (3.4.4)\n",
      "Requirement already satisfied: idna<4,>=2.5 in /usr/local/lib/python3.12/dist-packages (from requests->transformers) (3.11)\n",
      "Requirement already satisfied: urllib3<3,>=1.21.1 in /usr/local/lib/python3.12/dist-packages (from requests->transformers) (2.5.0)\n",
      "Requirement already satisfied: certifi>=2017.4.17 in /usr/local/lib/python3.12/dist-packages (from requests->transformers) (2025.10.5)\n"
     ]
    }
   ],
   "source": [
    "#  !pip install bitsandbytes accelerate\n",
    "!  pip install -U transformers"
   ]
  },
  {
   "cell_type": "code",
   "execution_count": 67,
   "metadata": {
    "colab": {
     "base_uri": "https://localhost:8080/",
     "height": 450,
     "referenced_widgets": [
      "458de4d63a474fa78a41b765374c6f79",
      "30552f285ef44451a967cc85f00ed7be",
      "c6ed3ccccbec4985b41fb8debc5462d0",
      "a844c5f3fd3143669526c013a0602023",
      "fa24b5fa272b45cea1b44d099364dae2",
      "e401434fe91245cc905dfe12cae40815",
      "8f4981136c504db694bd4e9e8e7e38dc",
      "6489dc3622b34c2ab7d3e75412d3292f",
      "6a3e288094064cb686ba93d9b97f3c5c",
      "7ed4694a9e244878b994f684349f1757",
      "aa3249ddd5fc4731b57376436675c4a1",
      "54c673e9112740c9a7a42ef06ec30490",
      "92744f9f129a484780b7a116411c186d",
      "6a2c5866c8de432093c648517c2b9020",
      "a3d19a3f11e94f3f85bfe7c30efa7fde",
      "43c9c33ff10e4eaf8188d6766a84b43f",
      "ebb025c175f04e898d72383dfe4455be",
      "9c1a580e20994a25937e1dc3b30b07af",
      "3a1312604e334c9486ccb0a5dd4afd16",
      "2bd908d0955f414aaaa02d9a2c1649e0",
      "64283b4b6c174443accd4363b139b138",
      "1caba39797d94d989367ccbe960ce0f6",
      "72d27e79ace9480c9f9f552b9314d32b",
      "e76468fceeea4a96a4ed3e17bc6a3424",
      "3e14c19a47354b2b89fb4f813fac4724",
      "f3100ef98321417c98d72b9baf59009a",
      "e392c4e114fe418995fcc4301245a4ba",
      "6db3e2f0e08843258b918a84baf52a49",
      "b4c86758a39e4dcaa3bcf2e713825de1",
      "f4c59519bf064c6eaf84af57b648e049",
      "3fe10dc6d216427c86baa8cfe54b5e68",
      "2d64a114d8bc4e1a84debdf00f3e2b01",
      "30d3475b50144745a6cab11a6affd461",
      "982ca7aad2c443fda323902d95ff574a",
      "e2840e7f8fdd4a649948a58fcdbee673",
      "45782da7aacf42f3ae201e7f586a8c77",
      "c363f4b60d544da39e35658088251710",
      "57d93216fe9047b29c47ea37efab6cc2",
      "3b7f1280396f4d8f9c514a2c4de28855",
      "267c8ca948ae4782803355479b42144c",
      "8737bf838aad4fd2857a4c519e41e2ed",
      "1475397a2e9a49fd8671dc8848336d7b",
      "fade6993a75b493489ada12b34e679c8",
      "2cac63a7f06349d4b675964430cc1489",
      "141a257f8ce342d8bc20bc4c17277934",
      "d15db587c1b440eeb4128483fbd05a50",
      "d87ed6114e1d46beaa1b20dee1087970",
      "91eceda3c620450aab3dabdf7ed3a3b9",
      "3b6dbaf3ae3e45189959d0e6f95537cb",
      "647a89a23cb44abfba0f8f55f46c6f82",
      "d240d0b545094e6faf6f26a32a1bdfaf",
      "ebf4fcc65a58409d8de4c5d534453ef3",
      "2a58bc1e7c2142359bec0b769d739235",
      "bdde41a2ebe541e4b309acb2400cc239",
      "d30ff18488da480698ecd1aae6484de3",
      "2a80bc3b3d1e45dc87a0fed66cf5d776",
      "8b0c7411db634e62adbe0eef6ddc7236",
      "0ddc6c97419646e99ef4b7f044533e92",
      "1466f9297b24401487da05a73cc1dd63",
      "328a8ced891f42bc9344d863a773a44d",
      "576deca6e76d47bda41685bd37e23861",
      "232bfd2a7df5420c9d115e08327b12ab",
      "339083537d4f428fb83e5b91811eaa7a",
      "2e4f51e5f0464f1384cb28699d3a2ac5",
      "7e94787b1a7c4ba684ffde7f7068adf7",
      "9bd36781199b47c8a82d84021e014c39",
      "dc40c3043eaf4e669666099595f5674b",
      "b0cb90b2b66b4a54903b261cbdb211cd",
      "b51f21409f6e4ed39087a6f951fee9c9",
      "bd1db25012f74f5b97116ed83446e2f4",
      "55ac371defd340fcb5add6ffd137b822",
      "1d8f722189a7452783a5d07f51f728ab",
      "cc38c3613f224b2fa6923bc2d0a832c1",
      "74ca692034924ab69f4cf3c94c7806c4",
      "1fb6ee2ff86243b0afbe505e2054b1c5",
      "3e7c6aa8ad3e4c28a8295d1f31fb6732",
      "dc82c3d0c3944951bdd75adf6dffdda7",
      "a4254e79cb4749288fb03efe946a2ddc",
      "19e67ff20e764b8d8e469b2a5ab2dbb9",
      "f3488c1932974f4db24cb8baf3f3a3ce",
      "5f42c55899aa4247a9bf284c88786fb1",
      "d755bca68db6443fbc221a1944579da2",
      "04bafcbee66a46f0954c32529cf9adac",
      "fe15cc99e5e544aa88d3e3e525f874bf",
      "f25eeeea47b948a1a7b69f41a5981a5a",
      "749040ac13c84d35b4b106f5110e8382",
      "bfcce6b5166b4581807f0a346dd9a935",
      "74ce3a70882c4dd7a6a8f5702eabf8b5",
      "1c8acbafe4a9453f853d1be716c136d8",
      "0a5461c7c93847c4a0256b27edeeb18c",
      "74a1addcd93f4b89be024204319de1a5",
      "faa20c0ec1414da9bb0ee4e2508c9efc",
      "fbc9e529483d47eb9252c0701206e63d",
      "abc2c8dd27fd4ffa89e4d2441eff3fac",
      "9ed660e893ff4f4b8dae85fbc0354c5d",
      "5b976246fd6344229f4be85c82961bae",
      "f00f9f837b31407d8a2c054ebce29603",
      "a0586a92dbf7444298bcaabc1226dc5a",
      "50205f46c4af4a7da1b169a5b3148bf2",
      "a35ca0c964f54dd998ae5bbe88c2188d",
      "07dde3d571254d61892d3f02b6b272b0",
      "dd7ff9836ce4480f8d226a7faa01ba67",
      "ce6d7ac5eb964233bfc269d40d64e8c1",
      "5530f6c63cfc426884591a9cac575b1f",
      "b94eae4c2fac4f69b3240df2f68fd037",
      "d1c3138214e54acfa1520dfd381c826a",
      "d50252189d734e9bb0a3cebac71057e8",
      "a18db7086c014fee99e44211c04d5362",
      "328eff8701c140ffbaaea605a5774251",
      "ce67314dfea44906b819d45fb2f8018f",
      "244fcda636fa40a19121e00d6b7c3fd9",
      "547888d43b8948ab94983499dbb6d845",
      "ea7a69bdf2ca4670842bc46be15aec3e",
      "f5812a653e4448af983ed923ec066757",
      "f3df4e5a493945fda49ef68a4be5b8b4",
      "155853fe586d4285b892ba7074441a3c",
      "69c26c1185ba451cb65e0c86faad7891",
      "5b96112e68c1465f9d7b9e7c6c0b41c8",
      "ce13f1a8a7a844f389a3ab42b1b4252f",
      "c09d3cebf4ba4ae39b3fe30c996ec755",
      "034ceaa2dafa4816bfb6f8642e14024e",
      "ccf8387cb9d942908bf9756f692f5817",
      "1da7c390b59d4dd09af2039175677962",
      "c89d5ad1b0a64167a7fd5f689d78851f",
      "5d0d7e60ff0b482d9667cc2ff01221e4",
      "78cfe72e95e24c28ba9c8db810e3f7f4",
      "64612c8bd4a945588a074be0341b20be",
      "46686dff8a124b5ca5e801c3ba7a9740",
      "1110efffee064a69b40b105e18ee6419",
      "010c30bd391c4962b3d98de56e68d6e0",
      "de08b68072a24b85a0b8980b4171ca1c",
      "2d7076a88eb8471a94efdb5f1ef5bb2e",
      "008d698615d34e4b8ac4a533e4d32de1",
      "b8541a57e5ca4f869dfdaa363b12b83f",
      "011922c273334e31a99c76e66a5f62db",
      "e38595cae7054537adf7d9cfed3b8539",
      "fcf5045b2ebe4838bd9747a3a5eb6236",
      "4b5c0e19c4654537a2946f8d9e9a007f",
      "2f1602c21c1b4a75b1ab0a38252d0257",
      "ade998eb108a4299af702d6cc3267cb6",
      "63eeafdc29124d04869dcde9d78f65f6",
      "bd544452822d4c8fa247d06365a9e9b8",
      "8d43872595ee4af8927048a50cd77964"
     ]
    },
    "executionInfo": {
     "elapsed": 133103,
     "status": "ok",
     "timestamp": 1761384718672,
     "user": {
      "displayName": "Muskan Motwani",
      "userId": "03800385271669659981"
     },
     "user_tz": -330
    },
    "id": "jQjoPV11kGjt",
    "outputId": "81891cb1-28a6-4fdd-cb06-8071c418af5b"
   },
   "outputs": [
    {
     "data": {
      "application/vnd.jupyter.widget-view+json": {
       "model_id": "458de4d63a474fa78a41b765374c6f79",
       "version_major": 2,
       "version_minor": 0
      },
      "text/plain": [
       "tokenizer_config.json:   0%|          | 0.00/34.2k [00:00<?, ?B/s]"
      ]
     },
     "metadata": {},
     "output_type": "display_data"
    },
    {
     "data": {
      "application/vnd.jupyter.widget-view+json": {
       "model_id": "54c673e9112740c9a7a42ef06ec30490",
       "version_major": 2,
       "version_minor": 0
      },
      "text/plain": [
       "tokenizer.model:   0%|          | 0.00/4.24M [00:00<?, ?B/s]"
      ]
     },
     "metadata": {},
     "output_type": "display_data"
    },
    {
     "data": {
      "application/vnd.jupyter.widget-view+json": {
       "model_id": "72d27e79ace9480c9f9f552b9314d32b",
       "version_major": 2,
       "version_minor": 0
      },
      "text/plain": [
       "tokenizer.json:   0%|          | 0.00/17.5M [00:00<?, ?B/s]"
      ]
     },
     "metadata": {},
     "output_type": "display_data"
    },
    {
     "data": {
      "application/vnd.jupyter.widget-view+json": {
       "model_id": "982ca7aad2c443fda323902d95ff574a",
       "version_major": 2,
       "version_minor": 0
      },
      "text/plain": [
       "special_tokens_map.json:   0%|          | 0.00/636 [00:00<?, ?B/s]"
      ]
     },
     "metadata": {},
     "output_type": "display_data"
    },
    {
     "data": {
      "application/vnd.jupyter.widget-view+json": {
       "model_id": "141a257f8ce342d8bc20bc4c17277934",
       "version_major": 2,
       "version_minor": 0
      },
      "text/plain": [
       "config.json:   0%|          | 0.00/694 [00:00<?, ?B/s]"
      ]
     },
     "metadata": {},
     "output_type": "display_data"
    },
    {
     "name": "stderr",
     "output_type": "stream",
     "text": [
      "`torch_dtype` is deprecated! Use `dtype` instead!\n"
     ]
    },
    {
     "data": {
      "application/vnd.jupyter.widget-view+json": {
       "model_id": "2a80bc3b3d1e45dc87a0fed66cf5d776",
       "version_major": 2,
       "version_minor": 0
      },
      "text/plain": [
       "model.safetensors.index.json:   0%|          | 0.00/20.9k [00:00<?, ?B/s]"
      ]
     },
     "metadata": {},
     "output_type": "display_data"
    },
    {
     "data": {
      "application/vnd.jupyter.widget-view+json": {
       "model_id": "dc40c3043eaf4e669666099595f5674b",
       "version_major": 2,
       "version_minor": 0
      },
      "text/plain": [
       "Fetching 4 files:   0%|          | 0/4 [00:00<?, ?it/s]"
      ]
     },
     "metadata": {},
     "output_type": "display_data"
    },
    {
     "data": {
      "application/vnd.jupyter.widget-view+json": {
       "model_id": "a4254e79cb4749288fb03efe946a2ddc",
       "version_major": 2,
       "version_minor": 0
      },
      "text/plain": [
       "model-00001-of-00004.safetensors:   0%|          | 0.00/5.00G [00:00<?, ?B/s]"
      ]
     },
     "metadata": {},
     "output_type": "display_data"
    },
    {
     "data": {
      "application/vnd.jupyter.widget-view+json": {
       "model_id": "1c8acbafe4a9453f853d1be716c136d8",
       "version_major": 2,
       "version_minor": 0
      },
      "text/plain": [
       "model-00003-of-00004.safetensors:   0%|          | 0.00/4.98G [00:00<?, ?B/s]"
      ]
     },
     "metadata": {},
     "output_type": "display_data"
    },
    {
     "data": {
      "application/vnd.jupyter.widget-view+json": {
       "model_id": "a35ca0c964f54dd998ae5bbe88c2188d",
       "version_major": 2,
       "version_minor": 0
      },
      "text/plain": [
       "model-00004-of-00004.safetensors:   0%|          | 0.00/2.11G [00:00<?, ?B/s]"
      ]
     },
     "metadata": {},
     "output_type": "display_data"
    },
    {
     "data": {
      "application/vnd.jupyter.widget-view+json": {
       "model_id": "244fcda636fa40a19121e00d6b7c3fd9",
       "version_major": 2,
       "version_minor": 0
      },
      "text/plain": [
       "model-00002-of-00004.safetensors:   0%|          | 0.00/4.98G [00:00<?, ?B/s]"
      ]
     },
     "metadata": {},
     "output_type": "display_data"
    },
    {
     "data": {
      "application/vnd.jupyter.widget-view+json": {
       "model_id": "ccf8387cb9d942908bf9756f692f5817",
       "version_major": 2,
       "version_minor": 0
      },
      "text/plain": [
       "Loading checkpoint shards:   0%|          | 0/4 [00:00<?, ?it/s]"
      ]
     },
     "metadata": {},
     "output_type": "display_data"
    },
    {
     "data": {
      "application/vnd.jupyter.widget-view+json": {
       "model_id": "008d698615d34e4b8ac4a533e4d32de1",
       "version_major": 2,
       "version_minor": 0
      },
      "text/plain": [
       "generation_config.json:   0%|          | 0.00/137 [00:00<?, ?B/s]"
      ]
     },
     "metadata": {},
     "output_type": "display_data"
    }
   ],
   "source": [
    "import torch\n",
    "from transformers import AutoTokenizer, AutoModelForCausalLM\n",
    "from transformers.utils import is_flash_attn_2_available\n",
    "\n",
    "#Create a quantization config\n",
    "# !pip install bitsandbytes accelerate\n",
    "from transformers import BitsAndBytesConfig\n",
    "quantization_config= BitsAndBytesConfig(load_in_4bit=True,\n",
    "                                        bnb_4bit_compute_dtype=torch.float16)\n",
    "\n",
    "# Flash attention 2 =faster attention mechanism\n",
    "#Flash Attention 2 requires GPU with a compute capability score of 8.0+ ,,,, Check this : https://developer.nvidia.com/cuda-gpus\n",
    "if (is_flash_attn_2_available()) and (torch.cuda.get_device_capability()[0]>=8):\n",
    "  print(\"Flash attention 2 available\")\n",
    "  attn_implementation=\"flash_attention_2\"\n",
    "\n",
    "else:\n",
    "  attn_implementation=\"sdpa\"\n",
    "\n",
    "#Pick the model\n",
    "model_id=\"google/gemma-7b-it\"\n",
    "model_id=model_id\n",
    "\n",
    "tokenizer=AutoTokenizer.from_pretrained(model_id)\n",
    "\n",
    "#Instantiate the model\n",
    "llm_model=AutoModelForCausalLM.from_pretrained(pretrained_model_name_or_path=\n",
    "                                               model_id,torch_dtype=torch.float16,\n",
    "                                               quantization_config=quantization_config if use_quantization_config else None,\n",
    "                                               low_cpu_mem_usage=False,\n",
    "                                               attn_implementation=attn_implementation)\n",
    "if not use_quantization_config:\n",
    "  llm_model.to(\"cuda\")\n"
   ]
  },
  {
   "cell_type": "code",
   "execution_count": 68,
   "metadata": {
    "colab": {
     "base_uri": "https://localhost:8080/"
    },
    "executionInfo": {
     "elapsed": 11,
     "status": "ok",
     "timestamp": 1761384722486,
     "user": {
      "displayName": "Muskan Motwani",
      "userId": "03800385271669659981"
     },
     "user_tz": -330
    },
    "id": "ILTtoTlXll_J",
    "outputId": "3434a3b6-6352-41fa-b1ab-5dcd5a156d18"
   },
   "outputs": [
    {
     "data": {
      "text/plain": [
       "8"
      ]
     },
     "execution_count": 68,
     "metadata": {},
     "output_type": "execute_result"
    }
   ],
   "source": [
    "torch.cuda.get_device_capability(0)[0]"
   ]
  },
  {
   "cell_type": "code",
   "execution_count": 69,
   "metadata": {
    "colab": {
     "base_uri": "https://localhost:8080/"
    },
    "executionInfo": {
     "elapsed": 19,
     "status": "ok",
     "timestamp": 1761384784546,
     "user": {
      "displayName": "Muskan Motwani",
      "userId": "03800385271669659981"
     },
     "user_tz": -330
    },
    "id": "DMQf5UzkqTxP",
    "outputId": "e8f75dff-b1f4-4429-c0c6-0e6ca040ec28"
   },
   "outputs": [
    {
     "data": {
      "text/plain": [
       "8537680896"
      ]
     },
     "execution_count": 69,
     "metadata": {},
     "output_type": "execute_result"
    }
   ],
   "source": [
    "def get_model_num_params(model:torch.nn.Module):\n",
    "  return sum([param.numel() for param in model.parameters()])\n",
    "\n",
    "get_model_num_params(llm_model)"
   ]
  },
  {
   "cell_type": "code",
   "execution_count": 72,
   "metadata": {
    "colab": {
     "base_uri": "https://localhost:8080/"
    },
    "executionInfo": {
     "elapsed": 14,
     "status": "ok",
     "timestamp": 1761385052380,
     "user": {
      "displayName": "Muskan Motwani",
      "userId": "03800385271669659981"
     },
     "user_tz": -330
    },
    "id": "sXCvnR0WtuH4",
    "outputId": "6204612f-ede6-43be-ba86-3bd68f534b1d"
   },
   "outputs": [
    {
     "name": "stdout",
     "output_type": "stream",
     "text": [
      "{'model_mem_bytes': 17075362304, 'model_mem_mb': 16284.33, 'model_mem_gb': 15.9}\n"
     ]
    }
   ],
   "source": [
    "def get_model_mem_size(model: torch.nn.Module):\n",
    "\n",
    "  #get model param and buffer sizes\n",
    "  mem_params= sum([param.nelement() * param.element_size() for param in model.parameters()])\n",
    "  mem_buffers=sum([buf.nelement() * buf.element_size() for buf in model.buffers()])\n",
    "\n",
    "  # Calculate model sizes\n",
    "  model_mem_bytes= mem_params +mem_buffers\n",
    "  model_mem_mb= model_mem_bytes /(1024 **2)\n",
    "  model_mem_gb= model_mem_bytes /(1024**3)\n",
    "\n",
    "  return {\n",
    "      \"model_mem_bytes\": model_mem_bytes,\n",
    "      \"model_mem_mb\": round(model_mem_mb,2),\n",
    "      \"model_mem_gb\": round(model_mem_gb,2)\n",
    "  }\n",
    "\n",
    "print(get_model_mem_size(llm_model))"
   ]
  },
  {
   "cell_type": "markdown",
   "metadata": {
    "id": "kaE8BPCSuzR3"
   },
   "source": [
    "This means to load Gemma-7b-it in float-16 we need a min of 16GB VRAM , however due to calculations that take place in the forward pass, we actually need closer to 19 GB.\n"
   ]
  },
  {
   "cell_type": "markdown",
   "metadata": {
    "id": "qul8CWp1vH1W"
   },
   "source": [
    "# Generating text with our LLM\n",
    "\n",
    "Because gemma-7b-it has been trained in an instruction tuned manner we should follow instruction templated for the best results\n",
    "\n"
   ]
  },
  {
   "cell_type": "code",
   "execution_count": 99,
   "metadata": {
    "colab": {
     "base_uri": "https://localhost:8080/"
    },
    "executionInfo": {
     "elapsed": 16,
     "status": "ok",
     "timestamp": 1761388217520,
     "user": {
      "displayName": "Muskan Motwani",
      "userId": "03800385271669659981"
     },
     "user_tz": -330
    },
    "id": "qpn-rulMun1p",
    "outputId": "d6f20d19-74bd-4c3f-be42-976bce622e9c"
   },
   "outputs": [
    {
     "name": "stdout",
     "output_type": "stream",
     "text": [
      "Input text:\n",
      "What are the macronutrients, and what roles do they play in the human body?\n",
      "\n",
      "Prompt (formatted):\n",
      "<bos><start_of_turn>user\n",
      "What are the macronutrients, and what roles do they play in the human body?<end_of_turn>\n",
      "<start_of_turn>model\n",
      "\n"
     ]
    }
   ],
   "source": [
    "input_text = \"What are the macronutrients, and what roles do they play in the human body?\"\n",
    "print(f\"Input text:\\n{input_text}\")\n",
    "\n",
    "# Create prompt template for instruction-tuned model\n",
    "dialogue_template = [\n",
    "    {\"role\": \"user\",\n",
    "     \"content\": input_text}\n",
    "]\n",
    "\n",
    "# Apply the chat template\n",
    "prompt = tokenizer.apply_chat_template(conversation=dialogue_template,\n",
    "                                       tokenize=False, # keep as raw text (not tokenized)\n",
    "                                       add_generation_prompt=True)\n",
    "print(f\"\\nPrompt (formatted):\\n{prompt}\")"
   ]
  },
  {
   "cell_type": "code",
   "execution_count": 100,
   "metadata": {
    "colab": {
     "base_uri": "https://localhost:8080/"
    },
    "executionInfo": {
     "elapsed": 20,
     "status": "ok",
     "timestamp": 1761388224335,
     "user": {
      "displayName": "Muskan Motwani",
      "userId": "03800385271669659981"
     },
     "user_tz": -330
    },
    "id": "DNp4Qms3ywzY",
    "outputId": "a2f4238b-02f8-4466-ed19-9f388d743b26"
   },
   "outputs": [
    {
     "data": {
      "text/plain": [
       "GemmaTokenizerFast(name_or_path='google/gemma-7b-it', vocab_size=256000, model_max_length=1000000000000000019884624838656, is_fast=True, padding_side='left', truncation_side='right', special_tokens={'bos_token': '<bos>', 'eos_token': '<eos>', 'unk_token': '<unk>', 'pad_token': '<pad>', 'additional_special_tokens': ['<start_of_turn>', '<end_of_turn>']}, clean_up_tokenization_spaces=False, added_tokens_decoder={\n",
       "\t0: AddedToken(\"<pad>\", rstrip=False, lstrip=False, single_word=False, normalized=False, special=True),\n",
       "\t1: AddedToken(\"<eos>\", rstrip=False, lstrip=False, single_word=False, normalized=False, special=True),\n",
       "\t2: AddedToken(\"<bos>\", rstrip=False, lstrip=False, single_word=False, normalized=False, special=True),\n",
       "\t3: AddedToken(\"<unk>\", rstrip=False, lstrip=False, single_word=False, normalized=False, special=True),\n",
       "\t4: AddedToken(\"<mask>\", rstrip=False, lstrip=False, single_word=False, normalized=False, special=False),\n",
       "\t5: AddedToken(\"<2mass>\", rstrip=False, lstrip=False, single_word=False, normalized=False, special=False),\n",
       "\t6: AddedToken(\"[@BOS@]\", rstrip=False, lstrip=False, single_word=False, normalized=False, special=False),\n",
       "\t7: AddedToken(\"<unused0>\", rstrip=False, lstrip=False, single_word=False, normalized=False, special=False),\n",
       "\t8: AddedToken(\"<unused1>\", rstrip=False, lstrip=False, single_word=False, normalized=False, special=False),\n",
       "\t9: AddedToken(\"<unused2>\", rstrip=False, lstrip=False, single_word=False, normalized=False, special=False),\n",
       "\t10: AddedToken(\"<unused3>\", rstrip=False, lstrip=False, single_word=False, normalized=False, special=False),\n",
       "\t11: AddedToken(\"<unused4>\", rstrip=False, lstrip=False, single_word=False, normalized=False, special=False),\n",
       "\t12: AddedToken(\"<unused5>\", rstrip=False, lstrip=False, single_word=False, normalized=False, special=False),\n",
       "\t13: AddedToken(\"<unused6>\", rstrip=False, lstrip=False, single_word=False, normalized=False, special=False),\n",
       "\t14: AddedToken(\"<unused7>\", rstrip=False, lstrip=False, single_word=False, normalized=False, special=False),\n",
       "\t15: AddedToken(\"<unused8>\", rstrip=False, lstrip=False, single_word=False, normalized=False, special=False),\n",
       "\t16: AddedToken(\"<unused9>\", rstrip=False, lstrip=False, single_word=False, normalized=False, special=False),\n",
       "\t17: AddedToken(\"<unused10>\", rstrip=False, lstrip=False, single_word=False, normalized=False, special=False),\n",
       "\t18: AddedToken(\"<unused11>\", rstrip=False, lstrip=False, single_word=False, normalized=False, special=False),\n",
       "\t19: AddedToken(\"<unused12>\", rstrip=False, lstrip=False, single_word=False, normalized=False, special=False),\n",
       "\t20: AddedToken(\"<unused13>\", rstrip=False, lstrip=False, single_word=False, normalized=False, special=False),\n",
       "\t21: AddedToken(\"<unused14>\", rstrip=False, lstrip=False, single_word=False, normalized=False, special=False),\n",
       "\t22: AddedToken(\"<unused15>\", rstrip=False, lstrip=False, single_word=False, normalized=False, special=False),\n",
       "\t23: AddedToken(\"<unused16>\", rstrip=False, lstrip=False, single_word=False, normalized=False, special=False),\n",
       "\t24: AddedToken(\"<unused17>\", rstrip=False, lstrip=False, single_word=False, normalized=False, special=False),\n",
       "\t25: AddedToken(\"<unused18>\", rstrip=False, lstrip=False, single_word=False, normalized=False, special=False),\n",
       "\t26: AddedToken(\"<unused19>\", rstrip=False, lstrip=False, single_word=False, normalized=False, special=False),\n",
       "\t27: AddedToken(\"<unused20>\", rstrip=False, lstrip=False, single_word=False, normalized=False, special=False),\n",
       "\t28: AddedToken(\"<unused21>\", rstrip=False, lstrip=False, single_word=False, normalized=False, special=False),\n",
       "\t29: AddedToken(\"<unused22>\", rstrip=False, lstrip=False, single_word=False, normalized=False, special=False),\n",
       "\t30: AddedToken(\"<unused23>\", rstrip=False, lstrip=False, single_word=False, normalized=False, special=False),\n",
       "\t31: AddedToken(\"<unused24>\", rstrip=False, lstrip=False, single_word=False, normalized=False, special=False),\n",
       "\t32: AddedToken(\"<unused25>\", rstrip=False, lstrip=False, single_word=False, normalized=False, special=False),\n",
       "\t33: AddedToken(\"<unused26>\", rstrip=False, lstrip=False, single_word=False, normalized=False, special=False),\n",
       "\t34: AddedToken(\"<unused27>\", rstrip=False, lstrip=False, single_word=False, normalized=False, special=False),\n",
       "\t35: AddedToken(\"<unused28>\", rstrip=False, lstrip=False, single_word=False, normalized=False, special=False),\n",
       "\t36: AddedToken(\"<unused29>\", rstrip=False, lstrip=False, single_word=False, normalized=False, special=False),\n",
       "\t37: AddedToken(\"<unused30>\", rstrip=False, lstrip=False, single_word=False, normalized=False, special=False),\n",
       "\t38: AddedToken(\"<unused31>\", rstrip=False, lstrip=False, single_word=False, normalized=False, special=False),\n",
       "\t39: AddedToken(\"<unused32>\", rstrip=False, lstrip=False, single_word=False, normalized=False, special=False),\n",
       "\t40: AddedToken(\"<unused33>\", rstrip=False, lstrip=False, single_word=False, normalized=False, special=False),\n",
       "\t41: AddedToken(\"<unused34>\", rstrip=False, lstrip=False, single_word=False, normalized=False, special=False),\n",
       "\t42: AddedToken(\"<unused35>\", rstrip=False, lstrip=False, single_word=False, normalized=False, special=False),\n",
       "\t43: AddedToken(\"<unused36>\", rstrip=False, lstrip=False, single_word=False, normalized=False, special=False),\n",
       "\t44: AddedToken(\"<unused37>\", rstrip=False, lstrip=False, single_word=False, normalized=False, special=False),\n",
       "\t45: AddedToken(\"<unused38>\", rstrip=False, lstrip=False, single_word=False, normalized=False, special=False),\n",
       "\t46: AddedToken(\"<unused39>\", rstrip=False, lstrip=False, single_word=False, normalized=False, special=False),\n",
       "\t47: AddedToken(\"<unused40>\", rstrip=False, lstrip=False, single_word=False, normalized=False, special=False),\n",
       "\t48: AddedToken(\"<unused41>\", rstrip=False, lstrip=False, single_word=False, normalized=False, special=False),\n",
       "\t49: AddedToken(\"<unused42>\", rstrip=False, lstrip=False, single_word=False, normalized=False, special=False),\n",
       "\t50: AddedToken(\"<unused43>\", rstrip=False, lstrip=False, single_word=False, normalized=False, special=False),\n",
       "\t51: AddedToken(\"<unused44>\", rstrip=False, lstrip=False, single_word=False, normalized=False, special=False),\n",
       "\t52: AddedToken(\"<unused45>\", rstrip=False, lstrip=False, single_word=False, normalized=False, special=False),\n",
       "\t53: AddedToken(\"<unused46>\", rstrip=False, lstrip=False, single_word=False, normalized=False, special=False),\n",
       "\t54: AddedToken(\"<unused47>\", rstrip=False, lstrip=False, single_word=False, normalized=False, special=False),\n",
       "\t55: AddedToken(\"<unused48>\", rstrip=False, lstrip=False, single_word=False, normalized=False, special=False),\n",
       "\t56: AddedToken(\"<unused49>\", rstrip=False, lstrip=False, single_word=False, normalized=False, special=False),\n",
       "\t57: AddedToken(\"<unused50>\", rstrip=False, lstrip=False, single_word=False, normalized=False, special=False),\n",
       "\t58: AddedToken(\"<unused51>\", rstrip=False, lstrip=False, single_word=False, normalized=False, special=False),\n",
       "\t59: AddedToken(\"<unused52>\", rstrip=False, lstrip=False, single_word=False, normalized=False, special=False),\n",
       "\t60: AddedToken(\"<unused53>\", rstrip=False, lstrip=False, single_word=False, normalized=False, special=False),\n",
       "\t61: AddedToken(\"<unused54>\", rstrip=False, lstrip=False, single_word=False, normalized=False, special=False),\n",
       "\t62: AddedToken(\"<unused55>\", rstrip=False, lstrip=False, single_word=False, normalized=False, special=False),\n",
       "\t63: AddedToken(\"<unused56>\", rstrip=False, lstrip=False, single_word=False, normalized=False, special=False),\n",
       "\t64: AddedToken(\"<unused57>\", rstrip=False, lstrip=False, single_word=False, normalized=False, special=False),\n",
       "\t65: AddedToken(\"<unused58>\", rstrip=False, lstrip=False, single_word=False, normalized=False, special=False),\n",
       "\t66: AddedToken(\"<unused59>\", rstrip=False, lstrip=False, single_word=False, normalized=False, special=False),\n",
       "\t67: AddedToken(\"<unused60>\", rstrip=False, lstrip=False, single_word=False, normalized=False, special=False),\n",
       "\t68: AddedToken(\"<unused61>\", rstrip=False, lstrip=False, single_word=False, normalized=False, special=False),\n",
       "\t69: AddedToken(\"<unused62>\", rstrip=False, lstrip=False, single_word=False, normalized=False, special=False),\n",
       "\t70: AddedToken(\"<unused63>\", rstrip=False, lstrip=False, single_word=False, normalized=False, special=False),\n",
       "\t71: AddedToken(\"<unused64>\", rstrip=False, lstrip=False, single_word=False, normalized=False, special=False),\n",
       "\t72: AddedToken(\"<unused65>\", rstrip=False, lstrip=False, single_word=False, normalized=False, special=False),\n",
       "\t73: AddedToken(\"<unused66>\", rstrip=False, lstrip=False, single_word=False, normalized=False, special=False),\n",
       "\t74: AddedToken(\"<unused67>\", rstrip=False, lstrip=False, single_word=False, normalized=False, special=False),\n",
       "\t75: AddedToken(\"<unused68>\", rstrip=False, lstrip=False, single_word=False, normalized=False, special=False),\n",
       "\t76: AddedToken(\"<unused69>\", rstrip=False, lstrip=False, single_word=False, normalized=False, special=False),\n",
       "\t77: AddedToken(\"<unused70>\", rstrip=False, lstrip=False, single_word=False, normalized=False, special=False),\n",
       "\t78: AddedToken(\"<unused71>\", rstrip=False, lstrip=False, single_word=False, normalized=False, special=False),\n",
       "\t79: AddedToken(\"<unused72>\", rstrip=False, lstrip=False, single_word=False, normalized=False, special=False),\n",
       "\t80: AddedToken(\"<unused73>\", rstrip=False, lstrip=False, single_word=False, normalized=False, special=False),\n",
       "\t81: AddedToken(\"<unused74>\", rstrip=False, lstrip=False, single_word=False, normalized=False, special=False),\n",
       "\t82: AddedToken(\"<unused75>\", rstrip=False, lstrip=False, single_word=False, normalized=False, special=False),\n",
       "\t83: AddedToken(\"<unused76>\", rstrip=False, lstrip=False, single_word=False, normalized=False, special=False),\n",
       "\t84: AddedToken(\"<unused77>\", rstrip=False, lstrip=False, single_word=False, normalized=False, special=False),\n",
       "\t85: AddedToken(\"<unused78>\", rstrip=False, lstrip=False, single_word=False, normalized=False, special=False),\n",
       "\t86: AddedToken(\"<unused79>\", rstrip=False, lstrip=False, single_word=False, normalized=False, special=False),\n",
       "\t87: AddedToken(\"<unused80>\", rstrip=False, lstrip=False, single_word=False, normalized=False, special=False),\n",
       "\t88: AddedToken(\"<unused81>\", rstrip=False, lstrip=False, single_word=False, normalized=False, special=False),\n",
       "\t89: AddedToken(\"<unused82>\", rstrip=False, lstrip=False, single_word=False, normalized=False, special=False),\n",
       "\t90: AddedToken(\"<unused83>\", rstrip=False, lstrip=False, single_word=False, normalized=False, special=False),\n",
       "\t91: AddedToken(\"<unused84>\", rstrip=False, lstrip=False, single_word=False, normalized=False, special=False),\n",
       "\t92: AddedToken(\"<unused85>\", rstrip=False, lstrip=False, single_word=False, normalized=False, special=False),\n",
       "\t93: AddedToken(\"<unused86>\", rstrip=False, lstrip=False, single_word=False, normalized=False, special=False),\n",
       "\t94: AddedToken(\"<unused87>\", rstrip=False, lstrip=False, single_word=False, normalized=False, special=False),\n",
       "\t95: AddedToken(\"<unused88>\", rstrip=False, lstrip=False, single_word=False, normalized=False, special=False),\n",
       "\t96: AddedToken(\"<unused89>\", rstrip=False, lstrip=False, single_word=False, normalized=False, special=False),\n",
       "\t97: AddedToken(\"<unused90>\", rstrip=False, lstrip=False, single_word=False, normalized=False, special=False),\n",
       "\t98: AddedToken(\"<unused91>\", rstrip=False, lstrip=False, single_word=False, normalized=False, special=False),\n",
       "\t99: AddedToken(\"<unused92>\", rstrip=False, lstrip=False, single_word=False, normalized=False, special=False),\n",
       "\t100: AddedToken(\"<unused93>\", rstrip=False, lstrip=False, single_word=False, normalized=False, special=False),\n",
       "\t101: AddedToken(\"<unused94>\", rstrip=False, lstrip=False, single_word=False, normalized=False, special=False),\n",
       "\t102: AddedToken(\"<unused95>\", rstrip=False, lstrip=False, single_word=False, normalized=False, special=False),\n",
       "\t103: AddedToken(\"<unused96>\", rstrip=False, lstrip=False, single_word=False, normalized=False, special=False),\n",
       "\t104: AddedToken(\"<unused97>\", rstrip=False, lstrip=False, single_word=False, normalized=False, special=False),\n",
       "\t105: AddedToken(\"<unused98>\", rstrip=False, lstrip=False, single_word=False, normalized=False, special=False),\n",
       "\t106: AddedToken(\"<start_of_turn>\", rstrip=False, lstrip=False, single_word=False, normalized=False, special=True),\n",
       "\t107: AddedToken(\"<end_of_turn>\", rstrip=False, lstrip=False, single_word=False, normalized=False, special=True),\n",
       "\t108: AddedToken(\"\n",
       "\", rstrip=False, lstrip=False, single_word=False, normalized=False, special=False),\n",
       "\t109: AddedToken(\"\n",
       "\n",
       "\", rstrip=False, lstrip=False, single_word=False, normalized=False, special=False),\n",
       "\t110: AddedToken(\"\n",
       "\n",
       "\n",
       "\", rstrip=False, lstrip=False, single_word=False, normalized=False, special=False),\n",
       "\t111: AddedToken(\"\n",
       "\n",
       "\n",
       "\n",
       "\", rstrip=False, lstrip=False, single_word=False, normalized=False, special=False),\n",
       "\t112: AddedToken(\"\n",
       "\n",
       "\n",
       "\n",
       "\n",
       "\", rstrip=False, lstrip=False, single_word=False, normalized=False, special=False),\n",
       "\t113: AddedToken(\"\n",
       "\n",
       "\n",
       "\n",
       "\n",
       "\n",
       "\", rstrip=False, lstrip=False, single_word=False, normalized=False, special=False),\n",
       "\t114: AddedToken(\"\n",
       "\n",
       "\n",
       "\n",
       "\n",
       "\n",
       "\n",
       "\", rstrip=False, lstrip=False, single_word=False, normalized=False, special=False),\n",
       "\t115: AddedToken(\"\n",
       "\n",
       "\n",
       "\n",
       "\n",
       "\n",
       "\n",
       "\n",
       "\", rstrip=False, lstrip=False, single_word=False, normalized=False, special=False),\n",
       "\t116: AddedToken(\"\n",
       "\n",
       "\n",
       "\n",
       "\n",
       "\n",
       "\n",
       "\n",
       "\n",
       "\", rstrip=False, lstrip=False, single_word=False, normalized=False, special=False),\n",
       "\t117: AddedToken(\"\n",
       "\n",
       "\n",
       "\n",
       "\n",
       "\n",
       "\n",
       "\n",
       "\n",
       "\n",
       "\", rstrip=False, lstrip=False, single_word=False, normalized=False, special=False),\n",
       "\t118: AddedToken(\"\n",
       "\n",
       "\n",
       "\n",
       "\n",
       "\n",
       "\n",
       "\n",
       "\n",
       "\n",
       "\n",
       "\", rstrip=False, lstrip=False, single_word=False, normalized=False, special=False),\n",
       "\t119: AddedToken(\"\n",
       "\n",
       "\n",
       "\n",
       "\n",
       "\n",
       "\n",
       "\n",
       "\n",
       "\n",
       "\n",
       "\n",
       "\", rstrip=False, lstrip=False, single_word=False, normalized=False, special=False),\n",
       "\t120: AddedToken(\"\n",
       "\n",
       "\n",
       "\n",
       "\n",
       "\n",
       "\n",
       "\n",
       "\n",
       "\n",
       "\n",
       "\n",
       "\n",
       "\", rstrip=False, lstrip=False, single_word=False, normalized=False, special=False),\n",
       "\t121: AddedToken(\"\n",
       "\n",
       "\n",
       "\n",
       "\n",
       "\n",
       "\n",
       "\n",
       "\n",
       "\n",
       "\n",
       "\n",
       "\n",
       "\n",
       "\", rstrip=False, lstrip=False, single_word=False, normalized=False, special=False),\n",
       "\t122: AddedToken(\"\n",
       "\n",
       "\n",
       "\n",
       "\n",
       "\n",
       "\n",
       "\n",
       "\n",
       "\n",
       "\n",
       "\n",
       "\n",
       "\n",
       "\n",
       "\", rstrip=False, lstrip=False, single_word=False, normalized=False, special=False),\n",
       "\t123: AddedToken(\"\n",
       "\n",
       "\n",
       "\n",
       "\n",
       "\n",
       "\n",
       "\n",
       "\n",
       "\n",
       "\n",
       "\n",
       "\n",
       "\n",
       "\n",
       "\n",
       "\", rstrip=False, lstrip=False, single_word=False, normalized=False, special=False),\n",
       "\t124: AddedToken(\"\n",
       "\n",
       "\n",
       "\n",
       "\n",
       "\n",
       "\n",
       "\n",
       "\n",
       "\n",
       "\n",
       "\n",
       "\n",
       "\n",
       "\n",
       "\n",
       "\n",
       "\", rstrip=False, lstrip=False, single_word=False, normalized=False, special=False),\n",
       "\t125: AddedToken(\"\n",
       "\n",
       "\n",
       "\n",
       "\n",
       "\n",
       "\n",
       "\n",
       "\n",
       "\n",
       "\n",
       "\n",
       "\n",
       "\n",
       "\n",
       "\n",
       "\n",
       "\n",
       "\", rstrip=False, lstrip=False, single_word=False, normalized=False, special=False),\n",
       "\t126: AddedToken(\"\n",
       "\n",
       "\n",
       "\n",
       "\n",
       "\n",
       "\n",
       "\n",
       "\n",
       "\n",
       "\n",
       "\n",
       "\n",
       "\n",
       "\n",
       "\n",
       "\n",
       "\n",
       "\n",
       "\", rstrip=False, lstrip=False, single_word=False, normalized=False, special=False),\n",
       "\t127: AddedToken(\"\n",
       "\n",
       "\n",
       "\n",
       "\n",
       "\n",
       "\n",
       "\n",
       "\n",
       "\n",
       "\n",
       "\n",
       "\n",
       "\n",
       "\n",
       "\n",
       "\n",
       "\n",
       "\n",
       "\n",
       "\", rstrip=False, lstrip=False, single_word=False, normalized=False, special=False),\n",
       "\t128: AddedToken(\"\n",
       "\n",
       "\n",
       "\n",
       "\n",
       "\n",
       "\n",
       "\n",
       "\n",
       "\n",
       "\n",
       "\n",
       "\n",
       "\n",
       "\n",
       "\n",
       "\n",
       "\n",
       "\n",
       "\n",
       "\n",
       "\", rstrip=False, lstrip=False, single_word=False, normalized=False, special=False),\n",
       "\t129: AddedToken(\"\n",
       "\n",
       "\n",
       "\n",
       "\n",
       "\n",
       "\n",
       "\n",
       "\n",
       "\n",
       "\n",
       "\n",
       "\n",
       "\n",
       "\n",
       "\n",
       "\n",
       "\n",
       "\n",
       "\n",
       "\n",
       "\n",
       "\", rstrip=False, lstrip=False, single_word=False, normalized=False, special=False),\n",
       "\t130: AddedToken(\"\n",
       "\n",
       "\n",
       "\n",
       "\n",
       "\n",
       "\n",
       "\n",
       "\n",
       "\n",
       "\n",
       "\n",
       "\n",
       "\n",
       "\n",
       "\n",
       "\n",
       "\n",
       "\n",
       "\n",
       "\n",
       "\n",
       "\n",
       "\", rstrip=False, lstrip=False, single_word=False, normalized=False, special=False),\n",
       "\t131: AddedToken(\"\n",
       "\n",
       "\n",
       "\n",
       "\n",
       "\n",
       "\n",
       "\n",
       "\n",
       "\n",
       "\n",
       "\n",
       "\n",
       "\n",
       "\n",
       "\n",
       "\n",
       "\n",
       "\n",
       "\n",
       "\n",
       "\n",
       "\n",
       "\n",
       "\", rstrip=False, lstrip=False, single_word=False, normalized=False, special=False),\n",
       "\t132: AddedToken(\"\n",
       "\n",
       "\n",
       "\n",
       "\n",
       "\n",
       "\n",
       "\n",
       "\n",
       "\n",
       "\n",
       "\n",
       "\n",
       "\n",
       "\n",
       "\n",
       "\n",
       "\n",
       "\n",
       "\n",
       "\n",
       "\n",
       "\n",
       "\n",
       "\n",
       "\", rstrip=False, lstrip=False, single_word=False, normalized=False, special=False),\n",
       "\t133: AddedToken(\"\n",
       "\n",
       "\n",
       "\n",
       "\n",
       "\n",
       "\n",
       "\n",
       "\n",
       "\n",
       "\n",
       "\n",
       "\n",
       "\n",
       "\n",
       "\n",
       "\n",
       "\n",
       "\n",
       "\n",
       "\n",
       "\n",
       "\n",
       "\n",
       "\n",
       "\n",
       "\", rstrip=False, lstrip=False, single_word=False, normalized=False, special=False),\n",
       "\t134: AddedToken(\"\n",
       "\n",
       "\n",
       "\n",
       "\n",
       "\n",
       "\n",
       "\n",
       "\n",
       "\n",
       "\n",
       "\n",
       "\n",
       "\n",
       "\n",
       "\n",
       "\n",
       "\n",
       "\n",
       "\n",
       "\n",
       "\n",
       "\n",
       "\n",
       "\n",
       "\n",
       "\n",
       "\", rstrip=False, lstrip=False, single_word=False, normalized=False, special=False),\n",
       "\t135: AddedToken(\"\n",
       "\n",
       "\n",
       "\n",
       "\n",
       "\n",
       "\n",
       "\n",
       "\n",
       "\n",
       "\n",
       "\n",
       "\n",
       "\n",
       "\n",
       "\n",
       "\n",
       "\n",
       "\n",
       "\n",
       "\n",
       "\n",
       "\n",
       "\n",
       "\n",
       "\n",
       "\n",
       "\n",
       "\", rstrip=False, lstrip=False, single_word=False, normalized=False, special=False),\n",
       "\t136: AddedToken(\"\n",
       "\n",
       "\n",
       "\n",
       "\n",
       "\n",
       "\n",
       "\n",
       "\n",
       "\n",
       "\n",
       "\n",
       "\n",
       "\n",
       "\n",
       "\n",
       "\n",
       "\n",
       "\n",
       "\n",
       "\n",
       "\n",
       "\n",
       "\n",
       "\n",
       "\n",
       "\n",
       "\n",
       "\n",
       "\", rstrip=False, lstrip=False, single_word=False, normalized=False, special=False),\n",
       "\t137: AddedToken(\"\n",
       "\n",
       "\n",
       "\n",
       "\n",
       "\n",
       "\n",
       "\n",
       "\n",
       "\n",
       "\n",
       "\n",
       "\n",
       "\n",
       "\n",
       "\n",
       "\n",
       "\n",
       "\n",
       "\n",
       "\n",
       "\n",
       "\n",
       "\n",
       "\n",
       "\n",
       "\n",
       "\n",
       "\n",
       "\n",
       "\", rstrip=False, lstrip=False, single_word=False, normalized=False, special=False),\n",
       "\t138: AddedToken(\"\n",
       "\n",
       "\n",
       "\n",
       "\n",
       "\n",
       "\n",
       "\n",
       "\n",
       "\n",
       "\n",
       "\n",
       "\n",
       "\n",
       "\n",
       "\n",
       "\n",
       "\n",
       "\n",
       "\n",
       "\n",
       "\n",
       "\n",
       "\n",
       "\n",
       "\n",
       "\n",
       "\n",
       "\n",
       "\n",
       "\n",
       "\", rstrip=False, lstrip=False, single_word=False, normalized=False, special=False),\n",
       "\t139: AddedToken(\"▁▁\", rstrip=False, lstrip=False, single_word=False, normalized=False, special=False),\n",
       "\t140: AddedToken(\"▁▁▁\", rstrip=False, lstrip=False, single_word=False, normalized=False, special=False),\n",
       "\t141: AddedToken(\"▁▁▁▁\", rstrip=False, lstrip=False, single_word=False, normalized=False, special=False),\n",
       "\t142: AddedToken(\"▁▁▁▁▁\", rstrip=False, lstrip=False, single_word=False, normalized=False, special=False),\n",
       "\t143: AddedToken(\"▁▁▁▁▁▁\", rstrip=False, lstrip=False, single_word=False, normalized=False, special=False),\n",
       "\t144: AddedToken(\"▁▁▁▁▁▁▁\", rstrip=False, lstrip=False, single_word=False, normalized=False, special=False),\n",
       "\t145: AddedToken(\"▁▁▁▁▁▁▁▁\", rstrip=False, lstrip=False, single_word=False, normalized=False, special=False),\n",
       "\t146: AddedToken(\"▁▁▁▁▁▁▁▁▁\", rstrip=False, lstrip=False, single_word=False, normalized=False, special=False),\n",
       "\t147: AddedToken(\"▁▁▁▁▁▁▁▁▁▁\", rstrip=False, lstrip=False, single_word=False, normalized=False, special=False),\n",
       "\t148: AddedToken(\"▁▁▁▁▁▁▁▁▁▁▁\", rstrip=False, lstrip=False, single_word=False, normalized=False, special=False),\n",
       "\t149: AddedToken(\"▁▁▁▁▁▁▁▁▁▁▁▁\", rstrip=False, lstrip=False, single_word=False, normalized=False, special=False),\n",
       "\t150: AddedToken(\"▁▁▁▁▁▁▁▁▁▁▁▁▁\", rstrip=False, lstrip=False, single_word=False, normalized=False, special=False),\n",
       "\t151: AddedToken(\"▁▁▁▁▁▁▁▁▁▁▁▁▁▁\", rstrip=False, lstrip=False, single_word=False, normalized=False, special=False),\n",
       "\t152: AddedToken(\"▁▁▁▁▁▁▁▁▁▁▁▁▁▁▁\", rstrip=False, lstrip=False, single_word=False, normalized=False, special=False),\n",
       "\t153: AddedToken(\"▁▁▁▁▁▁▁▁▁▁▁▁▁▁▁▁\", rstrip=False, lstrip=False, single_word=False, normalized=False, special=False),\n",
       "\t154: AddedToken(\"▁▁▁▁▁▁▁▁▁▁▁▁▁▁▁▁▁\", rstrip=False, lstrip=False, single_word=False, normalized=False, special=False),\n",
       "\t155: AddedToken(\"▁▁▁▁▁▁▁▁▁▁▁▁▁▁▁▁▁▁\", rstrip=False, lstrip=False, single_word=False, normalized=False, special=False),\n",
       "\t156: AddedToken(\"▁▁▁▁▁▁▁▁▁▁▁▁▁▁▁▁▁▁▁\", rstrip=False, lstrip=False, single_word=False, normalized=False, special=False),\n",
       "\t157: AddedToken(\"▁▁▁▁▁▁▁▁▁▁▁▁▁▁▁▁▁▁▁▁\", rstrip=False, lstrip=False, single_word=False, normalized=False, special=False),\n",
       "\t158: AddedToken(\"▁▁▁▁▁▁▁▁▁▁▁▁▁▁▁▁▁▁▁▁▁\", rstrip=False, lstrip=False, single_word=False, normalized=False, special=False),\n",
       "\t159: AddedToken(\"▁▁▁▁▁▁▁▁▁▁▁▁▁▁▁▁▁▁▁▁▁▁\", rstrip=False, lstrip=False, single_word=False, normalized=False, special=False),\n",
       "\t160: AddedToken(\"▁▁▁▁▁▁▁▁▁▁▁▁▁▁▁▁▁▁▁▁▁▁▁\", rstrip=False, lstrip=False, single_word=False, normalized=False, special=False),\n",
       "\t161: AddedToken(\"▁▁▁▁▁▁▁▁▁▁▁▁▁▁▁▁▁▁▁▁▁▁▁▁\", rstrip=False, lstrip=False, single_word=False, normalized=False, special=False),\n",
       "\t162: AddedToken(\"▁▁▁▁▁▁▁▁▁▁▁▁▁▁▁▁▁▁▁▁▁▁▁▁▁\", rstrip=False, lstrip=False, single_word=False, normalized=False, special=False),\n",
       "\t163: AddedToken(\"▁▁▁▁▁▁▁▁▁▁▁▁▁▁▁▁▁▁▁▁▁▁▁▁▁▁\", rstrip=False, lstrip=False, single_word=False, normalized=False, special=False),\n",
       "\t164: AddedToken(\"▁▁▁▁▁▁▁▁▁▁▁▁▁▁▁▁▁▁▁▁▁▁▁▁▁▁▁\", rstrip=False, lstrip=False, single_word=False, normalized=False, special=False),\n",
       "\t165: AddedToken(\"▁▁▁▁▁▁▁▁▁▁▁▁▁▁▁▁▁▁▁▁▁▁▁▁▁▁▁▁\", rstrip=False, lstrip=False, single_word=False, normalized=False, special=False),\n",
       "\t166: AddedToken(\"▁▁▁▁▁▁▁▁▁▁▁▁▁▁▁▁▁▁▁▁▁▁▁▁▁▁▁▁▁\", rstrip=False, lstrip=False, single_word=False, normalized=False, special=False),\n",
       "\t167: AddedToken(\"▁▁▁▁▁▁▁▁▁▁▁▁▁▁▁▁▁▁▁▁▁▁▁▁▁▁▁▁▁▁\", rstrip=False, lstrip=False, single_word=False, normalized=False, special=False),\n",
       "\t168: AddedToken(\"▁▁▁▁▁▁▁▁▁▁▁▁▁▁▁▁▁▁▁▁▁▁▁▁▁▁▁▁▁▁▁\", rstrip=False, lstrip=False, single_word=False, normalized=False, special=False),\n",
       "\t169: AddedToken(\"<table>\", rstrip=False, lstrip=False, single_word=False, normalized=False, special=False),\n",
       "\t170: AddedToken(\"<caption>\", rstrip=False, lstrip=False, single_word=False, normalized=False, special=False),\n",
       "\t171: AddedToken(\"<thead>\", rstrip=False, lstrip=False, single_word=False, normalized=False, special=False),\n",
       "\t172: AddedToken(\"<tbody>\", rstrip=False, lstrip=False, single_word=False, normalized=False, special=False),\n",
       "\t173: AddedToken(\"<tfoot>\", rstrip=False, lstrip=False, single_word=False, normalized=False, special=False),\n",
       "\t174: AddedToken(\"<tr>\", rstrip=False, lstrip=False, single_word=False, normalized=False, special=False),\n",
       "\t175: AddedToken(\"<th>\", rstrip=False, lstrip=False, single_word=False, normalized=False, special=False),\n",
       "\t176: AddedToken(\"<td>\", rstrip=False, lstrip=False, single_word=False, normalized=False, special=False),\n",
       "\t177: AddedToken(\"</table>\", rstrip=False, lstrip=False, single_word=False, normalized=False, special=False),\n",
       "\t178: AddedToken(\"</caption>\", rstrip=False, lstrip=False, single_word=False, normalized=False, special=False),\n",
       "\t179: AddedToken(\"</thead>\", rstrip=False, lstrip=False, single_word=False, normalized=False, special=False),\n",
       "\t180: AddedToken(\"</tbody>\", rstrip=False, lstrip=False, single_word=False, normalized=False, special=False),\n",
       "\t181: AddedToken(\"</tfoot>\", rstrip=False, lstrip=False, single_word=False, normalized=False, special=False),\n",
       "\t182: AddedToken(\"</tr>\", rstrip=False, lstrip=False, single_word=False, normalized=False, special=False),\n",
       "\t183: AddedToken(\"</th>\", rstrip=False, lstrip=False, single_word=False, normalized=False, special=False),\n",
       "\t184: AddedToken(\"</td>\", rstrip=False, lstrip=False, single_word=False, normalized=False, special=False),\n",
       "\t185: AddedToken(\"<h1>\", rstrip=False, lstrip=False, single_word=False, normalized=False, special=False),\n",
       "\t186: AddedToken(\"<h2>\", rstrip=False, lstrip=False, single_word=False, normalized=False, special=False),\n",
       "\t187: AddedToken(\"<h3>\", rstrip=False, lstrip=False, single_word=False, normalized=False, special=False),\n",
       "\t188: AddedToken(\"<h4>\", rstrip=False, lstrip=False, single_word=False, normalized=False, special=False),\n",
       "\t189: AddedToken(\"<h5>\", rstrip=False, lstrip=False, single_word=False, normalized=False, special=False),\n",
       "\t190: AddedToken(\"<h6>\", rstrip=False, lstrip=False, single_word=False, normalized=False, special=False),\n",
       "\t191: AddedToken(\"<blockquote>\", rstrip=False, lstrip=False, single_word=False, normalized=False, special=False),\n",
       "\t192: AddedToken(\"</h1>\", rstrip=False, lstrip=False, single_word=False, normalized=False, special=False),\n",
       "\t193: AddedToken(\"</h2>\", rstrip=False, lstrip=False, single_word=False, normalized=False, special=False),\n",
       "\t194: AddedToken(\"</h3>\", rstrip=False, lstrip=False, single_word=False, normalized=False, special=False),\n",
       "\t195: AddedToken(\"</h4>\", rstrip=False, lstrip=False, single_word=False, normalized=False, special=False),\n",
       "\t196: AddedToken(\"</h5>\", rstrip=False, lstrip=False, single_word=False, normalized=False, special=False),\n",
       "\t197: AddedToken(\"</h6>\", rstrip=False, lstrip=False, single_word=False, normalized=False, special=False),\n",
       "\t198: AddedToken(\"</blockquote>\", rstrip=False, lstrip=False, single_word=False, normalized=False, special=False),\n",
       "\t199: AddedToken(\"<strong>\", rstrip=False, lstrip=False, single_word=False, normalized=False, special=False),\n",
       "\t200: AddedToken(\"<em>\", rstrip=False, lstrip=False, single_word=False, normalized=False, special=False),\n",
       "\t201: AddedToken(\"<b>\", rstrip=False, lstrip=False, single_word=False, normalized=False, special=False),\n",
       "\t202: AddedToken(\"<i>\", rstrip=False, lstrip=False, single_word=False, normalized=False, special=False),\n",
       "\t203: AddedToken(\"<u>\", rstrip=False, lstrip=False, single_word=False, normalized=False, special=False),\n",
       "\t204: AddedToken(\"<s>\", rstrip=False, lstrip=False, single_word=False, normalized=False, special=False),\n",
       "\t205: AddedToken(\"<sub>\", rstrip=False, lstrip=False, single_word=False, normalized=False, special=False),\n",
       "\t206: AddedToken(\"<sup>\", rstrip=False, lstrip=False, single_word=False, normalized=False, special=False),\n",
       "\t207: AddedToken(\"<code>\", rstrip=False, lstrip=False, single_word=False, normalized=False, special=False),\n",
       "\t208: AddedToken(\"</strong>\", rstrip=False, lstrip=False, single_word=False, normalized=False, special=False),\n",
       "\t209: AddedToken(\"</em>\", rstrip=False, lstrip=False, single_word=False, normalized=False, special=False),\n",
       "\t210: AddedToken(\"</b>\", rstrip=False, lstrip=False, single_word=False, normalized=False, special=False),\n",
       "\t211: AddedToken(\"</i>\", rstrip=False, lstrip=False, single_word=False, normalized=False, special=False),\n",
       "\t212: AddedToken(\"</u>\", rstrip=False, lstrip=False, single_word=False, normalized=False, special=False),\n",
       "\t213: AddedToken(\"</s>\", rstrip=False, lstrip=False, single_word=False, normalized=False, special=False),\n",
       "\t214: AddedToken(\"</sub>\", rstrip=False, lstrip=False, single_word=False, normalized=False, special=False),\n",
       "\t215: AddedToken(\"</sup>\", rstrip=False, lstrip=False, single_word=False, normalized=False, special=False),\n",
       "\t216: AddedToken(\"</code>\", rstrip=False, lstrip=False, single_word=False, normalized=False, special=False),\n",
       "}\n",
       ")"
      ]
     },
     "execution_count": 100,
     "metadata": {},
     "output_type": "execute_result"
    }
   ],
   "source": [
    "tokenizer"
   ]
  },
  {
   "cell_type": "code",
   "execution_count": 101,
   "metadata": {
    "colab": {
     "base_uri": "https://localhost:8080/"
    },
    "executionInfo": {
     "elapsed": 6955,
     "status": "ok",
     "timestamp": 1761388232964,
     "user": {
      "displayName": "Muskan Motwani",
      "userId": "03800385271669659981"
     },
     "user_tz": -330
    },
    "id": "VM0p-cGIw6w5",
    "outputId": "9d7b955f-2515-44c7-d32c-5a134300a907"
   },
   "outputs": [
    {
     "name": "stdout",
     "output_type": "stream",
     "text": [
      "Model output (tokens): \n",
      " tensor([     2,      2,    106,   1645,    108,   1841,    708,    573, 186809,\n",
      "        184592, 235269,    578,   1212,  16065,    749,    984,   1554,    575,\n",
      "           573,   3515,   2971, 235336,    107,    108,    106,   2516,    108,\n",
      "         21404, 235269,   1517,    708,    573, 186809, 184592,    578,   1024,\n",
      "         16065,    575,    573,   3515,   2971, 235292,    109,    688,  12298,\n",
      "          1695, 184592,  66058,    109,    688, 235274, 235265, 110165,  56227,\n",
      "         66058,    109, 235290,   5231,  11071,  66058,    108,    139, 235290,\n",
      "         34428,   4134,    604,    573,   2971, 235265,    108,    139, 235290,\n",
      "         13332,  41748,   5330,   9347,   5902, 235265,    108,    139, 235290,\n",
      "         34428,  20149,    604,  51536,    578,  12792,   2962, 235265,    109,\n",
      "           688, 235284, 235265,  96084,  66058,    109, 235290,   5231,  11071,\n",
      "         66058,    108,    139, 235290,   8108,    578,  12158,  29703, 235265,\n",
      "           108,    139, 235290,   7319,  44760,    578,   1156,  26039, 235265,\n",
      "           108,    139, 235290,  13332,  41748,   5330,   9347,   5902, 235265,\n",
      "           109,    688, 235304, 235265, 178190,  66058,    109, 235290,   5231,\n",
      "         11071,  66058,    108,    139, 235290,  34428,   4134,   7387, 235265,\n",
      "           108,    139, 235290,  13332,  33398,  48765,    578,  31740, 235265,\n",
      "           108,    139, 235290,  13332,  41748,   5330,   9347,   5902, 235265,\n",
      "           109,    688,   6273,  29038,  66058,    109, 235290,  97586, 184592,\n",
      "          1554,    476,   4731,    575,  61779,    573,   2971, 235303, 235256,\n",
      "         34883, 235269,    948,    603,    573,   2185,    576,  17704,   1706,\n",
      "          2960,   1280,   4134, 235265,    108, 235290,   2365,   1170,   1707,\n",
      "           577,   2500,    578,  12158,  29703, 235269,    578,    577,   7872,\n",
      "          4134,    604,    573,   2971, 235265,    108, 235290,  97586, 184592,\n",
      "           708,   8727,    604,   8691,   2962,    578,   1578, 235290,  16978,\n",
      "        235265,      1], device='cuda:0')\n",
      "\n",
      "CPU times: user 6.94 s, sys: 0 ns, total: 6.94 s\n",
      "Wall time: 6.94 s\n"
     ]
    }
   ],
   "source": [
    "%%time\n",
    "\n",
    "#Tokenize the input text\n",
    "\n",
    "input_ids= tokenizer(prompt,return_tensors=\"pt\").to(\"cuda\")\n",
    "\n",
    "#Generate outputs from Local LLM\n",
    "#**input_ids equivalent to input_ids=tensor1, attention_mask=tensor2\n",
    "outputs=llm_model.generate(**input_ids,max_new_tokens=256)\n",
    "\n",
    "print(f\"Model output (tokens): \\n {outputs[0]}\\n\")"
   ]
  },
  {
   "cell_type": "code",
   "execution_count": 102,
   "metadata": {
    "colab": {
     "base_uri": "https://localhost:8080/"
    },
    "executionInfo": {
     "elapsed": 6,
     "status": "ok",
     "timestamp": 1761388232977,
     "user": {
      "displayName": "Muskan Motwani",
      "userId": "03800385271669659981"
     },
     "user_tz": -330
    },
    "id": "pWEubjVUy5Yf",
    "outputId": "2bf8f74a-6a73-4cf3-dbb5-2a442050b00e"
   },
   "outputs": [
    {
     "name": "stdout",
     "output_type": "stream",
     "text": [
      "Model output (decoded): \n",
      " <bos><bos><start_of_turn>user\n",
      "What are the macronutrients, and what roles do they play in the human body?<end_of_turn>\n",
      "<start_of_turn>model\n",
      "Sure, here are the macronutrients and their roles in the human body:\n",
      "\n",
      "**Macronutrients:**\n",
      "\n",
      "**1. Carbohydrates:**\n",
      "\n",
      "- **Role:**\n",
      "  - Provide energy for the body.\n",
      "  - Help regulate blood sugar levels.\n",
      "  - Provide fiber for digestion and gut health.\n",
      "\n",
      "**2. Proteins:**\n",
      "\n",
      "- **Role:**\n",
      "  - Build and repair tissues.\n",
      "  - Create enzymes and other chemicals.\n",
      "  - Help regulate blood sugar levels.\n",
      "\n",
      "**3. Fats:**\n",
      "\n",
      "- **Role:**\n",
      "  - Provide energy storage.\n",
      "  - Help absorb vitamins and minerals.\n",
      "  - Help regulate blood sugar levels.\n",
      "\n",
      "**Other Functions:**\n",
      "\n",
      "- Macronutrients play a role in regulating the body's metabolism, which is the process of breaking down food into energy.\n",
      "- They also help to build and repair tissues, and to produce energy for the body.\n",
      "- Macronutrients are essential for overall health and well-being.<eos>\n",
      "\n"
     ]
    }
   ],
   "source": [
    "#Decode the output tokens to text\n",
    "outputs_decoded= tokenizer.decode(outputs[0])\n",
    "print(f'Model output (decoded): \\n {outputs_decoded}\\n')"
   ]
  },
  {
   "cell_type": "code",
   "execution_count": 103,
   "metadata": {
    "executionInfo": {
     "elapsed": 13,
     "status": "ok",
     "timestamp": 1761388232991,
     "user": {
      "displayName": "Muskan Motwani",
      "userId": "03800385271669659981"
     },
     "user_tz": -330
    },
    "id": "R8bTZ1ZT0x-r"
   },
   "outputs": [],
   "source": [
    "\n",
    "\n",
    "# Nutrition-style questions generated with GPT4\n",
    "gpt4_questions = [\n",
    "    \"What are the macronutrients, and what roles do they play in the human body?\",\n",
    "    \"How do vitamins and minerals differ in their roles and importance for health?\",\n",
    "    \"Describe the process of digestion and absorption of nutrients in the human body.\",\n",
    "    \"What role does fibre play in digestion? Name five fibre containing foods.\",\n",
    "    \"Explain the concept of energy balance and its importance in weight management.\"\n",
    "]\n",
    "\n",
    "# Manually created question list\n",
    "manual_questions = [\n",
    "    \"How often should infants be breastfed?\",\n",
    "    \"What are symptoms of pellagra?\",\n",
    "    \"How does saliva help with digestion?\",\n",
    "    \"What is the RDI for protein per day?\",\n",
    "    \"water soluble vitamins\"\n",
    "]\n",
    "\n",
    "query_list = gpt4_questions + manual_questions\n",
    "\n"
   ]
  },
  {
   "cell_type": "code",
   "execution_count": 104,
   "metadata": {
    "colab": {
     "base_uri": "https://localhost:8080/"
    },
    "executionInfo": {
     "elapsed": 18,
     "status": "ok",
     "timestamp": 1761388234155,
     "user": {
      "displayName": "Muskan Motwani",
      "userId": "03800385271669659981"
     },
     "user_tz": -330
    },
    "id": "bbKSx47I2Fpg",
    "outputId": "00773895-d99b-4aca-bc95-0fe6adc4db67"
   },
   "outputs": [
    {
     "name": "stdout",
     "output_type": "stream",
     "text": [
      "Query: How do vitamins and minerals differ in their roles and importance for health?\n",
      "Time taken to get scores on 1680 embeddings: 0.00009 seconds\n"
     ]
    },
    {
     "data": {
      "text/plain": [
       "(tensor([0.6322, 0.6220, 0.6187, 0.6178, 0.6128], device='cuda:0'),\n",
       " tensor([ 51,  47, 874,  41, 927], device='cuda:0'))"
      ]
     },
     "execution_count": 104,
     "metadata": {},
     "output_type": "execute_result"
    }
   ],
   "source": [
    "import random\n",
    "query = random.choice(query_list)\n",
    "\n",
    "print(f\"Query: {query}\")\n",
    "\n",
    "# Get just the scores and indices of top related results\n",
    "scores, indices = retrieve_relevant(query=query,\n",
    "                                              embeddings=embeddings)\n",
    "scores, indices"
   ]
  },
  {
   "cell_type": "markdown",
   "metadata": {
    "id": "5kvkAnqL2T6_"
   },
   "source": [
    "#Augmenting our prompt with context items\n",
    "\n",
    "Retrieval done\n",
    "Generation done\n",
    "TIme to Augment!\n",
    "\n",
    "The concept of augmenting a prompt with context items is also referred as prompt engineering.\n",
    "\n",
    "Prompt engineering is an active field of research and many new styles and techniques are being found out\n",
    "\n",
    "However, there are a fair few techniques that work quite well . Prompt Engineering Guide (https://www.promptingguide.ai/), https://github.com/brexhq/prompt-engineering and the paper Prompt Design and Engineering https://arxiv.org/abs/2401.14423\n",
    "\n",
    "https://www.anthropic.com/news/prompt-engineering-for-business-performance\n",
    "\n",
    "1. Give clear instructios.\n",
    "2. Give a few examples of input/output (e.g. ggiven this input, I'd like this output)\n",
    "3. GIve room to think (e.g. create a scratchpad/ \"show your working space\" / \"let's think step by step...\".\n",
    "\n",
    "\n"
   ]
  },
  {
   "cell_type": "code",
   "execution_count": 105,
   "metadata": {
    "colab": {
     "base_uri": "https://localhost:8080/"
    },
    "executionInfo": {
     "elapsed": 10,
     "status": "ok",
     "timestamp": 1761388236529,
     "user": {
      "displayName": "Muskan Motwani",
      "userId": "03800385271669659981"
     },
     "user_tz": -330
    },
    "id": "Ea5RimIE4OPA",
    "outputId": "2674800a-36d6-4c5d-9071-b6cc78c8d512"
   },
   "outputs": [
    {
     "data": {
      "text/plain": [
       "{'page_number': 277,\n",
       " 'sentence_chunk': 'often. • Calm your “sweet tooth” by eating fruits, such as berries or an apple. • Replace sugary soft drinks with seltzer water, tea, or a small amount of 100 percent fruit juice added to water or soda water. The Food Industry: Functional Attributes of Carbohydrates and the Use of Sugar Substitutes In the food industry, both fast-releasing and slow-releasing carbohydrates are utilized to give foods a wide spectrum of functional attributes, including increased sweetness, viscosity, bulk, coating ability, solubility, consistency, texture, body, and browning capacity. The differences in chemical structure between the different carbohydrates confer their varied functional uses in foods. Starches, gums, and pectins are used as thickening agents in making jam, cakes, cookies, noodles, canned products, imitation cheeses, and a variety of other foods. Molecular gastronomists use slow- releasing carbohydrates, such as alginate, to give shape and texture to their fascinating food creations. Adding fiber to foods increases bulk. Simple sugars are used not only for adding sweetness, but also to add texture, consistency, and browning. In ice cream, the combination of sucrose and corn syrup imparts sweetness as well as a glossy appearance and smooth texture.',\n",
       " 'chunk_char_chount': 1264,\n",
       " 'chunk_word_count': 190,\n",
       " 'chunk_token_count': 316.0,\n",
       " 'embedding': array([ 3.36195566e-02, -6.33048546e-03,  1.35672670e-02, -1.72719557e-03,\n",
       "         7.37233134e-03, -1.12093361e-02, -7.77235329e-02, -1.98783143e-03,\n",
       "         4.41749394e-02,  1.84355024e-02,  1.08431326e-03, -4.48691659e-02,\n",
       "        -1.44435959e-02,  2.23461632e-02, -1.58056766e-02, -3.96063179e-02,\n",
       "         6.19644066e-03,  3.06795072e-02,  1.50323622e-02, -3.01858578e-02,\n",
       "        -5.63730765e-03,  7.23950705e-03,  4.44135536e-03,  3.83774936e-02,\n",
       "        -2.77931206e-02, -1.08045284e-02, -2.09066961e-02, -3.82517092e-03,\n",
       "         1.28809204e-02, -7.62624890e-02,  2.56193541e-02,  5.03177643e-02,\n",
       "        -1.48145175e-02, -9.30032730e-02,  1.84821772e-06, -2.72034220e-02,\n",
       "         2.04363354e-02,  3.49979438e-02, -7.01642632e-02,  8.21791217e-02,\n",
       "         9.58010368e-03,  1.12016834e-02,  1.45271653e-02,  2.08604839e-02,\n",
       "         1.88053132e-03,  1.94313508e-02,  4.30906229e-02, -6.63991868e-02,\n",
       "        -4.47118562e-03,  9.62142739e-03, -1.76184885e-02, -9.32420194e-02,\n",
       "        -1.74521860e-02,  1.43797714e-02,  9.59808975e-02,  1.59285720e-02,\n",
       "         3.41024101e-02,  9.89580620e-03,  2.74767214e-03, -3.97160463e-02,\n",
       "         1.76487565e-02, -2.50339210e-02,  4.65405472e-02,  5.50865848e-03,\n",
       "         3.66739854e-02,  8.11415240e-02,  1.02667708e-03, -3.91497975e-03,\n",
       "         1.02581307e-02,  3.18636075e-02, -4.20974009e-02, -6.66075898e-03,\n",
       "         2.48229429e-02,  1.19641824e-02, -2.52436548e-02,  1.71536282e-02,\n",
       "         3.19568180e-02, -4.50095907e-02,  2.03785188e-02,  3.80981974e-02,\n",
       "        -2.11242028e-02,  1.18820854e-02, -3.76303564e-04, -8.87256290e-04,\n",
       "         7.49150068e-02, -1.01155639e-02, -2.94809099e-02,  7.10153999e-03,\n",
       "         6.48592487e-02, -1.94550739e-05, -1.11182496e-01, -5.66404350e-02,\n",
       "        -2.52492726e-02,  1.38240755e-02,  7.55137345e-03, -1.46898348e-02,\n",
       "         2.22207401e-02,  5.33682411e-04,  2.86545679e-02, -6.54062554e-02,\n",
       "         2.24799309e-02,  5.24192043e-02, -2.71777790e-02,  8.84031318e-03,\n",
       "        -1.05444686e-02, -4.95050801e-04, -1.30082602e-02,  3.40696201e-02,\n",
       "         2.01001949e-05, -1.76007561e-02,  8.07828270e-03, -6.34983089e-03,\n",
       "        -4.88275401e-02,  4.00034972e-02,  1.75283495e-02,  9.74304788e-03,\n",
       "         1.14656216e-03,  6.90655084e-03, -3.30178663e-02, -3.02616488e-02,\n",
       "        -3.29962373e-02,  2.22184248e-02,  3.96934114e-02,  3.49612981e-02,\n",
       "        -8.87161419e-02,  1.60383340e-02, -1.26950245e-03, -2.32299753e-02,\n",
       "        -1.26420278e-02,  2.95909867e-02,  2.31829137e-02,  1.65003687e-02,\n",
       "        -3.81323434e-02,  3.05584278e-02,  4.51847315e-02,  2.07054727e-02,\n",
       "        -1.63255271e-03,  6.37389300e-03, -2.33271606e-02, -5.73715195e-02,\n",
       "        -5.11532202e-02, -4.93464246e-02, -3.44207734e-02, -2.04844084e-02,\n",
       "        -2.87391618e-02,  5.63038066e-02, -8.33715219e-03,  2.81260279e-03,\n",
       "         2.13627312e-02, -1.49662048e-02, -5.19253723e-02,  2.39164475e-02,\n",
       "         4.13530879e-02,  3.56319025e-02,  8.95308703e-03, -3.69550250e-02,\n",
       "        -3.16563807e-02, -9.72753391e-03, -2.04478372e-02,  8.17026049e-02,\n",
       "        -1.99236162e-02, -1.28493551e-02,  1.64391287e-03, -4.63711470e-02,\n",
       "        -1.17448447e-02,  4.12844568e-02, -5.67117333e-03,  2.24809926e-02,\n",
       "        -3.83236781e-02, -1.59223415e-02,  2.21639052e-02, -2.22280174e-02,\n",
       "        -1.54940449e-02, -1.01861567e-03,  7.21554756e-02, -2.41180900e-02,\n",
       "        -1.79879684e-02,  9.44158062e-03, -3.65188271e-02, -1.49368902e-03,\n",
       "         6.17680475e-02,  5.66991717e-02,  4.52418588e-02,  2.77483314e-02,\n",
       "        -3.50607783e-02,  9.84826032e-03,  3.15149724e-02,  5.07388599e-02,\n",
       "        -1.77961607e-02, -3.29665728e-02,  1.27585670e-02,  2.99521834e-02,\n",
       "         3.04353181e-02,  1.07564814e-02,  8.39108042e-03,  3.33771221e-02,\n",
       "        -4.95182164e-02,  2.59656031e-02,  2.12878291e-03, -2.50239013e-04,\n",
       "         6.51650578e-02,  5.81840798e-02,  3.07667926e-02, -2.88986694e-03,\n",
       "        -1.51140867e-02, -3.88628454e-03, -2.01706421e-02,  4.65609506e-02,\n",
       "        -1.68076809e-02, -6.59578145e-02, -1.26034105e-02, -1.55909685e-02,\n",
       "        -6.79304241e-04, -3.24725248e-02, -6.40974427e-03,  3.73333041e-03,\n",
       "        -1.18836528e-02,  3.81205305e-02, -2.22536661e-02,  5.33905998e-02,\n",
       "         3.00371200e-02,  1.18945520e-02,  5.80814779e-02, -2.68650167e-02,\n",
       "         7.29336813e-02,  2.93379501e-02,  5.82008995e-02, -5.18405251e-02,\n",
       "        -2.97832955e-02,  3.41012441e-02,  3.58817242e-02,  2.01626755e-02,\n",
       "         1.53029815e-03,  3.30131804e-03, -2.03335918e-02,  2.88390256e-02,\n",
       "         1.79472901e-02,  3.13740484e-02,  5.43468818e-03,  5.02344146e-02,\n",
       "        -2.97928229e-02, -5.50696552e-02, -6.76094415e-03, -7.79470836e-04,\n",
       "        -1.20694516e-02,  2.82924976e-02,  2.94356071e-03, -2.83945389e-02,\n",
       "        -2.30177864e-02, -9.66011453e-03, -4.08909889e-03, -3.00462078e-02,\n",
       "        -5.52085694e-03,  3.04489140e-03, -1.92805920e-02, -1.19101666e-02,\n",
       "         1.14658067e-03, -2.52537876e-02,  2.08762214e-02,  7.25417584e-03,\n",
       "         6.35353327e-02, -2.79527716e-03,  1.50287999e-02,  3.25877145e-02,\n",
       "        -6.62059039e-02, -6.57664910e-02, -4.48119678e-02,  5.92018627e-02,\n",
       "         4.68917890e-03, -1.12712225e-02, -1.91877745e-02,  5.61325662e-02,\n",
       "         4.85782698e-02,  2.94703152e-02,  3.55923995e-02,  5.80262998e-03,\n",
       "         4.88802744e-03, -4.76187952e-02, -3.37588750e-02, -8.45590513e-03,\n",
       "         1.14556765e-02,  2.67739166e-02,  1.23477224e-02,  2.00255346e-02,\n",
       "         1.81062277e-02,  6.46769116e-03, -6.97586983e-02, -2.74993461e-02,\n",
       "        -7.13093113e-03, -2.73372978e-02,  7.44503736e-02,  1.47062903e-02,\n",
       "        -1.30421249e-02,  9.73011553e-03, -3.36028226e-02,  2.02024356e-02,\n",
       "         3.13419513e-02, -7.58527266e-03, -1.71298522e-03, -2.14764755e-02,\n",
       "         1.32148303e-02,  2.89809518e-03,  5.57682104e-03,  1.89360064e-02,\n",
       "        -7.54977250e-03,  5.85188568e-02, -3.90176196e-03,  9.89167718e-04,\n",
       "         1.98942572e-02,  8.60822108e-03,  2.15447564e-02,  2.29394641e-02,\n",
       "         6.50779298e-03,  4.21972945e-02,  8.26635398e-03, -2.81754844e-02,\n",
       "         7.21109146e-03, -2.69675273e-02,  7.82311857e-02, -2.18505859e-02,\n",
       "        -1.21231778e-02,  1.76022276e-02, -1.50717031e-02, -1.42517043e-02,\n",
       "        -8.10356997e-03,  3.10536241e-03, -1.54168665e-04, -1.05307968e-02,\n",
       "        -8.38614330e-02,  2.03410573e-02, -2.97046769e-02,  2.18859259e-02,\n",
       "         3.91102247e-02,  4.04879861e-02,  1.79388523e-02, -7.44179823e-03,\n",
       "        -1.97079275e-02,  9.81899351e-02, -3.58328968e-02, -5.74958250e-02,\n",
       "        -1.95771288e-02, -4.07495908e-02, -2.19417736e-02, -2.51251794e-02,\n",
       "         5.03383987e-02, -9.53014847e-03,  7.42822587e-02, -3.41540959e-04,\n",
       "        -3.74953868e-03,  2.93305125e-02,  1.55237771e-03, -2.88340785e-02,\n",
       "        -1.85488723e-02, -1.90557502e-02, -4.09590118e-02, -3.18212286e-02,\n",
       "         2.95139663e-02,  3.23087885e-03, -2.50308122e-02,  1.53750982e-02,\n",
       "         4.33425494e-02,  5.10640768e-03, -2.58109365e-02, -7.54621923e-02,\n",
       "        -1.04838898e-02,  4.82506678e-02, -1.21016856e-02, -5.31354696e-02,\n",
       "         2.99499370e-02, -3.44397910e-02,  1.44982124e-02,  3.35098095e-02,\n",
       "         4.15852033e-02, -1.07931793e-02,  1.73437055e-02,  1.92254987e-02,\n",
       "         2.45624296e-02,  4.63915765e-02, -5.21132164e-03, -1.41820693e-02,\n",
       "         4.22138162e-02, -6.33322522e-02,  4.98142019e-02, -2.07672585e-02,\n",
       "        -7.48898089e-02, -2.81311553e-02, -7.68959429e-03, -3.19059826e-02,\n",
       "        -1.94262322e-02, -3.94592285e-02,  3.08891516e-02,  5.22625865e-03,\n",
       "        -2.11188681e-02,  2.72949133e-02,  3.95513289e-02, -2.35161148e-02,\n",
       "         2.23498661e-02,  1.15609569e-02, -4.94572259e-02,  3.27671692e-02,\n",
       "         6.16607852e-02, -4.80517633e-02,  1.66053362e-02, -3.90644446e-02,\n",
       "         1.80994328e-02, -4.69239764e-02,  2.08607968e-02, -4.26504854e-03,\n",
       "         2.95830872e-02,  2.67971288e-02,  2.06799200e-03,  1.40325753e-02,\n",
       "         1.39026958e-02, -3.42218280e-02,  4.16489989e-02,  4.45410460e-02,\n",
       "         2.13968717e-02,  2.67350096e-02,  2.34731100e-02,  4.50120158e-02,\n",
       "        -6.25008196e-02, -8.93840659e-03, -1.02569759e-02,  3.47213037e-02,\n",
       "        -2.72306670e-02, -5.27837016e-02, -6.72355220e-02, -2.41084863e-02,\n",
       "        -6.29305989e-02, -2.45558359e-02,  6.79910257e-02, -1.71199068e-02,\n",
       "        -5.19690244e-03, -2.50085201e-02,  4.36798087e-04, -5.29310841e-04,\n",
       "         5.64266630e-02, -3.68509963e-02,  1.27868738e-03,  4.36809212e-02,\n",
       "         3.42691084e-03,  7.88337458e-03, -4.34134938e-02, -4.49230671e-02,\n",
       "         8.90783444e-02,  1.74692236e-02,  2.03296486e-02, -1.01353647e-02,\n",
       "        -9.39848833e-03,  8.80940557e-02, -5.66903781e-03, -1.05300872e-02,\n",
       "        -6.30244389e-02,  6.76474813e-03,  1.29810884e-03, -3.32524776e-02,\n",
       "        -6.34877980e-02,  7.06905797e-02, -5.23132831e-03, -2.53332146e-02,\n",
       "        -2.87126508e-02, -1.01521658e-02,  4.22700234e-02, -1.54305222e-02,\n",
       "        -7.59011582e-02,  3.65060493e-02,  4.00408134e-02,  2.08072998e-02,\n",
       "        -9.66927130e-03,  7.80477887e-03, -2.30107941e-02,  6.49472773e-02,\n",
       "        -2.14785580e-02,  1.98699511e-03, -1.97605323e-03, -4.29251567e-02,\n",
       "        -6.99224398e-02,  5.22380248e-02, -7.91266710e-02,  2.38740947e-02,\n",
       "        -4.35845666e-02,  1.17662074e-02,  1.32625895e-02,  6.97017312e-02,\n",
       "         4.33111675e-02, -4.57387604e-03,  6.64432049e-02, -3.31923030e-02,\n",
       "         1.59750096e-02, -5.51458597e-02, -1.20564671e-02,  5.07312641e-03,\n",
       "        -2.47540548e-02, -6.06123097e-02, -5.29979588e-03, -4.35959920e-02,\n",
       "         4.77819666e-02,  3.37773263e-02, -2.80110221e-02,  6.84495419e-02,\n",
       "         6.60216063e-02,  2.77557783e-03,  3.83193418e-02, -4.94900346e-02,\n",
       "         1.73597615e-02, -2.41690110e-02, -2.11087391e-02,  4.73573804e-03,\n",
       "         3.32153104e-02,  5.93856238e-02,  9.94154904e-03,  2.92046089e-02,\n",
       "        -2.83260141e-02,  3.52802873e-02, -4.07909043e-02, -5.74266575e-02,\n",
       "         2.63905060e-02, -7.08783716e-02,  1.73162371e-02,  5.38091501e-03,\n",
       "         1.15251066e-02, -2.14818493e-02,  2.60815420e-03,  3.82594578e-02,\n",
       "        -6.18265085e-02,  9.82393976e-03,  3.29366066e-02,  9.30187013e-03,\n",
       "        -6.35777712e-02,  8.44492838e-02,  1.37453887e-03,  1.92111218e-03,\n",
       "        -2.84220371e-02,  4.92005870e-02,  1.61023699e-02,  1.69644356e-02,\n",
       "         1.62301455e-02,  2.92291818e-03,  3.85009274e-02, -4.31264453e-02,\n",
       "         1.44625809e-02, -1.80732887e-02,  5.74169196e-02, -3.90737019e-02,\n",
       "         8.29734355e-02, -1.12668211e-02, -5.81889451e-02, -3.74181531e-02,\n",
       "         1.12795690e-02, -1.26190066e-01,  5.36711235e-03, -4.74467035e-03,\n",
       "        -3.80182602e-02, -3.80317979e-02,  3.38512696e-02, -5.65267462e-33,\n",
       "         3.12506109e-02, -2.74420846e-02,  1.49309682e-02,  9.66008678e-02,\n",
       "         3.82223092e-02,  6.07445315e-02, -8.67401250e-03, -2.20907796e-02,\n",
       "        -3.87738310e-02,  3.14043872e-02, -2.78094038e-02, -2.61556227e-02,\n",
       "        -2.18033255e-03, -5.67599572e-02, -3.29962671e-02, -3.37906405e-02,\n",
       "         2.51040645e-02,  1.20998919e-02, -4.59937938e-03, -2.30384106e-03,\n",
       "        -8.03607851e-02, -2.47460958e-02,  3.90837155e-02, -3.80970277e-02,\n",
       "         7.66094550e-02,  3.75051387e-02,  1.00947600e-02, -7.00766221e-02,\n",
       "        -2.27734819e-02,  3.35722677e-02, -2.90578399e-02, -3.86459637e-03,\n",
       "         3.98564301e-02, -3.37578319e-02, -2.65688114e-02,  8.76989216e-02,\n",
       "         8.22847337e-03, -1.56535506e-02, -1.40035506e-02,  2.47986913e-02,\n",
       "        -3.26931179e-02, -2.71499902e-02, -2.48089153e-02, -1.73133723e-02,\n",
       "        -4.77490798e-02,  4.30413149e-02,  1.23732835e-02,  1.67823378e-02,\n",
       "         5.97122684e-02,  1.10688619e-02, -2.47990694e-02, -4.01355699e-03,\n",
       "         3.85954939e-02,  7.99258612e-03,  4.08466086e-02,  8.16078708e-02,\n",
       "         1.41681060e-02, -1.61755644e-02,  4.62705828e-02,  6.75018281e-02,\n",
       "         4.88049071e-03,  4.43557203e-02, -5.26424870e-02,  4.46237773e-02,\n",
       "         1.51577638e-02, -3.11318245e-02, -2.43333587e-03, -1.35898134e-02,\n",
       "        -5.16744964e-02, -1.28283482e-02, -4.79294211e-02,  1.57548329e-05,\n",
       "         5.55568114e-02,  7.30250264e-03,  1.25851393e-01, -7.46831149e-02,\n",
       "        -3.31933685e-02, -2.04487033e-02, -8.40956420e-02, -9.70691293e-02,\n",
       "        -2.75863247e-04, -2.53043789e-02,  3.13058272e-02, -2.38177180e-02,\n",
       "        -2.50919238e-02,  1.06879957e-01, -8.03864375e-03, -4.56796885e-02,\n",
       "        -1.87865123e-02, -6.08093850e-02,  4.03947942e-02,  6.67789578e-03,\n",
       "        -3.44066136e-02,  5.60434870e-02,  2.06243489e-02,  7.52737187e-03,\n",
       "         3.48817147e-02, -8.49590357e-03,  2.34857877e-03, -5.82643552e-03,\n",
       "        -4.84207831e-02,  2.79288683e-02,  2.19938233e-02,  1.34437261e-02,\n",
       "        -3.05742603e-02, -2.82639507e-02, -5.49179986e-02,  4.83709574e-02,\n",
       "         2.10338365e-02, -4.58570383e-02, -8.81959591e-03,  3.36519107e-02,\n",
       "         3.62561531e-02, -5.10728881e-02, -5.84396198e-02,  7.98103632e-04,\n",
       "         1.99138056e-02,  2.59554386e-02, -9.53383557e-03, -2.35024728e-02,\n",
       "        -6.40766323e-02, -9.99838766e-03,  6.02089576e-02, -1.54787879e-02,\n",
       "         1.46333240e-02, -2.73179226e-02,  2.11187899e-02, -7.98223466e-02,\n",
       "        -6.87026978e-02,  9.48769506e-03, -1.09383278e-02,  1.36643210e-02,\n",
       "         2.81300345e-07,  1.70468632e-02,  1.37893213e-02, -1.67372171e-02,\n",
       "         3.99160311e-02, -5.93482293e-02, -8.79670493e-03,  4.47691679e-02,\n",
       "        -2.94926446e-02, -3.48557942e-02, -3.94704863e-02,  1.52494875e-03,\n",
       "        -5.70393205e-02, -1.58385169e-02,  2.68248599e-02, -2.32512131e-02,\n",
       "         1.21564278e-02, -1.29620088e-02, -6.76471069e-02,  3.04765757e-02,\n",
       "         2.22089197e-02, -7.54232239e-03, -1.48998545e-02, -1.43285831e-02,\n",
       "        -3.65560167e-02, -3.22323591e-02,  1.44278938e-02, -5.36744203e-03,\n",
       "        -1.84828993e-02,  6.61565587e-02,  2.09395234e-02,  3.05020064e-03,\n",
       "         1.59577858e-02,  3.94967310e-02, -2.02135723e-02, -2.40854546e-02,\n",
       "        -2.85920147e-02, -2.59215608e-02, -8.99069682e-02, -1.97141469e-02,\n",
       "        -8.99936780e-02, -3.41961822e-05,  1.10063748e-03, -2.26069894e-02,\n",
       "         1.26897113e-03, -3.18909436e-02, -3.87221053e-02, -7.64145749e-03,\n",
       "         1.19272871e-02,  6.19138591e-02, -5.65737449e-02, -9.06445552e-03,\n",
       "         4.63988222e-02, -2.26716846e-02,  5.40721870e-04,  3.30264913e-03,\n",
       "         7.85055396e-04, -5.53774601e-03,  2.09835395e-02,  1.68783106e-02,\n",
       "         7.32699782e-03,  1.08058956e-02,  3.89462262e-02, -3.56237292e-02,\n",
       "         1.80466436e-02, -1.45939477e-02,  4.73401742e-03,  1.92299783e-02,\n",
       "         2.68856474e-34,  1.68735697e-03, -5.82957976e-02,  2.25708243e-02,\n",
       "         6.02850085e-03, -3.00494265e-02,  3.22193988e-02, -1.27366185e-02,\n",
       "         3.73876840e-02,  2.93489732e-03,  4.22898531e-02, -1.54303585e-03])}"
      ]
     },
     "execution_count": 105,
     "metadata": {},
     "output_type": "execute_result"
    }
   ],
   "source": [
    "pages_and_chunks[419]"
   ]
  },
  {
   "cell_type": "code",
   "execution_count": 118,
   "metadata": {
    "colab": {
     "base_uri": "https://localhost:8080/"
    },
    "executionInfo": {
     "elapsed": 57,
     "status": "ok",
     "timestamp": 1761390213180,
     "user": {
      "displayName": "Muskan Motwani",
      "userId": "03800385271669659981"
     },
     "user_tz": -330
    },
    "id": "lyRYxOnd2Iox",
    "outputId": "84103d8c-c105-41cc-db1a-a101b25d19e3"
   },
   "outputs": [
    {
     "name": "stdout",
     "output_type": "stream",
     "text": [
      " Query: What are the macronutrients, and what roles do they play in the human body?\n",
      "Time taken to get scores on 1680 embeddings: 0.00014 seconds\n",
      "\n",
      "Prompt:\n",
      " <bos><start_of_turn>user\n",
      "Based on the following context items, please answer the query.\n",
      "Give yourself room to think by extracting relevant passages from the context before answering the query.\n",
      "Don't return the thinking, only return the answer.\n",
      "Make sure your answers are as explanatory as possible.\n",
      "Use the following examples as reference for the ideal answer style.\n",
      "\n",
      "Example 1:\n",
      "Query: What are the fat-soluble vitamins?\n",
      "Answer: The fat-soluble vitamins include Vitamin A, Vitamin D, Vitamin E, and Vitamin K. These vitamins are absorbed along with fats in the diet and can be stored in the body's fatty tissue and liver for later use. Vitamin A is important for vision, immune function, and skin health. Vitamin D plays a critical role in calcium absorption and bone health. Vitamin E acts as an antioxidant, protecting cells from damage. Vitamin K is essential for blood clotting and bone metabolism.\n",
      "\n",
      "Example 2:\n",
      "Query: What are the causes of type 2 diabetes?\n",
      "Answer: Type 2 diabetes is often associated with overnutrition, particularly the overconsumption of calories leading to obesity. Factors include a diet high in refined sugars and saturated fats, which can lead to insulin resistance, a condition where the body's cells do not respond effectively to insulin. Over time, the pancreas cannot produce enough insulin to manage blood sugar levels, resulting in type 2 diabetes. Additionally, excessive caloric intake without sufficient physical activity exacerbates the risk by promoting weight gain and fat accumulation, particularly around the abdomen, further contributing to insulin resistance.\n",
      "\n",
      "Example 3:\n",
      "Query: What is the importance of hydration for physical performance?\n",
      "Answer: Hydration is crucial for physical performance because water plays key roles in maintaining blood volume, regulating body temperature, and ensuring the transport of nutrients and oxygen to cells. Adequate hydration is essential for optimal muscle function, endurance, and recovery. Dehydration can lead to decreased performance, fatigue, and increased risk of heat-related illnesses, such as heat stroke. Drinking sufficient water before, during, and after exercise helps ensure peak physical performance and recovery.\n",
      "\n",
      "Now use the following context items to answer the user query:\n",
      "- Macronutrients Nutrients that are needed in large amounts are called macronutrients. There are three classes of macronutrients: carbohydrates, lipids, and proteins. These can be metabolically processed into cellular energy. The energy from macronutrients comes from their chemical bonds. This chemical energy is converted into cellular energy that is then utilized to perform work, allowing our bodies to conduct their basic functions. A unit of measurement of food energy is the calorie. On nutrition food labels the amount given for “calories” is actually equivalent to each calorie multiplied by one thousand. A kilocalorie (one thousand calories, denoted with a small “c”) is synonymous with the “Calorie” (with a capital “C”) on nutrition food labels. Water is also a macronutrient in the sense that you require a large amount of it, but unlike the other macronutrients, it does not yield calories. Carbohydrates Carbohydrates are molecules composed of carbon, hydrogen, and oxygen.\n",
      "- Water There is one other nutrient that we must have in large quantities: water. Water does not contain carbon, but is composed of two hydrogens and one oxygen per molecule of water. More than 60 percent of your total body weight is water. Without it, nothing could be transported in or out of the body, chemical reactions would not occur, organs would not be cushioned, and body temperature would fluctuate widely. On average, an adult consumes just over two liters of water per day from food and drink combined. Since water is so critical for life’s basic processes, the amount of water input and output is supremely important, a topic we will explore in detail in Chapter 4. Micronutrients Micronutrients are nutrients required by the body in lesser amounts, but are still essential for carrying out bodily functions. Micronutrients include all the essential minerals and vitamins. There are sixteen essential minerals and thirteen vitamins (See Table 1.1 “Minerals and Their Major Functions” and Table 1.2 “Vitamins and Their Major Functions” for a complete list and their major functions). In contrast to carbohydrates, lipids, and proteins, micronutrients are not sources of energy (calories), but they assist in the process as cofactors or components of enzymes (i.e., coenzymes).\n",
      "- Figure 1.1 The Macronutrie nts: Carbohydrat es, Lipids, Protein, and Water Proteins Proteins are macromolecules composed of chains of subunits called amino acids. Amino acids are simple subunits composed of carbon, oxygen, hydrogen, and nitrogen. Food sources of proteins include meats, dairy products, seafood, and a variety of different plant- based foods, most notably soy. The word protein comes from a Greek word meaning “of primary importance,” which is an apt description of these macronutrients; they are also known colloquially as the “workhorses” of life. Proteins provide four kilocalories of energy per gram; however providing energy is not protein’s most important function. Proteins provide structure to bones, muscles and skin, and play a role in conducting most of the chemical reactions that take place in the body. Scientists estimate that greater than one-hundred thousand different proteins exist within the human body. The genetic codes in DNA are basically protein recipes that determine the order in which 20 different amino acids are bound together to make thousands of specific proteins. Figure 1.1 The Macronutrients: Carbohydrates, Lipids, Protein, and Water Introduction | 7\n",
      "- Learning Objectives By the end of this chapter, you will be able to: • Describe basic concepts in nutrition • Describe factors that affect your nutritional needs • Describe the importance of research and scientific methods to understanding nutrition What are Nutrients? The foods we eat contain nutrients. Nutrients are substances required by the body to perform its basic functions. Nutrients must be obtained from our diet, since the human body does not synthesize or produce them. Nutrients have one or more of three basic functions: they provide energy, contribute to body structure, and/or regulate chemical processes in the body. These basic functions allow us to detect and respond to environmental surroundings, move, excrete wastes, respire (breathe), grow, and reproduce. There are six classes of nutrients required for the body to function and maintain overall health. These are carbohydrates, lipids, proteins, water, vitamins, and minerals. Foods also contain non-nutrients that may be harmful (such as natural toxins common in plant foods and additives like some dyes and preservatives) or beneficial (such as antioxidants). 4 | Introduction\n",
      "- Protein Necessary for tissue formation, cell reparation, and hormone and enzyme production. It is essential for building strong muscles and a healthy immune system. Carbohydrates Provide a ready source of energy for the body and provide structural constituents for the formation of cells. Fat Provides stored energy for the body, functions as structural components of cells and also as signaling molecules for proper cellular communication. It provides insulation to vital organs and works to maintain body temperature. Vitamins Regulate body processes and promote normal body-system functions. Minerals Regulate body processes, are necessary for proper cellular function, and comprise body tissue. Water Transports essential nutrients to all body parts, transports waste products for disposal, and aids with body temperature maintenance.   Learning Activities Technology Note: The second edition of the Human Nutrition Open Educational Resource (OER) textbook features interactive learning activities.  These activities are available in the web-based textbook and not available in the downloadable versions (EPUB, Digital PDF, Print_PDF, or Open Document).\n",
      "\n",
      "Relevant passages: <extract relevant passages from the context here>\n",
      "User query: What are the macronutrients, and what roles do they play in the human body?\n",
      "Answer:<end_of_turn>\n",
      "<start_of_turn>model\n",
      "\n"
     ]
    }
   ],
   "source": [
    "def prompt_formatter(query: str,\n",
    "                     context_items: list[dict])-> str:\n",
    "\n",
    "      context= \"- \" + \"\\n- \".join([item['sentence_chunk'] for item in context_items])\n",
    "      base_prompt = \"\"\"Based on the following context items, please answer the query.\n",
    "Give yourself room to think by extracting relevant passages from the context before answering the query.\n",
    "Don't return the thinking, only return the answer.\n",
    "Make sure your answers are as explanatory as possible.\n",
    "Use the following examples as reference for the ideal answer style.\n",
    "\\nExample 1:\n",
    "Query: What are the fat-soluble vitamins?\n",
    "Answer: The fat-soluble vitamins include Vitamin A, Vitamin D, Vitamin E, and Vitamin K. These vitamins are absorbed along with fats in the diet and can be stored in the body's fatty tissue and liver for later use. Vitamin A is important for vision, immune function, and skin health. Vitamin D plays a critical role in calcium absorption and bone health. Vitamin E acts as an antioxidant, protecting cells from damage. Vitamin K is essential for blood clotting and bone metabolism.\n",
    "\\nExample 2:\n",
    "Query: What are the causes of type 2 diabetes?\n",
    "Answer: Type 2 diabetes is often associated with overnutrition, particularly the overconsumption of calories leading to obesity. Factors include a diet high in refined sugars and saturated fats, which can lead to insulin resistance, a condition where the body's cells do not respond effectively to insulin. Over time, the pancreas cannot produce enough insulin to manage blood sugar levels, resulting in type 2 diabetes. Additionally, excessive caloric intake without sufficient physical activity exacerbates the risk by promoting weight gain and fat accumulation, particularly around the abdomen, further contributing to insulin resistance.\n",
    "\\nExample 3:\n",
    "Query: What is the importance of hydration for physical performance?\n",
    "Answer: Hydration is crucial for physical performance because water plays key roles in maintaining blood volume, regulating body temperature, and ensuring the transport of nutrients and oxygen to cells. Adequate hydration is essential for optimal muscle function, endurance, and recovery. Dehydration can lead to decreased performance, fatigue, and increased risk of heat-related illnesses, such as heat stroke. Drinking sufficient water before, during, and after exercise helps ensure peak physical performance and recovery.\n",
    "\\nNow use the following context items to answer the user query:\n",
    "{context}\n",
    "\\nRelevant passages: <extract relevant passages from the context here>\n",
    "User query: {query}\n",
    "Answer:\"\"\"\n",
    "\n",
    "      base_prompt=base_prompt.format(context=context,query=query)\n",
    "\n",
    "      # Create prompt template\n",
    "      dialogue_template=[{}]\n",
    "      dialogue_template = [\n",
    "        {\"role\": \"user\",\n",
    "        \"content\": base_prompt}\n",
    "    ]\n",
    "\n",
    "    # Apply the chat template\n",
    "      prompt = tokenizer.apply_chat_template(conversation=dialogue_template,\n",
    "                                          tokenize=False,\n",
    "                                          add_generation_prompt=True)\n",
    "\n",
    "      return prompt\n",
    "query=random.choice(query_list)\n",
    "print(f\" Query: {query}\")\n",
    "\n",
    "# Get just the scores and indices of top related results\n",
    "scores, indices = retrieve_relevant(query=query,\n",
    "                                              embeddings=embeddings)\n",
    "# Create a list of context items\n",
    "context_items=[pages_and_chunks[i] for i in indices]\n",
    "\n",
    "#Format our prompt\n",
    "prompt= prompt_formatter(query=query,context_items=context_items)\n",
    "\n",
    "print(f\"\\nPrompt:\\n {prompt}\")\n",
    "#here reranking model would definitely help\n"
   ]
  },
  {
   "cell_type": "markdown",
   "metadata": {
    "id": "4IsZWQ674aC-"
   },
   "source": [
    "Prompt example:\n",
    "Based on the following contextsL\n",
    "-sjkjds\n",
    "-aajdksjad\n",
    "-skajdakdjka\n",
    "-sakjdksdja\n",
    "\n",
    "Please answer the following query: .....\n",
    "Answer:"
   ]
  },
  {
   "cell_type": "code",
   "execution_count": 119,
   "metadata": {
    "colab": {
     "base_uri": "https://localhost:8080/"
    },
    "executionInfo": {
     "elapsed": 6238,
     "status": "ok",
     "timestamp": 1761390234838,
     "user": {
      "displayName": "Muskan Motwani",
      "userId": "03800385271669659981"
     },
     "user_tz": -330
    },
    "id": "awnKzGY74Y1C",
    "outputId": "75904960-c4be-46f2-d6d3-ce7f37c4be90"
   },
   "outputs": [
    {
     "name": "stderr",
     "output_type": "stream",
     "text": [
      "<unknown>:11: SyntaxWarning: invalid escape sequence '\\m'\n"
     ]
    },
    {
     "name": "stdout",
     "output_type": "stream",
     "text": [
      "Query: What are the macronutrients, and what roles do they play in the human body?\n",
      "RAG answer: \\m<bos>Sure, here is the answer to the user query:\n",
      "\n",
      "The macronutrients are carbohydrates, lipids, and proteins. They are needed in large amounts and provide the body with energy and other essential functions.\n",
      "\n",
      "**Carbohydrates:** Carbohydrates are molecules composed of carbon, hydrogen, and oxygen. They provide a readily available source of energy for the body and are stored in the liver and muscles.\n",
      "\n",
      "**Lipids:** Lipids are molecules composed of carbon, hydrogen, and oxygen. They provide stored energy for the body, function as structural components of cells, and are involved in signaling molecules for proper cellular communication.\n",
      "\n",
      "**Proteins:** Proteins are macromolecules composed of chains of subunits called amino acids. They are essential for tissue formation, cell reparation, and hormone and enzyme production. Proteins also provide structure to bones, muscles, and skin.<eos>\n",
      "CPU times: user 6.07 s, sys: 0 ns, total: 6.07 s\n",
      "Wall time: 6.07 s\n"
     ]
    }
   ],
   "source": [
    "%%time\n",
    "\n",
    "input_ids = tokenizer(prompt,return_tensors=\"pt\").to(\"cuda\")\n",
    "\n",
    "#Generate an output of tokens\n",
    "outputs = llm_model.generate(**input_ids,temperature=.7,#lower the value more deterministic, higher the value more creative\n",
    "                             do_sample=True, #whether or not to use sampling\n",
    "                             max_new_tokens=256)\n",
    "\n",
    "#Decode the output tokens to text\n",
    "output_text = tokenizer.decode(outputs[0])\n",
    "print(f\"Query: {query}\")\n",
    "print(f\"RAG answer: \\m{output_text.replace(prompt,'')}\")"
   ]
  },
  {
   "cell_type": "markdown",
   "metadata": {
    "id": "VgDuLRO8CxIY"
   },
   "source": [
    "# Functionaize our LLM answering feature\n"
   ]
  },
  {
   "cell_type": "code",
   "execution_count": 124,
   "metadata": {
    "executionInfo": {
     "elapsed": 17,
     "status": "ok",
     "timestamp": 1761391137392,
     "user": {
      "displayName": "Muskan Motwani",
      "userId": "03800385271669659981"
     },
     "user_tz": -330
    },
    "id": "wUGVef3QDC-7"
   },
   "outputs": [],
   "source": [
    "def ask(query: str,\n",
    "        temperature=0.7,\n",
    "        max_new_tokens=256,\n",
    "        format_answer_text=True,\n",
    "        return_answer_only= True\n",
    "        ):\n",
    "      \"\"\"\n",
    "      Takes a query, finds relevant resources/context and generates an answer to the query based on the relevant resources.\n",
    "      \"\"\"\n",
    "\n",
    "      scores,indices = retrieve_relevant(query=query,embeddings=embeddings)\n",
    "\n",
    "      #Creates a list of context_items\n",
    "      context_items=[pages_and_chunks[i] for i in indices]\n",
    "\n",
    "      #Add score to context item\n",
    "      for i,item in enumerate(context_items):\n",
    "        item[\"score\"]= scores[i].cpu()\n",
    "\n",
    "      #Format our prompt\n",
    "      prompt= prompt_formatter(query=query,context_items=context_items)\n",
    "\n",
    "      #GENERATION\n",
    "      #Tokenize the prompt\n",
    "\n",
    "      input_ids = tokenizer(prompt,return_tensors=\"pt\").to(\"cuda\")\n",
    "\n",
    "      #Generate an output of tokens\n",
    "      outputs = llm_model.generate(**input_ids,temperature=temperature,\n",
    "                                  do_sample=True, #whether or not to use sampling\n",
    "                                  max_new_tokens=max_new_tokens)\n",
    "\n",
    "      #Decode the output tokens to text\n",
    "      output_text = tokenizer.decode(outputs[0])\n",
    "      if format_answer_text:\n",
    "        output_text=output_text.replace(prompt,'').replace(\"<bos>\",\"\").replace(\"<eos>\",\"\")\n",
    "\n",
    "\n",
    "      if return_answer_only:\n",
    "        return output_text\n",
    "      else:\n",
    "        return output_text, context_items\n",
    "\n",
    "\n"
   ]
  },
  {
   "cell_type": "code",
   "execution_count": 126,
   "metadata": {
    "colab": {
     "base_uri": "https://localhost:8080/",
     "height": 157
    },
    "executionInfo": {
     "elapsed": 7098,
     "status": "ok",
     "timestamp": 1761391349485,
     "user": {
      "displayName": "Muskan Motwani",
      "userId": "03800385271669659981"
     },
     "user_tz": -330
    },
    "id": "gdCZjBqb5zpp",
    "outputId": "8059a916-b42d-486b-9202-ceaab594cce1"
   },
   "outputs": [
    {
     "name": "stdout",
     "output_type": "stream",
     "text": [
      "Query: Explain the concept of energy balance and its importance in weight management.\n",
      "Time taken to get scores on 1680 embeddings: 0.00013 seconds\n"
     ]
    },
    {
     "data": {
      "application/vnd.google.colaboratory.intrinsic+json": {
       "type": "string"
      },
      "text/plain": [
       "'Sure, here is the answer to the user query:\\n\\nEnergy balance is a fundamental concept in weight management. It refers to the equilibrium between the energy you take in through food and the energy you expend through physical activity and other metabolic processes. When your energy intake is equal to your energy expenditure, you are in energy balance, and your weight remains stable.\\n\\nAccording to the text, energy balance is achieved when the intake of energy is equal to energy expended. When you are in a positive energy balance, the excess nutrient energy will be stored or used to grow. When you are in a negative energy balance, your body will need to use its stores to provide energy.\\n\\nTherefore, weight can be thought of as a whole-body estimate of energy balance. When you are in energy balance, your body weight is maintained. When you are in negative energy balance, you lose weight. When you are in positive energy balance, you gain weight.'"
      ]
     },
     "execution_count": 126,
     "metadata": {},
     "output_type": "execute_result"
    }
   ],
   "source": [
    "import random\n",
    "query = random.choice(query_list)\n",
    "\n",
    "print(f\"Query: {query}\")\n",
    "ask(query,temperature=0.2)\n"
   ]
  },
  {
   "cell_type": "code",
   "execution_count": 129,
   "metadata": {
    "colab": {
     "base_uri": "https://localhost:8080/",
     "height": 211
    },
    "executionInfo": {
     "elapsed": 2010,
     "status": "error",
     "timestamp": 1761392121996,
     "user": {
      "displayName": "Muskan Motwani",
      "userId": "03800385271669659981"
     },
     "user_tz": -330
    },
    "id": "Pw-e9RmfGCQT",
    "outputId": "a6bb9977-877c-4338-bcc0-dddc5db2e4b2"
   },
   "outputs": [
    {
     "ename": "FileNotFoundError",
     "evalue": "[Errno 2] No such file or directory: '/content/drive/MyDrive/RAG.ipynb'",
     "output_type": "error",
     "traceback": [
      "\u001b[0;31m---------------------------------------------------------------------------\u001b[0m",
      "\u001b[0;31mFileNotFoundError\u001b[0m                         Traceback (most recent call last)",
      "\u001b[0;32m/tmp/ipython-input-816254620.py\u001b[0m in \u001b[0;36m<cell line: 0>\u001b[0;34m()\u001b[0m\n\u001b[1;32m      5\u001b[0m \u001b[0;34m\u001b[0m\u001b[0m\n\u001b[1;32m      6\u001b[0m \u001b[0;31m# clean metadata\u001b[0m\u001b[0;34m\u001b[0m\u001b[0;34m\u001b[0m\u001b[0m\n\u001b[0;32m----> 7\u001b[0;31m \u001b[0;32mwith\u001b[0m \u001b[0mopen\u001b[0m\u001b[0;34m(\u001b[0m\u001b[0mnotebook_path\u001b[0m\u001b[0;34m,\u001b[0m \u001b[0;34m'r'\u001b[0m\u001b[0;34m,\u001b[0m \u001b[0mencoding\u001b[0m\u001b[0;34m=\u001b[0m\u001b[0;34m'utf-8'\u001b[0m\u001b[0;34m)\u001b[0m \u001b[0;32mas\u001b[0m \u001b[0mf\u001b[0m\u001b[0;34m:\u001b[0m\u001b[0;34m\u001b[0m\u001b[0;34m\u001b[0m\u001b[0m\n\u001b[0m\u001b[1;32m      8\u001b[0m     \u001b[0mdata\u001b[0m \u001b[0;34m=\u001b[0m \u001b[0mjson\u001b[0m\u001b[0;34m.\u001b[0m\u001b[0mload\u001b[0m\u001b[0;34m(\u001b[0m\u001b[0mf\u001b[0m\u001b[0;34m)\u001b[0m\u001b[0;34m\u001b[0m\u001b[0;34m\u001b[0m\u001b[0m\n\u001b[1;32m      9\u001b[0m \u001b[0;34m\u001b[0m\u001b[0m\n",
      "\u001b[0;31mFileNotFoundError\u001b[0m: [Errno 2] No such file or directory: '/content/drive/MyDrive/RAG.ipynb'"
     ]
    }
   ],
   "source": [
    "import json, os\n",
    "\n",
    "# get current notebook path (Colab saves as \"Untitled*.ipynb\" until renamed)\n",
    "notebook_path = '/content/drive/MyDrive/RAG.ipynb'  # replace with your filename if saved\n",
    "\n",
    "# clean metadata\n",
    "with open(notebook_path, 'r', encoding='utf-8') as f:\n",
    "    data = json.load(f)\n",
    "\n",
    "if \"widgets\" in data.get(\"metadata\", {}):\n",
    "    del data[\"metadata\"][\"widgets\"]\n",
    "\n",
    "with open(notebook_path, 'w', encoding='utf-8') as f:\n",
    "    json.dump(data, f, ensure_ascii=False, indent=1)\n",
    "\n",
    "print(\"✅ Cleaned notebook metadata. Now use 'File → Save a copy in GitHub' again.\")\n"
   ]
  },
  {
   "cell_type": "code",
   "execution_count": null,
   "metadata": {
    "id": "abQdIRHucjpV"
   },
   "outputs": [],
   "source": [
    "from google.colab import drive\n",
    "drive.mount('/content/drive')"
   ]
  },
  {
   "cell_type": "code",
   "execution_count": null,
   "metadata": {
    "id": "_JaWCBg9JW44"
   },
   "outputs": [],
   "source": []
  }
 ],
 "metadata": {
  "accelerator": "GPU",
  "colab": {
   "authorship_tag": "ABX9TyOcCKcqJSepx6r1n2+xyzgu",
   "gpuType": "T4",
   "mount_file_id": "1BlMeycCD8oFBhi46E5H7I6TCJXi-gRwQ",
   "provenance": []
  },
  "kernelspec": {
   "display_name": "Python 3",
   "name": "python3"
  },
  "language_info": {
   "name": "python"
  }
 },
 "nbformat": 4,
 "nbformat_minor": 0
}
